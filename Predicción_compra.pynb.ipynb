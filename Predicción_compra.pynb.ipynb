{
 "cells": [
  {
   "cell_type": "markdown",
   "source": [
    "# Tarea 3: Modelo de recomendación de compra"
   ],
   "metadata": {}
  },
  {
   "cell_type": "markdown",
   "source": [
    "Modelo de Machine Learning supervisado y de clasificación binaria.\n",
    "1 significa que el cliente compra (true)\n",
    "0 Significa que el cliente no compra (false)"
   ],
   "metadata": {}
  },
  {
   "cell_type": "markdown",
   "source": [
    "## import Libraries"
   ],
   "metadata": {}
  },
  {
   "cell_type": "code",
   "execution_count": 103,
   "source": [
    "import pandas as pd \n",
    "import numpy as np \n",
    "import matplotlib.pyplot as plt \n",
    "import seaborn as sns\n",
    "\n",
    "from datetime import datetime\n",
    "from sklearn.preprocessing import LabelEncoder\n",
    "\n",
    "from sklearn.model_selection import train_test_split\n",
    "#import lightgbm as lgbm\n",
    "from sklearn.tree import DecisionTreeClassifier\n",
    "\n",
    "from sklearn.metrics import accuracy_score, f1_score, recall_score, precision_score, roc_auc_score, roc_curve\n",
    "from sklearn.metrics import confusion_matrix\n",
    "from sklearn.metrics import plot_confusion_matrix\n",
    "\n",
    "from sklearn.tree import export_graphviz\n",
    "import graphviz\n",
    "\n",
    "import warnings\n",
    "warnings.filterwarnings(\"ignore\")\n",
    "\n",
    "PREPARE_PREDICTION = False\n"
   ],
   "outputs": [],
   "metadata": {}
  },
  {
   "cell_type": "markdown",
   "source": [
    "## import Files"
   ],
   "metadata": {}
  },
  {
   "cell_type": "code",
   "execution_count": 3,
   "source": [
    "products = pd.read_csv(\"data/products_df.csv\", encoding='utf-8')\n",
    "products.drop(columns=['Unnamed: 0'], inplace=True)\n",
    "\n",
    "commercial_activity = pd.read_csv(\"data/commercial_activity_df.csv\", encoding='utf-8')\n",
    "commercial_activity.drop(columns=['Unnamed: 0'], inplace=True)\n",
    "\n",
    "sociodemographic = pd.read_csv(\"data/sociodemographic_df.csv\", encoding='utf-8')\n",
    "sociodemographic.drop(columns=['Unnamed: 0'], inplace=True)"
   ],
   "outputs": [],
   "metadata": {}
  },
  {
   "cell_type": "markdown",
   "source": [
    "# Realizamos un merge de los 3 datasets"
   ],
   "metadata": {}
  },
  {
   "cell_type": "code",
   "execution_count": 4,
   "source": [
    "df_join = pd.merge( products, commercial_activity, on = ['pk_cid','pk_partition'] )\n",
    "df_join = pd.merge( df_join, sociodemographic, on=['pk_cid','pk_partition'] )"
   ],
   "outputs": [],
   "metadata": {}
  },
  {
   "cell_type": "markdown",
   "source": [
    "# Nombramos las variables booleanas True/False"
   ],
   "metadata": {}
  },
  {
   "cell_type": "code",
   "execution_count": 5,
   "source": [
    "boolean_cols = [\"short_term_deposit\", \"loans\", \"mortgage\", \"funds\", \"securities\",\"long_term_deposit\", \"em_account_pp\",\"credit_card\", \"payroll_account\", \"emc_account\", \"debit_card\", \"em_account_p\", \"em_acount\", \"payroll\", \"pension_plan\"]\n",
    "for x in boolean_cols:\n",
    "    df_join[x] = df_join[x].astype(bool)"
   ],
   "outputs": [],
   "metadata": {}
  },
  {
   "cell_type": "code",
   "execution_count": 6,
   "source": [
    "df_join.head(2).T"
   ],
   "outputs": [
    {
     "output_type": "execute_result",
     "data": {
      "text/html": [
       "<div>\n",
       "<style scoped>\n",
       "    .dataframe tbody tr th:only-of-type {\n",
       "        vertical-align: middle;\n",
       "    }\n",
       "\n",
       "    .dataframe tbody tr th {\n",
       "        vertical-align: top;\n",
       "    }\n",
       "\n",
       "    .dataframe thead th {\n",
       "        text-align: right;\n",
       "    }\n",
       "</style>\n",
       "<table border=\"1\" class=\"dataframe\">\n",
       "  <thead>\n",
       "    <tr style=\"text-align: right;\">\n",
       "      <th></th>\n",
       "      <th>0</th>\n",
       "      <th>1</th>\n",
       "    </tr>\n",
       "  </thead>\n",
       "  <tbody>\n",
       "    <tr>\n",
       "      <th>pk_cid</th>\n",
       "      <td>1375586</td>\n",
       "      <td>1050611</td>\n",
       "    </tr>\n",
       "    <tr>\n",
       "      <th>pk_partition</th>\n",
       "      <td>2018-01-28</td>\n",
       "      <td>2018-01-28</td>\n",
       "    </tr>\n",
       "    <tr>\n",
       "      <th>short_term_deposit</th>\n",
       "      <td>False</td>\n",
       "      <td>False</td>\n",
       "    </tr>\n",
       "    <tr>\n",
       "      <th>loans</th>\n",
       "      <td>False</td>\n",
       "      <td>False</td>\n",
       "    </tr>\n",
       "    <tr>\n",
       "      <th>mortgage</th>\n",
       "      <td>False</td>\n",
       "      <td>False</td>\n",
       "    </tr>\n",
       "    <tr>\n",
       "      <th>funds</th>\n",
       "      <td>False</td>\n",
       "      <td>False</td>\n",
       "    </tr>\n",
       "    <tr>\n",
       "      <th>securities</th>\n",
       "      <td>False</td>\n",
       "      <td>False</td>\n",
       "    </tr>\n",
       "    <tr>\n",
       "      <th>long_term_deposit</th>\n",
       "      <td>False</td>\n",
       "      <td>False</td>\n",
       "    </tr>\n",
       "    <tr>\n",
       "      <th>em_account_pp</th>\n",
       "      <td>False</td>\n",
       "      <td>False</td>\n",
       "    </tr>\n",
       "    <tr>\n",
       "      <th>credit_card</th>\n",
       "      <td>False</td>\n",
       "      <td>False</td>\n",
       "    </tr>\n",
       "    <tr>\n",
       "      <th>payroll</th>\n",
       "      <td>False</td>\n",
       "      <td>False</td>\n",
       "    </tr>\n",
       "    <tr>\n",
       "      <th>pension_plan</th>\n",
       "      <td>False</td>\n",
       "      <td>False</td>\n",
       "    </tr>\n",
       "    <tr>\n",
       "      <th>payroll_account</th>\n",
       "      <td>False</td>\n",
       "      <td>False</td>\n",
       "    </tr>\n",
       "    <tr>\n",
       "      <th>emc_account</th>\n",
       "      <td>False</td>\n",
       "      <td>False</td>\n",
       "    </tr>\n",
       "    <tr>\n",
       "      <th>debit_card</th>\n",
       "      <td>False</td>\n",
       "      <td>False</td>\n",
       "    </tr>\n",
       "    <tr>\n",
       "      <th>em_account_p</th>\n",
       "      <td>False</td>\n",
       "      <td>False</td>\n",
       "    </tr>\n",
       "    <tr>\n",
       "      <th>em_acount</th>\n",
       "      <td>True</td>\n",
       "      <td>True</td>\n",
       "    </tr>\n",
       "    <tr>\n",
       "      <th>entry_date</th>\n",
       "      <td>2018-01-12</td>\n",
       "      <td>2015-08-10</td>\n",
       "    </tr>\n",
       "    <tr>\n",
       "      <th>entry_channel</th>\n",
       "      <td>KHL</td>\n",
       "      <td>KHE</td>\n",
       "    </tr>\n",
       "    <tr>\n",
       "      <th>active_customer</th>\n",
       "      <td>1.0</td>\n",
       "      <td>0.0</td>\n",
       "    </tr>\n",
       "    <tr>\n",
       "      <th>segment</th>\n",
       "      <td>02 - PARTICULARES</td>\n",
       "      <td>03 - UNIVERSITARIO</td>\n",
       "    </tr>\n",
       "    <tr>\n",
       "      <th>country_id</th>\n",
       "      <td>ES</td>\n",
       "      <td>ES</td>\n",
       "    </tr>\n",
       "    <tr>\n",
       "      <th>region_code</th>\n",
       "      <td>29.0</td>\n",
       "      <td>13.0</td>\n",
       "    </tr>\n",
       "    <tr>\n",
       "      <th>gender</th>\n",
       "      <td>H</td>\n",
       "      <td>V</td>\n",
       "    </tr>\n",
       "    <tr>\n",
       "      <th>age</th>\n",
       "      <td>35</td>\n",
       "      <td>23</td>\n",
       "    </tr>\n",
       "    <tr>\n",
       "      <th>deceased</th>\n",
       "      <td>N</td>\n",
       "      <td>N</td>\n",
       "    </tr>\n",
       "    <tr>\n",
       "      <th>salary</th>\n",
       "      <td>87218.1</td>\n",
       "      <td>35548.74</td>\n",
       "    </tr>\n",
       "  </tbody>\n",
       "</table>\n",
       "</div>"
      ],
      "text/plain": [
       "                                    0                   1\n",
       "pk_cid                        1375586             1050611\n",
       "pk_partition               2018-01-28          2018-01-28\n",
       "short_term_deposit              False               False\n",
       "loans                           False               False\n",
       "mortgage                        False               False\n",
       "funds                           False               False\n",
       "securities                      False               False\n",
       "long_term_deposit               False               False\n",
       "em_account_pp                   False               False\n",
       "credit_card                     False               False\n",
       "payroll                         False               False\n",
       "pension_plan                    False               False\n",
       "payroll_account                 False               False\n",
       "emc_account                     False               False\n",
       "debit_card                      False               False\n",
       "em_account_p                    False               False\n",
       "em_acount                        True                True\n",
       "entry_date                 2018-01-12          2015-08-10\n",
       "entry_channel                     KHL                 KHE\n",
       "active_customer                   1.0                 0.0\n",
       "segment             02 - PARTICULARES  03 - UNIVERSITARIO\n",
       "country_id                         ES                  ES\n",
       "region_code                      29.0                13.0\n",
       "gender                              H                   V\n",
       "age                                35                  23\n",
       "deceased                            N                   N\n",
       "salary                        87218.1            35548.74"
      ]
     },
     "metadata": {},
     "execution_count": 6
    }
   ],
   "metadata": {}
  },
  {
   "cell_type": "markdown",
   "source": [
    "## Eliminamos los datasets anteriores: products, commercial_activity, sociodemographic"
   ],
   "metadata": {}
  },
  {
   "cell_type": "code",
   "execution_count": 7,
   "source": [
    "del commercial_activity, products, sociodemographic"
   ],
   "outputs": [],
   "metadata": {}
  },
  {
   "cell_type": "markdown",
   "source": [
    "## \n",
    "   1. Asignamos la variable a predecir sobre la partition.\n",
    "   2. Nombramos una lista de los productos\n",
    "   3. Damos una variable a nuestros productos \n",
    "   4. Asignamos el precio a cada variable de productos "
   ],
   "metadata": {}
  },
  {
   "cell_type": "code",
   "execution_count": 8,
   "source": [
    "partitions = ['2018-01-28',\n",
    "              '2018-02-28',\n",
    "              '2018-03-28',\n",
    "              '2018-04-28',\n",
    "              '2018-05-28'\n",
    "              ,'2018-06-28',\n",
    "              '2018-07-28',\n",
    "              '2018-08-28',\n",
    "              '2018-09-28',\n",
    "              '2018-10-28',\n",
    "              '2018-11-28',\n",
    "              '2018-12-28',\n",
    "              '2019-01-28',\n",
    "              '2019-02-28',\n",
    "              '2019-03-28',\n",
    "              '2019-04-28',\n",
    "              '2019-05-28']\n",
    "\n",
    "products_list = ['short_term_deposit','loans','mortgage','funds','securities','long_term_deposit','em_account_pp','credit_card','pension_plan',\n",
    "                 'payroll_account','emc_account','debit_card','em_account_p','em_acount']\n",
    "\n",
    "products_3 = {\"short_term_deposit\":\"inversión\", \"loans\":\"prestamo\", \"mortgage\":\"prestamo\", \"funds\":\"inversión\", \"securities\":\"inversión\", \n",
    "                 \"long_term_deposit\":\"inversión\", \"em_account_pp\":\"cuenta\", \"credit_card\":\"prestamo\", \"payroll_account\":\"cuenta\", \"pension_plan\":\"inversión\", \n",
    "                \"emc_account\":\"cuenta\", \"debit_card\":\"prestamo\", \"em_account_p\":\"cuenta\", \"em_acount\":\"cuenta\"}\n",
    "\n",
    "product_values = {'cuenta':10, 'inversión':40, 'prestamo':60}"
   ],
   "outputs": [],
   "metadata": {}
  },
  {
   "cell_type": "markdown",
   "source": [
    "# Preparamos la Data \n",
    "\n",
    "Queremos predecir cuando un usuario da el alta de un producto según la partition.\n",
    "- 1 si se da de alta\n",
    "- 0 si no se da de alta"
   ],
   "metadata": {}
  },
  {
   "cell_type": "code",
   "execution_count": 9,
   "source": [
    "def determinar_altas(data):\n",
    "    data.columns=['pk_partition','pk_cid','product']\n",
    "    data['prev'] = data.groupby('pk_cid')['product'].shift(1)\n",
    "    data['diff'] = data['product'] - data['prev']\n",
    "\n",
    "    # Solo queremos 1 \n",
    "    data['diff'] = np.where( (data['product']==1) & (data['diff'].isna()) & (data['pk_partition']!='2018-01-28'), 1, data['diff'] )\n",
    "    data['diff'].fillna(0,inplace=True)\n",
    "    data['diff'] = np.where( data['diff'] == -1, 0, data['diff'] )\n",
    "\n",
    "    return data['diff']"
   ],
   "outputs": [],
   "metadata": {}
  },
  {
   "cell_type": "code",
   "execution_count": 10,
   "source": [
    "def determinar_bajas(data):\n",
    "    data.columns=['pk_partition','pk_cid','product']\n",
    "    data['prev'] = data.groupby('pk_cid')['product'].shift(1)\n",
    "    data['diff'] = data['product'] - data['prev']\n",
    "\n",
    "    # Solo queremos -1 pero los codificamos como 1 (más facil) \n",
    "    data['diff'] = np.where( (data['product']==1) & (data['diff'].isna()) & (data['pk_partition']!='2018-01-28'), 1, data['diff'] )\n",
    "    data['diff'].fillna(0,inplace=True)\n",
    "    data['diff'] = np.where( data['diff'] == 0, 0, data['diff'] )\n",
    "    data['diff'] = np.where( data['diff'] == -1, 1, data['diff'] )\n",
    "\n",
    "    return data['diff']"
   ],
   "outputs": [],
   "metadata": {}
  },
  {
   "cell_type": "code",
   "execution_count": 11,
   "source": [
    "df = df_join.copy(deep=True)"
   ],
   "outputs": [],
   "metadata": {}
  },
  {
   "cell_type": "code",
   "execution_count": 12,
   "source": [
    "for prod in products_list:\n",
    "    df[prod+'_altas'] = determinar_altas( df_join[['pk_partition','pk_cid',prod]] )\n",
    "    df[prod+'_bajas'] = determinar_bajas( df_join[['pk_partition','pk_cid',prod]] )\n",
    "    print(prod)"
   ],
   "outputs": [
    {
     "output_type": "stream",
     "name": "stdout",
     "text": [
      "short_term_deposit\n",
      "loans\n",
      "mortgage\n",
      "funds\n",
      "securities\n",
      "long_term_deposit\n",
      "em_account_pp\n",
      "credit_card\n",
      "pension_plan\n",
      "payroll_account\n",
      "emc_account\n",
      "debit_card\n",
      "em_account_p\n",
      "em_acount\n"
     ]
    }
   ],
   "metadata": {}
  },
  {
   "cell_type": "markdown",
   "source": [
    "## Total altas"
   ],
   "metadata": {}
  },
  {
   "cell_type": "code",
   "execution_count": 13,
   "source": [
    "\n",
    "products_3_2 = {\"short_term_deposit\":\"inversión\", \"loans\":\"prestamo\", \"mortgage\":\"prestamo\", \n",
    "    \"funds\":\"inversión\", \"securities\":\"inversión\", \"long_term_deposit\":\"inversión\", \n",
    "    \"em_account_pp\":\"cuenta\", \"credit_card\":\"prestamo\", \"payroll_account\":\"cuenta\", \"pension_plan\":\"inversión\", \n",
    "    \"emc_account\":\"cuenta\", \"debit_card\":\"prestamo\", \"em_account_p\":\"cuenta\", \"em_acount\":\"cuenta\"}\n",
    "\n",
    "\n",
    "init_cols = ['total_altas_cuenta','total_altas_inversión','total_altas_prestamo',\n",
    "    'altas_cuenta','altas_inversión','altas_prestamo',\n",
    "    'total_bajas_cuenta','total_bajas_inversión','total_bajas_prestamo'] \n",
    "\n",
    "\n",
    "for col in init_cols:\n",
    "    df[col] = 0\n",
    "\n",
    "for key, value in products_3_2.items():\n",
    "    df['total_altas_'+value] += df[key+'_altas']\n",
    "    df['altas_'+value] +=  df['total_altas_'+value]\n",
    "    df['total_bajas_'+value] += df[key+'_bajas']\n",
    "\n",
    "    # memory optimization\n",
    "    df['altas_'+value] = df['total_altas_'+value].astype('int8')\n",
    "    df['total_altas_'+value] = df['total_altas_'+value].astype('int8')\n",
    "    df['total_altas_'+value] = df['total_bajas_'+value].astype('int8')\n",
    "\n",
    "    df.drop([key+'_bajas',key+'_altas'], axis=1, inplace=True)\n",
    "\n",
    "df['total_altas'] = df['total_altas_cuenta'] + df['total_altas_inversión'] + df['total_altas_prestamo']\n",
    "df['total_bajas'] = df['total_bajas_cuenta'] + df['total_bajas_inversión'] + df['total_bajas_prestamo']"
   ],
   "outputs": [],
   "metadata": {}
  },
  {
   "cell_type": "code",
   "execution_count": 14,
   "source": [
    "df['total'] = df['altas_cuenta'] + df['altas_inversión'] + df['altas_prestamo']"
   ],
   "outputs": [],
   "metadata": {}
  },
  {
   "cell_type": "code",
   "execution_count": 15,
   "source": [
    "df = df.sort_values(['pk_cid','pk_partition'])\n",
    "df.head(3).T"
   ],
   "outputs": [
    {
     "output_type": "execute_result",
     "data": {
      "text/html": [
       "<div>\n",
       "<style scoped>\n",
       "    .dataframe tbody tr th:only-of-type {\n",
       "        vertical-align: middle;\n",
       "    }\n",
       "\n",
       "    .dataframe tbody tr th {\n",
       "        vertical-align: top;\n",
       "    }\n",
       "\n",
       "    .dataframe thead th {\n",
       "        text-align: right;\n",
       "    }\n",
       "</style>\n",
       "<table border=\"1\" class=\"dataframe\">\n",
       "  <thead>\n",
       "    <tr style=\"text-align: right;\">\n",
       "      <th></th>\n",
       "      <th>1479563</th>\n",
       "      <th>2168122</th>\n",
       "      <th>2962973</th>\n",
       "    </tr>\n",
       "  </thead>\n",
       "  <tbody>\n",
       "    <tr>\n",
       "      <th>pk_cid</th>\n",
       "      <td>15891</td>\n",
       "      <td>15891</td>\n",
       "      <td>16063</td>\n",
       "    </tr>\n",
       "    <tr>\n",
       "      <th>pk_partition</th>\n",
       "      <td>2018-07-28</td>\n",
       "      <td>2018-08-28</td>\n",
       "      <td>2018-11-28</td>\n",
       "    </tr>\n",
       "    <tr>\n",
       "      <th>short_term_deposit</th>\n",
       "      <td>False</td>\n",
       "      <td>False</td>\n",
       "      <td>False</td>\n",
       "    </tr>\n",
       "    <tr>\n",
       "      <th>loans</th>\n",
       "      <td>False</td>\n",
       "      <td>False</td>\n",
       "      <td>False</td>\n",
       "    </tr>\n",
       "    <tr>\n",
       "      <th>mortgage</th>\n",
       "      <td>False</td>\n",
       "      <td>False</td>\n",
       "      <td>False</td>\n",
       "    </tr>\n",
       "    <tr>\n",
       "      <th>funds</th>\n",
       "      <td>False</td>\n",
       "      <td>False</td>\n",
       "      <td>False</td>\n",
       "    </tr>\n",
       "    <tr>\n",
       "      <th>securities</th>\n",
       "      <td>False</td>\n",
       "      <td>False</td>\n",
       "      <td>False</td>\n",
       "    </tr>\n",
       "    <tr>\n",
       "      <th>long_term_deposit</th>\n",
       "      <td>False</td>\n",
       "      <td>False</td>\n",
       "      <td>False</td>\n",
       "    </tr>\n",
       "    <tr>\n",
       "      <th>em_account_pp</th>\n",
       "      <td>False</td>\n",
       "      <td>False</td>\n",
       "      <td>False</td>\n",
       "    </tr>\n",
       "    <tr>\n",
       "      <th>credit_card</th>\n",
       "      <td>False</td>\n",
       "      <td>False</td>\n",
       "      <td>False</td>\n",
       "    </tr>\n",
       "    <tr>\n",
       "      <th>payroll</th>\n",
       "      <td>False</td>\n",
       "      <td>False</td>\n",
       "      <td>False</td>\n",
       "    </tr>\n",
       "    <tr>\n",
       "      <th>pension_plan</th>\n",
       "      <td>False</td>\n",
       "      <td>False</td>\n",
       "      <td>False</td>\n",
       "    </tr>\n",
       "    <tr>\n",
       "      <th>payroll_account</th>\n",
       "      <td>False</td>\n",
       "      <td>False</td>\n",
       "      <td>False</td>\n",
       "    </tr>\n",
       "    <tr>\n",
       "      <th>emc_account</th>\n",
       "      <td>False</td>\n",
       "      <td>False</td>\n",
       "      <td>False</td>\n",
       "    </tr>\n",
       "    <tr>\n",
       "      <th>debit_card</th>\n",
       "      <td>False</td>\n",
       "      <td>False</td>\n",
       "      <td>False</td>\n",
       "    </tr>\n",
       "    <tr>\n",
       "      <th>em_account_p</th>\n",
       "      <td>False</td>\n",
       "      <td>False</td>\n",
       "      <td>False</td>\n",
       "    </tr>\n",
       "    <tr>\n",
       "      <th>em_acount</th>\n",
       "      <td>True</td>\n",
       "      <td>False</td>\n",
       "      <td>False</td>\n",
       "    </tr>\n",
       "    <tr>\n",
       "      <th>entry_date</th>\n",
       "      <td>2018-07-28</td>\n",
       "      <td>2018-07-28</td>\n",
       "      <td>2018-11-19</td>\n",
       "    </tr>\n",
       "    <tr>\n",
       "      <th>entry_channel</th>\n",
       "      <td>KAT</td>\n",
       "      <td>KAT</td>\n",
       "      <td>KAT</td>\n",
       "    </tr>\n",
       "    <tr>\n",
       "      <th>active_customer</th>\n",
       "      <td>1.0</td>\n",
       "      <td>0.0</td>\n",
       "      <td>1.0</td>\n",
       "    </tr>\n",
       "    <tr>\n",
       "      <th>segment</th>\n",
       "      <td>NaN</td>\n",
       "      <td>02 - PARTICULARES</td>\n",
       "      <td>NaN</td>\n",
       "    </tr>\n",
       "    <tr>\n",
       "      <th>country_id</th>\n",
       "      <td>ES</td>\n",
       "      <td>ES</td>\n",
       "      <td>ES</td>\n",
       "    </tr>\n",
       "    <tr>\n",
       "      <th>region_code</th>\n",
       "      <td>28.0</td>\n",
       "      <td>28.0</td>\n",
       "      <td>28.0</td>\n",
       "    </tr>\n",
       "    <tr>\n",
       "      <th>gender</th>\n",
       "      <td>H</td>\n",
       "      <td>H</td>\n",
       "      <td>H</td>\n",
       "    </tr>\n",
       "    <tr>\n",
       "      <th>age</th>\n",
       "      <td>59</td>\n",
       "      <td>59</td>\n",
       "      <td>62</td>\n",
       "    </tr>\n",
       "    <tr>\n",
       "      <th>deceased</th>\n",
       "      <td>N</td>\n",
       "      <td>N</td>\n",
       "      <td>N</td>\n",
       "    </tr>\n",
       "    <tr>\n",
       "      <th>salary</th>\n",
       "      <td>NaN</td>\n",
       "      <td>NaN</td>\n",
       "      <td>NaN</td>\n",
       "    </tr>\n",
       "    <tr>\n",
       "      <th>total_altas_cuenta</th>\n",
       "      <td>1</td>\n",
       "      <td>1</td>\n",
       "      <td>0</td>\n",
       "    </tr>\n",
       "    <tr>\n",
       "      <th>total_altas_inversión</th>\n",
       "      <td>0</td>\n",
       "      <td>0</td>\n",
       "      <td>0</td>\n",
       "    </tr>\n",
       "    <tr>\n",
       "      <th>total_altas_prestamo</th>\n",
       "      <td>0</td>\n",
       "      <td>0</td>\n",
       "      <td>0</td>\n",
       "    </tr>\n",
       "    <tr>\n",
       "      <th>altas_cuenta</th>\n",
       "      <td>1</td>\n",
       "      <td>0</td>\n",
       "      <td>0</td>\n",
       "    </tr>\n",
       "    <tr>\n",
       "      <th>altas_inversión</th>\n",
       "      <td>0</td>\n",
       "      <td>0</td>\n",
       "      <td>0</td>\n",
       "    </tr>\n",
       "    <tr>\n",
       "      <th>altas_prestamo</th>\n",
       "      <td>0</td>\n",
       "      <td>0</td>\n",
       "      <td>0</td>\n",
       "    </tr>\n",
       "    <tr>\n",
       "      <th>total_bajas_cuenta</th>\n",
       "      <td>1</td>\n",
       "      <td>1</td>\n",
       "      <td>0</td>\n",
       "    </tr>\n",
       "    <tr>\n",
       "      <th>total_bajas_inversión</th>\n",
       "      <td>0</td>\n",
       "      <td>0</td>\n",
       "      <td>0</td>\n",
       "    </tr>\n",
       "    <tr>\n",
       "      <th>total_bajas_prestamo</th>\n",
       "      <td>0</td>\n",
       "      <td>0</td>\n",
       "      <td>0</td>\n",
       "    </tr>\n",
       "    <tr>\n",
       "      <th>total_altas</th>\n",
       "      <td>1</td>\n",
       "      <td>1</td>\n",
       "      <td>0</td>\n",
       "    </tr>\n",
       "    <tr>\n",
       "      <th>total_bajas</th>\n",
       "      <td>1</td>\n",
       "      <td>1</td>\n",
       "      <td>0</td>\n",
       "    </tr>\n",
       "    <tr>\n",
       "      <th>total</th>\n",
       "      <td>1</td>\n",
       "      <td>0</td>\n",
       "      <td>0</td>\n",
       "    </tr>\n",
       "  </tbody>\n",
       "</table>\n",
       "</div>"
      ],
      "text/plain": [
       "                          1479563            2168122     2962973\n",
       "pk_cid                      15891              15891       16063\n",
       "pk_partition           2018-07-28         2018-08-28  2018-11-28\n",
       "short_term_deposit          False              False       False\n",
       "loans                       False              False       False\n",
       "mortgage                    False              False       False\n",
       "funds                       False              False       False\n",
       "securities                  False              False       False\n",
       "long_term_deposit           False              False       False\n",
       "em_account_pp               False              False       False\n",
       "credit_card                 False              False       False\n",
       "payroll                     False              False       False\n",
       "pension_plan                False              False       False\n",
       "payroll_account             False              False       False\n",
       "emc_account                 False              False       False\n",
       "debit_card                  False              False       False\n",
       "em_account_p                False              False       False\n",
       "em_acount                    True              False       False\n",
       "entry_date             2018-07-28         2018-07-28  2018-11-19\n",
       "entry_channel                 KAT                KAT         KAT\n",
       "active_customer               1.0                0.0         1.0\n",
       "segment                       NaN  02 - PARTICULARES         NaN\n",
       "country_id                     ES                 ES          ES\n",
       "region_code                  28.0               28.0        28.0\n",
       "gender                          H                  H           H\n",
       "age                            59                 59          62\n",
       "deceased                        N                  N           N\n",
       "salary                        NaN                NaN         NaN\n",
       "total_altas_cuenta              1                  1           0\n",
       "total_altas_inversión           0                  0           0\n",
       "total_altas_prestamo            0                  0           0\n",
       "altas_cuenta                    1                  0           0\n",
       "altas_inversión                 0                  0           0\n",
       "altas_prestamo                  0                  0           0\n",
       "total_bajas_cuenta              1                  1           0\n",
       "total_bajas_inversión           0                  0           0\n",
       "total_bajas_prestamo            0                  0           0\n",
       "total_altas                     1                  1           0\n",
       "total_bajas                     1                  1           0\n",
       "total                           1                  0           0"
      ]
     },
     "metadata": {},
     "execution_count": 15
    }
   ],
   "metadata": {}
  },
  {
   "cell_type": "markdown",
   "source": [
    "## convertimos la variable de tiempo \"pk_partition"
   ],
   "metadata": {}
  },
  {
   "cell_type": "code",
   "execution_count": 16,
   "source": [
    "df['pk_partition'] = pd.to_datetime(df['pk_partition'])"
   ],
   "outputs": [],
   "metadata": {}
  },
  {
   "cell_type": "code",
   "execution_count": 17,
   "source": [
    "#df.info"
   ],
   "outputs": [],
   "metadata": {}
  },
  {
   "cell_type": "markdown",
   "source": [
    "## Convertimos las variables a valor númerico    "
   ],
   "metadata": {}
  },
  {
   "cell_type": "code",
   "execution_count": 18,
   "source": [
    "le = LabelEncoder()\n",
    "le.fit(df['entry_channel'])\n",
    "df['entry_channel'] = le.transform(df['entry_channel'])"
   ],
   "outputs": [],
   "metadata": {}
  },
  {
   "cell_type": "code",
   "execution_count": 19,
   "source": [
    "le = LabelEncoder()\n",
    "le.fit(df['gender'])\n",
    "df['gender'] = le.transform(df['gender'])\n"
   ],
   "outputs": [],
   "metadata": {}
  },
  {
   "cell_type": "code",
   "execution_count": 20,
   "source": [
    "del le"
   ],
   "outputs": [],
   "metadata": {}
  },
  {
   "cell_type": "markdown",
   "source": [
    "## Altas y bajas de los principales productos en los ultimos meses"
   ],
   "metadata": {}
  },
  {
   "cell_type": "code",
   "execution_count": 21,
   "source": [
    "def rolling_shift(df, col, window, calc):\n",
    "    if calc == 'sum':\n",
    "        rolling = df.groupby('pk_cid')[[col]].rolling(window = window, min_periods=1).sum()\n",
    "    elif calc == 'max':\n",
    "        rolling = df.groupby('pk_cid')[[col]].rolling(window = window, min_periods=1).max()\n",
    "    \n",
    "    rolling.reset_index(inplace=True)\n",
    "    rolling['shift'] = rolling.groupby('pk_cid')[[col]].shift(1)\n",
    "    rolling[col].fillna(0,inplace=True)\n",
    "    rolling[col] = rolling[col].astype('int')\n",
    "        \n",
    "    return rolling[col]"
   ],
   "outputs": [],
   "metadata": {}
  },
  {
   "cell_type": "code",
   "execution_count": 22,
   "source": [
    "bajas_shifts = []\n",
    "\n",
    "transf = {'1m':1,'3m':3}\n",
    "cols = ['total_bajas','total_bajas_cuenta','total_bajas_inversión','total_bajas_prestamo']\n",
    "\n",
    "\n",
    "for total in cols:\n",
    "    for key, window in transf.items():\n",
    "        if window == 1:\n",
    "            if PREPARE_PREDICTION:\n",
    "                df[total+'_'+key+'_shift'] = df[total]\n",
    "            else:\n",
    "                df[total+'_'+key+'_shift'] = df[total].shift(1)\n",
    "        else:\n",
    "            df[total] = rolling_shift(df, total, window, 'sum')\n",
    "            if PREPARE_PREDICTION:\n",
    "                df[total+'_'+key+'_shift'] = df[total]\n",
    "            else:\n",
    "                df[total+'_'+key+'_shift'] = df[total].shift(1)\n",
    "            \n",
    "        df[total+'_'+key+'_shift'].fillna(0, inplace=True)\n",
    "        df[total+'_'+key+'_shift'] = df[total+'_'+key+'_shift'].astype('int8')\n",
    "    \n",
    "        bajas_shifts.append(total+'_'+key+'_shift')\n",
    "\n",
    "    print(total)\n",
    "    df.drop(total, axis=1, inplace=True)\n"
   ],
   "outputs": [
    {
     "output_type": "stream",
     "name": "stdout",
     "text": [
      "total_bajas\n",
      "total_bajas_cuenta\n",
      "total_bajas_inversión\n",
      "total_bajas_prestamo\n"
     ]
    }
   ],
   "metadata": {}
  },
  {
   "cell_type": "code",
   "execution_count": 23,
   "source": [
    "altas_shifts = []\n",
    "\n",
    "transf = {'1m':1,'2m':2,'3m':3,'6m':6}\n",
    "cols = ['total_altas','total_altas_cuenta','total_altas_inversión','total_altas_prestamo']\n",
    "\n",
    "for total in cols:\n",
    "    for key, window in transf.items():\n",
    "        if window == 1:\n",
    "            if PREPARE_PREDICTION:\n",
    "                df[total+'_'+key+'_shift'] = df[total]\n",
    "            else:\n",
    "                df[total+'_'+key+'_shift'] = df[total].shift(1)\n",
    "        else:\n",
    "            df[total] = rolling_shift(df, total, window, 'sum')\n",
    "            if PREPARE_PREDICTION:\n",
    "                df[total+'_'+key+'_shift'] = df[total]\n",
    "            else:\n",
    "                df[total+'_'+key+'_shift'] = df[total].shift(1)\n",
    "            \n",
    "        df[total+'_'+key+'_shift'].fillna(0, inplace=True)\n",
    "        df[total+'_'+key+'_shift'] = df[total+'_'+key+'_shift'].astype('int8')\n",
    "        \n",
    "        altas_shifts.append(total+'_'+key+'_shift')\n",
    "\n",
    "    print(total)\n",
    "    df.drop(total, axis=1, inplace=True)"
   ],
   "outputs": [
    {
     "output_type": "stream",
     "name": "stdout",
     "text": [
      "total_altas\n",
      "total_altas_cuenta\n",
      "total_altas_inversión\n",
      "total_altas_prestamo\n"
     ]
    }
   ],
   "metadata": {}
  },
  {
   "cell_type": "markdown",
   "source": [
    "## predicción alta de cuentas, inversión y prestamo"
   ],
   "metadata": {}
  },
  {
   "cell_type": "code",
   "execution_count": 24,
   "source": [
    "df['cuentas_fans'] = np.where( (df['total_altas_cuenta_3m_shift'] >= 1), 1, 0 )\n",
    "df['cuentas_fans'] = np.where( (df['total_altas_cuenta_3m_shift'] >= 2), 2, df['cuentas_fans'] )\n",
    "df['cuentas_fans'] = np.where( df['total_altas_cuenta_3m_shift'] >= 3, 3, df['cuentas_fans'] )\n",
    "print(df['cuentas_fans'].value_counts())\n",
    "\n",
    "df['inversión_fans'] = np.where( df['total_altas_inversión_3m_shift'] > 1, 1, 0 )\n",
    "print(df['inversión_fans'].value_counts())\n",
    "\n",
    "df['prestamo_fans'] = np.where( df['total_altas_prestamo_3m_shift'] > 1, 1, 0 )\n",
    "print(df['prestamo_fans'].value_counts())\n",
    "\n",
    "df['fans'] = np.where( df['total_altas_3m_shift'] >= 1, 1, 0 )\n",
    "df['fans'] = np.where( df['total_altas_3m_shift'] >= 2, 2, df['fans'] )\n",
    "df['fans'] = np.where( df['total_altas_3m_shift'] >= 3, 3, df['fans'] )\n",
    "print(df['fans'].value_counts())"
   ],
   "outputs": [
    {
     "output_type": "stream",
     "name": "stdout",
     "text": [
      "0    5202708\n",
      "1     531564\n",
      "2     196608\n",
      "3      32044\n",
      "Name: cuentas_fans, dtype: int64\n",
      "0    5882766\n",
      "1      80158\n",
      "Name: inversión_fans, dtype: int64\n",
      "0    5787002\n",
      "1     175922\n",
      "Name: prestamo_fans, dtype: int64\n",
      "0    4521648\n",
      "1     859675\n",
      "2     381605\n",
      "3     199996\n",
      "Name: fans, dtype: int64\n"
     ]
    }
   ],
   "metadata": {}
  },
  {
   "cell_type": "markdown",
   "source": [
    "## Análisis de tiempo transcurrido de los clientes para realizar la siguiente compra"
   ],
   "metadata": {}
  },
  {
   "cell_type": "code",
   "execution_count": 25,
   "source": [
    "data = df[['pk_cid','pk_partition','total']]"
   ],
   "outputs": [],
   "metadata": {}
  },
  {
   "cell_type": "code",
   "execution_count": 26,
   "source": [
    "data['pk_partition'] = data['pk_partition'].astype(object)\n",
    "altas = data[ data['total'] >= 1]\n",
    "\n",
    "\n",
    "altas_pt = pd.pivot_table(altas, values='total', index=['pk_cid'],\n",
    "                    columns=['pk_partition'], aggfunc=np.max)\n",
    "    \n",
    "#altas_pt.fillna( '2001-01-01', inplace=True)\n",
    "#print(altas_pt)\n",
    "#print(altas_pt.isnull().sum())\n",
    "\n",
    "    \n",
    "data = pd.merge( data, altas_pt, how='left', on='pk_cid' )"
   ],
   "outputs": [],
   "metadata": {}
  },
  {
   "cell_type": "markdown",
   "source": [
    "# cambiamos a datetime la columna partition"
   ],
   "metadata": {}
  },
  {
   "cell_type": "code",
   "execution_count": 27,
   "source": [
    "cols = ['pk_cid','pk_partition']\n",
    "data.columns = cols + partitions\n",
    "\n",
    "for part, i in zip(partitions, range(len(partitions))):\n",
    "    data[part] = np.where(data[part] >= 1, 1, data[part])\n",
    "\n",
    "    # No han comprado nada ese mes\n",
    "    data[part] = np.where(data[part] == 0, -1, data[part])\n",
    "    # Han comprado 1 producto o mas\n",
    "    data[part] = np.where(data[part] == 1, i, data[part])\n",
    "    # No aparece info de ellos en esa partition NaN o no compraron nada\n",
    "    data[part] = np.where(data[part].isna(), -1, data[part])\n",
    "        \n",
    "    data[part] = data[part].replace( {i:part, -1:'2001-01-01'})\n",
    "    #print( data[part].value_counts() )\n",
    "    data[part] = pd.to_datetime(data[part])"
   ],
   "outputs": [],
   "metadata": {}
  },
  {
   "cell_type": "code",
   "execution_count": 28,
   "source": [
    "data['pk_partition'] = pd.to_datetime(data['pk_partition'])\n",
    "    #data[partitions].fillna('2021-01-01', inplace=True)\n",
    "    #print(data)\n",
    "\n",
    "## CALCULAMOS TIEMPO DESDE ULTIMA COMPRA\n",
    "data['last_compra'] = datetime(2001,1,1)\n",
    "\n",
    "for part in partitions:\n",
    "    data['last_compra'] = np.where( (data[part] > data['last_compra']) & (part <= data['pk_partition']), data[part], data['last_compra'])\n",
    "\n",
    "data['tiempo_ult_compra'] = round(((data['pk_partition'] - data['last_compra'])/np.timedelta64(1, 'M')))\n",
    "\n",
    "data['prev'] = data.groupby('pk_cid')['tiempo_ult_compra'].shift(1)\n",
    "\n",
    "data['tiempo_ult_compra'] = np.where( data['tiempo_ult_compra']==0, data['prev']+1, data['tiempo_ult_compra'])"
   ],
   "outputs": [],
   "metadata": {}
  },
  {
   "cell_type": "code",
   "execution_count": 29,
   "source": [
    "data['tiempo_ult_compra'] = np.where( data['tiempo_ult_compra'] < 0, 20, data['tiempo_ult_compra'] )\n",
    "data['tiempo_ult_compra'] = np.where( data['tiempo_ult_compra'] > 100, 20, data['tiempo_ult_compra'] )\n",
    "data['tiempo_ult_compra'] = np.where( data['tiempo_ult_compra'].isna(), 20, data['tiempo_ult_compra'] )\n"
   ],
   "outputs": [],
   "metadata": {}
  },
  {
   "cell_type": "code",
   "execution_count": 30,
   "source": [
    "data['tiempo_ult_compra'].value_counts()"
   ],
   "outputs": [
    {
     "output_type": "execute_result",
     "data": {
      "text/plain": [
       "20.0    4576105\n",
       "1.0      284256\n",
       "2.0      227037\n",
       "3.0      185555\n",
       "4.0      150877\n",
       "5.0      130248\n",
       "6.0      112878\n",
       "7.0       94476\n",
       "8.0       69868\n",
       "9.0       48675\n",
       "10.0      32541\n",
       "11.0      18583\n",
       "12.0      13373\n",
       "13.0       9456\n",
       "14.0       6132\n",
       "15.0       2864\n",
       "Name: tiempo_ult_compra, dtype: int64"
      ]
     },
     "metadata": {},
     "execution_count": 30
    }
   ],
   "metadata": {}
  },
  {
   "cell_type": "markdown",
   "source": [
    "## consultamos compras ateriores"
   ],
   "metadata": {}
  },
  {
   "cell_type": "code",
   "execution_count": 31,
   "source": [
    "data_to_join = data[['pk_cid','pk_partition','tiempo_ult_compra']]\n",
    "\n",
    "\n",
    "data_to_join['compra_antes'] = np.where(data_to_join['tiempo_ult_compra'] == 20, 0, 1)\n",
    "#data_to_join['pk_partition'] = data_to_join['pk_partition']"
   ],
   "outputs": [],
   "metadata": {}
  },
  {
   "cell_type": "code",
   "execution_count": 32,
   "source": [
    "df['pk_partition'] = pd.to_datetime(df['pk_partition'])\n",
    "\n",
    "df = pd.merge(df, data_to_join, on=['pk_cid','pk_partition'], how='left')\n",
    "\n",
    "del data, data_to_join, altas_pt, altas\n",
    "\n",
    "df = df[df['tiempo_ult_compra'] != 20]"
   ],
   "outputs": [],
   "metadata": {}
  },
  {
   "cell_type": "markdown",
   "source": [
    "## vamos a categorizar las variables numéricas: edad y salario con el fin de usarlas en nuestro modelo, adicional a este paso descartamos clientes fallecidos, menores de 18 y mayores de 80 "
   ],
   "metadata": {}
  },
  {
   "cell_type": "code",
   "execution_count": 33,
   "source": [
    "df = df[ (df['deceased'] != 'S') | ((df['age'] >= 18) & (df['age'] <= 80))]\n",
    "#df = df[ (df['age'] >= 18) & (df['age'] <= 80)]"
   ],
   "outputs": [],
   "metadata": {}
  },
  {
   "cell_type": "code",
   "execution_count": 34,
   "source": [
    "# Tramificacion de edades\n",
    "age_tram = df[df['pk_partition']=='2018-05-28']['age']\n",
    "age_tram.hist()"
   ],
   "outputs": [
    {
     "output_type": "execute_result",
     "data": {
      "text/plain": [
       "<AxesSubplot:>"
      ]
     },
     "metadata": {},
     "execution_count": 34
    },
    {
     "output_type": "display_data",
     "data": {
      "image/png": "[encoded data removed]",
      "image/svg+xml": "<?xml version=\"1.0\" encoding=\"utf-8\" standalone=\"no\"?>\n<!DOCTYPE svg PUBLIC \"-//W3C//DTD SVG 1.1//EN\"\n  \"http://www.w3.org/Graphics/SVG/1.1/DTD/svg11.dtd\">\n<svg height=\"248.518125pt\" version=\"1.1\" viewBox=\"0 0 388.0125 248.518125\" width=\"388.0125pt\" xmlns=\"http://www.w3.org/2000/svg\" xmlns:xlink=\"http://www.w3.org/1999/xlink\">\n <metadata>\n  <rdf:RDF xmlns:cc=\"http://creativecommons.org/ns#\" xmlns:dc=\"http://purl.org/dc/elements/1.1/\" xmlns:rdf=\"http://www.w3.org/1999/02/22-rdf-syntax-ns#\">\n   <cc:Work>\n    <dc:type rdf:resource=\"http://purl.org/dc/dcmitype/StillImage\"/>\n    <dc:date>2021-09-18T16:05:09.894806</dc:date>\n    <dc:format>image/svg+xml</dc:format>\n    <dc:creator>\n     <cc:Agent>\n      <dc:title>Matplotlib v3.4.3, https://matplotlib.org/</dc:title>\n     </cc:Agent>\n    </dc:creator>\n   </cc:Work>\n  </rdf:RDF>\n </metadata>\n <defs>\n  <style type=\"text/css\">*{stroke-linecap:butt;stroke-linejoin:round;}</style>\n </defs>\n <g id=\"figure_1\">\n  <g id=\"patch_1\">\n   <path d=\"M 0 248.518125 \nL 388.0125 248.518125 \nL 388.0125 0 \nL 0 0 \nz\n\" style=\"fill:none;\"/>\n  </g>\n  <g id=\"axes_1\">\n   <g id=\"patch_2\">\n    <path d=\"M 46.0125 224.64 \nL 380.8125 224.64 \nL 380.8125 7.2 \nL 46.0125 7.2 \nz\n\" style=\"fill:#ffffff;\"/>\n   </g>\n   <g id=\"patch_3\">\n    <path clip-path=\"url(#p92b818eae7)\" d=\"M 61.230682 224.64 \nL 91.667045 224.64 \nL 91.667045 224.554876 \nL 61.230682 224.554876 \nz\n\" style=\"fill:#1f77b4;\"/>\n   </g>\n   <g id=\"patch_4\">\n    <path clip-path=\"url(#p92b818eae7)\" d=\"M 91.667045 224.64 \nL 122.103409 224.64 \nL 122.103409 139.239222 \nL 91.667045 139.239222 \nz\n\" style=\"fill:#1f77b4;\"/>\n   </g>\n   <g id=\"patch_5\">\n    <path clip-path=\"url(#p92b818eae7)\" d=\"M 122.103409 224.64 \nL 152.539773 224.64 \nL 152.539773 57.456219 \nL 122.103409 57.456219 \nz\n\" style=\"fill:#1f77b4;\"/>\n   </g>\n   <g id=\"patch_6\">\n    <path clip-path=\"url(#p92b818eae7)\" d=\"M 152.539773 224.64 \nL 182.976136 224.64 \nL 182.976136 17.554286 \nL 152.539773 17.554286 \nz\n\" style=\"fill:#1f77b4;\"/>\n   </g>\n   <g id=\"patch_7\">\n    <path clip-path=\"url(#p92b818eae7)\" d=\"M 182.976136 224.64 \nL 213.4125 224.64 \nL 213.4125 117.53257 \nL 182.976136 117.53257 \nz\n\" style=\"fill:#1f77b4;\"/>\n   </g>\n   <g id=\"patch_8\">\n    <path clip-path=\"url(#p92b818eae7)\" d=\"M 213.4125 224.64 \nL 243.848864 224.64 \nL 243.848864 168.415516 \nL 213.4125 168.415516 \nz\n\" style=\"fill:#1f77b4;\"/>\n   </g>\n   <g id=\"patch_9\">\n    <path clip-path=\"url(#p92b818eae7)\" d=\"M 243.848864 224.64 \nL 274.285227 224.64 \nL 274.285227 198.570737 \nL 243.848864 198.570737 \nz\n\" style=\"fill:#1f77b4;\"/>\n   </g>\n   <g id=\"patch_10\">\n    <path clip-path=\"url(#p92b818eae7)\" d=\"M 274.285227 224.64 \nL 304.721591 224.64 \nL 304.721591 214.063328 \nL 274.285227 214.063328 \nz\n\" style=\"fill:#1f77b4;\"/>\n   </g>\n   <g id=\"patch_11\">\n    <path clip-path=\"url(#p92b818eae7)\" d=\"M 304.721591 224.64 \nL 335.157955 224.64 \nL 335.157955 218.766435 \nL 304.721591 218.766435 \nz\n\" style=\"fill:#1f77b4;\"/>\n   </g>\n   <g id=\"patch_12\">\n    <path clip-path=\"url(#p92b818eae7)\" d=\"M 335.157955 224.64 \nL 365.594318 224.64 \nL 365.594318 223.575948 \nL 335.157955 223.575948 \nz\n\" style=\"fill:#1f77b4;\"/>\n   </g>\n   <g id=\"matplotlib.axis_1\">\n    <g id=\"xtick_1\">\n     <g id=\"line2d_1\">\n      <path clip-path=\"url(#p92b818eae7)\" d=\"M 48.548864 224.64 \nL 48.548864 7.2 \n\" style=\"fill:none;stroke:#b0b0b0;stroke-linecap:square;stroke-width:0.8;\"/>\n     </g>\n     <g id=\"line2d_2\">\n      <defs>\n       <path d=\"M 0 0 \nL 0 3.5 \n\" id=\"m5f76505087\" style=\"stroke:#000000;stroke-width:0.8;\"/>\n      </defs>\n      <g>\n       <use style=\"stroke:#000000;stroke-width:0.8;\" x=\"48.548864\" xlink:href=\"#m5f76505087\" y=\"224.64\"/>\n      </g>\n     </g>\n     <g id=\"text_1\">\n      <!-- 0 -->\n      <g transform=\"translate(45.367614 239.238437)scale(0.1 -0.1)\">\n       <defs>\n        <path d=\"M 2034 4250 \nQ 1547 4250 1301 3770 \nQ 1056 3291 1056 2328 \nQ 1056 1369 1301 889 \nQ 1547 409 2034 409 \nQ 2525 409 2770 889 \nQ 3016 1369 3016 2328 \nQ 3016 3291 2770 3770 \nQ 2525 4250 2034 4250 \nz\nM 2034 4750 \nQ 2819 4750 3233 4129 \nQ 3647 3509 3647 2328 \nQ 3647 1150 3233 529 \nQ 2819 -91 2034 -91 \nQ 1250 -91 836 529 \nQ 422 1150 422 2328 \nQ 422 3509 836 4129 \nQ 1250 4750 2034 4750 \nz\n\" id=\"DejaVuSans-30\" transform=\"scale(0.015625)\"/>\n       </defs>\n       <use xlink:href=\"#DejaVuSans-30\"/>\n      </g>\n     </g>\n    </g>\n    <g id=\"xtick_2\">\n     <g id=\"line2d_3\">\n      <path clip-path=\"url(#p92b818eae7)\" d=\"M 111.957955 224.64 \nL 111.957955 7.2 \n\" style=\"fill:none;stroke:#b0b0b0;stroke-linecap:square;stroke-width:0.8;\"/>\n     </g>\n     <g id=\"line2d_4\">\n      <g>\n       <use style=\"stroke:#000000;stroke-width:0.8;\" x=\"111.957955\" xlink:href=\"#m5f76505087\" y=\"224.64\"/>\n      </g>\n     </g>\n     <g id=\"text_2\">\n      <!-- 20 -->\n      <g transform=\"translate(105.595455 239.238437)scale(0.1 -0.1)\">\n       <defs>\n        <path d=\"M 1228 531 \nL 3431 531 \nL 3431 0 \nL 469 0 \nL 469 531 \nQ 828 903 1448 1529 \nQ 2069 2156 2228 2338 \nQ 2531 2678 2651 2914 \nQ 2772 3150 2772 3378 \nQ 2772 3750 2511 3984 \nQ 2250 4219 1831 4219 \nQ 1534 4219 1204 4116 \nQ 875 4013 500 3803 \nL 500 4441 \nQ 881 4594 1212 4672 \nQ 1544 4750 1819 4750 \nQ 2544 4750 2975 4387 \nQ 3406 4025 3406 3419 \nQ 3406 3131 3298 2873 \nQ 3191 2616 2906 2266 \nQ 2828 2175 2409 1742 \nQ 1991 1309 1228 531 \nz\n\" id=\"DejaVuSans-32\" transform=\"scale(0.015625)\"/>\n       </defs>\n       <use xlink:href=\"#DejaVuSans-32\"/>\n       <use x=\"63.623047\" xlink:href=\"#DejaVuSans-30\"/>\n      </g>\n     </g>\n    </g>\n    <g id=\"xtick_3\">\n     <g id=\"line2d_5\">\n      <path clip-path=\"url(#p92b818eae7)\" d=\"M 175.367045 224.64 \nL 175.367045 7.2 \n\" style=\"fill:none;stroke:#b0b0b0;stroke-linecap:square;stroke-width:0.8;\"/>\n     </g>\n     <g id=\"line2d_6\">\n      <g>\n       <use style=\"stroke:#000000;stroke-width:0.8;\" x=\"175.367045\" xlink:href=\"#m5f76505087\" y=\"224.64\"/>\n      </g>\n     </g>\n     <g id=\"text_3\">\n      <!-- 40 -->\n      <g transform=\"translate(169.004545 239.238437)scale(0.1 -0.1)\">\n       <defs>\n        <path d=\"M 2419 4116 \nL 825 1625 \nL 2419 1625 \nL 2419 4116 \nz\nM 2253 4666 \nL 3047 4666 \nL 3047 1625 \nL 3713 1625 \nL 3713 1100 \nL 3047 1100 \nL 3047 0 \nL 2419 0 \nL 2419 1100 \nL 313 1100 \nL 313 1709 \nL 2253 4666 \nz\n\" id=\"DejaVuSans-34\" transform=\"scale(0.015625)\"/>\n       </defs>\n       <use xlink:href=\"#DejaVuSans-34\"/>\n       <use x=\"63.623047\" xlink:href=\"#DejaVuSans-30\"/>\n      </g>\n     </g>\n    </g>\n    <g id=\"xtick_4\">\n     <g id=\"line2d_7\">\n      <path clip-path=\"url(#p92b818eae7)\" d=\"M 238.776136 224.64 \nL 238.776136 7.2 \n\" style=\"fill:none;stroke:#b0b0b0;stroke-linecap:square;stroke-width:0.8;\"/>\n     </g>\n     <g id=\"line2d_8\">\n      <g>\n       <use style=\"stroke:#000000;stroke-width:0.8;\" x=\"238.776136\" xlink:href=\"#m5f76505087\" y=\"224.64\"/>\n      </g>\n     </g>\n     <g id=\"text_4\">\n      <!-- 60 -->\n      <g transform=\"translate(232.413636 239.238437)scale(0.1 -0.1)\">\n       <defs>\n        <path d=\"M 2113 2584 \nQ 1688 2584 1439 2293 \nQ 1191 2003 1191 1497 \nQ 1191 994 1439 701 \nQ 1688 409 2113 409 \nQ 2538 409 2786 701 \nQ 3034 994 3034 1497 \nQ 3034 2003 2786 2293 \nQ 2538 2584 2113 2584 \nz\nM 3366 4563 \nL 3366 3988 \nQ 3128 4100 2886 4159 \nQ 2644 4219 2406 4219 \nQ 1781 4219 1451 3797 \nQ 1122 3375 1075 2522 \nQ 1259 2794 1537 2939 \nQ 1816 3084 2150 3084 \nQ 2853 3084 3261 2657 \nQ 3669 2231 3669 1497 \nQ 3669 778 3244 343 \nQ 2819 -91 2113 -91 \nQ 1303 -91 875 529 \nQ 447 1150 447 2328 \nQ 447 3434 972 4092 \nQ 1497 4750 2381 4750 \nQ 2619 4750 2861 4703 \nQ 3103 4656 3366 4563 \nz\n\" id=\"DejaVuSans-36\" transform=\"scale(0.015625)\"/>\n       </defs>\n       <use xlink:href=\"#DejaVuSans-36\"/>\n       <use x=\"63.623047\" xlink:href=\"#DejaVuSans-30\"/>\n      </g>\n     </g>\n    </g>\n    <g id=\"xtick_5\">\n     <g id=\"line2d_9\">\n      <path clip-path=\"url(#p92b818eae7)\" d=\"M 302.185227 224.64 \nL 302.185227 7.2 \n\" style=\"fill:none;stroke:#b0b0b0;stroke-linecap:square;stroke-width:0.8;\"/>\n     </g>\n     <g id=\"line2d_10\">\n      <g>\n       <use style=\"stroke:#000000;stroke-width:0.8;\" x=\"302.185227\" xlink:href=\"#m5f76505087\" y=\"224.64\"/>\n      </g>\n     </g>\n     <g id=\"text_5\">\n      <!-- 80 -->\n      <g transform=\"translate(295.822727 239.238437)scale(0.1 -0.1)\">\n       <defs>\n        <path d=\"M 2034 2216 \nQ 1584 2216 1326 1975 \nQ 1069 1734 1069 1313 \nQ 1069 891 1326 650 \nQ 1584 409 2034 409 \nQ 2484 409 2743 651 \nQ 3003 894 3003 1313 \nQ 3003 1734 2745 1975 \nQ 2488 2216 2034 2216 \nz\nM 1403 2484 \nQ 997 2584 770 2862 \nQ 544 3141 544 3541 \nQ 544 4100 942 4425 \nQ 1341 4750 2034 4750 \nQ 2731 4750 3128 4425 \nQ 3525 4100 3525 3541 \nQ 3525 3141 3298 2862 \nQ 3072 2584 2669 2484 \nQ 3125 2378 3379 2068 \nQ 3634 1759 3634 1313 \nQ 3634 634 3220 271 \nQ 2806 -91 2034 -91 \nQ 1263 -91 848 271 \nQ 434 634 434 1313 \nQ 434 1759 690 2068 \nQ 947 2378 1403 2484 \nz\nM 1172 3481 \nQ 1172 3119 1398 2916 \nQ 1625 2713 2034 2713 \nQ 2441 2713 2670 2916 \nQ 2900 3119 2900 3481 \nQ 2900 3844 2670 4047 \nQ 2441 4250 2034 4250 \nQ 1625 4250 1398 4047 \nQ 1172 3844 1172 3481 \nz\n\" id=\"DejaVuSans-38\" transform=\"scale(0.015625)\"/>\n       </defs>\n       <use xlink:href=\"#DejaVuSans-38\"/>\n       <use x=\"63.623047\" xlink:href=\"#DejaVuSans-30\"/>\n      </g>\n     </g>\n    </g>\n    <g id=\"xtick_6\">\n     <g id=\"line2d_11\">\n      <path clip-path=\"url(#p92b818eae7)\" d=\"M 365.594318 224.64 \nL 365.594318 7.2 \n\" style=\"fill:none;stroke:#b0b0b0;stroke-linecap:square;stroke-width:0.8;\"/>\n     </g>\n     <g id=\"line2d_12\">\n      <g>\n       <use style=\"stroke:#000000;stroke-width:0.8;\" x=\"365.594318\" xlink:href=\"#m5f76505087\" y=\"224.64\"/>\n      </g>\n     </g>\n     <g id=\"text_6\">\n      <!-- 100 -->\n      <g transform=\"translate(356.050568 239.238437)scale(0.1 -0.1)\">\n       <defs>\n        <path d=\"M 794 531 \nL 1825 531 \nL 1825 4091 \nL 703 3866 \nL 703 4441 \nL 1819 4666 \nL 2450 4666 \nL 2450 531 \nL 3481 531 \nL 3481 0 \nL 794 0 \nL 794 531 \nz\n\" id=\"DejaVuSans-31\" transform=\"scale(0.015625)\"/>\n       </defs>\n       <use xlink:href=\"#DejaVuSans-31\"/>\n       <use x=\"63.623047\" xlink:href=\"#DejaVuSans-30\"/>\n       <use x=\"127.246094\" xlink:href=\"#DejaVuSans-30\"/>\n      </g>\n     </g>\n    </g>\n   </g>\n   <g id=\"matplotlib.axis_2\">\n    <g id=\"ytick_1\">\n     <g id=\"line2d_13\">\n      <path clip-path=\"url(#p92b818eae7)\" d=\"M 46.0125 224.64 \nL 380.8125 224.64 \n\" style=\"fill:none;stroke:#b0b0b0;stroke-linecap:square;stroke-width:0.8;\"/>\n     </g>\n     <g id=\"line2d_14\">\n      <defs>\n       <path d=\"M 0 0 \nL -3.5 0 \n\" id=\"m9b91e280a2\" style=\"stroke:#000000;stroke-width:0.8;\"/>\n      </defs>\n      <g>\n       <use style=\"stroke:#000000;stroke-width:0.8;\" x=\"46.0125\" xlink:href=\"#m9b91e280a2\" y=\"224.64\"/>\n      </g>\n     </g>\n     <g id=\"text_7\">\n      <!-- 0 -->\n      <g transform=\"translate(32.65 228.439219)scale(0.1 -0.1)\">\n       <use xlink:href=\"#DejaVuSans-30\"/>\n      </g>\n     </g>\n    </g>\n    <g id=\"ytick_2\">\n     <g id=\"line2d_15\">\n      <path clip-path=\"url(#p92b818eae7)\" d=\"M 46.0125 182.077938 \nL 380.8125 182.077938 \n\" style=\"fill:none;stroke:#b0b0b0;stroke-linecap:square;stroke-width:0.8;\"/>\n     </g>\n     <g id=\"line2d_16\">\n      <g>\n       <use style=\"stroke:#000000;stroke-width:0.8;\" x=\"46.0125\" xlink:href=\"#m9b91e280a2\" y=\"182.077938\"/>\n      </g>\n     </g>\n     <g id=\"text_8\">\n      <!-- 2000 -->\n      <g transform=\"translate(13.5625 185.877156)scale(0.1 -0.1)\">\n       <use xlink:href=\"#DejaVuSans-32\"/>\n       <use x=\"63.623047\" xlink:href=\"#DejaVuSans-30\"/>\n       <use x=\"127.246094\" xlink:href=\"#DejaVuSans-30\"/>\n       <use x=\"190.869141\" xlink:href=\"#DejaVuSans-30\"/>\n      </g>\n     </g>\n    </g>\n    <g id=\"ytick_3\">\n     <g id=\"line2d_17\">\n      <path clip-path=\"url(#p92b818eae7)\" d=\"M 46.0125 139.515875 \nL 380.8125 139.515875 \n\" style=\"fill:none;stroke:#b0b0b0;stroke-linecap:square;stroke-width:0.8;\"/>\n     </g>\n     <g id=\"line2d_18\">\n      <g>\n       <use style=\"stroke:#000000;stroke-width:0.8;\" x=\"46.0125\" xlink:href=\"#m9b91e280a2\" y=\"139.515875\"/>\n      </g>\n     </g>\n     <g id=\"text_9\">\n      <!-- 4000 -->\n      <g transform=\"translate(13.5625 143.315094)scale(0.1 -0.1)\">\n       <use xlink:href=\"#DejaVuSans-34\"/>\n       <use x=\"63.623047\" xlink:href=\"#DejaVuSans-30\"/>\n       <use x=\"127.246094\" xlink:href=\"#DejaVuSans-30\"/>\n       <use x=\"190.869141\" xlink:href=\"#DejaVuSans-30\"/>\n      </g>\n     </g>\n    </g>\n    <g id=\"ytick_4\">\n     <g id=\"line2d_19\">\n      <path clip-path=\"url(#p92b818eae7)\" d=\"M 46.0125 96.953813 \nL 380.8125 96.953813 \n\" style=\"fill:none;stroke:#b0b0b0;stroke-linecap:square;stroke-width:0.8;\"/>\n     </g>\n     <g id=\"line2d_20\">\n      <g>\n       <use style=\"stroke:#000000;stroke-width:0.8;\" x=\"46.0125\" xlink:href=\"#m9b91e280a2\" y=\"96.953813\"/>\n      </g>\n     </g>\n     <g id=\"text_10\">\n      <!-- 6000 -->\n      <g transform=\"translate(13.5625 100.753032)scale(0.1 -0.1)\">\n       <use xlink:href=\"#DejaVuSans-36\"/>\n       <use x=\"63.623047\" xlink:href=\"#DejaVuSans-30\"/>\n       <use x=\"127.246094\" xlink:href=\"#DejaVuSans-30\"/>\n       <use x=\"190.869141\" xlink:href=\"#DejaVuSans-30\"/>\n      </g>\n     </g>\n    </g>\n    <g id=\"ytick_5\">\n     <g id=\"line2d_21\">\n      <path clip-path=\"url(#p92b818eae7)\" d=\"M 46.0125 54.391751 \nL 380.8125 54.391751 \n\" style=\"fill:none;stroke:#b0b0b0;stroke-linecap:square;stroke-width:0.8;\"/>\n     </g>\n     <g id=\"line2d_22\">\n      <g>\n       <use style=\"stroke:#000000;stroke-width:0.8;\" x=\"46.0125\" xlink:href=\"#m9b91e280a2\" y=\"54.391751\"/>\n      </g>\n     </g>\n     <g id=\"text_11\">\n      <!-- 8000 -->\n      <g transform=\"translate(13.5625 58.190969)scale(0.1 -0.1)\">\n       <use xlink:href=\"#DejaVuSans-38\"/>\n       <use x=\"63.623047\" xlink:href=\"#DejaVuSans-30\"/>\n       <use x=\"127.246094\" xlink:href=\"#DejaVuSans-30\"/>\n       <use x=\"190.869141\" xlink:href=\"#DejaVuSans-30\"/>\n      </g>\n     </g>\n    </g>\n    <g id=\"ytick_6\">\n     <g id=\"line2d_23\">\n      <path clip-path=\"url(#p92b818eae7)\" d=\"M 46.0125 11.829688 \nL 380.8125 11.829688 \n\" style=\"fill:none;stroke:#b0b0b0;stroke-linecap:square;stroke-width:0.8;\"/>\n     </g>\n     <g id=\"line2d_24\">\n      <g>\n       <use style=\"stroke:#000000;stroke-width:0.8;\" x=\"46.0125\" xlink:href=\"#m9b91e280a2\" y=\"11.829688\"/>\n      </g>\n     </g>\n     <g id=\"text_12\">\n      <!-- 10000 -->\n      <g transform=\"translate(7.2 15.628907)scale(0.1 -0.1)\">\n       <use xlink:href=\"#DejaVuSans-31\"/>\n       <use x=\"63.623047\" xlink:href=\"#DejaVuSans-30\"/>\n       <use x=\"127.246094\" xlink:href=\"#DejaVuSans-30\"/>\n       <use x=\"190.869141\" xlink:href=\"#DejaVuSans-30\"/>\n       <use x=\"254.492188\" xlink:href=\"#DejaVuSans-30\"/>\n      </g>\n     </g>\n    </g>\n   </g>\n   <g id=\"patch_13\">\n    <path d=\"M 46.0125 224.64 \nL 46.0125 7.2 \n\" style=\"fill:none;stroke:#000000;stroke-linecap:square;stroke-linejoin:miter;stroke-width:0.8;\"/>\n   </g>\n   <g id=\"patch_14\">\n    <path d=\"M 380.8125 224.64 \nL 380.8125 7.2 \n\" style=\"fill:none;stroke:#000000;stroke-linecap:square;stroke-linejoin:miter;stroke-width:0.8;\"/>\n   </g>\n   <g id=\"patch_15\">\n    <path d=\"M 46.0125 224.64 \nL 380.8125 224.64 \n\" style=\"fill:none;stroke:#000000;stroke-linecap:square;stroke-linejoin:miter;stroke-width:0.8;\"/>\n   </g>\n   <g id=\"patch_16\">\n    <path d=\"M 46.0125 7.2 \nL 380.8125 7.2 \n\" style=\"fill:none;stroke:#000000;stroke-linecap:square;stroke-linejoin:miter;stroke-width:0.8;\"/>\n   </g>\n  </g>\n </g>\n <defs>\n  <clipPath id=\"p92b818eae7\">\n   <rect height=\"217.44\" width=\"334.8\" x=\"46.0125\" y=\"7.2\"/>\n  </clipPath>\n </defs>\n</svg>\n",
      "text/plain": [
       "<Figure size 432x288 with 1 Axes>"
      ]
     },
     "metadata": {
      "needs_background": "light"
     }
    }
   ],
   "metadata": {}
  },
  {
   "cell_type": "code",
   "execution_count": 35,
   "source": [
    "age_divisions = {1:[0,20], 2:[20,40], 3:[40,60], 4:[60,120]}\n",
    "df['age_tram'] = 0\n",
    "for div, values in age_divisions.items():\n",
    "    df['age_tram'] = np.where( (df['age'] > values[0]) & (df['age'] <= values[1]), div, df['age_tram'] )"
   ],
   "outputs": [],
   "metadata": {}
  },
  {
   "cell_type": "code",
   "execution_count": 36,
   "source": [
    "# Tramificacion de edades\n",
    "salary_tram = df[df['pk_partition']=='2018-05-28']['salary']\n",
    "quartiles = salary_tram.describe()\n",
    "quartiles"
   ],
   "outputs": [
    {
     "output_type": "execute_result",
     "data": {
      "text/plain": [
       "count    2.623800e+04\n",
       "mean     1.180507e+05\n",
       "std      1.742694e+05\n",
       "min      7.425000e+03\n",
       "25%      6.374168e+04\n",
       "50%      9.170289e+04\n",
       "75%      1.354168e+05\n",
       "max      1.326862e+07\n",
       "Name: salary, dtype: float64"
      ]
     },
     "metadata": {},
     "execution_count": 36
    }
   ],
   "metadata": {}
  },
  {
   "cell_type": "code",
   "execution_count": 37,
   "source": [
    "salary_divisions = {1:[0,4e4], 2:[4e4,8e4], 3:[8e4,12e4], 4:[12e4,2e10]}\n",
    "df['salary'].fillna(-1,inplace=True)\n",
    "\n",
    "df['salary_tram'] = 0\n",
    "\n",
    "for div, values in salary_divisions.items():\n",
    "    print(values)\n",
    "    df['salary_tram'] = np.where( (df['salary'] > values[0]) & (df['salary'] <= values[1]), div, df['salary_tram'] )"
   ],
   "outputs": [
    {
     "output_type": "stream",
     "name": "stdout",
     "text": [
      "[0, 40000.0]\n",
      "[40000.0, 80000.0]\n",
      "[80000.0, 120000.0]\n",
      "[120000.0, 20000000000.0]\n"
     ]
    }
   ],
   "metadata": {}
  },
  {
   "cell_type": "code",
   "execution_count": 38,
   "source": [
    "df.fillna(0, inplace=True)"
   ],
   "outputs": [],
   "metadata": {}
  },
  {
   "cell_type": "markdown",
   "source": [
    "## Feature Generator"
   ],
   "metadata": {}
  },
  {
   "cell_type": "code",
   "execution_count": 39,
   "source": [
    "df['pk_partition'] = pd.to_datetime(df['pk_partition'])\n",
    "df['month'] = df['pk_partition'].dt.month\n",
    "df['year'] = df['pk_partition'].dt.year"
   ],
   "outputs": [],
   "metadata": {}
  },
  {
   "cell_type": "markdown",
   "source": [
    "# Preparamos el target \n",
    "Observamos que algunos clientes compran varios productos el mismo mes. \n",
    "El target que queremos predecir es la compra de un producto por lo que sera 1\n",
    "En caso de que sean varias compras el mismo mes, se duplicara el número de registros "
   ],
   "metadata": {}
  },
  {
   "cell_type": "code",
   "execution_count": 40,
   "source": [
    "df['compras_cuenta'] = np.where(df['altas_cuenta']>=1,1,0) \n",
    "df['compras_inversión'] =  np.where(df['altas_inversión']>=1,1,0) \n",
    "df['compras_prestamo'] = np.where(df['altas_prestamo']>=1,1,0)\n",
    "\n",
    "df['compras'] = df['compras_cuenta'] + df['compras_inversión'] + df['compras_prestamo']\n",
    "max_ = int(max(df['compras'].value_counts().index)+1)\n",
    "print(max_)"
   ],
   "outputs": [
    {
     "output_type": "stream",
     "name": "stdout",
     "text": [
      "4\n"
     ]
    }
   ],
   "metadata": {}
  },
  {
   "cell_type": "code",
   "execution_count": 41,
   "source": [
    "print(df['compras_cuenta'].value_counts())\n",
    "print(df['compras_inversión'].value_counts())\n",
    "print(df['compras_prestamo'].value_counts())"
   ],
   "outputs": [
    {
     "output_type": "stream",
     "name": "stdout",
     "text": [
      "0    1339574\n",
      "1      47048\n",
      "Name: compras_cuenta, dtype: int64\n",
      "0    1349121\n",
      "1      37501\n",
      "Name: compras_inversión, dtype: int64\n",
      "0    1319380\n",
      "1      67242\n",
      "Name: compras_prestamo, dtype: int64\n"
     ]
    }
   ],
   "metadata": {}
  },
  {
   "cell_type": "code",
   "execution_count": 42,
   "source": [
    "df['compras'].value_counts()"
   ],
   "outputs": [
    {
     "output_type": "execute_result",
     "data": {
      "text/plain": [
       "0    1251450\n",
       "1     119689\n",
       "2      14347\n",
       "3       1136\n",
       "Name: compras, dtype: int64"
      ]
     },
     "metadata": {},
     "execution_count": 42
    }
   ],
   "metadata": {}
  },
  {
   "cell_type": "code",
   "execution_count": 43,
   "source": [
    "list_ = products_list.copy()\n",
    "df['pk_partition'] = pd.to_datetime(df['pk_partition'])\n",
    "list_.append('pk_partition')\n",
    "list_.append('pk_cid')\n",
    "\n",
    "compras_todas = {}\n",
    "\n",
    "for number in range(1,max_):\n",
    "    part_df = df[df['compras'] == number][list_].set_index(['pk_cid','pk_partition'])\n",
    "\n",
    "    #print(part_df[list_products] != 0)\n",
    "    for key, row in part_df.iterrows():\n",
    "        #print(key, row[row != 0].index.to_list())\n",
    "        compras_todas[key] = row[row != 0].index.to_list()     \n",
    "        \n",
    "    print(number)\n",
    "    #for num in range(1,number+1):\n",
    "    #    df['prod'+str(num)] = np.where( , cost_product[products_dict[prods[num-1]]], df['prod'+str(num)] )"
   ],
   "outputs": [
    {
     "output_type": "stream",
     "name": "stdout",
     "text": [
      "1\n",
      "2\n",
      "3\n"
     ]
    }
   ],
   "metadata": {}
  },
  {
   "cell_type": "code",
   "execution_count": 44,
   "source": [
    "import pickle\n",
    "f = open(\"compras_todas.pkl\",\"wb\")\n",
    "pickle.dump(compras_todas,f)\n",
    "f.close()"
   ],
   "outputs": [],
   "metadata": {}
  },
  {
   "cell_type": "code",
   "execution_count": 45,
   "source": [
    "compras_df = pd.DataFrame.from_dict(compras_todas, orient='index')\n",
    "\n",
    "compras_melted = compras_df.melt(ignore_index = False)\n",
    "compras_melted['tipo_producto'] = compras_melted['value'].replace(products_3)\n",
    "compras_melted['precio'] = compras_melted['tipo_producto'].replace(product_values)\n",
    "compras_melted = compras_melted.reset_index()\n",
    "\n",
    "compras_melted['pk_cid'] = compras_melted['index'].apply( lambda x: x[0] )\n",
    "compras_melted['pk_partition'] = compras_melted['index'].apply( lambda x: x[1] )\n",
    "\n",
    "#compras_melted = compras_melted[~compras_melted['pk_partition'].isna()]\n",
    "compras_melted = compras_melted[~compras_melted['tipo_producto'].isna()]\n",
    "\n",
    "compras_melted\n",
    "\n",
    "#compras_melted[['pk_cid','pk_partition','tipo_producto','precio']]"
   ],
   "outputs": [
    {
     "output_type": "execute_result",
     "data": {
      "text/html": [
       "<div>\n",
       "<style scoped>\n",
       "    .dataframe tbody tr th:only-of-type {\n",
       "        vertical-align: middle;\n",
       "    }\n",
       "\n",
       "    .dataframe tbody tr th {\n",
       "        vertical-align: top;\n",
       "    }\n",
       "\n",
       "    .dataframe thead th {\n",
       "        text-align: right;\n",
       "    }\n",
       "</style>\n",
       "<table border=\"1\" class=\"dataframe\">\n",
       "  <thead>\n",
       "    <tr style=\"text-align: right;\">\n",
       "      <th></th>\n",
       "      <th>index</th>\n",
       "      <th>variable</th>\n",
       "      <th>value</th>\n",
       "      <th>tipo_producto</th>\n",
       "      <th>precio</th>\n",
       "      <th>pk_cid</th>\n",
       "      <th>pk_partition</th>\n",
       "    </tr>\n",
       "  </thead>\n",
       "  <tbody>\n",
       "    <tr>\n",
       "      <th>0</th>\n",
       "      <td>(16502, 2019-01-28 00:00:00)</td>\n",
       "      <td>0</td>\n",
       "      <td>emc_account</td>\n",
       "      <td>cuenta</td>\n",
       "      <td>10.0</td>\n",
       "      <td>16502</td>\n",
       "      <td>2019-01-28</td>\n",
       "    </tr>\n",
       "    <tr>\n",
       "      <th>1</th>\n",
       "      <td>(17457, 2018-10-28 00:00:00)</td>\n",
       "      <td>0</td>\n",
       "      <td>em_acount</td>\n",
       "      <td>cuenta</td>\n",
       "      <td>10.0</td>\n",
       "      <td>17457</td>\n",
       "      <td>2018-10-28</td>\n",
       "    </tr>\n",
       "    <tr>\n",
       "      <th>2</th>\n",
       "      <td>(17457, 2019-01-28 00:00:00)</td>\n",
       "      <td>0</td>\n",
       "      <td>long_term_deposit</td>\n",
       "      <td>inversión</td>\n",
       "      <td>40.0</td>\n",
       "      <td>17457</td>\n",
       "      <td>2019-01-28</td>\n",
       "    </tr>\n",
       "    <tr>\n",
       "      <th>3</th>\n",
       "      <td>(17457, 2019-03-28 00:00:00)</td>\n",
       "      <td>0</td>\n",
       "      <td>long_term_deposit</td>\n",
       "      <td>inversión</td>\n",
       "      <td>40.0</td>\n",
       "      <td>17457</td>\n",
       "      <td>2019-03-28</td>\n",
       "    </tr>\n",
       "    <tr>\n",
       "      <th>4</th>\n",
       "      <td>(17457, 2019-05-28 00:00:00)</td>\n",
       "      <td>0</td>\n",
       "      <td>long_term_deposit</td>\n",
       "      <td>inversión</td>\n",
       "      <td>40.0</td>\n",
       "      <td>17457</td>\n",
       "      <td>2019-05-28</td>\n",
       "    </tr>\n",
       "    <tr>\n",
       "      <th>...</th>\n",
       "      <td>...</td>\n",
       "      <td>...</td>\n",
       "      <td>...</td>\n",
       "      <td>...</td>\n",
       "      <td>...</td>\n",
       "      <td>...</td>\n",
       "      <td>...</td>\n",
       "    </tr>\n",
       "    <tr>\n",
       "      <th>975348</th>\n",
       "      <td>(1128353, 2018-11-28 00:00:00)</td>\n",
       "      <td>7</td>\n",
       "      <td>debit_card</td>\n",
       "      <td>prestamo</td>\n",
       "      <td>60.0</td>\n",
       "      <td>1128353</td>\n",
       "      <td>2018-11-28</td>\n",
       "    </tr>\n",
       "    <tr>\n",
       "      <th>986723</th>\n",
       "      <td>(1190607, 2018-04-28 00:00:00)</td>\n",
       "      <td>7</td>\n",
       "      <td>em_acount</td>\n",
       "      <td>cuenta</td>\n",
       "      <td>10.0</td>\n",
       "      <td>1190607</td>\n",
       "      <td>2018-04-28</td>\n",
       "    </tr>\n",
       "    <tr>\n",
       "      <th>1005016</th>\n",
       "      <td>(1265402, 2018-09-28 00:00:00)</td>\n",
       "      <td>7</td>\n",
       "      <td>debit_card</td>\n",
       "      <td>prestamo</td>\n",
       "      <td>60.0</td>\n",
       "      <td>1265402</td>\n",
       "      <td>2018-09-28</td>\n",
       "    </tr>\n",
       "    <tr>\n",
       "      <th>1066624</th>\n",
       "      <td>(1018436, 2018-05-28 00:00:00)</td>\n",
       "      <td>7</td>\n",
       "      <td>em_acount</td>\n",
       "      <td>cuenta</td>\n",
       "      <td>10.0</td>\n",
       "      <td>1018436</td>\n",
       "      <td>2018-05-28</td>\n",
       "    </tr>\n",
       "    <tr>\n",
       "      <th>1069708</th>\n",
       "      <td>(1226958, 2018-12-28 00:00:00)</td>\n",
       "      <td>7</td>\n",
       "      <td>em_acount</td>\n",
       "      <td>cuenta</td>\n",
       "      <td>10.0</td>\n",
       "      <td>1226958</td>\n",
       "      <td>2018-12-28</td>\n",
       "    </tr>\n",
       "  </tbody>\n",
       "</table>\n",
       "<p>311491 rows × 7 columns</p>\n",
       "</div>"
      ],
      "text/plain": [
       "                                  index  variable              value  \\\n",
       "0          (16502, 2019-01-28 00:00:00)         0        emc_account   \n",
       "1          (17457, 2018-10-28 00:00:00)         0          em_acount   \n",
       "2          (17457, 2019-01-28 00:00:00)         0  long_term_deposit   \n",
       "3          (17457, 2019-03-28 00:00:00)         0  long_term_deposit   \n",
       "4          (17457, 2019-05-28 00:00:00)         0  long_term_deposit   \n",
       "...                                 ...       ...                ...   \n",
       "975348   (1128353, 2018-11-28 00:00:00)         7         debit_card   \n",
       "986723   (1190607, 2018-04-28 00:00:00)         7          em_acount   \n",
       "1005016  (1265402, 2018-09-28 00:00:00)         7         debit_card   \n",
       "1066624  (1018436, 2018-05-28 00:00:00)         7          em_acount   \n",
       "1069708  (1226958, 2018-12-28 00:00:00)         7          em_acount   \n",
       "\n",
       "        tipo_producto  precio   pk_cid pk_partition  \n",
       "0              cuenta    10.0    16502   2019-01-28  \n",
       "1              cuenta    10.0    17457   2018-10-28  \n",
       "2           inversión    40.0    17457   2019-01-28  \n",
       "3           inversión    40.0    17457   2019-03-28  \n",
       "4           inversión    40.0    17457   2019-05-28  \n",
       "...               ...     ...      ...          ...  \n",
       "975348       prestamo    60.0  1128353   2018-11-28  \n",
       "986723         cuenta    10.0  1190607   2018-04-28  \n",
       "1005016      prestamo    60.0  1265402   2018-09-28  \n",
       "1066624        cuenta    10.0  1018436   2018-05-28  \n",
       "1069708        cuenta    10.0  1226958   2018-12-28  \n",
       "\n",
       "[311491 rows x 7 columns]"
      ]
     },
     "metadata": {},
     "execution_count": 45
    }
   ],
   "metadata": {}
  },
  {
   "cell_type": "code",
   "execution_count": 46,
   "source": [
    "compras_melted.info()\n",
    "compras_melted['pk_partition'] = compras_melted['pk_partition'].apply(lambda x: str(x)[:11])\n",
    "df['pk_partition'] = df['pk_partition'].apply(lambda x: str(x)[:11])"
   ],
   "outputs": [
    {
     "output_type": "stream",
     "name": "stdout",
     "text": [
      "<class 'pandas.core.frame.DataFrame'>\n",
      "Int64Index: 311491 entries, 0 to 1069708\n",
      "Data columns (total 7 columns):\n",
      " #   Column         Non-Null Count   Dtype         \n",
      "---  ------         --------------   -----         \n",
      " 0   index          311491 non-null  object        \n",
      " 1   variable       311491 non-null  int64         \n",
      " 2   value          311491 non-null  object        \n",
      " 3   tipo_producto  311491 non-null  object        \n",
      " 4   precio         311491 non-null  float64       \n",
      " 5   pk_cid         311491 non-null  int64         \n",
      " 6   pk_partition   311491 non-null  datetime64[ns]\n",
      "dtypes: datetime64[ns](1), float64(1), int64(2), object(3)\n",
      "memory usage: 19.0+ MB\n"
     ]
    }
   ],
   "metadata": {}
  },
  {
   "cell_type": "code",
   "execution_count": 47,
   "source": [
    "del compras_todas, compras_df, part_df"
   ],
   "outputs": [],
   "metadata": {}
  },
  {
   "cell_type": "code",
   "execution_count": 48,
   "source": [
    "df = pd.merge(df, compras_melted[['pk_cid','pk_partition','value','tipo_producto','precio']], on=['pk_cid','pk_partition'], how='left')\n",
    "del compras_melted"
   ],
   "outputs": [],
   "metadata": {}
  },
  {
   "cell_type": "markdown",
   "source": [
    "## Precio de productos\n",
    "De los 14 productos que tenmos los hemos agrupado en 3 variables, cada una tiene un precio 10, 40 y 60 euros. Queremos trabajar un modelo general con todos los productos, se puede entender que un cliente, compre prductos de menor coste."
   ],
   "metadata": {}
  },
  {
   "cell_type": "code",
   "execution_count": 49,
   "source": [
    "df.info()"
   ],
   "outputs": [
    {
     "output_type": "stream",
     "name": "stdout",
     "text": [
      "<class 'pandas.core.frame.DataFrame'>\n",
      "Int64Index: 1566404 entries, 0 to 1566403\n",
      "Data columns (total 72 columns):\n",
      " #   Column                          Non-Null Count    Dtype  \n",
      "---  ------                          --------------    -----  \n",
      " 0   pk_cid                          1566404 non-null  int64  \n",
      " 1   pk_partition                    1566404 non-null  object \n",
      " 2   short_term_deposit              1566404 non-null  bool   \n",
      " 3   loans                           1566404 non-null  bool   \n",
      " 4   mortgage                        1566404 non-null  bool   \n",
      " 5   funds                           1566404 non-null  bool   \n",
      " 6   securities                      1566404 non-null  bool   \n",
      " 7   long_term_deposit               1566404 non-null  bool   \n",
      " 8   em_account_pp                   1566404 non-null  bool   \n",
      " 9   credit_card                     1566404 non-null  bool   \n",
      " 10  payroll                         1566404 non-null  bool   \n",
      " 11  pension_plan                    1566404 non-null  bool   \n",
      " 12  payroll_account                 1566404 non-null  bool   \n",
      " 13  emc_account                     1566404 non-null  bool   \n",
      " 14  debit_card                      1566404 non-null  bool   \n",
      " 15  em_account_p                    1566404 non-null  bool   \n",
      " 16  em_acount                       1566404 non-null  bool   \n",
      " 17  entry_date                      1566404 non-null  object \n",
      " 18  entry_channel                   1566404 non-null  int64  \n",
      " 19  active_customer                 1566404 non-null  float64\n",
      " 20  segment                         1566404 non-null  object \n",
      " 21  country_id                      1566404 non-null  object \n",
      " 22  region_code                     1566404 non-null  float64\n",
      " 23  gender                          1566404 non-null  int64  \n",
      " 24  age                             1566404 non-null  int64  \n",
      " 25  deceased                        1566404 non-null  object \n",
      " 26  salary                          1566404 non-null  float64\n",
      " 27  altas_cuenta                    1566404 non-null  int8   \n",
      " 28  altas_inversión                 1566404 non-null  int8   \n",
      " 29  altas_prestamo                  1566404 non-null  int8   \n",
      " 30  total                           1566404 non-null  int8   \n",
      " 31  total_bajas_1m_shift            1566404 non-null  int8   \n",
      " 32  total_bajas_3m_shift            1566404 non-null  int8   \n",
      " 33  total_bajas_cuenta_1m_shift     1566404 non-null  int8   \n",
      " 34  total_bajas_cuenta_3m_shift     1566404 non-null  int8   \n",
      " 35  total_bajas_inversión_1m_shift  1566404 non-null  int8   \n",
      " 36  total_bajas_inversión_3m_shift  1566404 non-null  int8   \n",
      " 37  total_bajas_prestamo_1m_shift   1566404 non-null  int8   \n",
      " 38  total_bajas_prestamo_3m_shift   1566404 non-null  int8   \n",
      " 39  total_altas_1m_shift            1566404 non-null  int8   \n",
      " 40  total_altas_2m_shift            1566404 non-null  int8   \n",
      " 41  total_altas_3m_shift            1566404 non-null  int8   \n",
      " 42  total_altas_6m_shift            1566404 non-null  int8   \n",
      " 43  total_altas_cuenta_1m_shift     1566404 non-null  int8   \n",
      " 44  total_altas_cuenta_2m_shift     1566404 non-null  int8   \n",
      " 45  total_altas_cuenta_3m_shift     1566404 non-null  int8   \n",
      " 46  total_altas_cuenta_6m_shift     1566404 non-null  int8   \n",
      " 47  total_altas_inversión_1m_shift  1566404 non-null  int8   \n",
      " 48  total_altas_inversión_2m_shift  1566404 non-null  int8   \n",
      " 49  total_altas_inversión_3m_shift  1566404 non-null  int8   \n",
      " 50  total_altas_inversión_6m_shift  1566404 non-null  int8   \n",
      " 51  total_altas_prestamo_1m_shift   1566404 non-null  int8   \n",
      " 52  total_altas_prestamo_2m_shift   1566404 non-null  int8   \n",
      " 53  total_altas_prestamo_3m_shift   1566404 non-null  int8   \n",
      " 54  total_altas_prestamo_6m_shift   1566404 non-null  int8   \n",
      " 55  cuentas_fans                    1566404 non-null  int64  \n",
      " 56  inversión_fans                  1566404 non-null  int64  \n",
      " 57  prestamo_fans                   1566404 non-null  int64  \n",
      " 58  fans                            1566404 non-null  int64  \n",
      " 59  tiempo_ult_compra               1566404 non-null  float64\n",
      " 60  compra_antes                    1566404 non-null  int64  \n",
      " 61  age_tram                        1566404 non-null  int64  \n",
      " 62  salary_tram                     1566404 non-null  int64  \n",
      " 63  month                           1566404 non-null  int64  \n",
      " 64  year                            1566404 non-null  int64  \n",
      " 65  compras_cuenta                  1566404 non-null  int64  \n",
      " 66  compras_inversión               1566404 non-null  int64  \n",
      " 67  compras_prestamo                1566404 non-null  int64  \n",
      " 68  compras                         1566404 non-null  int64  \n",
      " 69  value                           311491 non-null   object \n",
      " 70  tipo_producto                   311491 non-null   object \n",
      " 71  precio                          311491 non-null   float64\n",
      "dtypes: bool(15), float64(5), int64(17), int8(28), object(7)\n",
      "memory usage: 422.8+ MB\n"
     ]
    }
   ],
   "metadata": {}
  },
  {
   "cell_type": "code",
   "execution_count": 50,
   "source": [
    "df['precio'].value_counts(dropna=False)"
   ],
   "outputs": [
    {
     "output_type": "execute_result",
     "data": {
      "text/plain": [
       "NaN     1254913\n",
       "10.0     151399\n",
       "60.0      99999\n",
       "40.0      60093\n",
       "Name: precio, dtype: int64"
      ]
     },
     "metadata": {},
     "execution_count": 50
    }
   ],
   "metadata": {}
  },
  {
   "cell_type": "code",
   "execution_count": 51,
   "source": [
    "df['precio'] = np.where(df['precio'].isna(),0,df['precio'])\n",
    "#df['value'] = np.where(df['value'].isna(),0,df['value'])"
   ],
   "outputs": [],
   "metadata": {}
  },
  {
   "cell_type": "code",
   "execution_count": 52,
   "source": [
    "df['value'].value_counts(dropna=False)\n"
   ],
   "outputs": [
    {
     "output_type": "execute_result",
     "data": {
      "text/plain": [
       "NaN                   1254913\n",
       "debit_card              85584\n",
       "em_acount               71216\n",
       "payroll_account         51557\n",
       "pension_plan            46029\n",
       "emc_account             28618\n",
       "credit_card             14302\n",
       "long_term_deposit        7058\n",
       "securities               2600\n",
       "short_term_deposit       2493\n",
       "funds                    1913\n",
       "loans                      83\n",
       "mortgage                   30\n",
       "em_account_p                8\n",
       "Name: value, dtype: int64"
      ]
     },
     "metadata": {},
     "execution_count": 52
    }
   ],
   "metadata": {}
  },
  {
   "cell_type": "code",
   "execution_count": 53,
   "source": [
    "df['id'] = range(df.shape[0])"
   ],
   "outputs": [],
   "metadata": {}
  },
  {
   "cell_type": "code",
   "execution_count": 54,
   "source": [
    "cost_10 = set(list(df['id'].sample(int(df.shape[0]*0.35))))\n",
    "cost_60 = set(list(df['id'].sample(int(df.shape[0]*0.35))))\n",
    "\n",
    "print(len(cost_10))\n",
    "print(len(cost_60))"
   ],
   "outputs": [
    {
     "output_type": "stream",
     "name": "stdout",
     "text": [
      "548241\n",
      "548241\n"
     ]
    }
   ],
   "metadata": {}
  },
  {
   "cell_type": "code",
   "execution_count": 55,
   "source": [
    "df['precio'].fillna(0,inplace=True)\n",
    "df['precio'] = np.where( (df['precio'] == 0) & (df['id'].isin(cost_10)), 10, df['precio'])\n",
    "df['precio'] = np.where( (df['precio'] == 0) & (df['id'].isin(cost_60)), 60, df['precio'])\n",
    "df['precio'] = np.where( df['precio'] == 0, 40, df['precio'])"
   ],
   "outputs": [],
   "metadata": {}
  },
  {
   "cell_type": "code",
   "execution_count": 56,
   "source": [
    "print(df['precio'].value_counts(dropna=False))\n",
    "df.drop('id',axis=1,inplace=True)"
   ],
   "outputs": [
    {
     "output_type": "stream",
     "name": "stdout",
     "text": [
      "40.0    590789\n",
      "10.0    590659\n",
      "60.0    384956\n",
      "Name: precio, dtype: int64\n"
     ]
    }
   ],
   "metadata": {}
  },
  {
   "cell_type": "markdown",
   "source": [
    "# Limpiamos la Data\n",
    "En esta variable limpiamos los nulos y las columnas que no son relevantes para nuestro modelo."
   ],
   "metadata": {}
  },
  {
   "cell_type": "code",
   "execution_count": 57,
   "source": [
    "df['compras'] = np.where(df['compras']>=1,1,0)"
   ],
   "outputs": [],
   "metadata": {}
  },
  {
   "cell_type": "code",
   "execution_count": 58,
   "source": [
    "df[['compras','precio']].value_counts()"
   ],
   "outputs": [
    {
     "output_type": "execute_result",
     "data": {
      "text/plain": [
       "compras  precio\n",
       "0        40.0      529215\n",
       "         10.0      438055\n",
       "         60.0      284180\n",
       "1        10.0      152604\n",
       "         60.0      100776\n",
       "         40.0       61574\n",
       "dtype: int64"
      ]
     },
     "metadata": {},
     "execution_count": 58
    }
   ],
   "metadata": {}
  },
  {
   "cell_type": "code",
   "execution_count": 59,
   "source": [
    "df.shape"
   ],
   "outputs": [
    {
     "output_type": "execute_result",
     "data": {
      "text/plain": [
       "(1566404, 72)"
      ]
     },
     "metadata": {},
     "execution_count": 59
    }
   ],
   "metadata": {}
  },
  {
   "cell_type": "code",
   "execution_count": 60,
   "source": [
    "for x in products_list:\n",
    "    df.drop(x, axis=1, inplace=True)"
   ],
   "outputs": [],
   "metadata": {}
  },
  {
   "cell_type": "code",
   "execution_count": 61,
   "source": [
    "df.info()"
   ],
   "outputs": [
    {
     "output_type": "stream",
     "name": "stdout",
     "text": [
      "<class 'pandas.core.frame.DataFrame'>\n",
      "Int64Index: 1566404 entries, 0 to 1566403\n",
      "Data columns (total 58 columns):\n",
      " #   Column                          Non-Null Count    Dtype  \n",
      "---  ------                          --------------    -----  \n",
      " 0   pk_cid                          1566404 non-null  int64  \n",
      " 1   pk_partition                    1566404 non-null  object \n",
      " 2   payroll                         1566404 non-null  bool   \n",
      " 3   entry_date                      1566404 non-null  object \n",
      " 4   entry_channel                   1566404 non-null  int64  \n",
      " 5   active_customer                 1566404 non-null  float64\n",
      " 6   segment                         1566404 non-null  object \n",
      " 7   country_id                      1566404 non-null  object \n",
      " 8   region_code                     1566404 non-null  float64\n",
      " 9   gender                          1566404 non-null  int64  \n",
      " 10  age                             1566404 non-null  int64  \n",
      " 11  deceased                        1566404 non-null  object \n",
      " 12  salary                          1566404 non-null  float64\n",
      " 13  altas_cuenta                    1566404 non-null  int8   \n",
      " 14  altas_inversión                 1566404 non-null  int8   \n",
      " 15  altas_prestamo                  1566404 non-null  int8   \n",
      " 16  total                           1566404 non-null  int8   \n",
      " 17  total_bajas_1m_shift            1566404 non-null  int8   \n",
      " 18  total_bajas_3m_shift            1566404 non-null  int8   \n",
      " 19  total_bajas_cuenta_1m_shift     1566404 non-null  int8   \n",
      " 20  total_bajas_cuenta_3m_shift     1566404 non-null  int8   \n",
      " 21  total_bajas_inversión_1m_shift  1566404 non-null  int8   \n",
      " 22  total_bajas_inversión_3m_shift  1566404 non-null  int8   \n",
      " 23  total_bajas_prestamo_1m_shift   1566404 non-null  int8   \n",
      " 24  total_bajas_prestamo_3m_shift   1566404 non-null  int8   \n",
      " 25  total_altas_1m_shift            1566404 non-null  int8   \n",
      " 26  total_altas_2m_shift            1566404 non-null  int8   \n",
      " 27  total_altas_3m_shift            1566404 non-null  int8   \n",
      " 28  total_altas_6m_shift            1566404 non-null  int8   \n",
      " 29  total_altas_cuenta_1m_shift     1566404 non-null  int8   \n",
      " 30  total_altas_cuenta_2m_shift     1566404 non-null  int8   \n",
      " 31  total_altas_cuenta_3m_shift     1566404 non-null  int8   \n",
      " 32  total_altas_cuenta_6m_shift     1566404 non-null  int8   \n",
      " 33  total_altas_inversión_1m_shift  1566404 non-null  int8   \n",
      " 34  total_altas_inversión_2m_shift  1566404 non-null  int8   \n",
      " 35  total_altas_inversión_3m_shift  1566404 non-null  int8   \n",
      " 36  total_altas_inversión_6m_shift  1566404 non-null  int8   \n",
      " 37  total_altas_prestamo_1m_shift   1566404 non-null  int8   \n",
      " 38  total_altas_prestamo_2m_shift   1566404 non-null  int8   \n",
      " 39  total_altas_prestamo_3m_shift   1566404 non-null  int8   \n",
      " 40  total_altas_prestamo_6m_shift   1566404 non-null  int8   \n",
      " 41  cuentas_fans                    1566404 non-null  int64  \n",
      " 42  inversión_fans                  1566404 non-null  int64  \n",
      " 43  prestamo_fans                   1566404 non-null  int64  \n",
      " 44  fans                            1566404 non-null  int64  \n",
      " 45  tiempo_ult_compra               1566404 non-null  float64\n",
      " 46  compra_antes                    1566404 non-null  int64  \n",
      " 47  age_tram                        1566404 non-null  int64  \n",
      " 48  salary_tram                     1566404 non-null  int64  \n",
      " 49  month                           1566404 non-null  int64  \n",
      " 50  year                            1566404 non-null  int64  \n",
      " 51  compras_cuenta                  1566404 non-null  int64  \n",
      " 52  compras_inversión               1566404 non-null  int64  \n",
      " 53  compras_prestamo                1566404 non-null  int64  \n",
      " 54  compras                         1566404 non-null  int64  \n",
      " 55  value                           311491 non-null   object \n",
      " 56  tipo_producto                   311491 non-null   object \n",
      " 57  precio                          1566404 non-null  float64\n",
      "dtypes: bool(1), float64(5), int64(17), int8(28), object(7)\n",
      "memory usage: 401.8+ MB\n"
     ]
    }
   ],
   "metadata": {}
  },
  {
   "cell_type": "code",
   "execution_count": 62,
   "source": [
    "remove_cols = ['value','tipo_producto','segment','payroll','country_id','region_code','pk_partition','entry_date','deceased','compra_antes',\n",
    "               'total','total_altas','total_altas_cuenta','total_altas_prestamo','total_altas_ahorros','altas_ahorros','altas_cuenta','altas_prestamo']\n",
    "\n",
    "for col in remove_cols:\n",
    "    try:\n",
    "        df.drop(col, axis=1, inplace=True)\n",
    "    except:\n",
    "        pass"
   ],
   "outputs": [],
   "metadata": {}
  },
  {
   "cell_type": "code",
   "execution_count": 63,
   "source": [
    "df.columns.to_list()"
   ],
   "outputs": [
    {
     "output_type": "execute_result",
     "data": {
      "text/plain": [
       "['pk_cid',\n",
       " 'entry_channel',\n",
       " 'active_customer',\n",
       " 'gender',\n",
       " 'age',\n",
       " 'salary',\n",
       " 'altas_inversión',\n",
       " 'total_bajas_1m_shift',\n",
       " 'total_bajas_3m_shift',\n",
       " 'total_bajas_cuenta_1m_shift',\n",
       " 'total_bajas_cuenta_3m_shift',\n",
       " 'total_bajas_inversión_1m_shift',\n",
       " 'total_bajas_inversión_3m_shift',\n",
       " 'total_bajas_prestamo_1m_shift',\n",
       " 'total_bajas_prestamo_3m_shift',\n",
       " 'total_altas_1m_shift',\n",
       " 'total_altas_2m_shift',\n",
       " 'total_altas_3m_shift',\n",
       " 'total_altas_6m_shift',\n",
       " 'total_altas_cuenta_1m_shift',\n",
       " 'total_altas_cuenta_2m_shift',\n",
       " 'total_altas_cuenta_3m_shift',\n",
       " 'total_altas_cuenta_6m_shift',\n",
       " 'total_altas_inversión_1m_shift',\n",
       " 'total_altas_inversión_2m_shift',\n",
       " 'total_altas_inversión_3m_shift',\n",
       " 'total_altas_inversión_6m_shift',\n",
       " 'total_altas_prestamo_1m_shift',\n",
       " 'total_altas_prestamo_2m_shift',\n",
       " 'total_altas_prestamo_3m_shift',\n",
       " 'total_altas_prestamo_6m_shift',\n",
       " 'cuentas_fans',\n",
       " 'inversión_fans',\n",
       " 'prestamo_fans',\n",
       " 'fans',\n",
       " 'tiempo_ult_compra',\n",
       " 'age_tram',\n",
       " 'salary_tram',\n",
       " 'month',\n",
       " 'year',\n",
       " 'compras_cuenta',\n",
       " 'compras_inversión',\n",
       " 'compras_prestamo',\n",
       " 'compras',\n",
       " 'precio']"
      ]
     },
     "metadata": {},
     "execution_count": 63
    }
   ],
   "metadata": {}
  },
  {
   "cell_type": "code",
   "execution_count": 64,
   "source": [
    "df.isnull().sum()[ df.isnull().sum() != 0 ]"
   ],
   "outputs": [
    {
     "output_type": "execute_result",
     "data": {
      "text/plain": [
       "Series([], dtype: int64)"
      ]
     },
     "metadata": {},
     "execution_count": 64
    }
   ],
   "metadata": {}
  },
  {
   "cell_type": "code",
   "execution_count": 65,
   "source": [
    "df.fillna(0, inplace=True)"
   ],
   "outputs": [],
   "metadata": {}
  },
  {
   "cell_type": "code",
   "execution_count": 66,
   "source": [
    "targets = ['compras','compras_cuenta','compras_inversión','compras_prestamo']"
   ],
   "outputs": [],
   "metadata": {}
  },
  {
   "cell_type": "markdown",
   "source": [
    "# Preparamos los datos para la predicción\n",
    "Realizamos predicción de los clientes y guardamos nuevo dataset con la pedicción \"prediction_clints.csv\"\n"
   ],
   "metadata": {}
  },
  {
   "cell_type": "code",
   "execution_count": 67,
   "source": [
    "if PREPARE_PREDICTION:\n",
    "    df_prediction = df[(df['year']==2019)&(df['month']==5)]\n",
    "    df_prediction = df_prediction.groupby('pk_cid').last()\n",
    "    \n",
    "    df_prediction['tiempo_ult_compra'] += 1\n",
    "    df_prediction['tiempo_ult_compra'] = np.where(df_prediction['compras']>1, 1, df_prediction['tiempo_ult_compra'])\n",
    "\n",
    "    df_prediction['month'] += 1\n",
    "\n",
    "    pred_features = df_prediction.columns.to_list()\n",
    "\n",
    "    for item in targets+remove_cols:\n",
    "        try:\n",
    "            pred_features.remove(item)\n",
    "        except:\n",
    "            pass\n",
    "\n",
    "    df_prediction[pred_features].to_csv(data+'prediction_clients.csv')\n",
    "\n",
    "    assert 1 != 0 #must finish"
   ],
   "outputs": [],
   "metadata": {}
  },
  {
   "cell_type": "markdown",
   "source": [
    "# Contrucción de modelo \n",
    "Construiremos 4 modelos de predicción, \n",
    "- general\n",
    "- cuentas\n",
    "- inversión\n",
    "- prestamos\n",
    "\n",
    "Tenemos que balancear el dataset, ya que esto resulta más complicado para predecir datos\n",
    "- Undersampling. En este caso se aumenta el número de registros de la clase minoritaria.\n",
    "- Oversampling En este caso se reduce el número de registros de la clase mayoritaria, de manera que la distribución no sea tan desproporcionada."
   ],
   "metadata": {}
  },
  {
   "cell_type": "code",
   "execution_count": 68,
   "source": [
    "def balancear_dataset(df, target, dist, totales, tipo, times=1):\n",
    "    totales_ = totales.copy()\n",
    "    \n",
    "    compras = ['compra_inversión','compra_cuenta','compra_prestamo']\n",
    "    boolean = False\n",
    "    if target in compras:\n",
    "        compras.remove(target)\n",
    "        boolean = True\n",
    "    \n",
    "    subset_positives = df[ (df[target]==True) ]\n",
    "    df_ = subset_positives.copy(deep=True)\n",
    "    \n",
    "    if boolean:\n",
    "        df = df[(df[compras[0]]==False) & (df[compras[1]]==False)]\n",
    "    \n",
    "    if tipo == 'undersampling':\n",
    "        subset_negatives = df[ (df[target] == 0) ].sample( df_.shape[0]*dist )\n",
    "    elif tipo == 'oversampling':\n",
    "        for time in range(times-1):\n",
    "            df_ = df_.append( subset_positives, ignore_index=True )\n",
    "        if dist == 0:\n",
    "            subset_negatives = df[ (df[target] == 0) ]\n",
    "        else:\n",
    "            subset_negatives = df[ (df[target] == 0) ].sample( df_.shape[0]*dist )\n",
    "    df_final = subset_negatives.copy(deep=True)\n",
    "    df_final = df_final.append( df_, ignore_index=True )\n",
    "    \n",
    "    totales_.remove(target)\n",
    "    #print(totales_)\n",
    "        \n",
    "    df_final.drop(totales_, axis='columns', inplace=True)\n",
    "    \n",
    "    del totales_\n",
    "    \n",
    "    return df_final"
   ],
   "outputs": [],
   "metadata": {}
  },
  {
   "cell_type": "code",
   "execution_count": 69,
   "source": [
    "def dataset_split(df_final, target, balanceo, totales, dist, times=1):\n",
    "    features = df_final.columns.to_list()  \n",
    "    X = df_final[ features ]\n",
    "    y = df_final[ target ]\n",
    "\n",
    "    X_validation = X[(X['year']==2019) & (X['month']==5)]\n",
    "    y_validation = y.loc[X_validation.index]\n",
    "    \n",
    "    #X_train_test = X[(X['year']!=2019) & (X['month']!=5)]\n",
    "    #y_train_test = y.loc[X_train_test.index]\n",
    "    \n",
    "    # Balancear dataset \n",
    "    df_balanceo = balancear_dataset(df_final, target, dist, totales, \"oversampling\", times)\n",
    "    \n",
    "    features = df_balanceo.columns.to_list()\n",
    "    remove_cols = ['country_id','compra_antes',target]\n",
    "    for x in remove_cols:\n",
    "        try:\n",
    "            features.remove(x)\n",
    "        except:\n",
    "            pass\n",
    "    \n",
    "    X_train_test = df_balanceo[ features ]\n",
    "    y_train_test = df_balanceo[ target ]\n",
    "    X_validation = X_validation[ features ]\n",
    "    \n",
    "    # Train and Test\n",
    "    X_train, X_test, y_train, y_test =  train_test_split(X_train_test, y_train_test, test_size=0.2, random_state=42)\n",
    "    \n",
    "    return X_train, y_train, X_test, y_test, X_validation, y_validation \n",
    "    "
   ],
   "outputs": [],
   "metadata": {}
  },
  {
   "cell_type": "code",
   "execution_count": 70,
   "source": [
    "def metricas(y_test, y_pred, y_test_score, y_train, y_train_pred, y_train_score):\n",
    "    print(\"----------- TEST -----------\")\n",
    "    print(\"Accuracy:\",accuracy_score(y_test, y_pred))\n",
    "    print(\"Precision:\",precision_score(y_test, y_pred))\n",
    "    print(\"Recall:\",recall_score(y_test, y_pred))\n",
    "    print(\"F1-score:\",f1_score(y_test, y_pred))\n",
    "    print(\"ROC AUC score:\",roc_auc_score(y_test, y_test_score))\n",
    "    print(\"----------- TRAIN -----------\")\n",
    "    print(\"Accuracy:\",accuracy_score(y_train, y_train_pred))\n",
    "    print(\"Precision:\",precision_score(y_train, y_train_pred))\n",
    "    print(\"Recall:\",recall_score(y_train, y_train_pred))\n",
    "    print(\"F1-score:\",f1_score(y_train, y_train_pred))\n",
    "    print(\"ROC AUC score:\",roc_auc_score(y_train, y_train_score))"
   ],
   "outputs": [],
   "metadata": {}
  },
  {
   "cell_type": "code",
   "execution_count": 71,
   "source": [
    "def confusion_matrix_figure(y_test, y_pred):\n",
    "    fig, ax = plt.subplots(figsize=(8,8))\n",
    "\n",
    "    cf_matrix = confusion_matrix(y_test, y_pred)\n",
    "    cf_matrix_ = cf_matrix.copy()\n",
    "    cf_matrix_[1,1] = cf_matrix[0,0]\n",
    "    cf_matrix_[0,1] = cf_matrix[1,0]\n",
    "    cf_matrix_[0,0] = cf_matrix[1,1]\n",
    "    cf_matrix_[1,0] = cf_matrix[0,1]\n",
    "    cf_matrix_\n",
    "\n",
    "    group_names = ['True Pos','False Neg','False Pos','True Neg']\n",
    "    group_counts = [\"{0:0.0f}\".format(value) for value in\n",
    "                    cf_matrix_.flatten()]\n",
    "    group_percentages = [\"{0:.2%}\".format(value) for value in\n",
    "                         cf_matrix_.flatten()/np.sum(cf_matrix)]\n",
    "    labels = [f\"{v1}\\n{v2}\\n{v3}\" for v1, v2, v3 in\n",
    "              zip(group_names,group_counts,group_percentages)]\n",
    "\n",
    "    labels = np.asarray(labels).reshape(2,2)\n",
    "    ax = sns.heatmap(cf_matrix_, annot=labels, fmt='', cmap='Greens', annot_kws={\"size\": 20},\n",
    "                    yticklabels=['Positive','Negative'], xticklabels=['Positive','Negative'])\n",
    "    ax.set_xlabel('Predicted',fontsize=23)\n",
    "    ax.set_ylabel('Real',fontsize=23)\n",
    "    ax.tick_params(labelsize=20)\n",
    "    \n",
    "    return fig"
   ],
   "outputs": [],
   "metadata": {}
  },
  {
   "cell_type": "markdown",
   "source": [
    "## Modelo General \n",
    "Con este modelo vamos a predecir la compra de cualquier varible de producto, las ventajas de este se basan en un dataset con mas variables a tener encuenta para predecir, al tener mas información y estar balanceado tiene un mayor acierto.\n"
   ],
   "metadata": {}
  },
  {
   "cell_type": "code",
   "execution_count": 72,
   "source": [
    "df['compras'].value_counts()"
   ],
   "outputs": [
    {
     "output_type": "execute_result",
     "data": {
      "text/plain": [
       "0    1251450\n",
       "1     314954\n",
       "Name: compras, dtype: int64"
      ]
     },
     "metadata": {},
     "execution_count": 72
    }
   ],
   "metadata": {}
  },
  {
   "cell_type": "code",
   "execution_count": 73,
   "source": [
    "X_train, y_train, X_test, y_test, X_validation, y_validation = \\\n",
    "    dataset_split(df, 'compras', \"oversampling\", targets, dist=0, times=1)\n",
    "\n",
    "features = X_train.columns.to_list()\n",
    "features.remove('pk_cid')\n",
    "#features.remove('cluster')"
   ],
   "outputs": [],
   "metadata": {}
  },
  {
   "cell_type": "code",
   "execution_count": 74,
   "source": [
    "print('TRAIN: ',y_train.shape[0]) \n",
    "print(y_train.value_counts(normalize=True),'\\n')\n",
    "\n",
    "print('TEST: ', y_test.shape[0])\n",
    "print(y_test.value_counts(normalize=True),'\\n')\n",
    "\n",
    "print('VALIDATION: ',y_validation.shape[0])\n",
    "print(y_validation.value_counts(normalize=True))"
   ],
   "outputs": [
    {
     "output_type": "stream",
     "name": "stdout",
     "text": [
      "TRAIN:  1253123\n",
      "0    0.799243\n",
      "1    0.200757\n",
      "Name: compras, dtype: float64 \n",
      "\n",
      "TEST:  313281\n",
      "0    0.797686\n",
      "1    0.202314\n",
      "Name: compras, dtype: float64 \n",
      "\n",
      "VALIDATION:  175077\n",
      "0    0.838248\n",
      "1    0.161752\n",
      "Name: compras, dtype: float64\n"
     ]
    }
   ],
   "metadata": {}
  },
  {
   "cell_type": "markdown",
   "source": [
    "## Visualizamos el modelo con un arbol de clasificación"
   ],
   "metadata": {}
  },
  {
   "cell_type": "code",
   "execution_count": 106,
   "source": [
    "model = DecisionTreeClassifier( max_depth=50, min_samples_leaf=350, random_state=42 )\n",
    "\n",
    "model.fit(X_train[features],y_train)\n",
    "\n",
    "y_train_pred = model.predict(X_train[features])\n",
    "y_train_score = model.predict_proba(X_train[features])[:,1]\n",
    "\n",
    "#Predict the response for test dataset\n",
    "y_pred = model.predict(X_test[features])\n",
    "y_test_score = model.predict_proba(X_test[features])[:,1]"
   ],
   "outputs": [],
   "metadata": {}
  },
  {
   "cell_type": "code",
   "execution_count": 76,
   "source": [
    "metricas(y_test, y_pred, y_test_score, y_train, y_train_pred, y_train_score)"
   ],
   "outputs": [
    {
     "output_type": "stream",
     "name": "stdout",
     "text": [
      "----------- TEST -----------\n",
      "Accuracy: 0.8790702276869647\n",
      "Precision: 0.8443544030253917\n",
      "Recall: 0.49317618844764205\n",
      "F1-score: 0.6226631208852501\n",
      "ROC AUC score: 0.9069133027061032\n",
      "----------- TRAIN -----------\n",
      "Accuracy: 0.8805536248237403\n",
      "Precision: 0.8470010489177077\n",
      "Recall: 0.4943098027212777\n",
      "F1-score: 0.6242861912041187\n",
      "ROC AUC score: 0.9113725135551249\n"
     ]
    }
   ],
   "metadata": {}
  },
  {
   "cell_type": "code",
   "execution_count": 77,
   "source": [
    "y_pred_valida = model.predict(X_validation[features])\n",
    "y_valida_score = model.predict_proba(X_validation[features])[:,1]\n",
    "\n",
    "print(\"----------- VALIDATION -----------\")\n",
    "print(\"Accuracy:\",accuracy_score(y_validation, y_pred_valida))\n",
    "print(\"Precision:\",precision_score(y_validation, y_pred_valida))\n",
    "print(\"Recall:\",recall_score(y_validation, y_pred_valida))\n",
    "print(\"F1-score:\",f1_score(y_validation, y_pred_valida))\n",
    "print(\"ROC AUC score:\",roc_auc_score(y_validation, y_valida_score))\n",
    "\n",
    "fig = confusion_matrix_figure(y_validation, y_pred_valida)\n",
    "fig.show()"
   ],
   "outputs": [
    {
     "output_type": "stream",
     "name": "stdout",
     "text": [
      "----------- VALIDATION -----------\n",
      "Accuracy: 0.902791343237547\n",
      "Precision: 0.8649870801033591\n",
      "Recall: 0.4728274303471168\n",
      "F1-score: 0.6114294846914312\n",
      "ROC AUC score: 0.9202421645864689\n"
     ]
    },
    {
     "output_type": "display_data",
     "data": {
      "image/png": "[encoded data removed]",
      "image/svg+xml": "<?xml version=\"1.0\" encoding=\"utf-8\" standalone=\"no\"?>\n<!DOCTYPE svg PUBLIC \"-//W3C//DTD SVG 1.1//EN\"\n  \"http://www.w3.org/Graphics/SVG/1.1/DTD/svg11.dtd\">\n<svg height=\"501.895937pt\" version=\"1.1\" viewBox=\"0 0 513.374937 501.895937\" width=\"513.374937pt\" xmlns=\"http://www.w3.org/2000/svg\" xmlns:xlink=\"http://www.w3.org/1999/xlink\">\n <metadata>\n  <rdf:RDF xmlns:cc=\"http://creativecommons.org/ns#\" xmlns:dc=\"http://purl.org/dc/elements/1.1/\" xmlns:rdf=\"http://www.w3.org/1999/02/22-rdf-syntax-ns#\">\n   <cc:Work>\n    <dc:type rdf:resource=\"http://purl.org/dc/dcmitype/StillImage\"/>\n    <dc:date>2021-09-18T16:06:03.695786</dc:date>\n    <dc:format>image/svg+xml</dc:format>\n    <dc:creator>\n     <cc:Agent>\n      <dc:title>Matplotlib v3.4.3, https://matplotlib.org/</dc:title>\n     </cc:Agent>\n    </dc:creator>\n   </cc:Work>\n  </rdf:RDF>\n </metadata>\n <defs>\n  <style type=\"text/css\">*{stroke-linecap:butt;stroke-linejoin:round;}</style>\n </defs>\n <g id=\"figure_1\">\n  <g id=\"patch_1\">\n   <path d=\"M 0 501.895937 \nL 513.374937 501.895937 \nL 513.374937 0 \nL 0 0 \nz\n\" style=\"fill:none;\"/>\n  </g>\n  <g id=\"axes_1\">\n   <g id=\"patch_2\">\n    <path d=\"M 59.815938 442.08 \nL 416.935938 442.08 \nL 416.935938 7.2 \nL 59.815938 7.2 \nz\n\" style=\"fill:#ffffff;\"/>\n   </g>\n   <g id=\"QuadMesh_1\">\n    <path clip-path=\"url(#p98b6d2dd8e)\" d=\"M 59.815938 7.2 \nL 238.375938 7.2 \nL 238.375938 224.64 \nL 59.815938 224.64 \nL 59.815938 7.2 \n\" style=\"fill:#ecf8e8;\"/>\n    <path clip-path=\"url(#p98b6d2dd8e)\" d=\"M 238.375938 7.2 \nL 416.935938 7.2 \nL 416.935938 224.64 \nL 238.375938 224.64 \nL 238.375938 7.2 \n\" style=\"fill:#eaf7e6;\"/>\n    <path clip-path=\"url(#p98b6d2dd8e)\" d=\"M 59.815938 224.64 \nL 238.375938 224.64 \nL 238.375938 442.08 \nL 59.815938 442.08 \nL 59.815938 224.64 \n\" style=\"fill:#f7fcf5;\"/>\n    <path clip-path=\"url(#p98b6d2dd8e)\" d=\"M 238.375938 224.64 \nL 416.935938 224.64 \nL 416.935938 442.08 \nL 238.375938 442.08 \nL 238.375938 224.64 \n\" style=\"fill:#00441b;\"/>\n   </g>\n   <g id=\"matplotlib.axis_1\">\n    <g id=\"xtick_1\">\n     <g id=\"line2d_1\">\n      <defs>\n       <path d=\"M 0 0 \nL 0 3.5 \n\" id=\"m5cedbe1006\" style=\"stroke:#000000;stroke-width:0.8;\"/>\n      </defs>\n      <g>\n       <use style=\"stroke:#000000;stroke-width:0.8;\" x=\"149.095938\" xlink:href=\"#m5cedbe1006\" y=\"442.08\"/>\n      </g>\n     </g>\n     <g id=\"text_1\">\n      <!-- Positive -->\n      <g transform=\"translate(110.552188 464.276875)scale(0.2 -0.2)\">\n       <defs>\n        <path d=\"M 1259 4147 \nL 1259 2394 \nL 2053 2394 \nQ 2494 2394 2734 2622 \nQ 2975 2850 2975 3272 \nQ 2975 3691 2734 3919 \nQ 2494 4147 2053 4147 \nL 1259 4147 \nz\nM 628 4666 \nL 2053 4666 \nQ 2838 4666 3239 4311 \nQ 3641 3956 3641 3272 \nQ 3641 2581 3239 2228 \nQ 2838 1875 2053 1875 \nL 1259 1875 \nL 1259 0 \nL 628 0 \nL 628 4666 \nz\n\" id=\"DejaVuSans-50\" transform=\"scale(0.015625)\"/>\n        <path d=\"M 1959 3097 \nQ 1497 3097 1228 2736 \nQ 959 2375 959 1747 \nQ 959 1119 1226 758 \nQ 1494 397 1959 397 \nQ 2419 397 2687 759 \nQ 2956 1122 2956 1747 \nQ 2956 2369 2687 2733 \nQ 2419 3097 1959 3097 \nz\nM 1959 3584 \nQ 2709 3584 3137 3096 \nQ 3566 2609 3566 1747 \nQ 3566 888 3137 398 \nQ 2709 -91 1959 -91 \nQ 1206 -91 779 398 \nQ 353 888 353 1747 \nQ 353 2609 779 3096 \nQ 1206 3584 1959 3584 \nz\n\" id=\"DejaVuSans-6f\" transform=\"scale(0.015625)\"/>\n        <path d=\"M 2834 3397 \nL 2834 2853 \nQ 2591 2978 2328 3040 \nQ 2066 3103 1784 3103 \nQ 1356 3103 1142 2972 \nQ 928 2841 928 2578 \nQ 928 2378 1081 2264 \nQ 1234 2150 1697 2047 \nL 1894 2003 \nQ 2506 1872 2764 1633 \nQ 3022 1394 3022 966 \nQ 3022 478 2636 193 \nQ 2250 -91 1575 -91 \nQ 1294 -91 989 -36 \nQ 684 19 347 128 \nL 347 722 \nQ 666 556 975 473 \nQ 1284 391 1588 391 \nQ 1994 391 2212 530 \nQ 2431 669 2431 922 \nQ 2431 1156 2273 1281 \nQ 2116 1406 1581 1522 \nL 1381 1569 \nQ 847 1681 609 1914 \nQ 372 2147 372 2553 \nQ 372 3047 722 3315 \nQ 1072 3584 1716 3584 \nQ 2034 3584 2315 3537 \nQ 2597 3491 2834 3397 \nz\n\" id=\"DejaVuSans-73\" transform=\"scale(0.015625)\"/>\n        <path d=\"M 603 3500 \nL 1178 3500 \nL 1178 0 \nL 603 0 \nL 603 3500 \nz\nM 603 4863 \nL 1178 4863 \nL 1178 4134 \nL 603 4134 \nL 603 4863 \nz\n\" id=\"DejaVuSans-69\" transform=\"scale(0.015625)\"/>\n        <path d=\"M 1172 4494 \nL 1172 3500 \nL 2356 3500 \nL 2356 3053 \nL 1172 3053 \nL 1172 1153 \nQ 1172 725 1289 603 \nQ 1406 481 1766 481 \nL 2356 481 \nL 2356 0 \nL 1766 0 \nQ 1100 0 847 248 \nQ 594 497 594 1153 \nL 594 3053 \nL 172 3053 \nL 172 3500 \nL 594 3500 \nL 594 4494 \nL 1172 4494 \nz\n\" id=\"DejaVuSans-74\" transform=\"scale(0.015625)\"/>\n        <path d=\"M 191 3500 \nL 800 3500 \nL 1894 563 \nL 2988 3500 \nL 3597 3500 \nL 2284 0 \nL 1503 0 \nL 191 3500 \nz\n\" id=\"DejaVuSans-76\" transform=\"scale(0.015625)\"/>\n        <path d=\"M 3597 1894 \nL 3597 1613 \nL 953 1613 \nQ 991 1019 1311 708 \nQ 1631 397 2203 397 \nQ 2534 397 2845 478 \nQ 3156 559 3463 722 \nL 3463 178 \nQ 3153 47 2828 -22 \nQ 2503 -91 2169 -91 \nQ 1331 -91 842 396 \nQ 353 884 353 1716 \nQ 353 2575 817 3079 \nQ 1281 3584 2069 3584 \nQ 2775 3584 3186 3129 \nQ 3597 2675 3597 1894 \nz\nM 3022 2063 \nQ 3016 2534 2758 2815 \nQ 2500 3097 2075 3097 \nQ 1594 3097 1305 2825 \nQ 1016 2553 972 2059 \nL 3022 2063 \nz\n\" id=\"DejaVuSans-65\" transform=\"scale(0.015625)\"/>\n       </defs>\n       <use xlink:href=\"#DejaVuSans-50\"/>\n       <use x=\"56.677734\" xlink:href=\"#DejaVuSans-6f\"/>\n       <use x=\"117.859375\" xlink:href=\"#DejaVuSans-73\"/>\n       <use x=\"169.958984\" xlink:href=\"#DejaVuSans-69\"/>\n       <use x=\"197.742188\" xlink:href=\"#DejaVuSans-74\"/>\n       <use x=\"236.951172\" xlink:href=\"#DejaVuSans-69\"/>\n       <use x=\"264.734375\" xlink:href=\"#DejaVuSans-76\"/>\n       <use x=\"323.914062\" xlink:href=\"#DejaVuSans-65\"/>\n      </g>\n     </g>\n    </g>\n    <g id=\"xtick_2\">\n     <g id=\"line2d_2\">\n      <g>\n       <use style=\"stroke:#000000;stroke-width:0.8;\" x=\"327.655938\" xlink:href=\"#m5cedbe1006\" y=\"442.08\"/>\n      </g>\n     </g>\n     <g id=\"text_2\">\n      <!-- Negative -->\n      <g transform=\"translate(282.774688 464.276875)scale(0.2 -0.2)\">\n       <defs>\n        <path d=\"M 628 4666 \nL 1478 4666 \nL 3547 763 \nL 3547 4666 \nL 4159 4666 \nL 4159 0 \nL 3309 0 \nL 1241 3903 \nL 1241 0 \nL 628 0 \nL 628 4666 \nz\n\" id=\"DejaVuSans-4e\" transform=\"scale(0.015625)\"/>\n        <path d=\"M 2906 1791 \nQ 2906 2416 2648 2759 \nQ 2391 3103 1925 3103 \nQ 1463 3103 1205 2759 \nQ 947 2416 947 1791 \nQ 947 1169 1205 825 \nQ 1463 481 1925 481 \nQ 2391 481 2648 825 \nQ 2906 1169 2906 1791 \nz\nM 3481 434 \nQ 3481 -459 3084 -895 \nQ 2688 -1331 1869 -1331 \nQ 1566 -1331 1297 -1286 \nQ 1028 -1241 775 -1147 \nL 775 -588 \nQ 1028 -725 1275 -790 \nQ 1522 -856 1778 -856 \nQ 2344 -856 2625 -561 \nQ 2906 -266 2906 331 \nL 2906 616 \nQ 2728 306 2450 153 \nQ 2172 0 1784 0 \nQ 1141 0 747 490 \nQ 353 981 353 1791 \nQ 353 2603 747 3093 \nQ 1141 3584 1784 3584 \nQ 2172 3584 2450 3431 \nQ 2728 3278 2906 2969 \nL 2906 3500 \nL 3481 3500 \nL 3481 434 \nz\n\" id=\"DejaVuSans-67\" transform=\"scale(0.015625)\"/>\n        <path d=\"M 2194 1759 \nQ 1497 1759 1228 1600 \nQ 959 1441 959 1056 \nQ 959 750 1161 570 \nQ 1363 391 1709 391 \nQ 2188 391 2477 730 \nQ 2766 1069 2766 1631 \nL 2766 1759 \nL 2194 1759 \nz\nM 3341 1997 \nL 3341 0 \nL 2766 0 \nL 2766 531 \nQ 2569 213 2275 61 \nQ 1981 -91 1556 -91 \nQ 1019 -91 701 211 \nQ 384 513 384 1019 \nQ 384 1609 779 1909 \nQ 1175 2209 1959 2209 \nL 2766 2209 \nL 2766 2266 \nQ 2766 2663 2505 2880 \nQ 2244 3097 1772 3097 \nQ 1472 3097 1187 3025 \nQ 903 2953 641 2809 \nL 641 3341 \nQ 956 3463 1253 3523 \nQ 1550 3584 1831 3584 \nQ 2591 3584 2966 3190 \nQ 3341 2797 3341 1997 \nz\n\" id=\"DejaVuSans-61\" transform=\"scale(0.015625)\"/>\n       </defs>\n       <use xlink:href=\"#DejaVuSans-4e\"/>\n       <use x=\"74.804688\" xlink:href=\"#DejaVuSans-65\"/>\n       <use x=\"136.328125\" xlink:href=\"#DejaVuSans-67\"/>\n       <use x=\"199.804688\" xlink:href=\"#DejaVuSans-61\"/>\n       <use x=\"261.083984\" xlink:href=\"#DejaVuSans-74\"/>\n       <use x=\"300.292969\" xlink:href=\"#DejaVuSans-69\"/>\n       <use x=\"328.076172\" xlink:href=\"#DejaVuSans-76\"/>\n       <use x=\"387.255859\" xlink:href=\"#DejaVuSans-65\"/>\n      </g>\n     </g>\n    </g>\n    <g id=\"text_3\">\n     <!-- Predicted -->\n     <g transform=\"translate(184.394219 489.912656)scale(0.23 -0.23)\">\n      <defs>\n       <path d=\"M 2631 2963 \nQ 2534 3019 2420 3045 \nQ 2306 3072 2169 3072 \nQ 1681 3072 1420 2755 \nQ 1159 2438 1159 1844 \nL 1159 0 \nL 581 0 \nL 581 3500 \nL 1159 3500 \nL 1159 2956 \nQ 1341 3275 1631 3429 \nQ 1922 3584 2338 3584 \nQ 2397 3584 2469 3576 \nQ 2541 3569 2628 3553 \nL 2631 2963 \nz\n\" id=\"DejaVuSans-72\" transform=\"scale(0.015625)\"/>\n       <path d=\"M 2906 2969 \nL 2906 4863 \nL 3481 4863 \nL 3481 0 \nL 2906 0 \nL 2906 525 \nQ 2725 213 2448 61 \nQ 2172 -91 1784 -91 \nQ 1150 -91 751 415 \nQ 353 922 353 1747 \nQ 353 2572 751 3078 \nQ 1150 3584 1784 3584 \nQ 2172 3584 2448 3432 \nQ 2725 3281 2906 2969 \nz\nM 947 1747 \nQ 947 1113 1208 752 \nQ 1469 391 1925 391 \nQ 2381 391 2643 752 \nQ 2906 1113 2906 1747 \nQ 2906 2381 2643 2742 \nQ 2381 3103 1925 3103 \nQ 1469 3103 1208 2742 \nQ 947 2381 947 1747 \nz\n\" id=\"DejaVuSans-64\" transform=\"scale(0.015625)\"/>\n       <path d=\"M 3122 3366 \nL 3122 2828 \nQ 2878 2963 2633 3030 \nQ 2388 3097 2138 3097 \nQ 1578 3097 1268 2742 \nQ 959 2388 959 1747 \nQ 959 1106 1268 751 \nQ 1578 397 2138 397 \nQ 2388 397 2633 464 \nQ 2878 531 3122 666 \nL 3122 134 \nQ 2881 22 2623 -34 \nQ 2366 -91 2075 -91 \nQ 1284 -91 818 406 \nQ 353 903 353 1747 \nQ 353 2603 823 3093 \nQ 1294 3584 2113 3584 \nQ 2378 3584 2631 3529 \nQ 2884 3475 3122 3366 \nz\n\" id=\"DejaVuSans-63\" transform=\"scale(0.015625)\"/>\n      </defs>\n      <use xlink:href=\"#DejaVuSans-50\"/>\n      <use x=\"58.552734\" xlink:href=\"#DejaVuSans-72\"/>\n      <use x=\"97.416016\" xlink:href=\"#DejaVuSans-65\"/>\n      <use x=\"158.939453\" xlink:href=\"#DejaVuSans-64\"/>\n      <use x=\"222.416016\" xlink:href=\"#DejaVuSans-69\"/>\n      <use x=\"250.199219\" xlink:href=\"#DejaVuSans-63\"/>\n      <use x=\"305.179688\" xlink:href=\"#DejaVuSans-74\"/>\n      <use x=\"344.388672\" xlink:href=\"#DejaVuSans-65\"/>\n      <use x=\"405.912109\" xlink:href=\"#DejaVuSans-64\"/>\n     </g>\n    </g>\n   </g>\n   <g id=\"matplotlib.axis_2\">\n    <g id=\"ytick_1\">\n     <g id=\"line2d_3\">\n      <defs>\n       <path d=\"M 0 0 \nL -3.5 0 \n\" id=\"me4ee5eeff3\" style=\"stroke:#000000;stroke-width:0.8;\"/>\n      </defs>\n      <g>\n       <use style=\"stroke:#000000;stroke-width:0.8;\" x=\"59.815938\" xlink:href=\"#me4ee5eeff3\" y=\"115.92\"/>\n      </g>\n     </g>\n     <g id=\"text_4\">\n      <!-- Positive -->\n      <g transform=\"translate(48.656563 154.46375)rotate(-90)scale(0.2 -0.2)\">\n       <use xlink:href=\"#DejaVuSans-50\"/>\n       <use x=\"56.677734\" xlink:href=\"#DejaVuSans-6f\"/>\n       <use x=\"117.859375\" xlink:href=\"#DejaVuSans-73\"/>\n       <use x=\"169.958984\" xlink:href=\"#DejaVuSans-69\"/>\n       <use x=\"197.742188\" xlink:href=\"#DejaVuSans-74\"/>\n       <use x=\"236.951172\" xlink:href=\"#DejaVuSans-69\"/>\n       <use x=\"264.734375\" xlink:href=\"#DejaVuSans-76\"/>\n       <use x=\"323.914062\" xlink:href=\"#DejaVuSans-65\"/>\n      </g>\n     </g>\n    </g>\n    <g id=\"ytick_2\">\n     <g id=\"line2d_4\">\n      <g>\n       <use style=\"stroke:#000000;stroke-width:0.8;\" x=\"59.815938\" xlink:href=\"#me4ee5eeff3\" y=\"333.36\"/>\n      </g>\n     </g>\n     <g id=\"text_5\">\n      <!-- Negative -->\n      <g transform=\"translate(48.656563 378.24125)rotate(-90)scale(0.2 -0.2)\">\n       <use xlink:href=\"#DejaVuSans-4e\"/>\n       <use x=\"74.804688\" xlink:href=\"#DejaVuSans-65\"/>\n       <use x=\"136.328125\" xlink:href=\"#DejaVuSans-67\"/>\n       <use x=\"199.804688\" xlink:href=\"#DejaVuSans-61\"/>\n       <use x=\"261.083984\" xlink:href=\"#DejaVuSans-74\"/>\n       <use x=\"300.292969\" xlink:href=\"#DejaVuSans-69\"/>\n       <use x=\"328.076172\" xlink:href=\"#DejaVuSans-76\"/>\n       <use x=\"387.255859\" xlink:href=\"#DejaVuSans-65\"/>\n      </g>\n     </g>\n    </g>\n    <g id=\"text_6\">\n     <!-- Real -->\n     <g transform=\"translate(24.676406 249.431484)rotate(-90)scale(0.23 -0.23)\">\n      <defs>\n       <path d=\"M 2841 2188 \nQ 3044 2119 3236 1894 \nQ 3428 1669 3622 1275 \nL 4263 0 \nL 3584 0 \nL 2988 1197 \nQ 2756 1666 2539 1819 \nQ 2322 1972 1947 1972 \nL 1259 1972 \nL 1259 0 \nL 628 0 \nL 628 4666 \nL 2053 4666 \nQ 2853 4666 3247 4331 \nQ 3641 3997 3641 3322 \nQ 3641 2881 3436 2590 \nQ 3231 2300 2841 2188 \nz\nM 1259 4147 \nL 1259 2491 \nL 2053 2491 \nQ 2509 2491 2742 2702 \nQ 2975 2913 2975 3322 \nQ 2975 3731 2742 3939 \nQ 2509 4147 2053 4147 \nL 1259 4147 \nz\n\" id=\"DejaVuSans-52\" transform=\"scale(0.015625)\"/>\n       <path d=\"M 603 4863 \nL 1178 4863 \nL 1178 0 \nL 603 0 \nL 603 4863 \nz\n\" id=\"DejaVuSans-6c\" transform=\"scale(0.015625)\"/>\n      </defs>\n      <use xlink:href=\"#DejaVuSans-52\"/>\n      <use x=\"64.982422\" xlink:href=\"#DejaVuSans-65\"/>\n      <use x=\"126.505859\" xlink:href=\"#DejaVuSans-61\"/>\n      <use x=\"187.785156\" xlink:href=\"#DejaVuSans-6c\"/>\n     </g>\n    </g>\n   </g>\n   <g id=\"text_7\">\n    <!-- True Pos -->\n    <g style=\"fill:#262626;\" transform=\"translate(107.688125 99.043125)scale(0.2 -0.2)\">\n     <defs>\n      <path d=\"M -19 4666 \nL 3928 4666 \nL 3928 4134 \nL 2272 4134 \nL 2272 0 \nL 1638 0 \nL 1638 4134 \nL -19 4134 \nL -19 4666 \nz\n\" id=\"DejaVuSans-54\" transform=\"scale(0.015625)\"/>\n      <path d=\"M 544 1381 \nL 544 3500 \nL 1119 3500 \nL 1119 1403 \nQ 1119 906 1312 657 \nQ 1506 409 1894 409 \nQ 2359 409 2629 706 \nQ 2900 1003 2900 1516 \nL 2900 3500 \nL 3475 3500 \nL 3475 0 \nL 2900 0 \nL 2900 538 \nQ 2691 219 2414 64 \nQ 2138 -91 1772 -91 \nQ 1169 -91 856 284 \nQ 544 659 544 1381 \nz\nM 1991 3584 \nL 1991 3584 \nz\n\" id=\"DejaVuSans-75\" transform=\"scale(0.015625)\"/>\n      <path id=\"DejaVuSans-20\" transform=\"scale(0.015625)\"/>\n     </defs>\n     <use xlink:href=\"#DejaVuSans-54\"/>\n     <use x=\"46.333984\" xlink:href=\"#DejaVuSans-72\"/>\n     <use x=\"87.447266\" xlink:href=\"#DejaVuSans-75\"/>\n     <use x=\"150.826172\" xlink:href=\"#DejaVuSans-65\"/>\n     <use x=\"212.349609\" xlink:href=\"#DejaVuSans-20\"/>\n     <use x=\"244.136719\" xlink:href=\"#DejaVuSans-50\"/>\n     <use x=\"300.814453\" xlink:href=\"#DejaVuSans-6f\"/>\n     <use x=\"361.996094\" xlink:href=\"#DejaVuSans-73\"/>\n    </g>\n    <!-- 13390 -->\n    <g style=\"fill:#262626;\" transform=\"translate(117.283438 121.43875)scale(0.2 -0.2)\">\n     <defs>\n      <path d=\"M 794 531 \nL 1825 531 \nL 1825 4091 \nL 703 3866 \nL 703 4441 \nL 1819 4666 \nL 2450 4666 \nL 2450 531 \nL 3481 531 \nL 3481 0 \nL 794 0 \nL 794 531 \nz\n\" id=\"DejaVuSans-31\" transform=\"scale(0.015625)\"/>\n      <path d=\"M 2597 2516 \nQ 3050 2419 3304 2112 \nQ 3559 1806 3559 1356 \nQ 3559 666 3084 287 \nQ 2609 -91 1734 -91 \nQ 1441 -91 1130 -33 \nQ 819 25 488 141 \nL 488 750 \nQ 750 597 1062 519 \nQ 1375 441 1716 441 \nQ 2309 441 2620 675 \nQ 2931 909 2931 1356 \nQ 2931 1769 2642 2001 \nQ 2353 2234 1838 2234 \nL 1294 2234 \nL 1294 2753 \nL 1863 2753 \nQ 2328 2753 2575 2939 \nQ 2822 3125 2822 3475 \nQ 2822 3834 2567 4026 \nQ 2313 4219 1838 4219 \nQ 1578 4219 1281 4162 \nQ 984 4106 628 3988 \nL 628 4550 \nQ 988 4650 1302 4700 \nQ 1616 4750 1894 4750 \nQ 2613 4750 3031 4423 \nQ 3450 4097 3450 3541 \nQ 3450 3153 3228 2886 \nQ 3006 2619 2597 2516 \nz\n\" id=\"DejaVuSans-33\" transform=\"scale(0.015625)\"/>\n      <path d=\"M 703 97 \nL 703 672 \nQ 941 559 1184 500 \nQ 1428 441 1663 441 \nQ 2288 441 2617 861 \nQ 2947 1281 2994 2138 \nQ 2813 1869 2534 1725 \nQ 2256 1581 1919 1581 \nQ 1219 1581 811 2004 \nQ 403 2428 403 3163 \nQ 403 3881 828 4315 \nQ 1253 4750 1959 4750 \nQ 2769 4750 3195 4129 \nQ 3622 3509 3622 2328 \nQ 3622 1225 3098 567 \nQ 2575 -91 1691 -91 \nQ 1453 -91 1209 -44 \nQ 966 3 703 97 \nz\nM 1959 2075 \nQ 2384 2075 2632 2365 \nQ 2881 2656 2881 3163 \nQ 2881 3666 2632 3958 \nQ 2384 4250 1959 4250 \nQ 1534 4250 1286 3958 \nQ 1038 3666 1038 3163 \nQ 1038 2656 1286 2365 \nQ 1534 2075 1959 2075 \nz\n\" id=\"DejaVuSans-39\" transform=\"scale(0.015625)\"/>\n      <path d=\"M 2034 4250 \nQ 1547 4250 1301 3770 \nQ 1056 3291 1056 2328 \nQ 1056 1369 1301 889 \nQ 1547 409 2034 409 \nQ 2525 409 2770 889 \nQ 3016 1369 3016 2328 \nQ 3016 3291 2770 3770 \nQ 2525 4250 2034 4250 \nz\nM 2034 4750 \nQ 2819 4750 3233 4129 \nQ 3647 3509 3647 2328 \nQ 3647 1150 3233 529 \nQ 2819 -91 2034 -91 \nQ 1250 -91 836 529 \nQ 422 1150 422 2328 \nQ 422 3509 836 4129 \nQ 1250 4750 2034 4750 \nz\n\" id=\"DejaVuSans-30\" transform=\"scale(0.015625)\"/>\n     </defs>\n     <use xlink:href=\"#DejaVuSans-31\"/>\n     <use x=\"63.623047\" xlink:href=\"#DejaVuSans-33\"/>\n     <use x=\"127.246094\" xlink:href=\"#DejaVuSans-33\"/>\n     <use x=\"190.869141\" xlink:href=\"#DejaVuSans-39\"/>\n     <use x=\"254.492188\" xlink:href=\"#DejaVuSans-30\"/>\n    </g>\n    <!-- 7.65% -->\n    <g style=\"fill:#262626;\" transform=\"translate(117.32875 143.834375)scale(0.2 -0.2)\">\n     <defs>\n      <path d=\"M 525 4666 \nL 3525 4666 \nL 3525 4397 \nL 1831 0 \nL 1172 0 \nL 2766 4134 \nL 525 4134 \nL 525 4666 \nz\n\" id=\"DejaVuSans-37\" transform=\"scale(0.015625)\"/>\n      <path d=\"M 684 794 \nL 1344 794 \nL 1344 0 \nL 684 0 \nL 684 794 \nz\n\" id=\"DejaVuSans-2e\" transform=\"scale(0.015625)\"/>\n      <path d=\"M 2113 2584 \nQ 1688 2584 1439 2293 \nQ 1191 2003 1191 1497 \nQ 1191 994 1439 701 \nQ 1688 409 2113 409 \nQ 2538 409 2786 701 \nQ 3034 994 3034 1497 \nQ 3034 2003 2786 2293 \nQ 2538 2584 2113 2584 \nz\nM 3366 4563 \nL 3366 3988 \nQ 3128 4100 2886 4159 \nQ 2644 4219 2406 4219 \nQ 1781 4219 1451 3797 \nQ 1122 3375 1075 2522 \nQ 1259 2794 1537 2939 \nQ 1816 3084 2150 3084 \nQ 2853 3084 3261 2657 \nQ 3669 2231 3669 1497 \nQ 3669 778 3244 343 \nQ 2819 -91 2113 -91 \nQ 1303 -91 875 529 \nQ 447 1150 447 2328 \nQ 447 3434 972 4092 \nQ 1497 4750 2381 4750 \nQ 2619 4750 2861 4703 \nQ 3103 4656 3366 4563 \nz\n\" id=\"DejaVuSans-36\" transform=\"scale(0.015625)\"/>\n      <path d=\"M 691 4666 \nL 3169 4666 \nL 3169 4134 \nL 1269 4134 \nL 1269 2991 \nQ 1406 3038 1543 3061 \nQ 1681 3084 1819 3084 \nQ 2600 3084 3056 2656 \nQ 3513 2228 3513 1497 \nQ 3513 744 3044 326 \nQ 2575 -91 1722 -91 \nQ 1428 -91 1123 -41 \nQ 819 9 494 109 \nL 494 744 \nQ 775 591 1075 516 \nQ 1375 441 1709 441 \nQ 2250 441 2565 725 \nQ 2881 1009 2881 1497 \nQ 2881 1984 2565 2268 \nQ 2250 2553 1709 2553 \nQ 1456 2553 1204 2497 \nQ 953 2441 691 2322 \nL 691 4666 \nz\n\" id=\"DejaVuSans-35\" transform=\"scale(0.015625)\"/>\n      <path d=\"M 4653 2053 \nQ 4381 2053 4226 1822 \nQ 4072 1591 4072 1178 \nQ 4072 772 4226 539 \nQ 4381 306 4653 306 \nQ 4919 306 5073 539 \nQ 5228 772 5228 1178 \nQ 5228 1588 5073 1820 \nQ 4919 2053 4653 2053 \nz\nM 4653 2450 \nQ 5147 2450 5437 2106 \nQ 5728 1763 5728 1178 \nQ 5728 594 5436 251 \nQ 5144 -91 4653 -91 \nQ 4153 -91 3862 251 \nQ 3572 594 3572 1178 \nQ 3572 1766 3864 2108 \nQ 4156 2450 4653 2450 \nz\nM 1428 4353 \nQ 1159 4353 1004 4120 \nQ 850 3888 850 3481 \nQ 850 3069 1003 2837 \nQ 1156 2606 1428 2606 \nQ 1700 2606 1854 2837 \nQ 2009 3069 2009 3481 \nQ 2009 3884 1853 4118 \nQ 1697 4353 1428 4353 \nz\nM 4250 4750 \nL 4750 4750 \nL 1831 -91 \nL 1331 -91 \nL 4250 4750 \nz\nM 1428 4750 \nQ 1922 4750 2215 4408 \nQ 2509 4066 2509 3481 \nQ 2509 2891 2217 2550 \nQ 1925 2209 1428 2209 \nQ 931 2209 642 2551 \nQ 353 2894 353 3481 \nQ 353 4063 643 4406 \nQ 934 4750 1428 4750 \nz\n\" id=\"DejaVuSans-25\" transform=\"scale(0.015625)\"/>\n     </defs>\n     <use xlink:href=\"#DejaVuSans-37\"/>\n     <use x=\"63.623047\" xlink:href=\"#DejaVuSans-2e\"/>\n     <use x=\"95.410156\" xlink:href=\"#DejaVuSans-36\"/>\n     <use x=\"159.033203\" xlink:href=\"#DejaVuSans-35\"/>\n     <use x=\"222.65625\" xlink:href=\"#DejaVuSans-25\"/>\n    </g>\n   </g>\n   <g id=\"text_8\">\n    <!-- False Neg -->\n    <g style=\"fill:#262626;\" transform=\"translate(279.387188 99.043125)scale(0.2 -0.2)\">\n     <defs>\n      <path d=\"M 628 4666 \nL 3309 4666 \nL 3309 4134 \nL 1259 4134 \nL 1259 2759 \nL 3109 2759 \nL 3109 2228 \nL 1259 2228 \nL 1259 0 \nL 628 0 \nL 628 4666 \nz\n\" id=\"DejaVuSans-46\" transform=\"scale(0.015625)\"/>\n     </defs>\n     <use xlink:href=\"#DejaVuSans-46\"/>\n     <use x=\"48.394531\" xlink:href=\"#DejaVuSans-61\"/>\n     <use x=\"109.673828\" xlink:href=\"#DejaVuSans-6c\"/>\n     <use x=\"137.457031\" xlink:href=\"#DejaVuSans-73\"/>\n     <use x=\"189.556641\" xlink:href=\"#DejaVuSans-65\"/>\n     <use x=\"251.080078\" xlink:href=\"#DejaVuSans-20\"/>\n     <use x=\"282.867188\" xlink:href=\"#DejaVuSans-4e\"/>\n     <use x=\"357.671875\" xlink:href=\"#DejaVuSans-65\"/>\n     <use x=\"419.195312\" xlink:href=\"#DejaVuSans-67\"/>\n    </g>\n    <!-- 14929 -->\n    <g style=\"fill:#262626;\" transform=\"translate(295.843438 121.43875)scale(0.2 -0.2)\">\n     <defs>\n      <path d=\"M 2419 4116 \nL 825 1625 \nL 2419 1625 \nL 2419 4116 \nz\nM 2253 4666 \nL 3047 4666 \nL 3047 1625 \nL 3713 1625 \nL 3713 1100 \nL 3047 1100 \nL 3047 0 \nL 2419 0 \nL 2419 1100 \nL 313 1100 \nL 313 1709 \nL 2253 4666 \nz\n\" id=\"DejaVuSans-34\" transform=\"scale(0.015625)\"/>\n      <path d=\"M 1228 531 \nL 3431 531 \nL 3431 0 \nL 469 0 \nL 469 531 \nQ 828 903 1448 1529 \nQ 2069 2156 2228 2338 \nQ 2531 2678 2651 2914 \nQ 2772 3150 2772 3378 \nQ 2772 3750 2511 3984 \nQ 2250 4219 1831 4219 \nQ 1534 4219 1204 4116 \nQ 875 4013 500 3803 \nL 500 4441 \nQ 881 4594 1212 4672 \nQ 1544 4750 1819 4750 \nQ 2544 4750 2975 4387 \nQ 3406 4025 3406 3419 \nQ 3406 3131 3298 2873 \nQ 3191 2616 2906 2266 \nQ 2828 2175 2409 1742 \nQ 1991 1309 1228 531 \nz\n\" id=\"DejaVuSans-32\" transform=\"scale(0.015625)\"/>\n     </defs>\n     <use xlink:href=\"#DejaVuSans-31\"/>\n     <use x=\"63.623047\" xlink:href=\"#DejaVuSans-34\"/>\n     <use x=\"127.246094\" xlink:href=\"#DejaVuSans-39\"/>\n     <use x=\"190.869141\" xlink:href=\"#DejaVuSans-32\"/>\n     <use x=\"254.492188\" xlink:href=\"#DejaVuSans-39\"/>\n    </g>\n    <!-- 8.53% -->\n    <g style=\"fill:#262626;\" transform=\"translate(295.88875 143.834375)scale(0.2 -0.2)\">\n     <defs>\n      <path d=\"M 2034 2216 \nQ 1584 2216 1326 1975 \nQ 1069 1734 1069 1313 \nQ 1069 891 1326 650 \nQ 1584 409 2034 409 \nQ 2484 409 2743 651 \nQ 3003 894 3003 1313 \nQ 3003 1734 2745 1975 \nQ 2488 2216 2034 2216 \nz\nM 1403 2484 \nQ 997 2584 770 2862 \nQ 544 3141 544 3541 \nQ 544 4100 942 4425 \nQ 1341 4750 2034 4750 \nQ 2731 4750 3128 4425 \nQ 3525 4100 3525 3541 \nQ 3525 3141 3298 2862 \nQ 3072 2584 2669 2484 \nQ 3125 2378 3379 2068 \nQ 3634 1759 3634 1313 \nQ 3634 634 3220 271 \nQ 2806 -91 2034 -91 \nQ 1263 -91 848 271 \nQ 434 634 434 1313 \nQ 434 1759 690 2068 \nQ 947 2378 1403 2484 \nz\nM 1172 3481 \nQ 1172 3119 1398 2916 \nQ 1625 2713 2034 2713 \nQ 2441 2713 2670 2916 \nQ 2900 3119 2900 3481 \nQ 2900 3844 2670 4047 \nQ 2441 4250 2034 4250 \nQ 1625 4250 1398 4047 \nQ 1172 3844 1172 3481 \nz\n\" id=\"DejaVuSans-38\" transform=\"scale(0.015625)\"/>\n     </defs>\n     <use xlink:href=\"#DejaVuSans-38\"/>\n     <use x=\"63.623047\" xlink:href=\"#DejaVuSans-2e\"/>\n     <use x=\"95.410156\" xlink:href=\"#DejaVuSans-35\"/>\n     <use x=\"159.033203\" xlink:href=\"#DejaVuSans-33\"/>\n     <use x=\"222.65625\" xlink:href=\"#DejaVuSans-25\"/>\n    </g>\n   </g>\n   <g id=\"text_9\">\n    <!-- False Pos -->\n    <g style=\"fill:#262626;\" transform=\"translate(103.814688 316.483125)scale(0.2 -0.2)\">\n     <use xlink:href=\"#DejaVuSans-46\"/>\n     <use x=\"48.394531\" xlink:href=\"#DejaVuSans-61\"/>\n     <use x=\"109.673828\" xlink:href=\"#DejaVuSans-6c\"/>\n     <use x=\"137.457031\" xlink:href=\"#DejaVuSans-73\"/>\n     <use x=\"189.556641\" xlink:href=\"#DejaVuSans-65\"/>\n     <use x=\"251.080078\" xlink:href=\"#DejaVuSans-20\"/>\n     <use x=\"282.867188\" xlink:href=\"#DejaVuSans-50\"/>\n     <use x=\"339.544922\" xlink:href=\"#DejaVuSans-6f\"/>\n     <use x=\"400.726562\" xlink:href=\"#DejaVuSans-73\"/>\n    </g>\n    <!-- 2090 -->\n    <g style=\"fill:#262626;\" transform=\"translate(123.645938 338.87875)scale(0.2 -0.2)\">\n     <use xlink:href=\"#DejaVuSans-32\"/>\n     <use x=\"63.623047\" xlink:href=\"#DejaVuSans-30\"/>\n     <use x=\"127.246094\" xlink:href=\"#DejaVuSans-39\"/>\n     <use x=\"190.869141\" xlink:href=\"#DejaVuSans-30\"/>\n    </g>\n    <!-- 1.19% -->\n    <g style=\"fill:#262626;\" transform=\"translate(117.32875 361.274375)scale(0.2 -0.2)\">\n     <use xlink:href=\"#DejaVuSans-31\"/>\n     <use x=\"63.623047\" xlink:href=\"#DejaVuSans-2e\"/>\n     <use x=\"95.410156\" xlink:href=\"#DejaVuSans-31\"/>\n     <use x=\"159.033203\" xlink:href=\"#DejaVuSans-39\"/>\n     <use x=\"222.65625\" xlink:href=\"#DejaVuSans-25\"/>\n    </g>\n   </g>\n   <g id=\"text_10\">\n    <!-- True Neg -->\n    <g style=\"fill:#ffffff;\" transform=\"translate(283.260625 316.483125)scale(0.2 -0.2)\">\n     <use xlink:href=\"#DejaVuSans-54\"/>\n     <use x=\"46.333984\" xlink:href=\"#DejaVuSans-72\"/>\n     <use x=\"87.447266\" xlink:href=\"#DejaVuSans-75\"/>\n     <use x=\"150.826172\" xlink:href=\"#DejaVuSans-65\"/>\n     <use x=\"212.349609\" xlink:href=\"#DejaVuSans-20\"/>\n     <use x=\"244.136719\" xlink:href=\"#DejaVuSans-4e\"/>\n     <use x=\"318.941406\" xlink:href=\"#DejaVuSans-65\"/>\n     <use x=\"380.464844\" xlink:href=\"#DejaVuSans-67\"/>\n    </g>\n    <!-- 144668 -->\n    <g style=\"fill:#ffffff;\" transform=\"translate(289.480938 338.87875)scale(0.2 -0.2)\">\n     <use xlink:href=\"#DejaVuSans-31\"/>\n     <use x=\"63.623047\" xlink:href=\"#DejaVuSans-34\"/>\n     <use x=\"127.246094\" xlink:href=\"#DejaVuSans-34\"/>\n     <use x=\"190.869141\" xlink:href=\"#DejaVuSans-36\"/>\n     <use x=\"254.492188\" xlink:href=\"#DejaVuSans-36\"/>\n     <use x=\"318.115234\" xlink:href=\"#DejaVuSans-38\"/>\n    </g>\n    <!-- 82.63% -->\n    <g style=\"fill:#ffffff;\" transform=\"translate(289.52625 361.274375)scale(0.2 -0.2)\">\n     <use xlink:href=\"#DejaVuSans-38\"/>\n     <use x=\"63.623047\" xlink:href=\"#DejaVuSans-32\"/>\n     <use x=\"127.246094\" xlink:href=\"#DejaVuSans-2e\"/>\n     <use x=\"159.033203\" xlink:href=\"#DejaVuSans-36\"/>\n     <use x=\"222.65625\" xlink:href=\"#DejaVuSans-33\"/>\n     <use x=\"286.279297\" xlink:href=\"#DejaVuSans-25\"/>\n    </g>\n   </g>\n  </g>\n  <g id=\"axes_2\">\n   <g id=\"patch_3\">\n    <path d=\"M 439.255938 442.08 \nL 460.999938 442.08 \nL 460.999938 7.2 \nL 439.255938 7.2 \nz\n\" style=\"fill:#ffffff;\"/>\n   </g>\n   <g id=\"patch_4\">\n    <path clip-path=\"url(#p22c6077fd6)\" d=\"M 439.255938 442.08 \nL 439.255938 440.38125 \nL 439.255938 8.89875 \nL 439.255938 7.2 \nL 460.999938 7.2 \nL 460.999938 8.89875 \nL 460.999938 440.38125 \nL 460.999938 442.08 \nL 460.999938 442.08 \nz\n\" style=\"fill:#ffffff;stroke:#ffffff;stroke-linejoin:miter;stroke-width:0.01;\"/>\n   </g>\n   <image height=\"435\" id=\"image7f9048dbad\" transform=\"scale(1 -1)translate(0 -435)\" width=\"22\" x=\"439\" xlink:href=\"data:image/png;base64,\niVBORw0KGgoAAAANSUhEUgAAABYAAAGzCAYAAAArEufSAAACIElEQVR4nO2cQW7DQAwDN4X//9sil8LuwVraH+BhgJkHEAJFaddxks/37/daBX4aomutdVyrUnCv4qIVF8yKY5Wad3RkiVbw4mbzgmuzL+zaDM24lYSBVuDiZvM2rs3AyzFPmBc3XsUOSPBxLBCPJh/HBmLzeBX34qYVN7y42bxg84LNC8SjyUU/ECu2eQOxYps3ABc90OPavcLmDbyKbV4oXgpd9AOxYgckwjgrznVWhHlxc/ICcPJOoBVO3g0wbjwrTrdbhJ28ATh5xEWPqxjocWekgVa46B9hrRh42+24Ltop7eQ9wloxGLdQG2mbF3gD4o0+ACfP5m2Ku0KPI4yz4sRdY/3oZkOMm5M3ACv2ZWyEgbsCd6+weRvgK6GWx8C1yZs84IDUdgWuebwBqe0Kc7xpXgpLwkArrHgA/tcN0ApcxS76DfBPG7zRb4Bx41Xsot84IC/hiqzNe+GiD8Bd4YBEmNc84oCUhHlWtH4kzIvbUdIFWmHFwbgFm9cX5lnRrLgmzLPCiiNc0QVa4aUwGLcAjJun9Ma49YV5Vhi3YNwCsuKaMM8KXMX+CGIArk3fKtSFjVuwecGK38IVXaAVVhyaX9yo6Nq8By+FAVlxTZhnhRXfuOiDzQu9S2HpAPHt2MOxSl94s3mh2byOMM9j4xZ4cSNawYubi34wbgEZN5t3g2xeRddd8VDzuJYKnhXGLXgpDMbtJeyT6VCr+B/aHFLWx1uuNQAAAABJRU5ErkJggg==\" y=\"-6\"/>\n   <g id=\"matplotlib.axis_3\"/>\n   <g id=\"matplotlib.axis_4\">\n    <g id=\"ytick_3\">\n     <g id=\"line2d_5\">\n      <defs>\n       <path d=\"M 0 0 \nL 3.5 0 \n\" id=\"m73d16f1c34\" style=\"stroke:#000000;stroke-width:0.8;\"/>\n      </defs>\n      <g>\n       <use style=\"stroke:#000000;stroke-width:0.8;\" x=\"460.999938\" xlink:href=\"#m73d16f1c34\" y=\"387.452352\"/>\n      </g>\n     </g>\n     <g id=\"text_11\">\n      <!-- 20000 -->\n      <g transform=\"translate(467.999938 391.251571)scale(0.1 -0.1)\">\n       <use xlink:href=\"#DejaVuSans-32\"/>\n       <use x=\"63.623047\" xlink:href=\"#DejaVuSans-30\"/>\n       <use x=\"127.246094\" xlink:href=\"#DejaVuSans-30\"/>\n       <use x=\"190.869141\" xlink:href=\"#DejaVuSans-30\"/>\n       <use x=\"254.492188\" xlink:href=\"#DejaVuSans-30\"/>\n      </g>\n     </g>\n    </g>\n    <g id=\"ytick_4\">\n     <g id=\"line2d_6\">\n      <g>\n       <use style=\"stroke:#000000;stroke-width:0.8;\" x=\"460.999938\" xlink:href=\"#m73d16f1c34\" y=\"326.449953\"/>\n      </g>\n     </g>\n     <g id=\"text_12\">\n      <!-- 40000 -->\n      <g transform=\"translate(467.999938 330.249172)scale(0.1 -0.1)\">\n       <use xlink:href=\"#DejaVuSans-34\"/>\n       <use x=\"63.623047\" xlink:href=\"#DejaVuSans-30\"/>\n       <use x=\"127.246094\" xlink:href=\"#DejaVuSans-30\"/>\n       <use x=\"190.869141\" xlink:href=\"#DejaVuSans-30\"/>\n       <use x=\"254.492188\" xlink:href=\"#DejaVuSans-30\"/>\n      </g>\n     </g>\n    </g>\n    <g id=\"ytick_5\">\n     <g id=\"line2d_7\">\n      <g>\n       <use style=\"stroke:#000000;stroke-width:0.8;\" x=\"460.999938\" xlink:href=\"#m73d16f1c34\" y=\"265.447555\"/>\n      </g>\n     </g>\n     <g id=\"text_13\">\n      <!-- 60000 -->\n      <g transform=\"translate(467.999938 269.246773)scale(0.1 -0.1)\">\n       <use xlink:href=\"#DejaVuSans-36\"/>\n       <use x=\"63.623047\" xlink:href=\"#DejaVuSans-30\"/>\n       <use x=\"127.246094\" xlink:href=\"#DejaVuSans-30\"/>\n       <use x=\"190.869141\" xlink:href=\"#DejaVuSans-30\"/>\n       <use x=\"254.492188\" xlink:href=\"#DejaVuSans-30\"/>\n      </g>\n     </g>\n    </g>\n    <g id=\"ytick_6\">\n     <g id=\"line2d_8\">\n      <g>\n       <use style=\"stroke:#000000;stroke-width:0.8;\" x=\"460.999938\" xlink:href=\"#m73d16f1c34\" y=\"204.445156\"/>\n      </g>\n     </g>\n     <g id=\"text_14\">\n      <!-- 80000 -->\n      <g transform=\"translate(467.999938 208.244375)scale(0.1 -0.1)\">\n       <use xlink:href=\"#DejaVuSans-38\"/>\n       <use x=\"63.623047\" xlink:href=\"#DejaVuSans-30\"/>\n       <use x=\"127.246094\" xlink:href=\"#DejaVuSans-30\"/>\n       <use x=\"190.869141\" xlink:href=\"#DejaVuSans-30\"/>\n       <use x=\"254.492188\" xlink:href=\"#DejaVuSans-30\"/>\n      </g>\n     </g>\n    </g>\n    <g id=\"ytick_7\">\n     <g id=\"line2d_9\">\n      <g>\n       <use style=\"stroke:#000000;stroke-width:0.8;\" x=\"460.999938\" xlink:href=\"#m73d16f1c34\" y=\"143.442757\"/>\n      </g>\n     </g>\n     <g id=\"text_15\">\n      <!-- 100000 -->\n      <g transform=\"translate(467.999938 147.241976)scale(0.1 -0.1)\">\n       <use xlink:href=\"#DejaVuSans-31\"/>\n       <use x=\"63.623047\" xlink:href=\"#DejaVuSans-30\"/>\n       <use x=\"127.246094\" xlink:href=\"#DejaVuSans-30\"/>\n       <use x=\"190.869141\" xlink:href=\"#DejaVuSans-30\"/>\n       <use x=\"254.492188\" xlink:href=\"#DejaVuSans-30\"/>\n       <use x=\"318.115234\" xlink:href=\"#DejaVuSans-30\"/>\n      </g>\n     </g>\n    </g>\n    <g id=\"ytick_8\">\n     <g id=\"line2d_10\">\n      <g>\n       <use style=\"stroke:#000000;stroke-width:0.8;\" x=\"460.999938\" xlink:href=\"#m73d16f1c34\" y=\"82.440359\"/>\n      </g>\n     </g>\n     <g id=\"text_16\">\n      <!-- 120000 -->\n      <g transform=\"translate(467.999938 86.239577)scale(0.1 -0.1)\">\n       <use xlink:href=\"#DejaVuSans-31\"/>\n       <use x=\"63.623047\" xlink:href=\"#DejaVuSans-32\"/>\n       <use x=\"127.246094\" xlink:href=\"#DejaVuSans-30\"/>\n       <use x=\"190.869141\" xlink:href=\"#DejaVuSans-30\"/>\n       <use x=\"254.492188\" xlink:href=\"#DejaVuSans-30\"/>\n       <use x=\"318.115234\" xlink:href=\"#DejaVuSans-30\"/>\n      </g>\n     </g>\n    </g>\n    <g id=\"ytick_9\">\n     <g id=\"line2d_11\">\n      <g>\n       <use style=\"stroke:#000000;stroke-width:0.8;\" x=\"460.999938\" xlink:href=\"#m73d16f1c34\" y=\"21.43796\"/>\n      </g>\n     </g>\n     <g id=\"text_17\">\n      <!-- 140000 -->\n      <g transform=\"translate(467.999938 25.237179)scale(0.1 -0.1)\">\n       <use xlink:href=\"#DejaVuSans-31\"/>\n       <use x=\"63.623047\" xlink:href=\"#DejaVuSans-34\"/>\n       <use x=\"127.246094\" xlink:href=\"#DejaVuSans-30\"/>\n       <use x=\"190.869141\" xlink:href=\"#DejaVuSans-30\"/>\n       <use x=\"254.492188\" xlink:href=\"#DejaVuSans-30\"/>\n       <use x=\"318.115234\" xlink:href=\"#DejaVuSans-30\"/>\n      </g>\n     </g>\n    </g>\n   </g>\n   <g id=\"LineCollection_1\"/>\n   <g id=\"patch_5\">\n    <path d=\"M 439.255938 442.08 \nL 439.255938 440.38125 \nL 439.255938 8.89875 \nL 439.255938 7.2 \nL 460.999938 7.2 \nL 460.999938 8.89875 \nL 460.999938 440.38125 \nL 460.999938 442.08 \nz\n\" style=\"fill:none;\"/>\n   </g>\n  </g>\n </g>\n <defs>\n  <clipPath id=\"p98b6d2dd8e\">\n   <rect height=\"434.88\" width=\"357.12\" x=\"59.815938\" y=\"7.2\"/>\n  </clipPath>\n  <clipPath id=\"p22c6077fd6\">\n   <rect height=\"434.88\" width=\"21.744\" x=\"439.255938\" y=\"7.2\"/>\n  </clipPath>\n </defs>\n</svg>\n",
      "text/plain": [
       "<Figure size 576x576 with 2 Axes>"
      ]
     },
     "metadata": {
      "needs_background": "light"
     }
    }
   ],
   "metadata": {}
  },
  {
   "cell_type": "markdown",
   "source": [
    "Al evaluar el modelo de validación y verlo con la confusion_matrix, vemos eque el ROC AUC score es alto debido al balanceo de los datos, el fallo del modelo esta en el bajo recall y precisión, ya que le cuesta dar positivos."
   ],
   "metadata": {}
  },
  {
   "cell_type": "code",
   "execution_count": 78,
   "source": [
    "fig = confusion_matrix_figure(y_train, y_train_pred)"
   ],
   "outputs": [
    {
     "output_type": "display_data",
     "data": {
      "image/png": "[encoded data removed]",
      "image/svg+xml": "<?xml version=\"1.0\" encoding=\"utf-8\" standalone=\"no\"?>\n<!DOCTYPE svg PUBLIC \"-//W3C//DTD SVG 1.1//EN\"\n  \"http://www.w3.org/Graphics/SVG/1.1/DTD/svg11.dtd\">\n<svg height=\"501.895937pt\" version=\"1.1\" viewBox=\"0 0 513.374937 501.895937\" width=\"513.374937pt\" xmlns=\"http://www.w3.org/2000/svg\" xmlns:xlink=\"http://www.w3.org/1999/xlink\">\n <metadata>\n  <rdf:RDF xmlns:cc=\"http://creativecommons.org/ns#\" xmlns:dc=\"http://purl.org/dc/elements/1.1/\" xmlns:rdf=\"http://www.w3.org/1999/02/22-rdf-syntax-ns#\">\n   <cc:Work>\n    <dc:type rdf:resource=\"http://purl.org/dc/dcmitype/StillImage\"/>\n    <dc:date>2021-09-18T16:06:04.631409</dc:date>\n    <dc:format>image/svg+xml</dc:format>\n    <dc:creator>\n     <cc:Agent>\n      <dc:title>Matplotlib v3.4.3, https://matplotlib.org/</dc:title>\n     </cc:Agent>\n    </dc:creator>\n   </cc:Work>\n  </rdf:RDF>\n </metadata>\n <defs>\n  <style type=\"text/css\">*{stroke-linecap:butt;stroke-linejoin:round;}</style>\n </defs>\n <g id=\"figure_1\">\n  <g id=\"patch_1\">\n   <path d=\"M 0 501.895937 \nL 513.374937 501.895937 \nL 513.374937 0 \nL 0 0 \nz\n\" style=\"fill:none;\"/>\n  </g>\n  <g id=\"axes_1\">\n   <g id=\"patch_2\">\n    <path d=\"M 59.815938 442.08 \nL 416.935938 442.08 \nL 416.935938 7.2 \nL 59.815938 7.2 \nz\n\" style=\"fill:#ffffff;\"/>\n   </g>\n   <g id=\"QuadMesh_1\">\n    <path clip-path=\"url(#pad37a88110)\" d=\"M 59.815938 7.2 \nL 238.375938 7.2 \nL 238.375938 224.64 \nL 59.815938 224.64 \nL 59.815938 7.2 \n\" style=\"fill:#e8f6e3;\"/>\n    <path clip-path=\"url(#pad37a88110)\" d=\"M 238.375938 7.2 \nL 416.935938 7.2 \nL 416.935938 224.64 \nL 238.375938 224.64 \nL 238.375938 7.2 \n\" style=\"fill:#e7f6e3;\"/>\n    <path clip-path=\"url(#pad37a88110)\" d=\"M 59.815938 224.64 \nL 238.375938 224.64 \nL 238.375938 442.08 \nL 59.815938 442.08 \nL 59.815938 224.64 \n\" style=\"fill:#f7fcf5;\"/>\n    <path clip-path=\"url(#pad37a88110)\" d=\"M 238.375938 224.64 \nL 416.935938 224.64 \nL 416.935938 442.08 \nL 238.375938 442.08 \nL 238.375938 224.64 \n\" style=\"fill:#00441b;\"/>\n   </g>\n   <g id=\"matplotlib.axis_1\">\n    <g id=\"xtick_1\">\n     <g id=\"line2d_1\">\n      <defs>\n       <path d=\"M 0 0 \nL 0 3.5 \n\" id=\"m027f0894e3\" style=\"stroke:#000000;stroke-width:0.8;\"/>\n      </defs>\n      <g>\n       <use style=\"stroke:#000000;stroke-width:0.8;\" x=\"149.095938\" xlink:href=\"#m027f0894e3\" y=\"442.08\"/>\n      </g>\n     </g>\n     <g id=\"text_1\">\n      <!-- Positive -->\n      <g transform=\"translate(110.552188 464.276875)scale(0.2 -0.2)\">\n       <defs>\n        <path d=\"M 1259 4147 \nL 1259 2394 \nL 2053 2394 \nQ 2494 2394 2734 2622 \nQ 2975 2850 2975 3272 \nQ 2975 3691 2734 3919 \nQ 2494 4147 2053 4147 \nL 1259 4147 \nz\nM 628 4666 \nL 2053 4666 \nQ 2838 4666 3239 4311 \nQ 3641 3956 3641 3272 \nQ 3641 2581 3239 2228 \nQ 2838 1875 2053 1875 \nL 1259 1875 \nL 1259 0 \nL 628 0 \nL 628 4666 \nz\n\" id=\"DejaVuSans-50\" transform=\"scale(0.015625)\"/>\n        <path d=\"M 1959 3097 \nQ 1497 3097 1228 2736 \nQ 959 2375 959 1747 \nQ 959 1119 1226 758 \nQ 1494 397 1959 397 \nQ 2419 397 2687 759 \nQ 2956 1122 2956 1747 \nQ 2956 2369 2687 2733 \nQ 2419 3097 1959 3097 \nz\nM 1959 3584 \nQ 2709 3584 3137 3096 \nQ 3566 2609 3566 1747 \nQ 3566 888 3137 398 \nQ 2709 -91 1959 -91 \nQ 1206 -91 779 398 \nQ 353 888 353 1747 \nQ 353 2609 779 3096 \nQ 1206 3584 1959 3584 \nz\n\" id=\"DejaVuSans-6f\" transform=\"scale(0.015625)\"/>\n        <path d=\"M 2834 3397 \nL 2834 2853 \nQ 2591 2978 2328 3040 \nQ 2066 3103 1784 3103 \nQ 1356 3103 1142 2972 \nQ 928 2841 928 2578 \nQ 928 2378 1081 2264 \nQ 1234 2150 1697 2047 \nL 1894 2003 \nQ 2506 1872 2764 1633 \nQ 3022 1394 3022 966 \nQ 3022 478 2636 193 \nQ 2250 -91 1575 -91 \nQ 1294 -91 989 -36 \nQ 684 19 347 128 \nL 347 722 \nQ 666 556 975 473 \nQ 1284 391 1588 391 \nQ 1994 391 2212 530 \nQ 2431 669 2431 922 \nQ 2431 1156 2273 1281 \nQ 2116 1406 1581 1522 \nL 1381 1569 \nQ 847 1681 609 1914 \nQ 372 2147 372 2553 \nQ 372 3047 722 3315 \nQ 1072 3584 1716 3584 \nQ 2034 3584 2315 3537 \nQ 2597 3491 2834 3397 \nz\n\" id=\"DejaVuSans-73\" transform=\"scale(0.015625)\"/>\n        <path d=\"M 603 3500 \nL 1178 3500 \nL 1178 0 \nL 603 0 \nL 603 3500 \nz\nM 603 4863 \nL 1178 4863 \nL 1178 4134 \nL 603 4134 \nL 603 4863 \nz\n\" id=\"DejaVuSans-69\" transform=\"scale(0.015625)\"/>\n        <path d=\"M 1172 4494 \nL 1172 3500 \nL 2356 3500 \nL 2356 3053 \nL 1172 3053 \nL 1172 1153 \nQ 1172 725 1289 603 \nQ 1406 481 1766 481 \nL 2356 481 \nL 2356 0 \nL 1766 0 \nQ 1100 0 847 248 \nQ 594 497 594 1153 \nL 594 3053 \nL 172 3053 \nL 172 3500 \nL 594 3500 \nL 594 4494 \nL 1172 4494 \nz\n\" id=\"DejaVuSans-74\" transform=\"scale(0.015625)\"/>\n        <path d=\"M 191 3500 \nL 800 3500 \nL 1894 563 \nL 2988 3500 \nL 3597 3500 \nL 2284 0 \nL 1503 0 \nL 191 3500 \nz\n\" id=\"DejaVuSans-76\" transform=\"scale(0.015625)\"/>\n        <path d=\"M 3597 1894 \nL 3597 1613 \nL 953 1613 \nQ 991 1019 1311 708 \nQ 1631 397 2203 397 \nQ 2534 397 2845 478 \nQ 3156 559 3463 722 \nL 3463 178 \nQ 3153 47 2828 -22 \nQ 2503 -91 2169 -91 \nQ 1331 -91 842 396 \nQ 353 884 353 1716 \nQ 353 2575 817 3079 \nQ 1281 3584 2069 3584 \nQ 2775 3584 3186 3129 \nQ 3597 2675 3597 1894 \nz\nM 3022 2063 \nQ 3016 2534 2758 2815 \nQ 2500 3097 2075 3097 \nQ 1594 3097 1305 2825 \nQ 1016 2553 972 2059 \nL 3022 2063 \nz\n\" id=\"DejaVuSans-65\" transform=\"scale(0.015625)\"/>\n       </defs>\n       <use xlink:href=\"#DejaVuSans-50\"/>\n       <use x=\"56.677734\" xlink:href=\"#DejaVuSans-6f\"/>\n       <use x=\"117.859375\" xlink:href=\"#DejaVuSans-73\"/>\n       <use x=\"169.958984\" xlink:href=\"#DejaVuSans-69\"/>\n       <use x=\"197.742188\" xlink:href=\"#DejaVuSans-74\"/>\n       <use x=\"236.951172\" xlink:href=\"#DejaVuSans-69\"/>\n       <use x=\"264.734375\" xlink:href=\"#DejaVuSans-76\"/>\n       <use x=\"323.914062\" xlink:href=\"#DejaVuSans-65\"/>\n      </g>\n     </g>\n    </g>\n    <g id=\"xtick_2\">\n     <g id=\"line2d_2\">\n      <g>\n       <use style=\"stroke:#000000;stroke-width:0.8;\" x=\"327.655938\" xlink:href=\"#m027f0894e3\" y=\"442.08\"/>\n      </g>\n     </g>\n     <g id=\"text_2\">\n      <!-- Negative -->\n      <g transform=\"translate(282.774688 464.276875)scale(0.2 -0.2)\">\n       <defs>\n        <path d=\"M 628 4666 \nL 1478 4666 \nL 3547 763 \nL 3547 4666 \nL 4159 4666 \nL 4159 0 \nL 3309 0 \nL 1241 3903 \nL 1241 0 \nL 628 0 \nL 628 4666 \nz\n\" id=\"DejaVuSans-4e\" transform=\"scale(0.015625)\"/>\n        <path d=\"M 2906 1791 \nQ 2906 2416 2648 2759 \nQ 2391 3103 1925 3103 \nQ 1463 3103 1205 2759 \nQ 947 2416 947 1791 \nQ 947 1169 1205 825 \nQ 1463 481 1925 481 \nQ 2391 481 2648 825 \nQ 2906 1169 2906 1791 \nz\nM 3481 434 \nQ 3481 -459 3084 -895 \nQ 2688 -1331 1869 -1331 \nQ 1566 -1331 1297 -1286 \nQ 1028 -1241 775 -1147 \nL 775 -588 \nQ 1028 -725 1275 -790 \nQ 1522 -856 1778 -856 \nQ 2344 -856 2625 -561 \nQ 2906 -266 2906 331 \nL 2906 616 \nQ 2728 306 2450 153 \nQ 2172 0 1784 0 \nQ 1141 0 747 490 \nQ 353 981 353 1791 \nQ 353 2603 747 3093 \nQ 1141 3584 1784 3584 \nQ 2172 3584 2450 3431 \nQ 2728 3278 2906 2969 \nL 2906 3500 \nL 3481 3500 \nL 3481 434 \nz\n\" id=\"DejaVuSans-67\" transform=\"scale(0.015625)\"/>\n        <path d=\"M 2194 1759 \nQ 1497 1759 1228 1600 \nQ 959 1441 959 1056 \nQ 959 750 1161 570 \nQ 1363 391 1709 391 \nQ 2188 391 2477 730 \nQ 2766 1069 2766 1631 \nL 2766 1759 \nL 2194 1759 \nz\nM 3341 1997 \nL 3341 0 \nL 2766 0 \nL 2766 531 \nQ 2569 213 2275 61 \nQ 1981 -91 1556 -91 \nQ 1019 -91 701 211 \nQ 384 513 384 1019 \nQ 384 1609 779 1909 \nQ 1175 2209 1959 2209 \nL 2766 2209 \nL 2766 2266 \nQ 2766 2663 2505 2880 \nQ 2244 3097 1772 3097 \nQ 1472 3097 1187 3025 \nQ 903 2953 641 2809 \nL 641 3341 \nQ 956 3463 1253 3523 \nQ 1550 3584 1831 3584 \nQ 2591 3584 2966 3190 \nQ 3341 2797 3341 1997 \nz\n\" id=\"DejaVuSans-61\" transform=\"scale(0.015625)\"/>\n       </defs>\n       <use xlink:href=\"#DejaVuSans-4e\"/>\n       <use x=\"74.804688\" xlink:href=\"#DejaVuSans-65\"/>\n       <use x=\"136.328125\" xlink:href=\"#DejaVuSans-67\"/>\n       <use x=\"199.804688\" xlink:href=\"#DejaVuSans-61\"/>\n       <use x=\"261.083984\" xlink:href=\"#DejaVuSans-74\"/>\n       <use x=\"300.292969\" xlink:href=\"#DejaVuSans-69\"/>\n       <use x=\"328.076172\" xlink:href=\"#DejaVuSans-76\"/>\n       <use x=\"387.255859\" xlink:href=\"#DejaVuSans-65\"/>\n      </g>\n     </g>\n    </g>\n    <g id=\"text_3\">\n     <!-- Predicted -->\n     <g transform=\"translate(184.394219 489.912656)scale(0.23 -0.23)\">\n      <defs>\n       <path d=\"M 2631 2963 \nQ 2534 3019 2420 3045 \nQ 2306 3072 2169 3072 \nQ 1681 3072 1420 2755 \nQ 1159 2438 1159 1844 \nL 1159 0 \nL 581 0 \nL 581 3500 \nL 1159 3500 \nL 1159 2956 \nQ 1341 3275 1631 3429 \nQ 1922 3584 2338 3584 \nQ 2397 3584 2469 3576 \nQ 2541 3569 2628 3553 \nL 2631 2963 \nz\n\" id=\"DejaVuSans-72\" transform=\"scale(0.015625)\"/>\n       <path d=\"M 2906 2969 \nL 2906 4863 \nL 3481 4863 \nL 3481 0 \nL 2906 0 \nL 2906 525 \nQ 2725 213 2448 61 \nQ 2172 -91 1784 -91 \nQ 1150 -91 751 415 \nQ 353 922 353 1747 \nQ 353 2572 751 3078 \nQ 1150 3584 1784 3584 \nQ 2172 3584 2448 3432 \nQ 2725 3281 2906 2969 \nz\nM 947 1747 \nQ 947 1113 1208 752 \nQ 1469 391 1925 391 \nQ 2381 391 2643 752 \nQ 2906 1113 2906 1747 \nQ 2906 2381 2643 2742 \nQ 2381 3103 1925 3103 \nQ 1469 3103 1208 2742 \nQ 947 2381 947 1747 \nz\n\" id=\"DejaVuSans-64\" transform=\"scale(0.015625)\"/>\n       <path d=\"M 3122 3366 \nL 3122 2828 \nQ 2878 2963 2633 3030 \nQ 2388 3097 2138 3097 \nQ 1578 3097 1268 2742 \nQ 959 2388 959 1747 \nQ 959 1106 1268 751 \nQ 1578 397 2138 397 \nQ 2388 397 2633 464 \nQ 2878 531 3122 666 \nL 3122 134 \nQ 2881 22 2623 -34 \nQ 2366 -91 2075 -91 \nQ 1284 -91 818 406 \nQ 353 903 353 1747 \nQ 353 2603 823 3093 \nQ 1294 3584 2113 3584 \nQ 2378 3584 2631 3529 \nQ 2884 3475 3122 3366 \nz\n\" id=\"DejaVuSans-63\" transform=\"scale(0.015625)\"/>\n      </defs>\n      <use xlink:href=\"#DejaVuSans-50\"/>\n      <use x=\"58.552734\" xlink:href=\"#DejaVuSans-72\"/>\n      <use x=\"97.416016\" xlink:href=\"#DejaVuSans-65\"/>\n      <use x=\"158.939453\" xlink:href=\"#DejaVuSans-64\"/>\n      <use x=\"222.416016\" xlink:href=\"#DejaVuSans-69\"/>\n      <use x=\"250.199219\" xlink:href=\"#DejaVuSans-63\"/>\n      <use x=\"305.179688\" xlink:href=\"#DejaVuSans-74\"/>\n      <use x=\"344.388672\" xlink:href=\"#DejaVuSans-65\"/>\n      <use x=\"405.912109\" xlink:href=\"#DejaVuSans-64\"/>\n     </g>\n    </g>\n   </g>\n   <g id=\"matplotlib.axis_2\">\n    <g id=\"ytick_1\">\n     <g id=\"line2d_3\">\n      <defs>\n       <path d=\"M 0 0 \nL -3.5 0 \n\" id=\"m6bf13540dc\" style=\"stroke:#000000;stroke-width:0.8;\"/>\n      </defs>\n      <g>\n       <use style=\"stroke:#000000;stroke-width:0.8;\" x=\"59.815938\" xlink:href=\"#m6bf13540dc\" y=\"115.92\"/>\n      </g>\n     </g>\n     <g id=\"text_4\">\n      <!-- Positive -->\n      <g transform=\"translate(48.656563 154.46375)rotate(-90)scale(0.2 -0.2)\">\n       <use xlink:href=\"#DejaVuSans-50\"/>\n       <use x=\"56.677734\" xlink:href=\"#DejaVuSans-6f\"/>\n       <use x=\"117.859375\" xlink:href=\"#DejaVuSans-73\"/>\n       <use x=\"169.958984\" xlink:href=\"#DejaVuSans-69\"/>\n       <use x=\"197.742188\" xlink:href=\"#DejaVuSans-74\"/>\n       <use x=\"236.951172\" xlink:href=\"#DejaVuSans-69\"/>\n       <use x=\"264.734375\" xlink:href=\"#DejaVuSans-76\"/>\n       <use x=\"323.914062\" xlink:href=\"#DejaVuSans-65\"/>\n      </g>\n     </g>\n    </g>\n    <g id=\"ytick_2\">\n     <g id=\"line2d_4\">\n      <g>\n       <use style=\"stroke:#000000;stroke-width:0.8;\" x=\"59.815938\" xlink:href=\"#m6bf13540dc\" y=\"333.36\"/>\n      </g>\n     </g>\n     <g id=\"text_5\">\n      <!-- Negative -->\n      <g transform=\"translate(48.656563 378.24125)rotate(-90)scale(0.2 -0.2)\">\n       <use xlink:href=\"#DejaVuSans-4e\"/>\n       <use x=\"74.804688\" xlink:href=\"#DejaVuSans-65\"/>\n       <use x=\"136.328125\" xlink:href=\"#DejaVuSans-67\"/>\n       <use x=\"199.804688\" xlink:href=\"#DejaVuSans-61\"/>\n       <use x=\"261.083984\" xlink:href=\"#DejaVuSans-74\"/>\n       <use x=\"300.292969\" xlink:href=\"#DejaVuSans-69\"/>\n       <use x=\"328.076172\" xlink:href=\"#DejaVuSans-76\"/>\n       <use x=\"387.255859\" xlink:href=\"#DejaVuSans-65\"/>\n      </g>\n     </g>\n    </g>\n    <g id=\"text_6\">\n     <!-- Real -->\n     <g transform=\"translate(24.676406 249.431484)rotate(-90)scale(0.23 -0.23)\">\n      <defs>\n       <path d=\"M 2841 2188 \nQ 3044 2119 3236 1894 \nQ 3428 1669 3622 1275 \nL 4263 0 \nL 3584 0 \nL 2988 1197 \nQ 2756 1666 2539 1819 \nQ 2322 1972 1947 1972 \nL 1259 1972 \nL 1259 0 \nL 628 0 \nL 628 4666 \nL 2053 4666 \nQ 2853 4666 3247 4331 \nQ 3641 3997 3641 3322 \nQ 3641 2881 3436 2590 \nQ 3231 2300 2841 2188 \nz\nM 1259 4147 \nL 1259 2491 \nL 2053 2491 \nQ 2509 2491 2742 2702 \nQ 2975 2913 2975 3322 \nQ 2975 3731 2742 3939 \nQ 2509 4147 2053 4147 \nL 1259 4147 \nz\n\" id=\"DejaVuSans-52\" transform=\"scale(0.015625)\"/>\n       <path d=\"M 603 4863 \nL 1178 4863 \nL 1178 0 \nL 603 0 \nL 603 4863 \nz\n\" id=\"DejaVuSans-6c\" transform=\"scale(0.015625)\"/>\n      </defs>\n      <use xlink:href=\"#DejaVuSans-52\"/>\n      <use x=\"64.982422\" xlink:href=\"#DejaVuSans-65\"/>\n      <use x=\"126.505859\" xlink:href=\"#DejaVuSans-61\"/>\n      <use x=\"187.785156\" xlink:href=\"#DejaVuSans-6c\"/>\n     </g>\n    </g>\n   </g>\n   <g id=\"text_7\">\n    <!-- True Pos -->\n    <g style=\"fill:#262626;\" transform=\"translate(107.688125 99.043125)scale(0.2 -0.2)\">\n     <defs>\n      <path d=\"M -19 4666 \nL 3928 4666 \nL 3928 4134 \nL 2272 4134 \nL 2272 0 \nL 1638 0 \nL 1638 4134 \nL -19 4134 \nL -19 4666 \nz\n\" id=\"DejaVuSans-54\" transform=\"scale(0.015625)\"/>\n      <path d=\"M 544 1381 \nL 544 3500 \nL 1119 3500 \nL 1119 1403 \nQ 1119 906 1312 657 \nQ 1506 409 1894 409 \nQ 2359 409 2629 706 \nQ 2900 1003 2900 1516 \nL 2900 3500 \nL 3475 3500 \nL 3475 0 \nL 2900 0 \nL 2900 538 \nQ 2691 219 2414 64 \nQ 2138 -91 1772 -91 \nQ 1169 -91 856 284 \nQ 544 659 544 1381 \nz\nM 1991 3584 \nL 1991 3584 \nz\n\" id=\"DejaVuSans-75\" transform=\"scale(0.015625)\"/>\n      <path id=\"DejaVuSans-20\" transform=\"scale(0.015625)\"/>\n     </defs>\n     <use xlink:href=\"#DejaVuSans-54\"/>\n     <use x=\"46.333984\" xlink:href=\"#DejaVuSans-72\"/>\n     <use x=\"87.447266\" xlink:href=\"#DejaVuSans-75\"/>\n     <use x=\"150.826172\" xlink:href=\"#DejaVuSans-65\"/>\n     <use x=\"212.349609\" xlink:href=\"#DejaVuSans-20\"/>\n     <use x=\"244.136719\" xlink:href=\"#DejaVuSans-50\"/>\n     <use x=\"300.814453\" xlink:href=\"#DejaVuSans-6f\"/>\n     <use x=\"361.996094\" xlink:href=\"#DejaVuSans-73\"/>\n    </g>\n    <!-- 124355 -->\n    <g style=\"fill:#262626;\" transform=\"translate(110.920938 121.43875)scale(0.2 -0.2)\">\n     <defs>\n      <path d=\"M 794 531 \nL 1825 531 \nL 1825 4091 \nL 703 3866 \nL 703 4441 \nL 1819 4666 \nL 2450 4666 \nL 2450 531 \nL 3481 531 \nL 3481 0 \nL 794 0 \nL 794 531 \nz\n\" id=\"DejaVuSans-31\" transform=\"scale(0.015625)\"/>\n      <path d=\"M 1228 531 \nL 3431 531 \nL 3431 0 \nL 469 0 \nL 469 531 \nQ 828 903 1448 1529 \nQ 2069 2156 2228 2338 \nQ 2531 2678 2651 2914 \nQ 2772 3150 2772 3378 \nQ 2772 3750 2511 3984 \nQ 2250 4219 1831 4219 \nQ 1534 4219 1204 4116 \nQ 875 4013 500 3803 \nL 500 4441 \nQ 881 4594 1212 4672 \nQ 1544 4750 1819 4750 \nQ 2544 4750 2975 4387 \nQ 3406 4025 3406 3419 \nQ 3406 3131 3298 2873 \nQ 3191 2616 2906 2266 \nQ 2828 2175 2409 1742 \nQ 1991 1309 1228 531 \nz\n\" id=\"DejaVuSans-32\" transform=\"scale(0.015625)\"/>\n      <path d=\"M 2419 4116 \nL 825 1625 \nL 2419 1625 \nL 2419 4116 \nz\nM 2253 4666 \nL 3047 4666 \nL 3047 1625 \nL 3713 1625 \nL 3713 1100 \nL 3047 1100 \nL 3047 0 \nL 2419 0 \nL 2419 1100 \nL 313 1100 \nL 313 1709 \nL 2253 4666 \nz\n\" id=\"DejaVuSans-34\" transform=\"scale(0.015625)\"/>\n      <path d=\"M 2597 2516 \nQ 3050 2419 3304 2112 \nQ 3559 1806 3559 1356 \nQ 3559 666 3084 287 \nQ 2609 -91 1734 -91 \nQ 1441 -91 1130 -33 \nQ 819 25 488 141 \nL 488 750 \nQ 750 597 1062 519 \nQ 1375 441 1716 441 \nQ 2309 441 2620 675 \nQ 2931 909 2931 1356 \nQ 2931 1769 2642 2001 \nQ 2353 2234 1838 2234 \nL 1294 2234 \nL 1294 2753 \nL 1863 2753 \nQ 2328 2753 2575 2939 \nQ 2822 3125 2822 3475 \nQ 2822 3834 2567 4026 \nQ 2313 4219 1838 4219 \nQ 1578 4219 1281 4162 \nQ 984 4106 628 3988 \nL 628 4550 \nQ 988 4650 1302 4700 \nQ 1616 4750 1894 4750 \nQ 2613 4750 3031 4423 \nQ 3450 4097 3450 3541 \nQ 3450 3153 3228 2886 \nQ 3006 2619 2597 2516 \nz\n\" id=\"DejaVuSans-33\" transform=\"scale(0.015625)\"/>\n      <path d=\"M 691 4666 \nL 3169 4666 \nL 3169 4134 \nL 1269 4134 \nL 1269 2991 \nQ 1406 3038 1543 3061 \nQ 1681 3084 1819 3084 \nQ 2600 3084 3056 2656 \nQ 3513 2228 3513 1497 \nQ 3513 744 3044 326 \nQ 2575 -91 1722 -91 \nQ 1428 -91 1123 -41 \nQ 819 9 494 109 \nL 494 744 \nQ 775 591 1075 516 \nQ 1375 441 1709 441 \nQ 2250 441 2565 725 \nQ 2881 1009 2881 1497 \nQ 2881 1984 2565 2268 \nQ 2250 2553 1709 2553 \nQ 1456 2553 1204 2497 \nQ 953 2441 691 2322 \nL 691 4666 \nz\n\" id=\"DejaVuSans-35\" transform=\"scale(0.015625)\"/>\n     </defs>\n     <use xlink:href=\"#DejaVuSans-31\"/>\n     <use x=\"63.623047\" xlink:href=\"#DejaVuSans-32\"/>\n     <use x=\"127.246094\" xlink:href=\"#DejaVuSans-34\"/>\n     <use x=\"190.869141\" xlink:href=\"#DejaVuSans-33\"/>\n     <use x=\"254.492188\" xlink:href=\"#DejaVuSans-35\"/>\n     <use x=\"318.115234\" xlink:href=\"#DejaVuSans-35\"/>\n    </g>\n    <!-- 9.92% -->\n    <g style=\"fill:#262626;\" transform=\"translate(117.32875 143.834375)scale(0.2 -0.2)\">\n     <defs>\n      <path d=\"M 703 97 \nL 703 672 \nQ 941 559 1184 500 \nQ 1428 441 1663 441 \nQ 2288 441 2617 861 \nQ 2947 1281 2994 2138 \nQ 2813 1869 2534 1725 \nQ 2256 1581 1919 1581 \nQ 1219 1581 811 2004 \nQ 403 2428 403 3163 \nQ 403 3881 828 4315 \nQ 1253 4750 1959 4750 \nQ 2769 4750 3195 4129 \nQ 3622 3509 3622 2328 \nQ 3622 1225 3098 567 \nQ 2575 -91 1691 -91 \nQ 1453 -91 1209 -44 \nQ 966 3 703 97 \nz\nM 1959 2075 \nQ 2384 2075 2632 2365 \nQ 2881 2656 2881 3163 \nQ 2881 3666 2632 3958 \nQ 2384 4250 1959 4250 \nQ 1534 4250 1286 3958 \nQ 1038 3666 1038 3163 \nQ 1038 2656 1286 2365 \nQ 1534 2075 1959 2075 \nz\n\" id=\"DejaVuSans-39\" transform=\"scale(0.015625)\"/>\n      <path d=\"M 684 794 \nL 1344 794 \nL 1344 0 \nL 684 0 \nL 684 794 \nz\n\" id=\"DejaVuSans-2e\" transform=\"scale(0.015625)\"/>\n      <path d=\"M 4653 2053 \nQ 4381 2053 4226 1822 \nQ 4072 1591 4072 1178 \nQ 4072 772 4226 539 \nQ 4381 306 4653 306 \nQ 4919 306 5073 539 \nQ 5228 772 5228 1178 \nQ 5228 1588 5073 1820 \nQ 4919 2053 4653 2053 \nz\nM 4653 2450 \nQ 5147 2450 5437 2106 \nQ 5728 1763 5728 1178 \nQ 5728 594 5436 251 \nQ 5144 -91 4653 -91 \nQ 4153 -91 3862 251 \nQ 3572 594 3572 1178 \nQ 3572 1766 3864 2108 \nQ 4156 2450 4653 2450 \nz\nM 1428 4353 \nQ 1159 4353 1004 4120 \nQ 850 3888 850 3481 \nQ 850 3069 1003 2837 \nQ 1156 2606 1428 2606 \nQ 1700 2606 1854 2837 \nQ 2009 3069 2009 3481 \nQ 2009 3884 1853 4118 \nQ 1697 4353 1428 4353 \nz\nM 4250 4750 \nL 4750 4750 \nL 1831 -91 \nL 1331 -91 \nL 4250 4750 \nz\nM 1428 4750 \nQ 1922 4750 2215 4408 \nQ 2509 4066 2509 3481 \nQ 2509 2891 2217 2550 \nQ 1925 2209 1428 2209 \nQ 931 2209 642 2551 \nQ 353 2894 353 3481 \nQ 353 4063 643 4406 \nQ 934 4750 1428 4750 \nz\n\" id=\"DejaVuSans-25\" transform=\"scale(0.015625)\"/>\n     </defs>\n     <use xlink:href=\"#DejaVuSans-39\"/>\n     <use x=\"63.623047\" xlink:href=\"#DejaVuSans-2e\"/>\n     <use x=\"95.410156\" xlink:href=\"#DejaVuSans-39\"/>\n     <use x=\"159.033203\" xlink:href=\"#DejaVuSans-32\"/>\n     <use x=\"222.65625\" xlink:href=\"#DejaVuSans-25\"/>\n    </g>\n   </g>\n   <g id=\"text_8\">\n    <!-- False Neg -->\n    <g style=\"fill:#262626;\" transform=\"translate(279.387188 99.043125)scale(0.2 -0.2)\">\n     <defs>\n      <path d=\"M 628 4666 \nL 3309 4666 \nL 3309 4134 \nL 1259 4134 \nL 1259 2759 \nL 3109 2759 \nL 3109 2228 \nL 1259 2228 \nL 1259 0 \nL 628 0 \nL 628 4666 \nz\n\" id=\"DejaVuSans-46\" transform=\"scale(0.015625)\"/>\n     </defs>\n     <use xlink:href=\"#DejaVuSans-46\"/>\n     <use x=\"48.394531\" xlink:href=\"#DejaVuSans-61\"/>\n     <use x=\"109.673828\" xlink:href=\"#DejaVuSans-6c\"/>\n     <use x=\"137.457031\" xlink:href=\"#DejaVuSans-73\"/>\n     <use x=\"189.556641\" xlink:href=\"#DejaVuSans-65\"/>\n     <use x=\"251.080078\" xlink:href=\"#DejaVuSans-20\"/>\n     <use x=\"282.867188\" xlink:href=\"#DejaVuSans-4e\"/>\n     <use x=\"357.671875\" xlink:href=\"#DejaVuSans-65\"/>\n     <use x=\"419.195312\" xlink:href=\"#DejaVuSans-67\"/>\n    </g>\n    <!-- 127218 -->\n    <g style=\"fill:#262626;\" transform=\"translate(289.480938 121.43875)scale(0.2 -0.2)\">\n     <defs>\n      <path d=\"M 525 4666 \nL 3525 4666 \nL 3525 4397 \nL 1831 0 \nL 1172 0 \nL 2766 4134 \nL 525 4134 \nL 525 4666 \nz\n\" id=\"DejaVuSans-37\" transform=\"scale(0.015625)\"/>\n      <path d=\"M 2034 2216 \nQ 1584 2216 1326 1975 \nQ 1069 1734 1069 1313 \nQ 1069 891 1326 650 \nQ 1584 409 2034 409 \nQ 2484 409 2743 651 \nQ 3003 894 3003 1313 \nQ 3003 1734 2745 1975 \nQ 2488 2216 2034 2216 \nz\nM 1403 2484 \nQ 997 2584 770 2862 \nQ 544 3141 544 3541 \nQ 544 4100 942 4425 \nQ 1341 4750 2034 4750 \nQ 2731 4750 3128 4425 \nQ 3525 4100 3525 3541 \nQ 3525 3141 3298 2862 \nQ 3072 2584 2669 2484 \nQ 3125 2378 3379 2068 \nQ 3634 1759 3634 1313 \nQ 3634 634 3220 271 \nQ 2806 -91 2034 -91 \nQ 1263 -91 848 271 \nQ 434 634 434 1313 \nQ 434 1759 690 2068 \nQ 947 2378 1403 2484 \nz\nM 1172 3481 \nQ 1172 3119 1398 2916 \nQ 1625 2713 2034 2713 \nQ 2441 2713 2670 2916 \nQ 2900 3119 2900 3481 \nQ 2900 3844 2670 4047 \nQ 2441 4250 2034 4250 \nQ 1625 4250 1398 4047 \nQ 1172 3844 1172 3481 \nz\n\" id=\"DejaVuSans-38\" transform=\"scale(0.015625)\"/>\n     </defs>\n     <use xlink:href=\"#DejaVuSans-31\"/>\n     <use x=\"63.623047\" xlink:href=\"#DejaVuSans-32\"/>\n     <use x=\"127.246094\" xlink:href=\"#DejaVuSans-37\"/>\n     <use x=\"190.869141\" xlink:href=\"#DejaVuSans-32\"/>\n     <use x=\"254.492188\" xlink:href=\"#DejaVuSans-31\"/>\n     <use x=\"318.115234\" xlink:href=\"#DejaVuSans-38\"/>\n    </g>\n    <!-- 10.15% -->\n    <g style=\"fill:#262626;\" transform=\"translate(289.52625 143.834375)scale(0.2 -0.2)\">\n     <defs>\n      <path d=\"M 2034 4250 \nQ 1547 4250 1301 3770 \nQ 1056 3291 1056 2328 \nQ 1056 1369 1301 889 \nQ 1547 409 2034 409 \nQ 2525 409 2770 889 \nQ 3016 1369 3016 2328 \nQ 3016 3291 2770 3770 \nQ 2525 4250 2034 4250 \nz\nM 2034 4750 \nQ 2819 4750 3233 4129 \nQ 3647 3509 3647 2328 \nQ 3647 1150 3233 529 \nQ 2819 -91 2034 -91 \nQ 1250 -91 836 529 \nQ 422 1150 422 2328 \nQ 422 3509 836 4129 \nQ 1250 4750 2034 4750 \nz\n\" id=\"DejaVuSans-30\" transform=\"scale(0.015625)\"/>\n     </defs>\n     <use xlink:href=\"#DejaVuSans-31\"/>\n     <use x=\"63.623047\" xlink:href=\"#DejaVuSans-30\"/>\n     <use x=\"127.246094\" xlink:href=\"#DejaVuSans-2e\"/>\n     <use x=\"159.033203\" xlink:href=\"#DejaVuSans-31\"/>\n     <use x=\"222.65625\" xlink:href=\"#DejaVuSans-35\"/>\n     <use x=\"286.279297\" xlink:href=\"#DejaVuSans-25\"/>\n    </g>\n   </g>\n   <g id=\"text_9\">\n    <!-- False Pos -->\n    <g style=\"fill:#262626;\" transform=\"translate(103.814688 316.483125)scale(0.2 -0.2)\">\n     <use xlink:href=\"#DejaVuSans-46\"/>\n     <use x=\"48.394531\" xlink:href=\"#DejaVuSans-61\"/>\n     <use x=\"109.673828\" xlink:href=\"#DejaVuSans-6c\"/>\n     <use x=\"137.457031\" xlink:href=\"#DejaVuSans-73\"/>\n     <use x=\"189.556641\" xlink:href=\"#DejaVuSans-65\"/>\n     <use x=\"251.080078\" xlink:href=\"#DejaVuSans-20\"/>\n     <use x=\"282.867188\" xlink:href=\"#DejaVuSans-50\"/>\n     <use x=\"339.544922\" xlink:href=\"#DejaVuSans-6f\"/>\n     <use x=\"400.726562\" xlink:href=\"#DejaVuSans-73\"/>\n    </g>\n    <!-- 22463 -->\n    <g style=\"fill:#262626;\" transform=\"translate(117.283438 338.87875)scale(0.2 -0.2)\">\n     <defs>\n      <path d=\"M 2113 2584 \nQ 1688 2584 1439 2293 \nQ 1191 2003 1191 1497 \nQ 1191 994 1439 701 \nQ 1688 409 2113 409 \nQ 2538 409 2786 701 \nQ 3034 994 3034 1497 \nQ 3034 2003 2786 2293 \nQ 2538 2584 2113 2584 \nz\nM 3366 4563 \nL 3366 3988 \nQ 3128 4100 2886 4159 \nQ 2644 4219 2406 4219 \nQ 1781 4219 1451 3797 \nQ 1122 3375 1075 2522 \nQ 1259 2794 1537 2939 \nQ 1816 3084 2150 3084 \nQ 2853 3084 3261 2657 \nQ 3669 2231 3669 1497 \nQ 3669 778 3244 343 \nQ 2819 -91 2113 -91 \nQ 1303 -91 875 529 \nQ 447 1150 447 2328 \nQ 447 3434 972 4092 \nQ 1497 4750 2381 4750 \nQ 2619 4750 2861 4703 \nQ 3103 4656 3366 4563 \nz\n\" id=\"DejaVuSans-36\" transform=\"scale(0.015625)\"/>\n     </defs>\n     <use xlink:href=\"#DejaVuSans-32\"/>\n     <use x=\"63.623047\" xlink:href=\"#DejaVuSans-32\"/>\n     <use x=\"127.246094\" xlink:href=\"#DejaVuSans-34\"/>\n     <use x=\"190.869141\" xlink:href=\"#DejaVuSans-36\"/>\n     <use x=\"254.492188\" xlink:href=\"#DejaVuSans-33\"/>\n    </g>\n    <!-- 1.79% -->\n    <g style=\"fill:#262626;\" transform=\"translate(117.32875 361.274375)scale(0.2 -0.2)\">\n     <use xlink:href=\"#DejaVuSans-31\"/>\n     <use x=\"63.623047\" xlink:href=\"#DejaVuSans-2e\"/>\n     <use x=\"95.410156\" xlink:href=\"#DejaVuSans-37\"/>\n     <use x=\"159.033203\" xlink:href=\"#DejaVuSans-39\"/>\n     <use x=\"222.65625\" xlink:href=\"#DejaVuSans-25\"/>\n    </g>\n   </g>\n   <g id=\"text_10\">\n    <!-- True Neg -->\n    <g style=\"fill:#ffffff;\" transform=\"translate(283.260625 316.483125)scale(0.2 -0.2)\">\n     <use xlink:href=\"#DejaVuSans-54\"/>\n     <use x=\"46.333984\" xlink:href=\"#DejaVuSans-72\"/>\n     <use x=\"87.447266\" xlink:href=\"#DejaVuSans-75\"/>\n     <use x=\"150.826172\" xlink:href=\"#DejaVuSans-65\"/>\n     <use x=\"212.349609\" xlink:href=\"#DejaVuSans-20\"/>\n     <use x=\"244.136719\" xlink:href=\"#DejaVuSans-4e\"/>\n     <use x=\"318.941406\" xlink:href=\"#DejaVuSans-65\"/>\n     <use x=\"380.464844\" xlink:href=\"#DejaVuSans-67\"/>\n    </g>\n    <!-- 979087 -->\n    <g style=\"fill:#ffffff;\" transform=\"translate(289.480938 338.87875)scale(0.2 -0.2)\">\n     <use xlink:href=\"#DejaVuSans-39\"/>\n     <use x=\"63.623047\" xlink:href=\"#DejaVuSans-37\"/>\n     <use x=\"127.246094\" xlink:href=\"#DejaVuSans-39\"/>\n     <use x=\"190.869141\" xlink:href=\"#DejaVuSans-30\"/>\n     <use x=\"254.492188\" xlink:href=\"#DejaVuSans-38\"/>\n     <use x=\"318.115234\" xlink:href=\"#DejaVuSans-37\"/>\n    </g>\n    <!-- 78.13% -->\n    <g style=\"fill:#ffffff;\" transform=\"translate(289.52625 361.274375)scale(0.2 -0.2)\">\n     <use xlink:href=\"#DejaVuSans-37\"/>\n     <use x=\"63.623047\" xlink:href=\"#DejaVuSans-38\"/>\n     <use x=\"127.246094\" xlink:href=\"#DejaVuSans-2e\"/>\n     <use x=\"159.033203\" xlink:href=\"#DejaVuSans-31\"/>\n     <use x=\"222.65625\" xlink:href=\"#DejaVuSans-33\"/>\n     <use x=\"286.279297\" xlink:href=\"#DejaVuSans-25\"/>\n    </g>\n   </g>\n  </g>\n  <g id=\"axes_2\">\n   <g id=\"patch_3\">\n    <path d=\"M 439.255938 442.08 \nL 460.999938 442.08 \nL 460.999938 7.2 \nL 439.255938 7.2 \nz\n\" style=\"fill:#ffffff;\"/>\n   </g>\n   <g id=\"patch_4\">\n    <path clip-path=\"url(#p2631633204)\" d=\"M 439.255938 442.08 \nL 439.255938 440.38125 \nL 439.255938 8.89875 \nL 439.255938 7.2 \nL 460.999938 7.2 \nL 460.999938 8.89875 \nL 460.999938 440.38125 \nL 460.999938 442.08 \nL 460.999938 442.08 \nz\n\" style=\"fill:#ffffff;stroke:#ffffff;stroke-linejoin:miter;stroke-width:0.01;\"/>\n   </g>\n   <image height=\"435\" id=\"image1c877bde23\" transform=\"scale(1 -1)translate(0 -435)\" width=\"22\" x=\"439\" xlink:href=\"data:image/png;base64,\niVBORw0KGgoAAAANSUhEUgAAABYAAAGzCAYAAAArEufSAAACIElEQVR4nO2cQW7DQAwDN4X//9sil8LuwVraH+BhgJkHEAJFaddxks/37/daBX4aomutdVyrUnCv4qIVF8yKY5Wad3RkiVbw4mbzgmuzL+zaDM24lYSBVuDiZvM2rs3AyzFPmBc3XsUOSPBxLBCPJh/HBmLzeBX34qYVN7y42bxg84LNC8SjyUU/ECu2eQOxYps3ABc90OPavcLmDbyKbV4oXgpd9AOxYgckwjgrznVWhHlxc/ICcPJOoBVO3g0wbjwrTrdbhJ28ATh5xEWPqxjocWekgVa46B9hrRh42+24Ltop7eQ9wloxGLdQG2mbF3gD4o0+ACfP5m2Ku0KPI4yz4sRdY/3oZkOMm5M3ACv2ZWyEgbsCd6+weRvgK6GWx8C1yZs84IDUdgWuebwBqe0Kc7xpXgpLwkArrHgA/tcN0ApcxS76DfBPG7zRb4Bx41Xsot84IC/hiqzNe+GiD8Bd4YBEmNc84oCUhHlWtH4kzIvbUdIFWmHFwbgFm9cX5lnRrLgmzLPCiiNc0QVa4aUwGLcAjJun9Ma49YV5Vhi3YNwCsuKaMM8KXMX+CGIArk3fKtSFjVuwecGK38IVXaAVVhyaX9yo6Nq8By+FAVlxTZhnhRXfuOiDzQu9S2HpAPHt2MOxSl94s3mh2byOMM9j4xZ4cSNawYubi34wbgEZN5t3g2xeRddd8VDzuJYKnhXGLXgpDMbtJeyT6VCr+B/aHFLWx1uuNQAAAABJRU5ErkJggg==\" y=\"-6\"/>\n   <g id=\"matplotlib.axis_3\"/>\n   <g id=\"matplotlib.axis_4\">\n    <g id=\"ytick_3\">\n     <g id=\"line2d_5\">\n      <defs>\n       <path d=\"M 0 0 \nL 3.5 0 \n\" id=\"m066ddba7e1\" style=\"stroke:#000000;stroke-width:0.8;\"/>\n      </defs>\n      <g>\n       <use style=\"stroke:#000000;stroke-width:0.8;\" x=\"460.999938\" xlink:href=\"#m066ddba7e1\" y=\"361.371916\"/>\n      </g>\n     </g>\n     <g id=\"text_11\">\n      <!-- 200000 -->\n      <g transform=\"translate(467.999938 365.171134)scale(0.1 -0.1)\">\n       <use xlink:href=\"#DejaVuSans-32\"/>\n       <use x=\"63.623047\" xlink:href=\"#DejaVuSans-30\"/>\n       <use x=\"127.246094\" xlink:href=\"#DejaVuSans-30\"/>\n       <use x=\"190.869141\" xlink:href=\"#DejaVuSans-30\"/>\n       <use x=\"254.492188\" xlink:href=\"#DejaVuSans-30\"/>\n       <use x=\"318.115234\" xlink:href=\"#DejaVuSans-30\"/>\n      </g>\n     </g>\n    </g>\n    <g id=\"ytick_4\">\n     <g id=\"line2d_6\">\n      <g>\n       <use style=\"stroke:#000000;stroke-width:0.8;\" x=\"460.999938\" xlink:href=\"#m066ddba7e1\" y=\"270.452181\"/>\n      </g>\n     </g>\n     <g id=\"text_12\">\n      <!-- 400000 -->\n      <g transform=\"translate(467.999938 274.2514)scale(0.1 -0.1)\">\n       <use xlink:href=\"#DejaVuSans-34\"/>\n       <use x=\"63.623047\" xlink:href=\"#DejaVuSans-30\"/>\n       <use x=\"127.246094\" xlink:href=\"#DejaVuSans-30\"/>\n       <use x=\"190.869141\" xlink:href=\"#DejaVuSans-30\"/>\n       <use x=\"254.492188\" xlink:href=\"#DejaVuSans-30\"/>\n       <use x=\"318.115234\" xlink:href=\"#DejaVuSans-30\"/>\n      </g>\n     </g>\n    </g>\n    <g id=\"ytick_5\">\n     <g id=\"line2d_7\">\n      <g>\n       <use style=\"stroke:#000000;stroke-width:0.8;\" x=\"460.999938\" xlink:href=\"#m066ddba7e1\" y=\"179.532447\"/>\n      </g>\n     </g>\n     <g id=\"text_13\">\n      <!-- 600000 -->\n      <g transform=\"translate(467.999938 183.331666)scale(0.1 -0.1)\">\n       <use xlink:href=\"#DejaVuSans-36\"/>\n       <use x=\"63.623047\" xlink:href=\"#DejaVuSans-30\"/>\n       <use x=\"127.246094\" xlink:href=\"#DejaVuSans-30\"/>\n       <use x=\"190.869141\" xlink:href=\"#DejaVuSans-30\"/>\n       <use x=\"254.492188\" xlink:href=\"#DejaVuSans-30\"/>\n       <use x=\"318.115234\" xlink:href=\"#DejaVuSans-30\"/>\n      </g>\n     </g>\n    </g>\n    <g id=\"ytick_6\">\n     <g id=\"line2d_8\">\n      <g>\n       <use style=\"stroke:#000000;stroke-width:0.8;\" x=\"460.999938\" xlink:href=\"#m066ddba7e1\" y=\"88.612712\"/>\n      </g>\n     </g>\n     <g id=\"text_14\">\n      <!-- 800000 -->\n      <g transform=\"translate(467.999938 92.411931)scale(0.1 -0.1)\">\n       <use xlink:href=\"#DejaVuSans-38\"/>\n       <use x=\"63.623047\" xlink:href=\"#DejaVuSans-30\"/>\n       <use x=\"127.246094\" xlink:href=\"#DejaVuSans-30\"/>\n       <use x=\"190.869141\" xlink:href=\"#DejaVuSans-30\"/>\n       <use x=\"254.492188\" xlink:href=\"#DejaVuSans-30\"/>\n       <use x=\"318.115234\" xlink:href=\"#DejaVuSans-30\"/>\n      </g>\n     </g>\n    </g>\n   </g>\n   <g id=\"LineCollection_1\"/>\n   <g id=\"patch_5\">\n    <path d=\"M 439.255938 442.08 \nL 439.255938 440.38125 \nL 439.255938 8.89875 \nL 439.255938 7.2 \nL 460.999938 7.2 \nL 460.999938 8.89875 \nL 460.999938 440.38125 \nL 460.999938 442.08 \nz\n\" style=\"fill:none;\"/>\n   </g>\n  </g>\n </g>\n <defs>\n  <clipPath id=\"pad37a88110\">\n   <rect height=\"434.88\" width=\"357.12\" x=\"59.815938\" y=\"7.2\"/>\n  </clipPath>\n  <clipPath id=\"p2631633204\">\n   <rect height=\"434.88\" width=\"21.744\" x=\"439.255938\" y=\"7.2\"/>\n  </clipPath>\n </defs>\n</svg>\n",
      "text/plain": [
       "<Figure size 576x576 with 2 Axes>"
      ]
     },
     "metadata": {
      "needs_background": "light"
     }
    }
   ],
   "metadata": {}
  },
  {
   "cell_type": "code",
   "execution_count": 90,
   "source": [
    "tree_data = export_graphviz(\n",
    "    decision_tree = model,\n",
    "    out_file=None,\n",
    "    #*,\n",
    "    max_depth=3,\n",
    "    feature_names= features,\n",
    "    class_names=['No Compra','Compra'],\n",
    "    #label='all',\n",
    "    filled=True,\n",
    "    #leaves_parallel=False,\n",
    "    impurity=True,\n",
    "    #node_ids=False,\n",
    "    proportion=True,\n",
    "    rotate=True,\n",
    "    rounded=True,\n",
    "    #special_characters=False,\n",
    "    precision=3,\n",
    ")\n",
    "\n",
    "graph = graphviz.Source(tree_data, format='png')\n",
    "graph"
   ],
   "outputs": [
    {
     "output_type": "error",
     "ename": "IndentationError",
     "evalue": "unexpected indent (3021465641.py, line 2)",
     "traceback": [
      "\u001b[0;36m  File \u001b[0;32m\"/var/folders/rl/wnjs7ngd5ws98f9x2dfzsvnr0000gn/T/ipykernel_38820/3021465641.py\"\u001b[0;36m, line \u001b[0;32m2\u001b[0m\n\u001b[0;31m    decision_tree = model,\u001b[0m\n\u001b[0m    ^\u001b[0m\n\u001b[0;31mIndentationError\u001b[0m\u001b[0;31m:\u001b[0m unexpected indent\n"
     ]
    }
   ],
   "metadata": {}
  },
  {
   "cell_type": "code",
   "execution_count": 81,
   "source": [
    "pd.Series( model.feature_importances_, index=features ).sort_values(ascending=False).head(30)"
   ],
   "outputs": [
    {
     "output_type": "execute_result",
     "data": {
      "text/plain": [
       "altas_inversión                   0.548771\n",
       "total_altas_1m_shift              0.113013\n",
       "precio                            0.090314\n",
       "entry_channel                     0.058460\n",
       "tiempo_ult_compra                 0.058390\n",
       "active_customer                   0.048073\n",
       "age                               0.023893\n",
       "total_altas_inversión_1m_shift    0.018945\n",
       "total_bajas_inversión_1m_shift    0.010594\n",
       "salary                            0.005023\n",
       "month                             0.004916\n",
       "total_bajas_cuenta_1m_shift       0.004632\n",
       "total_altas_cuenta_1m_shift       0.003567\n",
       "total_altas_prestamo_1m_shift     0.003554\n",
       "total_bajas_1m_shift              0.002568\n",
       "total_bajas_prestamo_1m_shift     0.001409\n",
       "year                              0.001123\n",
       "gender                            0.000706\n",
       "total_altas_6m_shift              0.000559\n",
       "total_altas_cuenta_6m_shift       0.000473\n",
       "total_altas_prestamo_6m_shift     0.000241\n",
       "total_altas_inversión_6m_shift    0.000203\n",
       "age_tram                          0.000168\n",
       "salary_tram                       0.000162\n",
       "total_altas_3m_shift              0.000057\n",
       "fans                              0.000053\n",
       "total_bajas_3m_shift              0.000044\n",
       "total_altas_cuenta_3m_shift       0.000035\n",
       "total_bajas_cuenta_3m_shift       0.000023\n",
       "total_altas_prestamo_3m_shift     0.000018\n",
       "dtype: float64"
      ]
     },
     "metadata": {},
     "execution_count": 81
    }
   ],
   "metadata": {}
  },
  {
   "cell_type": "markdown",
   "source": [
    "# Modelo Cuentas"
   ],
   "metadata": {}
  },
  {
   "cell_type": "markdown",
   "source": [
    "Este modelo al contar con pocos datos se balance, aun así al tener poca información el modelo predice pocas compras."
   ],
   "metadata": {}
  },
  {
   "cell_type": "code",
   "execution_count": 82,
   "source": [
    "df['compras_cuenta'].value_counts()"
   ],
   "outputs": [
    {
     "output_type": "execute_result",
     "data": {
      "text/plain": [
       "0    1468397\n",
       "1      98007\n",
       "Name: compras_cuenta, dtype: int64"
      ]
     },
     "metadata": {},
     "execution_count": 82
    }
   ],
   "metadata": {}
  },
  {
   "cell_type": "code",
   "execution_count": 83,
   "source": [
    "X_train, y_train, X_test, y_test, X_validation, y_validation = \\\n",
    "    dataset_split(df, 'compras_cuenta', \"oversampling\", targets, dist=0, times=2)\n",
    "\n",
    "features = X_train.columns.to_list()\n",
    "features.remove('pk_cid')\n",
    "features.remove('precio')"
   ],
   "outputs": [],
   "metadata": {}
  },
  {
   "cell_type": "code",
   "execution_count": 84,
   "source": [
    "print('TRAIN: ',y_train.shape[0]) \n",
    "print(y_train.value_counts(normalize=True),'\\n')\n",
    "\n",
    "print('TEST: ', y_test.shape[0])\n",
    "print(y_test.value_counts(normalize=True),'\\n')\n",
    "\n",
    "print('VALIDATION: ',y_validation.shape[0])\n",
    "print(y_validation.value_counts(normalize=True))"
   ],
   "outputs": [
    {
     "output_type": "stream",
     "name": "stdout",
     "text": [
      "TRAIN:  1331528\n",
      "0    0.882275\n",
      "1    0.117725\n",
      "Name: compras_cuenta, dtype: float64 \n",
      "\n",
      "TEST:  332883\n",
      "0    0.882061\n",
      "1    0.117939\n",
      "Name: compras_cuenta, dtype: float64 \n",
      "\n",
      "VALIDATION:  175077\n",
      "0    0.946275\n",
      "1    0.053725\n",
      "Name: compras_cuenta, dtype: float64\n"
     ]
    }
   ],
   "metadata": {}
  },
  {
   "cell_type": "code",
   "execution_count": 85,
   "source": [
    "model = DecisionTreeClassifier( max_depth=50, min_samples_leaf=500, random_state=42 )\n",
    "\n",
    "model.fit(X_train[features],y_train)\n",
    "\n",
    "y_train_pred = model.predict(X_train[features])\n",
    "y_train_score = model.predict_proba(X_train[features])[:,1]\n",
    "\n",
    "#Predict the response for test dataset\n",
    "y_pred = model.predict(X_test[features])\n",
    "y_test_score = model.predict_proba(X_test[features])[:,1]"
   ],
   "outputs": [],
   "metadata": {}
  },
  {
   "cell_type": "code",
   "execution_count": 86,
   "source": [
    "y_pred_valida = model.predict(X_validation[features])\n",
    "y_valida_score = model.predict_proba(X_validation[features])[:,1]\n",
    "\n",
    "print(\"----------- VALIDATION -----------\")\n",
    "print(\"Accuracy:\",accuracy_score(y_validation, y_pred_valida))\n",
    "print(\"Precision:\",precision_score(y_validation, y_pred_valida))\n",
    "print(\"Recall:\",recall_score(y_validation, y_pred_valida))\n",
    "print(\"F1-score:\",f1_score(y_validation, y_pred_valida))\n",
    "print(\"ROC AUC score:\",roc_auc_score(y_validation, y_valida_score))\n",
    "\n",
    "#fig = confusion_matrix_figure(y_train, y_train_pred)\n",
    "fig = confusion_matrix_figure(y_validation, y_pred_valida)"
   ],
   "outputs": [
    {
     "output_type": "stream",
     "name": "stdout",
     "text": [
      "----------- VALIDATION -----------\n",
      "Accuracy: 0.9485712001005272\n",
      "Precision: 0.5331902245706737\n",
      "Recall: 0.3432915160535828\n",
      "F1-score: 0.4176691243047472\n",
      "ROC AUC score: 0.8938306150276217\n"
     ]
    },
    {
     "output_type": "display_data",
     "data": {
      "image/png": "[encoded data removed]",
      "image/svg+xml": "<?xml version=\"1.0\" encoding=\"utf-8\" standalone=\"no\"?>\n<!DOCTYPE svg PUBLIC \"-//W3C//DTD SVG 1.1//EN\"\n  \"http://www.w3.org/Graphics/SVG/1.1/DTD/svg11.dtd\">\n<svg height=\"501.895937pt\" version=\"1.1\" viewBox=\"0 0 513.374937 501.895937\" width=\"513.374937pt\" xmlns=\"http://www.w3.org/2000/svg\" xmlns:xlink=\"http://www.w3.org/1999/xlink\">\n <metadata>\n  <rdf:RDF xmlns:cc=\"http://creativecommons.org/ns#\" xmlns:dc=\"http://purl.org/dc/elements/1.1/\" xmlns:rdf=\"http://www.w3.org/1999/02/22-rdf-syntax-ns#\">\n   <cc:Work>\n    <dc:type rdf:resource=\"http://purl.org/dc/dcmitype/StillImage\"/>\n    <dc:date>2021-09-18T16:11:13.335271</dc:date>\n    <dc:format>image/svg+xml</dc:format>\n    <dc:creator>\n     <cc:Agent>\n      <dc:title>Matplotlib v3.4.3, https://matplotlib.org/</dc:title>\n     </cc:Agent>\n    </dc:creator>\n   </cc:Work>\n  </rdf:RDF>\n </metadata>\n <defs>\n  <style type=\"text/css\">*{stroke-linecap:butt;stroke-linejoin:round;}</style>\n </defs>\n <g id=\"figure_1\">\n  <g id=\"patch_1\">\n   <path d=\"M 0 501.895937 \nL 513.374937 501.895937 \nL 513.374937 0 \nL 0 0 \nz\n\" style=\"fill:none;\"/>\n  </g>\n  <g id=\"axes_1\">\n   <g id=\"patch_2\">\n    <path d=\"M 59.815938 442.08 \nL 416.935938 442.08 \nL 416.935938 7.2 \nL 59.815938 7.2 \nz\n\" style=\"fill:#ffffff;\"/>\n   </g>\n   <g id=\"QuadMesh_1\">\n    <path clip-path=\"url(#pae1258dd65)\" d=\"M 59.815938 7.2 \nL 238.375938 7.2 \nL 238.375938 224.64 \nL 59.815938 224.64 \nL 59.815938 7.2 \n\" style=\"fill:#f7fcf5;\"/>\n    <path clip-path=\"url(#pae1258dd65)\" d=\"M 238.375938 7.2 \nL 416.935938 7.2 \nL 416.935938 224.64 \nL 238.375938 224.64 \nL 238.375938 7.2 \n\" style=\"fill:#f4fbf2;\"/>\n    <path clip-path=\"url(#pae1258dd65)\" d=\"M 59.815938 224.64 \nL 238.375938 224.64 \nL 238.375938 442.08 \nL 59.815938 442.08 \nL 59.815938 224.64 \n\" style=\"fill:#f7fcf5;\"/>\n    <path clip-path=\"url(#pae1258dd65)\" d=\"M 238.375938 224.64 \nL 416.935938 224.64 \nL 416.935938 442.08 \nL 238.375938 442.08 \nL 238.375938 224.64 \n\" style=\"fill:#00441b;\"/>\n   </g>\n   <g id=\"matplotlib.axis_1\">\n    <g id=\"xtick_1\">\n     <g id=\"line2d_1\">\n      <defs>\n       <path d=\"M 0 0 \nL 0 3.5 \n\" id=\"m86f603456b\" style=\"stroke:#000000;stroke-width:0.8;\"/>\n      </defs>\n      <g>\n       <use style=\"stroke:#000000;stroke-width:0.8;\" x=\"149.095938\" xlink:href=\"#m86f603456b\" y=\"442.08\"/>\n      </g>\n     </g>\n     <g id=\"text_1\">\n      <!-- Positive -->\n      <g transform=\"translate(110.552188 464.276875)scale(0.2 -0.2)\">\n       <defs>\n        <path d=\"M 1259 4147 \nL 1259 2394 \nL 2053 2394 \nQ 2494 2394 2734 2622 \nQ 2975 2850 2975 3272 \nQ 2975 3691 2734 3919 \nQ 2494 4147 2053 4147 \nL 1259 4147 \nz\nM 628 4666 \nL 2053 4666 \nQ 2838 4666 3239 4311 \nQ 3641 3956 3641 3272 \nQ 3641 2581 3239 2228 \nQ 2838 1875 2053 1875 \nL 1259 1875 \nL 1259 0 \nL 628 0 \nL 628 4666 \nz\n\" id=\"DejaVuSans-50\" transform=\"scale(0.015625)\"/>\n        <path d=\"M 1959 3097 \nQ 1497 3097 1228 2736 \nQ 959 2375 959 1747 \nQ 959 1119 1226 758 \nQ 1494 397 1959 397 \nQ 2419 397 2687 759 \nQ 2956 1122 2956 1747 \nQ 2956 2369 2687 2733 \nQ 2419 3097 1959 3097 \nz\nM 1959 3584 \nQ 2709 3584 3137 3096 \nQ 3566 2609 3566 1747 \nQ 3566 888 3137 398 \nQ 2709 -91 1959 -91 \nQ 1206 -91 779 398 \nQ 353 888 353 1747 \nQ 353 2609 779 3096 \nQ 1206 3584 1959 3584 \nz\n\" id=\"DejaVuSans-6f\" transform=\"scale(0.015625)\"/>\n        <path d=\"M 2834 3397 \nL 2834 2853 \nQ 2591 2978 2328 3040 \nQ 2066 3103 1784 3103 \nQ 1356 3103 1142 2972 \nQ 928 2841 928 2578 \nQ 928 2378 1081 2264 \nQ 1234 2150 1697 2047 \nL 1894 2003 \nQ 2506 1872 2764 1633 \nQ 3022 1394 3022 966 \nQ 3022 478 2636 193 \nQ 2250 -91 1575 -91 \nQ 1294 -91 989 -36 \nQ 684 19 347 128 \nL 347 722 \nQ 666 556 975 473 \nQ 1284 391 1588 391 \nQ 1994 391 2212 530 \nQ 2431 669 2431 922 \nQ 2431 1156 2273 1281 \nQ 2116 1406 1581 1522 \nL 1381 1569 \nQ 847 1681 609 1914 \nQ 372 2147 372 2553 \nQ 372 3047 722 3315 \nQ 1072 3584 1716 3584 \nQ 2034 3584 2315 3537 \nQ 2597 3491 2834 3397 \nz\n\" id=\"DejaVuSans-73\" transform=\"scale(0.015625)\"/>\n        <path d=\"M 603 3500 \nL 1178 3500 \nL 1178 0 \nL 603 0 \nL 603 3500 \nz\nM 603 4863 \nL 1178 4863 \nL 1178 4134 \nL 603 4134 \nL 603 4863 \nz\n\" id=\"DejaVuSans-69\" transform=\"scale(0.015625)\"/>\n        <path d=\"M 1172 4494 \nL 1172 3500 \nL 2356 3500 \nL 2356 3053 \nL 1172 3053 \nL 1172 1153 \nQ 1172 725 1289 603 \nQ 1406 481 1766 481 \nL 2356 481 \nL 2356 0 \nL 1766 0 \nQ 1100 0 847 248 \nQ 594 497 594 1153 \nL 594 3053 \nL 172 3053 \nL 172 3500 \nL 594 3500 \nL 594 4494 \nL 1172 4494 \nz\n\" id=\"DejaVuSans-74\" transform=\"scale(0.015625)\"/>\n        <path d=\"M 191 3500 \nL 800 3500 \nL 1894 563 \nL 2988 3500 \nL 3597 3500 \nL 2284 0 \nL 1503 0 \nL 191 3500 \nz\n\" id=\"DejaVuSans-76\" transform=\"scale(0.015625)\"/>\n        <path d=\"M 3597 1894 \nL 3597 1613 \nL 953 1613 \nQ 991 1019 1311 708 \nQ 1631 397 2203 397 \nQ 2534 397 2845 478 \nQ 3156 559 3463 722 \nL 3463 178 \nQ 3153 47 2828 -22 \nQ 2503 -91 2169 -91 \nQ 1331 -91 842 396 \nQ 353 884 353 1716 \nQ 353 2575 817 3079 \nQ 1281 3584 2069 3584 \nQ 2775 3584 3186 3129 \nQ 3597 2675 3597 1894 \nz\nM 3022 2063 \nQ 3016 2534 2758 2815 \nQ 2500 3097 2075 3097 \nQ 1594 3097 1305 2825 \nQ 1016 2553 972 2059 \nL 3022 2063 \nz\n\" id=\"DejaVuSans-65\" transform=\"scale(0.015625)\"/>\n       </defs>\n       <use xlink:href=\"#DejaVuSans-50\"/>\n       <use x=\"56.677734\" xlink:href=\"#DejaVuSans-6f\"/>\n       <use x=\"117.859375\" xlink:href=\"#DejaVuSans-73\"/>\n       <use x=\"169.958984\" xlink:href=\"#DejaVuSans-69\"/>\n       <use x=\"197.742188\" xlink:href=\"#DejaVuSans-74\"/>\n       <use x=\"236.951172\" xlink:href=\"#DejaVuSans-69\"/>\n       <use x=\"264.734375\" xlink:href=\"#DejaVuSans-76\"/>\n       <use x=\"323.914062\" xlink:href=\"#DejaVuSans-65\"/>\n      </g>\n     </g>\n    </g>\n    <g id=\"xtick_2\">\n     <g id=\"line2d_2\">\n      <g>\n       <use style=\"stroke:#000000;stroke-width:0.8;\" x=\"327.655938\" xlink:href=\"#m86f603456b\" y=\"442.08\"/>\n      </g>\n     </g>\n     <g id=\"text_2\">\n      <!-- Negative -->\n      <g transform=\"translate(282.774688 464.276875)scale(0.2 -0.2)\">\n       <defs>\n        <path d=\"M 628 4666 \nL 1478 4666 \nL 3547 763 \nL 3547 4666 \nL 4159 4666 \nL 4159 0 \nL 3309 0 \nL 1241 3903 \nL 1241 0 \nL 628 0 \nL 628 4666 \nz\n\" id=\"DejaVuSans-4e\" transform=\"scale(0.015625)\"/>\n        <path d=\"M 2906 1791 \nQ 2906 2416 2648 2759 \nQ 2391 3103 1925 3103 \nQ 1463 3103 1205 2759 \nQ 947 2416 947 1791 \nQ 947 1169 1205 825 \nQ 1463 481 1925 481 \nQ 2391 481 2648 825 \nQ 2906 1169 2906 1791 \nz\nM 3481 434 \nQ 3481 -459 3084 -895 \nQ 2688 -1331 1869 -1331 \nQ 1566 -1331 1297 -1286 \nQ 1028 -1241 775 -1147 \nL 775 -588 \nQ 1028 -725 1275 -790 \nQ 1522 -856 1778 -856 \nQ 2344 -856 2625 -561 \nQ 2906 -266 2906 331 \nL 2906 616 \nQ 2728 306 2450 153 \nQ 2172 0 1784 0 \nQ 1141 0 747 490 \nQ 353 981 353 1791 \nQ 353 2603 747 3093 \nQ 1141 3584 1784 3584 \nQ 2172 3584 2450 3431 \nQ 2728 3278 2906 2969 \nL 2906 3500 \nL 3481 3500 \nL 3481 434 \nz\n\" id=\"DejaVuSans-67\" transform=\"scale(0.015625)\"/>\n        <path d=\"M 2194 1759 \nQ 1497 1759 1228 1600 \nQ 959 1441 959 1056 \nQ 959 750 1161 570 \nQ 1363 391 1709 391 \nQ 2188 391 2477 730 \nQ 2766 1069 2766 1631 \nL 2766 1759 \nL 2194 1759 \nz\nM 3341 1997 \nL 3341 0 \nL 2766 0 \nL 2766 531 \nQ 2569 213 2275 61 \nQ 1981 -91 1556 -91 \nQ 1019 -91 701 211 \nQ 384 513 384 1019 \nQ 384 1609 779 1909 \nQ 1175 2209 1959 2209 \nL 2766 2209 \nL 2766 2266 \nQ 2766 2663 2505 2880 \nQ 2244 3097 1772 3097 \nQ 1472 3097 1187 3025 \nQ 903 2953 641 2809 \nL 641 3341 \nQ 956 3463 1253 3523 \nQ 1550 3584 1831 3584 \nQ 2591 3584 2966 3190 \nQ 3341 2797 3341 1997 \nz\n\" id=\"DejaVuSans-61\" transform=\"scale(0.015625)\"/>\n       </defs>\n       <use xlink:href=\"#DejaVuSans-4e\"/>\n       <use x=\"74.804688\" xlink:href=\"#DejaVuSans-65\"/>\n       <use x=\"136.328125\" xlink:href=\"#DejaVuSans-67\"/>\n       <use x=\"199.804688\" xlink:href=\"#DejaVuSans-61\"/>\n       <use x=\"261.083984\" xlink:href=\"#DejaVuSans-74\"/>\n       <use x=\"300.292969\" xlink:href=\"#DejaVuSans-69\"/>\n       <use x=\"328.076172\" xlink:href=\"#DejaVuSans-76\"/>\n       <use x=\"387.255859\" xlink:href=\"#DejaVuSans-65\"/>\n      </g>\n     </g>\n    </g>\n    <g id=\"text_3\">\n     <!-- Predicted -->\n     <g transform=\"translate(184.394219 489.912656)scale(0.23 -0.23)\">\n      <defs>\n       <path d=\"M 2631 2963 \nQ 2534 3019 2420 3045 \nQ 2306 3072 2169 3072 \nQ 1681 3072 1420 2755 \nQ 1159 2438 1159 1844 \nL 1159 0 \nL 581 0 \nL 581 3500 \nL 1159 3500 \nL 1159 2956 \nQ 1341 3275 1631 3429 \nQ 1922 3584 2338 3584 \nQ 2397 3584 2469 3576 \nQ 2541 3569 2628 3553 \nL 2631 2963 \nz\n\" id=\"DejaVuSans-72\" transform=\"scale(0.015625)\"/>\n       <path d=\"M 2906 2969 \nL 2906 4863 \nL 3481 4863 \nL 3481 0 \nL 2906 0 \nL 2906 525 \nQ 2725 213 2448 61 \nQ 2172 -91 1784 -91 \nQ 1150 -91 751 415 \nQ 353 922 353 1747 \nQ 353 2572 751 3078 \nQ 1150 3584 1784 3584 \nQ 2172 3584 2448 3432 \nQ 2725 3281 2906 2969 \nz\nM 947 1747 \nQ 947 1113 1208 752 \nQ 1469 391 1925 391 \nQ 2381 391 2643 752 \nQ 2906 1113 2906 1747 \nQ 2906 2381 2643 2742 \nQ 2381 3103 1925 3103 \nQ 1469 3103 1208 2742 \nQ 947 2381 947 1747 \nz\n\" id=\"DejaVuSans-64\" transform=\"scale(0.015625)\"/>\n       <path d=\"M 3122 3366 \nL 3122 2828 \nQ 2878 2963 2633 3030 \nQ 2388 3097 2138 3097 \nQ 1578 3097 1268 2742 \nQ 959 2388 959 1747 \nQ 959 1106 1268 751 \nQ 1578 397 2138 397 \nQ 2388 397 2633 464 \nQ 2878 531 3122 666 \nL 3122 134 \nQ 2881 22 2623 -34 \nQ 2366 -91 2075 -91 \nQ 1284 -91 818 406 \nQ 353 903 353 1747 \nQ 353 2603 823 3093 \nQ 1294 3584 2113 3584 \nQ 2378 3584 2631 3529 \nQ 2884 3475 3122 3366 \nz\n\" id=\"DejaVuSans-63\" transform=\"scale(0.015625)\"/>\n      </defs>\n      <use xlink:href=\"#DejaVuSans-50\"/>\n      <use x=\"58.552734\" xlink:href=\"#DejaVuSans-72\"/>\n      <use x=\"97.416016\" xlink:href=\"#DejaVuSans-65\"/>\n      <use x=\"158.939453\" xlink:href=\"#DejaVuSans-64\"/>\n      <use x=\"222.416016\" xlink:href=\"#DejaVuSans-69\"/>\n      <use x=\"250.199219\" xlink:href=\"#DejaVuSans-63\"/>\n      <use x=\"305.179688\" xlink:href=\"#DejaVuSans-74\"/>\n      <use x=\"344.388672\" xlink:href=\"#DejaVuSans-65\"/>\n      <use x=\"405.912109\" xlink:href=\"#DejaVuSans-64\"/>\n     </g>\n    </g>\n   </g>\n   <g id=\"matplotlib.axis_2\">\n    <g id=\"ytick_1\">\n     <g id=\"line2d_3\">\n      <defs>\n       <path d=\"M 0 0 \nL -3.5 0 \n\" id=\"m0c1fc3f777\" style=\"stroke:#000000;stroke-width:0.8;\"/>\n      </defs>\n      <g>\n       <use style=\"stroke:#000000;stroke-width:0.8;\" x=\"59.815938\" xlink:href=\"#m0c1fc3f777\" y=\"115.92\"/>\n      </g>\n     </g>\n     <g id=\"text_4\">\n      <!-- Positive -->\n      <g transform=\"translate(48.656563 154.46375)rotate(-90)scale(0.2 -0.2)\">\n       <use xlink:href=\"#DejaVuSans-50\"/>\n       <use x=\"56.677734\" xlink:href=\"#DejaVuSans-6f\"/>\n       <use x=\"117.859375\" xlink:href=\"#DejaVuSans-73\"/>\n       <use x=\"169.958984\" xlink:href=\"#DejaVuSans-69\"/>\n       <use x=\"197.742188\" xlink:href=\"#DejaVuSans-74\"/>\n       <use x=\"236.951172\" xlink:href=\"#DejaVuSans-69\"/>\n       <use x=\"264.734375\" xlink:href=\"#DejaVuSans-76\"/>\n       <use x=\"323.914062\" xlink:href=\"#DejaVuSans-65\"/>\n      </g>\n     </g>\n    </g>\n    <g id=\"ytick_2\">\n     <g id=\"line2d_4\">\n      <g>\n       <use style=\"stroke:#000000;stroke-width:0.8;\" x=\"59.815938\" xlink:href=\"#m0c1fc3f777\" y=\"333.36\"/>\n      </g>\n     </g>\n     <g id=\"text_5\">\n      <!-- Negative -->\n      <g transform=\"translate(48.656563 378.24125)rotate(-90)scale(0.2 -0.2)\">\n       <use xlink:href=\"#DejaVuSans-4e\"/>\n       <use x=\"74.804688\" xlink:href=\"#DejaVuSans-65\"/>\n       <use x=\"136.328125\" xlink:href=\"#DejaVuSans-67\"/>\n       <use x=\"199.804688\" xlink:href=\"#DejaVuSans-61\"/>\n       <use x=\"261.083984\" xlink:href=\"#DejaVuSans-74\"/>\n       <use x=\"300.292969\" xlink:href=\"#DejaVuSans-69\"/>\n       <use x=\"328.076172\" xlink:href=\"#DejaVuSans-76\"/>\n       <use x=\"387.255859\" xlink:href=\"#DejaVuSans-65\"/>\n      </g>\n     </g>\n    </g>\n    <g id=\"text_6\">\n     <!-- Real -->\n     <g transform=\"translate(24.676406 249.431484)rotate(-90)scale(0.23 -0.23)\">\n      <defs>\n       <path d=\"M 2841 2188 \nQ 3044 2119 3236 1894 \nQ 3428 1669 3622 1275 \nL 4263 0 \nL 3584 0 \nL 2988 1197 \nQ 2756 1666 2539 1819 \nQ 2322 1972 1947 1972 \nL 1259 1972 \nL 1259 0 \nL 628 0 \nL 628 4666 \nL 2053 4666 \nQ 2853 4666 3247 4331 \nQ 3641 3997 3641 3322 \nQ 3641 2881 3436 2590 \nQ 3231 2300 2841 2188 \nz\nM 1259 4147 \nL 1259 2491 \nL 2053 2491 \nQ 2509 2491 2742 2702 \nQ 2975 2913 2975 3322 \nQ 2975 3731 2742 3939 \nQ 2509 4147 2053 4147 \nL 1259 4147 \nz\n\" id=\"DejaVuSans-52\" transform=\"scale(0.015625)\"/>\n       <path d=\"M 603 4863 \nL 1178 4863 \nL 1178 0 \nL 603 0 \nL 603 4863 \nz\n\" id=\"DejaVuSans-6c\" transform=\"scale(0.015625)\"/>\n      </defs>\n      <use xlink:href=\"#DejaVuSans-52\"/>\n      <use x=\"64.982422\" xlink:href=\"#DejaVuSans-65\"/>\n      <use x=\"126.505859\" xlink:href=\"#DejaVuSans-61\"/>\n      <use x=\"187.785156\" xlink:href=\"#DejaVuSans-6c\"/>\n     </g>\n    </g>\n   </g>\n   <g id=\"text_7\">\n    <!-- True Pos -->\n    <g style=\"fill:#262626;\" transform=\"translate(107.688125 99.043125)scale(0.2 -0.2)\">\n     <defs>\n      <path d=\"M -19 4666 \nL 3928 4666 \nL 3928 4134 \nL 2272 4134 \nL 2272 0 \nL 1638 0 \nL 1638 4134 \nL -19 4134 \nL -19 4666 \nz\n\" id=\"DejaVuSans-54\" transform=\"scale(0.015625)\"/>\n      <path d=\"M 544 1381 \nL 544 3500 \nL 1119 3500 \nL 1119 1403 \nQ 1119 906 1312 657 \nQ 1506 409 1894 409 \nQ 2359 409 2629 706 \nQ 2900 1003 2900 1516 \nL 2900 3500 \nL 3475 3500 \nL 3475 0 \nL 2900 0 \nL 2900 538 \nQ 2691 219 2414 64 \nQ 2138 -91 1772 -91 \nQ 1169 -91 856 284 \nQ 544 659 544 1381 \nz\nM 1991 3584 \nL 1991 3584 \nz\n\" id=\"DejaVuSans-75\" transform=\"scale(0.015625)\"/>\n      <path id=\"DejaVuSans-20\" transform=\"scale(0.015625)\"/>\n     </defs>\n     <use xlink:href=\"#DejaVuSans-54\"/>\n     <use x=\"46.333984\" xlink:href=\"#DejaVuSans-72\"/>\n     <use x=\"87.447266\" xlink:href=\"#DejaVuSans-75\"/>\n     <use x=\"150.826172\" xlink:href=\"#DejaVuSans-65\"/>\n     <use x=\"212.349609\" xlink:href=\"#DejaVuSans-20\"/>\n     <use x=\"244.136719\" xlink:href=\"#DejaVuSans-50\"/>\n     <use x=\"300.814453\" xlink:href=\"#DejaVuSans-6f\"/>\n     <use x=\"361.996094\" xlink:href=\"#DejaVuSans-73\"/>\n    </g>\n    <!-- 3229 -->\n    <g style=\"fill:#262626;\" transform=\"translate(123.645938 121.43875)scale(0.2 -0.2)\">\n     <defs>\n      <path d=\"M 2597 2516 \nQ 3050 2419 3304 2112 \nQ 3559 1806 3559 1356 \nQ 3559 666 3084 287 \nQ 2609 -91 1734 -91 \nQ 1441 -91 1130 -33 \nQ 819 25 488 141 \nL 488 750 \nQ 750 597 1062 519 \nQ 1375 441 1716 441 \nQ 2309 441 2620 675 \nQ 2931 909 2931 1356 \nQ 2931 1769 2642 2001 \nQ 2353 2234 1838 2234 \nL 1294 2234 \nL 1294 2753 \nL 1863 2753 \nQ 2328 2753 2575 2939 \nQ 2822 3125 2822 3475 \nQ 2822 3834 2567 4026 \nQ 2313 4219 1838 4219 \nQ 1578 4219 1281 4162 \nQ 984 4106 628 3988 \nL 628 4550 \nQ 988 4650 1302 4700 \nQ 1616 4750 1894 4750 \nQ 2613 4750 3031 4423 \nQ 3450 4097 3450 3541 \nQ 3450 3153 3228 2886 \nQ 3006 2619 2597 2516 \nz\n\" id=\"DejaVuSans-33\" transform=\"scale(0.015625)\"/>\n      <path d=\"M 1228 531 \nL 3431 531 \nL 3431 0 \nL 469 0 \nL 469 531 \nQ 828 903 1448 1529 \nQ 2069 2156 2228 2338 \nQ 2531 2678 2651 2914 \nQ 2772 3150 2772 3378 \nQ 2772 3750 2511 3984 \nQ 2250 4219 1831 4219 \nQ 1534 4219 1204 4116 \nQ 875 4013 500 3803 \nL 500 4441 \nQ 881 4594 1212 4672 \nQ 1544 4750 1819 4750 \nQ 2544 4750 2975 4387 \nQ 3406 4025 3406 3419 \nQ 3406 3131 3298 2873 \nQ 3191 2616 2906 2266 \nQ 2828 2175 2409 1742 \nQ 1991 1309 1228 531 \nz\n\" id=\"DejaVuSans-32\" transform=\"scale(0.015625)\"/>\n      <path d=\"M 703 97 \nL 703 672 \nQ 941 559 1184 500 \nQ 1428 441 1663 441 \nQ 2288 441 2617 861 \nQ 2947 1281 2994 2138 \nQ 2813 1869 2534 1725 \nQ 2256 1581 1919 1581 \nQ 1219 1581 811 2004 \nQ 403 2428 403 3163 \nQ 403 3881 828 4315 \nQ 1253 4750 1959 4750 \nQ 2769 4750 3195 4129 \nQ 3622 3509 3622 2328 \nQ 3622 1225 3098 567 \nQ 2575 -91 1691 -91 \nQ 1453 -91 1209 -44 \nQ 966 3 703 97 \nz\nM 1959 2075 \nQ 2384 2075 2632 2365 \nQ 2881 2656 2881 3163 \nQ 2881 3666 2632 3958 \nQ 2384 4250 1959 4250 \nQ 1534 4250 1286 3958 \nQ 1038 3666 1038 3163 \nQ 1038 2656 1286 2365 \nQ 1534 2075 1959 2075 \nz\n\" id=\"DejaVuSans-39\" transform=\"scale(0.015625)\"/>\n     </defs>\n     <use xlink:href=\"#DejaVuSans-33\"/>\n     <use x=\"63.623047\" xlink:href=\"#DejaVuSans-32\"/>\n     <use x=\"127.246094\" xlink:href=\"#DejaVuSans-32\"/>\n     <use x=\"190.869141\" xlink:href=\"#DejaVuSans-39\"/>\n    </g>\n    <!-- 1.84% -->\n    <g style=\"fill:#262626;\" transform=\"translate(117.32875 143.834375)scale(0.2 -0.2)\">\n     <defs>\n      <path d=\"M 794 531 \nL 1825 531 \nL 1825 4091 \nL 703 3866 \nL 703 4441 \nL 1819 4666 \nL 2450 4666 \nL 2450 531 \nL 3481 531 \nL 3481 0 \nL 794 0 \nL 794 531 \nz\n\" id=\"DejaVuSans-31\" transform=\"scale(0.015625)\"/>\n      <path d=\"M 684 794 \nL 1344 794 \nL 1344 0 \nL 684 0 \nL 684 794 \nz\n\" id=\"DejaVuSans-2e\" transform=\"scale(0.015625)\"/>\n      <path d=\"M 2034 2216 \nQ 1584 2216 1326 1975 \nQ 1069 1734 1069 1313 \nQ 1069 891 1326 650 \nQ 1584 409 2034 409 \nQ 2484 409 2743 651 \nQ 3003 894 3003 1313 \nQ 3003 1734 2745 1975 \nQ 2488 2216 2034 2216 \nz\nM 1403 2484 \nQ 997 2584 770 2862 \nQ 544 3141 544 3541 \nQ 544 4100 942 4425 \nQ 1341 4750 2034 4750 \nQ 2731 4750 3128 4425 \nQ 3525 4100 3525 3541 \nQ 3525 3141 3298 2862 \nQ 3072 2584 2669 2484 \nQ 3125 2378 3379 2068 \nQ 3634 1759 3634 1313 \nQ 3634 634 3220 271 \nQ 2806 -91 2034 -91 \nQ 1263 -91 848 271 \nQ 434 634 434 1313 \nQ 434 1759 690 2068 \nQ 947 2378 1403 2484 \nz\nM 1172 3481 \nQ 1172 3119 1398 2916 \nQ 1625 2713 2034 2713 \nQ 2441 2713 2670 2916 \nQ 2900 3119 2900 3481 \nQ 2900 3844 2670 4047 \nQ 2441 4250 2034 4250 \nQ 1625 4250 1398 4047 \nQ 1172 3844 1172 3481 \nz\n\" id=\"DejaVuSans-38\" transform=\"scale(0.015625)\"/>\n      <path d=\"M 2419 4116 \nL 825 1625 \nL 2419 1625 \nL 2419 4116 \nz\nM 2253 4666 \nL 3047 4666 \nL 3047 1625 \nL 3713 1625 \nL 3713 1100 \nL 3047 1100 \nL 3047 0 \nL 2419 0 \nL 2419 1100 \nL 313 1100 \nL 313 1709 \nL 2253 4666 \nz\n\" id=\"DejaVuSans-34\" transform=\"scale(0.015625)\"/>\n      <path d=\"M 4653 2053 \nQ 4381 2053 4226 1822 \nQ 4072 1591 4072 1178 \nQ 4072 772 4226 539 \nQ 4381 306 4653 306 \nQ 4919 306 5073 539 \nQ 5228 772 5228 1178 \nQ 5228 1588 5073 1820 \nQ 4919 2053 4653 2053 \nz\nM 4653 2450 \nQ 5147 2450 5437 2106 \nQ 5728 1763 5728 1178 \nQ 5728 594 5436 251 \nQ 5144 -91 4653 -91 \nQ 4153 -91 3862 251 \nQ 3572 594 3572 1178 \nQ 3572 1766 3864 2108 \nQ 4156 2450 4653 2450 \nz\nM 1428 4353 \nQ 1159 4353 1004 4120 \nQ 850 3888 850 3481 \nQ 850 3069 1003 2837 \nQ 1156 2606 1428 2606 \nQ 1700 2606 1854 2837 \nQ 2009 3069 2009 3481 \nQ 2009 3884 1853 4118 \nQ 1697 4353 1428 4353 \nz\nM 4250 4750 \nL 4750 4750 \nL 1831 -91 \nL 1331 -91 \nL 4250 4750 \nz\nM 1428 4750 \nQ 1922 4750 2215 4408 \nQ 2509 4066 2509 3481 \nQ 2509 2891 2217 2550 \nQ 1925 2209 1428 2209 \nQ 931 2209 642 2551 \nQ 353 2894 353 3481 \nQ 353 4063 643 4406 \nQ 934 4750 1428 4750 \nz\n\" id=\"DejaVuSans-25\" transform=\"scale(0.015625)\"/>\n     </defs>\n     <use xlink:href=\"#DejaVuSans-31\"/>\n     <use x=\"63.623047\" xlink:href=\"#DejaVuSans-2e\"/>\n     <use x=\"95.410156\" xlink:href=\"#DejaVuSans-38\"/>\n     <use x=\"159.033203\" xlink:href=\"#DejaVuSans-34\"/>\n     <use x=\"222.65625\" xlink:href=\"#DejaVuSans-25\"/>\n    </g>\n   </g>\n   <g id=\"text_8\">\n    <!-- False Neg -->\n    <g style=\"fill:#262626;\" transform=\"translate(279.387188 99.043125)scale(0.2 -0.2)\">\n     <defs>\n      <path d=\"M 628 4666 \nL 3309 4666 \nL 3309 4134 \nL 1259 4134 \nL 1259 2759 \nL 3109 2759 \nL 3109 2228 \nL 1259 2228 \nL 1259 0 \nL 628 0 \nL 628 4666 \nz\n\" id=\"DejaVuSans-46\" transform=\"scale(0.015625)\"/>\n     </defs>\n     <use xlink:href=\"#DejaVuSans-46\"/>\n     <use x=\"48.394531\" xlink:href=\"#DejaVuSans-61\"/>\n     <use x=\"109.673828\" xlink:href=\"#DejaVuSans-6c\"/>\n     <use x=\"137.457031\" xlink:href=\"#DejaVuSans-73\"/>\n     <use x=\"189.556641\" xlink:href=\"#DejaVuSans-65\"/>\n     <use x=\"251.080078\" xlink:href=\"#DejaVuSans-20\"/>\n     <use x=\"282.867188\" xlink:href=\"#DejaVuSans-4e\"/>\n     <use x=\"357.671875\" xlink:href=\"#DejaVuSans-65\"/>\n     <use x=\"419.195312\" xlink:href=\"#DejaVuSans-67\"/>\n    </g>\n    <!-- 6177 -->\n    <g style=\"fill:#262626;\" transform=\"translate(302.205938 121.43875)scale(0.2 -0.2)\">\n     <defs>\n      <path d=\"M 2113 2584 \nQ 1688 2584 1439 2293 \nQ 1191 2003 1191 1497 \nQ 1191 994 1439 701 \nQ 1688 409 2113 409 \nQ 2538 409 2786 701 \nQ 3034 994 3034 1497 \nQ 3034 2003 2786 2293 \nQ 2538 2584 2113 2584 \nz\nM 3366 4563 \nL 3366 3988 \nQ 3128 4100 2886 4159 \nQ 2644 4219 2406 4219 \nQ 1781 4219 1451 3797 \nQ 1122 3375 1075 2522 \nQ 1259 2794 1537 2939 \nQ 1816 3084 2150 3084 \nQ 2853 3084 3261 2657 \nQ 3669 2231 3669 1497 \nQ 3669 778 3244 343 \nQ 2819 -91 2113 -91 \nQ 1303 -91 875 529 \nQ 447 1150 447 2328 \nQ 447 3434 972 4092 \nQ 1497 4750 2381 4750 \nQ 2619 4750 2861 4703 \nQ 3103 4656 3366 4563 \nz\n\" id=\"DejaVuSans-36\" transform=\"scale(0.015625)\"/>\n      <path d=\"M 525 4666 \nL 3525 4666 \nL 3525 4397 \nL 1831 0 \nL 1172 0 \nL 2766 4134 \nL 525 4134 \nL 525 4666 \nz\n\" id=\"DejaVuSans-37\" transform=\"scale(0.015625)\"/>\n     </defs>\n     <use xlink:href=\"#DejaVuSans-36\"/>\n     <use x=\"63.623047\" xlink:href=\"#DejaVuSans-31\"/>\n     <use x=\"127.246094\" xlink:href=\"#DejaVuSans-37\"/>\n     <use x=\"190.869141\" xlink:href=\"#DejaVuSans-37\"/>\n    </g>\n    <!-- 3.53% -->\n    <g style=\"fill:#262626;\" transform=\"translate(295.88875 143.834375)scale(0.2 -0.2)\">\n     <defs>\n      <path d=\"M 691 4666 \nL 3169 4666 \nL 3169 4134 \nL 1269 4134 \nL 1269 2991 \nQ 1406 3038 1543 3061 \nQ 1681 3084 1819 3084 \nQ 2600 3084 3056 2656 \nQ 3513 2228 3513 1497 \nQ 3513 744 3044 326 \nQ 2575 -91 1722 -91 \nQ 1428 -91 1123 -41 \nQ 819 9 494 109 \nL 494 744 \nQ 775 591 1075 516 \nQ 1375 441 1709 441 \nQ 2250 441 2565 725 \nQ 2881 1009 2881 1497 \nQ 2881 1984 2565 2268 \nQ 2250 2553 1709 2553 \nQ 1456 2553 1204 2497 \nQ 953 2441 691 2322 \nL 691 4666 \nz\n\" id=\"DejaVuSans-35\" transform=\"scale(0.015625)\"/>\n     </defs>\n     <use xlink:href=\"#DejaVuSans-33\"/>\n     <use x=\"63.623047\" xlink:href=\"#DejaVuSans-2e\"/>\n     <use x=\"95.410156\" xlink:href=\"#DejaVuSans-35\"/>\n     <use x=\"159.033203\" xlink:href=\"#DejaVuSans-33\"/>\n     <use x=\"222.65625\" xlink:href=\"#DejaVuSans-25\"/>\n    </g>\n   </g>\n   <g id=\"text_9\">\n    <!-- False Pos -->\n    <g style=\"fill:#262626;\" transform=\"translate(103.814688 316.483125)scale(0.2 -0.2)\">\n     <use xlink:href=\"#DejaVuSans-46\"/>\n     <use x=\"48.394531\" xlink:href=\"#DejaVuSans-61\"/>\n     <use x=\"109.673828\" xlink:href=\"#DejaVuSans-6c\"/>\n     <use x=\"137.457031\" xlink:href=\"#DejaVuSans-73\"/>\n     <use x=\"189.556641\" xlink:href=\"#DejaVuSans-65\"/>\n     <use x=\"251.080078\" xlink:href=\"#DejaVuSans-20\"/>\n     <use x=\"282.867188\" xlink:href=\"#DejaVuSans-50\"/>\n     <use x=\"339.544922\" xlink:href=\"#DejaVuSans-6f\"/>\n     <use x=\"400.726562\" xlink:href=\"#DejaVuSans-73\"/>\n    </g>\n    <!-- 2827 -->\n    <g style=\"fill:#262626;\" transform=\"translate(123.645938 338.87875)scale(0.2 -0.2)\">\n     <use xlink:href=\"#DejaVuSans-32\"/>\n     <use x=\"63.623047\" xlink:href=\"#DejaVuSans-38\"/>\n     <use x=\"127.246094\" xlink:href=\"#DejaVuSans-32\"/>\n     <use x=\"190.869141\" xlink:href=\"#DejaVuSans-37\"/>\n    </g>\n    <!-- 1.61% -->\n    <g style=\"fill:#262626;\" transform=\"translate(117.32875 361.274375)scale(0.2 -0.2)\">\n     <use xlink:href=\"#DejaVuSans-31\"/>\n     <use x=\"63.623047\" xlink:href=\"#DejaVuSans-2e\"/>\n     <use x=\"95.410156\" xlink:href=\"#DejaVuSans-36\"/>\n     <use x=\"159.033203\" xlink:href=\"#DejaVuSans-31\"/>\n     <use x=\"222.65625\" xlink:href=\"#DejaVuSans-25\"/>\n    </g>\n   </g>\n   <g id=\"text_10\">\n    <!-- True Neg -->\n    <g style=\"fill:#ffffff;\" transform=\"translate(283.260625 316.483125)scale(0.2 -0.2)\">\n     <use xlink:href=\"#DejaVuSans-54\"/>\n     <use x=\"46.333984\" xlink:href=\"#DejaVuSans-72\"/>\n     <use x=\"87.447266\" xlink:href=\"#DejaVuSans-75\"/>\n     <use x=\"150.826172\" xlink:href=\"#DejaVuSans-65\"/>\n     <use x=\"212.349609\" xlink:href=\"#DejaVuSans-20\"/>\n     <use x=\"244.136719\" xlink:href=\"#DejaVuSans-4e\"/>\n     <use x=\"318.941406\" xlink:href=\"#DejaVuSans-65\"/>\n     <use x=\"380.464844\" xlink:href=\"#DejaVuSans-67\"/>\n    </g>\n    <!-- 162844 -->\n    <g style=\"fill:#ffffff;\" transform=\"translate(289.480938 338.87875)scale(0.2 -0.2)\">\n     <use xlink:href=\"#DejaVuSans-31\"/>\n     <use x=\"63.623047\" xlink:href=\"#DejaVuSans-36\"/>\n     <use x=\"127.246094\" xlink:href=\"#DejaVuSans-32\"/>\n     <use x=\"190.869141\" xlink:href=\"#DejaVuSans-38\"/>\n     <use x=\"254.492188\" xlink:href=\"#DejaVuSans-34\"/>\n     <use x=\"318.115234\" xlink:href=\"#DejaVuSans-34\"/>\n    </g>\n    <!-- 93.01% -->\n    <g style=\"fill:#ffffff;\" transform=\"translate(289.52625 361.274375)scale(0.2 -0.2)\">\n     <defs>\n      <path d=\"M 2034 4250 \nQ 1547 4250 1301 3770 \nQ 1056 3291 1056 2328 \nQ 1056 1369 1301 889 \nQ 1547 409 2034 409 \nQ 2525 409 2770 889 \nQ 3016 1369 3016 2328 \nQ 3016 3291 2770 3770 \nQ 2525 4250 2034 4250 \nz\nM 2034 4750 \nQ 2819 4750 3233 4129 \nQ 3647 3509 3647 2328 \nQ 3647 1150 3233 529 \nQ 2819 -91 2034 -91 \nQ 1250 -91 836 529 \nQ 422 1150 422 2328 \nQ 422 3509 836 4129 \nQ 1250 4750 2034 4750 \nz\n\" id=\"DejaVuSans-30\" transform=\"scale(0.015625)\"/>\n     </defs>\n     <use xlink:href=\"#DejaVuSans-39\"/>\n     <use x=\"63.623047\" xlink:href=\"#DejaVuSans-33\"/>\n     <use x=\"127.246094\" xlink:href=\"#DejaVuSans-2e\"/>\n     <use x=\"159.033203\" xlink:href=\"#DejaVuSans-30\"/>\n     <use x=\"222.65625\" xlink:href=\"#DejaVuSans-31\"/>\n     <use x=\"286.279297\" xlink:href=\"#DejaVuSans-25\"/>\n    </g>\n   </g>\n  </g>\n  <g id=\"axes_2\">\n   <g id=\"patch_3\">\n    <path d=\"M 439.255938 442.08 \nL 460.999938 442.08 \nL 460.999938 7.2 \nL 439.255938 7.2 \nz\n\" style=\"fill:#ffffff;\"/>\n   </g>\n   <g id=\"patch_4\">\n    <path clip-path=\"url(#p121633d7e8)\" d=\"M 439.255938 442.08 \nL 439.255938 440.38125 \nL 439.255938 8.89875 \nL 439.255938 7.2 \nL 460.999938 7.2 \nL 460.999938 8.89875 \nL 460.999938 440.38125 \nL 460.999938 442.08 \nL 460.999938 442.08 \nz\n\" style=\"fill:#ffffff;stroke:#ffffff;stroke-linejoin:miter;stroke-width:0.01;\"/>\n   </g>\n   <image height=\"435\" id=\"imagec03429b275\" transform=\"scale(1 -1)translate(0 -435)\" width=\"22\" x=\"439\" xlink:href=\"data:image/png;base64,\niVBORw0KGgoAAAANSUhEUgAAABYAAAGzCAYAAAArEufSAAACIElEQVR4nO2cQW7DQAwDN4X//9sil8LuwVraH+BhgJkHEAJFaddxks/37/daBX4aomutdVyrUnCv4qIVF8yKY5Wad3RkiVbw4mbzgmuzL+zaDM24lYSBVuDiZvM2rs3AyzFPmBc3XsUOSPBxLBCPJh/HBmLzeBX34qYVN7y42bxg84LNC8SjyUU/ECu2eQOxYps3ABc90OPavcLmDbyKbV4oXgpd9AOxYgckwjgrznVWhHlxc/ICcPJOoBVO3g0wbjwrTrdbhJ28ATh5xEWPqxjocWekgVa46B9hrRh42+24Ltop7eQ9wloxGLdQG2mbF3gD4o0+ACfP5m2Ku0KPI4yz4sRdY/3oZkOMm5M3ACv2ZWyEgbsCd6+weRvgK6GWx8C1yZs84IDUdgWuebwBqe0Kc7xpXgpLwkArrHgA/tcN0ApcxS76DfBPG7zRb4Bx41Xsot84IC/hiqzNe+GiD8Bd4YBEmNc84oCUhHlWtH4kzIvbUdIFWmHFwbgFm9cX5lnRrLgmzLPCiiNc0QVa4aUwGLcAjJun9Ma49YV5Vhi3YNwCsuKaMM8KXMX+CGIArk3fKtSFjVuwecGK38IVXaAVVhyaX9yo6Nq8By+FAVlxTZhnhRXfuOiDzQu9S2HpAPHt2MOxSl94s3mh2byOMM9j4xZ4cSNawYubi34wbgEZN5t3g2xeRddd8VDzuJYKnhXGLXgpDMbtJeyT6VCr+B/aHFLWx1uuNQAAAABJRU5ErkJggg==\" y=\"-6\"/>\n   <g id=\"matplotlib.axis_3\"/>\n   <g id=\"matplotlib.axis_4\">\n    <g id=\"ytick_3\">\n     <g id=\"line2d_5\">\n      <defs>\n       <path d=\"M 0 0 \nL 3.5 0 \n\" id=\"m085981affa\" style=\"stroke:#000000;stroke-width:0.8;\"/>\n      </defs>\n      <g>\n       <use style=\"stroke:#000000;stroke-width:0.8;\" x=\"460.999938\" xlink:href=\"#m085981affa\" y=\"395.408745\"/>\n      </g>\n     </g>\n     <g id=\"text_11\">\n      <!-- 20000 -->\n      <g transform=\"translate(467.999938 399.207964)scale(0.1 -0.1)\">\n       <use xlink:href=\"#DejaVuSans-32\"/>\n       <use x=\"63.623047\" xlink:href=\"#DejaVuSans-30\"/>\n       <use x=\"127.246094\" xlink:href=\"#DejaVuSans-30\"/>\n       <use x=\"190.869141\" xlink:href=\"#DejaVuSans-30\"/>\n       <use x=\"254.492188\" xlink:href=\"#DejaVuSans-30\"/>\n      </g>\n     </g>\n    </g>\n    <g id=\"ytick_4\">\n     <g id=\"line2d_6\">\n      <g>\n       <use style=\"stroke:#000000;stroke-width:0.8;\" x=\"460.999938\" xlink:href=\"#m085981affa\" y=\"341.05452\"/>\n      </g>\n     </g>\n     <g id=\"text_12\">\n      <!-- 40000 -->\n      <g transform=\"translate(467.999938 344.853739)scale(0.1 -0.1)\">\n       <use xlink:href=\"#DejaVuSans-34\"/>\n       <use x=\"63.623047\" xlink:href=\"#DejaVuSans-30\"/>\n       <use x=\"127.246094\" xlink:href=\"#DejaVuSans-30\"/>\n       <use x=\"190.869141\" xlink:href=\"#DejaVuSans-30\"/>\n       <use x=\"254.492188\" xlink:href=\"#DejaVuSans-30\"/>\n      </g>\n     </g>\n    </g>\n    <g id=\"ytick_5\">\n     <g id=\"line2d_7\">\n      <g>\n       <use style=\"stroke:#000000;stroke-width:0.8;\" x=\"460.999938\" xlink:href=\"#m085981affa\" y=\"286.700295\"/>\n      </g>\n     </g>\n     <g id=\"text_13\">\n      <!-- 60000 -->\n      <g transform=\"translate(467.999938 290.499514)scale(0.1 -0.1)\">\n       <use xlink:href=\"#DejaVuSans-36\"/>\n       <use x=\"63.623047\" xlink:href=\"#DejaVuSans-30\"/>\n       <use x=\"127.246094\" xlink:href=\"#DejaVuSans-30\"/>\n       <use x=\"190.869141\" xlink:href=\"#DejaVuSans-30\"/>\n       <use x=\"254.492188\" xlink:href=\"#DejaVuSans-30\"/>\n      </g>\n     </g>\n    </g>\n    <g id=\"ytick_6\">\n     <g id=\"line2d_8\">\n      <g>\n       <use style=\"stroke:#000000;stroke-width:0.8;\" x=\"460.999938\" xlink:href=\"#m085981affa\" y=\"232.34607\"/>\n      </g>\n     </g>\n     <g id=\"text_14\">\n      <!-- 80000 -->\n      <g transform=\"translate(467.999938 236.145289)scale(0.1 -0.1)\">\n       <use xlink:href=\"#DejaVuSans-38\"/>\n       <use x=\"63.623047\" xlink:href=\"#DejaVuSans-30\"/>\n       <use x=\"127.246094\" xlink:href=\"#DejaVuSans-30\"/>\n       <use x=\"190.869141\" xlink:href=\"#DejaVuSans-30\"/>\n       <use x=\"254.492188\" xlink:href=\"#DejaVuSans-30\"/>\n      </g>\n     </g>\n    </g>\n    <g id=\"ytick_7\">\n     <g id=\"line2d_9\">\n      <g>\n       <use style=\"stroke:#000000;stroke-width:0.8;\" x=\"460.999938\" xlink:href=\"#m085981affa\" y=\"177.991845\"/>\n      </g>\n     </g>\n     <g id=\"text_15\">\n      <!-- 100000 -->\n      <g transform=\"translate(467.999938 181.791064)scale(0.1 -0.1)\">\n       <use xlink:href=\"#DejaVuSans-31\"/>\n       <use x=\"63.623047\" xlink:href=\"#DejaVuSans-30\"/>\n       <use x=\"127.246094\" xlink:href=\"#DejaVuSans-30\"/>\n       <use x=\"190.869141\" xlink:href=\"#DejaVuSans-30\"/>\n       <use x=\"254.492188\" xlink:href=\"#DejaVuSans-30\"/>\n       <use x=\"318.115234\" xlink:href=\"#DejaVuSans-30\"/>\n      </g>\n     </g>\n    </g>\n    <g id=\"ytick_8\">\n     <g id=\"line2d_10\">\n      <g>\n       <use style=\"stroke:#000000;stroke-width:0.8;\" x=\"460.999938\" xlink:href=\"#m085981affa\" y=\"123.637621\"/>\n      </g>\n     </g>\n     <g id=\"text_16\">\n      <!-- 120000 -->\n      <g transform=\"translate(467.999938 127.436839)scale(0.1 -0.1)\">\n       <use xlink:href=\"#DejaVuSans-31\"/>\n       <use x=\"63.623047\" xlink:href=\"#DejaVuSans-32\"/>\n       <use x=\"127.246094\" xlink:href=\"#DejaVuSans-30\"/>\n       <use x=\"190.869141\" xlink:href=\"#DejaVuSans-30\"/>\n       <use x=\"254.492188\" xlink:href=\"#DejaVuSans-30\"/>\n       <use x=\"318.115234\" xlink:href=\"#DejaVuSans-30\"/>\n      </g>\n     </g>\n    </g>\n    <g id=\"ytick_9\">\n     <g id=\"line2d_11\">\n      <g>\n       <use style=\"stroke:#000000;stroke-width:0.8;\" x=\"460.999938\" xlink:href=\"#m085981affa\" y=\"69.283396\"/>\n      </g>\n     </g>\n     <g id=\"text_17\">\n      <!-- 140000 -->\n      <g transform=\"translate(467.999938 73.082614)scale(0.1 -0.1)\">\n       <use xlink:href=\"#DejaVuSans-31\"/>\n       <use x=\"63.623047\" xlink:href=\"#DejaVuSans-34\"/>\n       <use x=\"127.246094\" xlink:href=\"#DejaVuSans-30\"/>\n       <use x=\"190.869141\" xlink:href=\"#DejaVuSans-30\"/>\n       <use x=\"254.492188\" xlink:href=\"#DejaVuSans-30\"/>\n       <use x=\"318.115234\" xlink:href=\"#DejaVuSans-30\"/>\n      </g>\n     </g>\n    </g>\n    <g id=\"ytick_10\">\n     <g id=\"line2d_12\">\n      <g>\n       <use style=\"stroke:#000000;stroke-width:0.8;\" x=\"460.999938\" xlink:href=\"#m085981affa\" y=\"14.929171\"/>\n      </g>\n     </g>\n     <g id=\"text_18\">\n      <!-- 160000 -->\n      <g transform=\"translate(467.999938 18.72839)scale(0.1 -0.1)\">\n       <use xlink:href=\"#DejaVuSans-31\"/>\n       <use x=\"63.623047\" xlink:href=\"#DejaVuSans-36\"/>\n       <use x=\"127.246094\" xlink:href=\"#DejaVuSans-30\"/>\n       <use x=\"190.869141\" xlink:href=\"#DejaVuSans-30\"/>\n       <use x=\"254.492188\" xlink:href=\"#DejaVuSans-30\"/>\n       <use x=\"318.115234\" xlink:href=\"#DejaVuSans-30\"/>\n      </g>\n     </g>\n    </g>\n   </g>\n   <g id=\"LineCollection_1\"/>\n   <g id=\"patch_5\">\n    <path d=\"M 439.255938 442.08 \nL 439.255938 440.38125 \nL 439.255938 8.89875 \nL 439.255938 7.2 \nL 460.999938 7.2 \nL 460.999938 8.89875 \nL 460.999938 440.38125 \nL 460.999938 442.08 \nz\n\" style=\"fill:none;\"/>\n   </g>\n  </g>\n </g>\n <defs>\n  <clipPath id=\"pae1258dd65\">\n   <rect height=\"434.88\" width=\"357.12\" x=\"59.815938\" y=\"7.2\"/>\n  </clipPath>\n  <clipPath id=\"p121633d7e8\">\n   <rect height=\"434.88\" width=\"21.744\" x=\"439.255938\" y=\"7.2\"/>\n  </clipPath>\n </defs>\n</svg>\n",
      "text/plain": [
       "<Figure size 576x576 with 2 Axes>"
      ]
     },
     "metadata": {
      "needs_background": "light"
     }
    }
   ],
   "metadata": {}
  },
  {
   "cell_type": "code",
   "execution_count": 105,
   "source": [
    "tree_data = export_graphviz(\n",
    "    decision_tree = model,\n",
    "    out_file=None,\n",
    "    #*,\n",
    "    max_depth=3,\n",
    "    feature_names= features,\n",
    "    class_names=['No Compra','Compra'],\n",
    "    #label='all',\n",
    "    filled=True,\n",
    "    #leaves_parallel=False,\n",
    "    impurity=True,\n",
    "    #node_ids=False,\n",
    "    proportion=True,\n",
    "    rotate=True,\n",
    "    rounded=True,\n",
    "    #special_characters=False,\n",
    "    precision=3,\n",
    ")\n",
    "\n",
    "graph = graphviz.Source(tree_data, format='png')\n",
    "graph"
   ],
   "outputs": [
    {
     "output_type": "error",
     "ename": "IndentationError",
     "evalue": "unexpected indent (3021465641.py, line 2)",
     "traceback": [
      "\u001b[0;36m  File \u001b[0;32m\"/var/folders/rl/wnjs7ngd5ws98f9x2dfzsvnr0000gn/T/ipykernel_38820/3021465641.py\"\u001b[0;36m, line \u001b[0;32m2\u001b[0m\n\u001b[0;31m    decision_tree = model,\u001b[0m\n\u001b[0m    ^\u001b[0m\n\u001b[0;31mIndentationError\u001b[0m\u001b[0;31m:\u001b[0m unexpected indent\n"
     ]
    }
   ],
   "metadata": {}
  },
  {
   "cell_type": "markdown",
   "source": [
    "# Modelo inversión \n",
    "Un caso similar a los modelos anteriores, se debe balancear, pocos datos y le cuesta predecir compras"
   ],
   "metadata": {}
  },
  {
   "cell_type": "code",
   "execution_count": 93,
   "source": [
    "df['compras_inversión'].value_counts()"
   ],
   "outputs": [
    {
     "output_type": "execute_result",
     "data": {
      "text/plain": [
       "0    1471539\n",
       "1      94865\n",
       "Name: compras_inversión, dtype: int64"
      ]
     },
     "metadata": {},
     "execution_count": 93
    }
   ],
   "metadata": {}
  },
  {
   "cell_type": "code",
   "execution_count": 94,
   "source": [
    "X_train, y_train, X_test, y_test, X_validation, y_validation = \\\n",
    "    dataset_split(df, 'compras_inversión', \"oversampling\", targets, dist=0, times=2)\n",
    "\n",
    "features = X_train.columns.to_list()\n",
    "features.remove('pk_cid')\n",
    "features.remove('precio')"
   ],
   "outputs": [],
   "metadata": {}
  },
  {
   "cell_type": "code",
   "execution_count": 95,
   "source": [
    "print('TRAIN: ',y_train.shape[0]) \n",
    "print(y_train.value_counts(normalize=True),'\\n')\n",
    "\n",
    "print('TEST: ', y_test.shape[0])\n",
    "print(y_test.value_counts(normalize=True),'\\n')\n",
    "\n",
    "print('VALIDATION: ',y_validation.shape[0])\n",
    "print(y_validation.value_counts(normalize=True))"
   ],
   "outputs": [
    {
     "output_type": "stream",
     "name": "stdout",
     "text": [
      "TRAIN:  1329015\n",
      "0    0.885865\n",
      "1    0.114135\n",
      "Name: compras_inversión, dtype: float64 \n",
      "\n",
      "TEST:  332254\n",
      "0    0.8855\n",
      "1    0.1145\n",
      "Name: compras_inversión, dtype: float64 \n",
      "\n",
      "VALIDATION:  175077\n",
      "0    0.956419\n",
      "1    0.043581\n",
      "Name: compras_inversión, dtype: float64\n"
     ]
    }
   ],
   "metadata": {}
  },
  {
   "cell_type": "code",
   "execution_count": 96,
   "source": [
    "model = DecisionTreeClassifier( max_depth=50, min_samples_leaf=500, random_state=42 )\n",
    "\n",
    "model.fit(X_train[features],y_train)\n",
    "\n",
    "y_train_pred = model.predict(X_train[features])\n",
    "y_train_score = model.predict_proba(X_train[features])[:,1]\n",
    "\n",
    "#Predict the response for test dataset\n",
    "y_pred = model.predict(X_test[features])\n",
    "y_test_score = model.predict_proba(X_test[features])[:,1]"
   ],
   "outputs": [],
   "metadata": {}
  },
  {
   "cell_type": "code",
   "execution_count": 97,
   "source": [
    "y_pred_valida = model.predict(X_validation[features])\n",
    "y_valida_score = model.predict_proba(X_validation[features])[:,1]\n",
    "\n",
    "print(\"----------- VALIDATION -----------\")\n",
    "print(\"Accuracy:\",accuracy_score(y_validation, y_pred_valida))\n",
    "print(\"Precision:\",precision_score(y_validation, y_pred_valida))\n",
    "print(\"Recall:\",recall_score(y_validation, y_pred_valida))\n",
    "print(\"F1-score:\",f1_score(y_validation, y_pred_valida))\n",
    "print(\"ROC AUC score:\",roc_auc_score(y_validation, y_valida_score))\n",
    "\n",
    "#fig = confusion_matrix_figure(y_train, y_train_pred)\n",
    "fig = confusion_matrix_figure(y_validation, y_pred_valida)"
   ],
   "outputs": [
    {
     "output_type": "stream",
     "name": "stdout",
     "text": [
      "----------- VALIDATION -----------\n",
      "Accuracy: 1.0\n",
      "Precision: 1.0\n",
      "Recall: 1.0\n",
      "F1-score: 1.0\n",
      "ROC AUC score: 1.0\n"
     ]
    },
    {
     "output_type": "display_data",
     "data": {
      "image/png": "[encoded data removed]",
      "image/svg+xml": "<?xml version=\"1.0\" encoding=\"utf-8\" standalone=\"no\"?>\n<!DOCTYPE svg PUBLIC \"-//W3C//DTD SVG 1.1//EN\"\n  \"http://www.w3.org/Graphics/SVG/1.1/DTD/svg11.dtd\">\n<svg height=\"501.895937pt\" version=\"1.1\" viewBox=\"0 0 513.374937 501.895937\" width=\"513.374937pt\" xmlns=\"http://www.w3.org/2000/svg\" xmlns:xlink=\"http://www.w3.org/1999/xlink\">\n <metadata>\n  <rdf:RDF xmlns:cc=\"http://creativecommons.org/ns#\" xmlns:dc=\"http://purl.org/dc/elements/1.1/\" xmlns:rdf=\"http://www.w3.org/1999/02/22-rdf-syntax-ns#\">\n   <cc:Work>\n    <dc:type rdf:resource=\"http://purl.org/dc/dcmitype/StillImage\"/>\n    <dc:date>2021-09-18T16:20:29.182508</dc:date>\n    <dc:format>image/svg+xml</dc:format>\n    <dc:creator>\n     <cc:Agent>\n      <dc:title>Matplotlib v3.4.3, https://matplotlib.org/</dc:title>\n     </cc:Agent>\n    </dc:creator>\n   </cc:Work>\n  </rdf:RDF>\n </metadata>\n <defs>\n  <style type=\"text/css\">*{stroke-linecap:butt;stroke-linejoin:round;}</style>\n </defs>\n <g id=\"figure_1\">\n  <g id=\"patch_1\">\n   <path d=\"M 0 501.895937 \nL 513.374937 501.895937 \nL 513.374937 0 \nL 0 0 \nz\n\" style=\"fill:none;\"/>\n  </g>\n  <g id=\"axes_1\">\n   <g id=\"patch_2\">\n    <path d=\"M 59.815938 442.08 \nL 416.935938 442.08 \nL 416.935938 7.2 \nL 59.815938 7.2 \nz\n\" style=\"fill:#ffffff;\"/>\n   </g>\n   <g id=\"QuadMesh_1\">\n    <path clip-path=\"url(#p79ad98efdf)\" d=\"M 59.815938 7.2 \nL 238.375938 7.2 \nL 238.375938 224.64 \nL 59.815938 224.64 \nL 59.815938 7.2 \n\" style=\"fill:#f1faee;\"/>\n    <path clip-path=\"url(#p79ad98efdf)\" d=\"M 238.375938 7.2 \nL 416.935938 7.2 \nL 416.935938 224.64 \nL 238.375938 224.64 \nL 238.375938 7.2 \n\" style=\"fill:#f7fcf5;\"/>\n    <path clip-path=\"url(#p79ad98efdf)\" d=\"M 59.815938 224.64 \nL 238.375938 224.64 \nL 238.375938 442.08 \nL 59.815938 442.08 \nL 59.815938 224.64 \n\" style=\"fill:#f7fcf5;\"/>\n    <path clip-path=\"url(#p79ad98efdf)\" d=\"M 238.375938 224.64 \nL 416.935938 224.64 \nL 416.935938 442.08 \nL 238.375938 442.08 \nL 238.375938 224.64 \n\" style=\"fill:#00441b;\"/>\n   </g>\n   <g id=\"matplotlib.axis_1\">\n    <g id=\"xtick_1\">\n     <g id=\"line2d_1\">\n      <defs>\n       <path d=\"M 0 0 \nL 0 3.5 \n\" id=\"m0149fd2eb8\" style=\"stroke:#000000;stroke-width:0.8;\"/>\n      </defs>\n      <g>\n       <use style=\"stroke:#000000;stroke-width:0.8;\" x=\"149.095938\" xlink:href=\"#m0149fd2eb8\" y=\"442.08\"/>\n      </g>\n     </g>\n     <g id=\"text_1\">\n      <!-- Positive -->\n      <g transform=\"translate(110.552188 464.276875)scale(0.2 -0.2)\">\n       <defs>\n        <path d=\"M 1259 4147 \nL 1259 2394 \nL 2053 2394 \nQ 2494 2394 2734 2622 \nQ 2975 2850 2975 3272 \nQ 2975 3691 2734 3919 \nQ 2494 4147 2053 4147 \nL 1259 4147 \nz\nM 628 4666 \nL 2053 4666 \nQ 2838 4666 3239 4311 \nQ 3641 3956 3641 3272 \nQ 3641 2581 3239 2228 \nQ 2838 1875 2053 1875 \nL 1259 1875 \nL 1259 0 \nL 628 0 \nL 628 4666 \nz\n\" id=\"DejaVuSans-50\" transform=\"scale(0.015625)\"/>\n        <path d=\"M 1959 3097 \nQ 1497 3097 1228 2736 \nQ 959 2375 959 1747 \nQ 959 1119 1226 758 \nQ 1494 397 1959 397 \nQ 2419 397 2687 759 \nQ 2956 1122 2956 1747 \nQ 2956 2369 2687 2733 \nQ 2419 3097 1959 3097 \nz\nM 1959 3584 \nQ 2709 3584 3137 3096 \nQ 3566 2609 3566 1747 \nQ 3566 888 3137 398 \nQ 2709 -91 1959 -91 \nQ 1206 -91 779 398 \nQ 353 888 353 1747 \nQ 353 2609 779 3096 \nQ 1206 3584 1959 3584 \nz\n\" id=\"DejaVuSans-6f\" transform=\"scale(0.015625)\"/>\n        <path d=\"M 2834 3397 \nL 2834 2853 \nQ 2591 2978 2328 3040 \nQ 2066 3103 1784 3103 \nQ 1356 3103 1142 2972 \nQ 928 2841 928 2578 \nQ 928 2378 1081 2264 \nQ 1234 2150 1697 2047 \nL 1894 2003 \nQ 2506 1872 2764 1633 \nQ 3022 1394 3022 966 \nQ 3022 478 2636 193 \nQ 2250 -91 1575 -91 \nQ 1294 -91 989 -36 \nQ 684 19 347 128 \nL 347 722 \nQ 666 556 975 473 \nQ 1284 391 1588 391 \nQ 1994 391 2212 530 \nQ 2431 669 2431 922 \nQ 2431 1156 2273 1281 \nQ 2116 1406 1581 1522 \nL 1381 1569 \nQ 847 1681 609 1914 \nQ 372 2147 372 2553 \nQ 372 3047 722 3315 \nQ 1072 3584 1716 3584 \nQ 2034 3584 2315 3537 \nQ 2597 3491 2834 3397 \nz\n\" id=\"DejaVuSans-73\" transform=\"scale(0.015625)\"/>\n        <path d=\"M 603 3500 \nL 1178 3500 \nL 1178 0 \nL 603 0 \nL 603 3500 \nz\nM 603 4863 \nL 1178 4863 \nL 1178 4134 \nL 603 4134 \nL 603 4863 \nz\n\" id=\"DejaVuSans-69\" transform=\"scale(0.015625)\"/>\n        <path d=\"M 1172 4494 \nL 1172 3500 \nL 2356 3500 \nL 2356 3053 \nL 1172 3053 \nL 1172 1153 \nQ 1172 725 1289 603 \nQ 1406 481 1766 481 \nL 2356 481 \nL 2356 0 \nL 1766 0 \nQ 1100 0 847 248 \nQ 594 497 594 1153 \nL 594 3053 \nL 172 3053 \nL 172 3500 \nL 594 3500 \nL 594 4494 \nL 1172 4494 \nz\n\" id=\"DejaVuSans-74\" transform=\"scale(0.015625)\"/>\n        <path d=\"M 191 3500 \nL 800 3500 \nL 1894 563 \nL 2988 3500 \nL 3597 3500 \nL 2284 0 \nL 1503 0 \nL 191 3500 \nz\n\" id=\"DejaVuSans-76\" transform=\"scale(0.015625)\"/>\n        <path d=\"M 3597 1894 \nL 3597 1613 \nL 953 1613 \nQ 991 1019 1311 708 \nQ 1631 397 2203 397 \nQ 2534 397 2845 478 \nQ 3156 559 3463 722 \nL 3463 178 \nQ 3153 47 2828 -22 \nQ 2503 -91 2169 -91 \nQ 1331 -91 842 396 \nQ 353 884 353 1716 \nQ 353 2575 817 3079 \nQ 1281 3584 2069 3584 \nQ 2775 3584 3186 3129 \nQ 3597 2675 3597 1894 \nz\nM 3022 2063 \nQ 3016 2534 2758 2815 \nQ 2500 3097 2075 3097 \nQ 1594 3097 1305 2825 \nQ 1016 2553 972 2059 \nL 3022 2063 \nz\n\" id=\"DejaVuSans-65\" transform=\"scale(0.015625)\"/>\n       </defs>\n       <use xlink:href=\"#DejaVuSans-50\"/>\n       <use x=\"56.677734\" xlink:href=\"#DejaVuSans-6f\"/>\n       <use x=\"117.859375\" xlink:href=\"#DejaVuSans-73\"/>\n       <use x=\"169.958984\" xlink:href=\"#DejaVuSans-69\"/>\n       <use x=\"197.742188\" xlink:href=\"#DejaVuSans-74\"/>\n       <use x=\"236.951172\" xlink:href=\"#DejaVuSans-69\"/>\n       <use x=\"264.734375\" xlink:href=\"#DejaVuSans-76\"/>\n       <use x=\"323.914062\" xlink:href=\"#DejaVuSans-65\"/>\n      </g>\n     </g>\n    </g>\n    <g id=\"xtick_2\">\n     <g id=\"line2d_2\">\n      <g>\n       <use style=\"stroke:#000000;stroke-width:0.8;\" x=\"327.655938\" xlink:href=\"#m0149fd2eb8\" y=\"442.08\"/>\n      </g>\n     </g>\n     <g id=\"text_2\">\n      <!-- Negative -->\n      <g transform=\"translate(282.774688 464.276875)scale(0.2 -0.2)\">\n       <defs>\n        <path d=\"M 628 4666 \nL 1478 4666 \nL 3547 763 \nL 3547 4666 \nL 4159 4666 \nL 4159 0 \nL 3309 0 \nL 1241 3903 \nL 1241 0 \nL 628 0 \nL 628 4666 \nz\n\" id=\"DejaVuSans-4e\" transform=\"scale(0.015625)\"/>\n        <path d=\"M 2906 1791 \nQ 2906 2416 2648 2759 \nQ 2391 3103 1925 3103 \nQ 1463 3103 1205 2759 \nQ 947 2416 947 1791 \nQ 947 1169 1205 825 \nQ 1463 481 1925 481 \nQ 2391 481 2648 825 \nQ 2906 1169 2906 1791 \nz\nM 3481 434 \nQ 3481 -459 3084 -895 \nQ 2688 -1331 1869 -1331 \nQ 1566 -1331 1297 -1286 \nQ 1028 -1241 775 -1147 \nL 775 -588 \nQ 1028 -725 1275 -790 \nQ 1522 -856 1778 -856 \nQ 2344 -856 2625 -561 \nQ 2906 -266 2906 331 \nL 2906 616 \nQ 2728 306 2450 153 \nQ 2172 0 1784 0 \nQ 1141 0 747 490 \nQ 353 981 353 1791 \nQ 353 2603 747 3093 \nQ 1141 3584 1784 3584 \nQ 2172 3584 2450 3431 \nQ 2728 3278 2906 2969 \nL 2906 3500 \nL 3481 3500 \nL 3481 434 \nz\n\" id=\"DejaVuSans-67\" transform=\"scale(0.015625)\"/>\n        <path d=\"M 2194 1759 \nQ 1497 1759 1228 1600 \nQ 959 1441 959 1056 \nQ 959 750 1161 570 \nQ 1363 391 1709 391 \nQ 2188 391 2477 730 \nQ 2766 1069 2766 1631 \nL 2766 1759 \nL 2194 1759 \nz\nM 3341 1997 \nL 3341 0 \nL 2766 0 \nL 2766 531 \nQ 2569 213 2275 61 \nQ 1981 -91 1556 -91 \nQ 1019 -91 701 211 \nQ 384 513 384 1019 \nQ 384 1609 779 1909 \nQ 1175 2209 1959 2209 \nL 2766 2209 \nL 2766 2266 \nQ 2766 2663 2505 2880 \nQ 2244 3097 1772 3097 \nQ 1472 3097 1187 3025 \nQ 903 2953 641 2809 \nL 641 3341 \nQ 956 3463 1253 3523 \nQ 1550 3584 1831 3584 \nQ 2591 3584 2966 3190 \nQ 3341 2797 3341 1997 \nz\n\" id=\"DejaVuSans-61\" transform=\"scale(0.015625)\"/>\n       </defs>\n       <use xlink:href=\"#DejaVuSans-4e\"/>\n       <use x=\"74.804688\" xlink:href=\"#DejaVuSans-65\"/>\n       <use x=\"136.328125\" xlink:href=\"#DejaVuSans-67\"/>\n       <use x=\"199.804688\" xlink:href=\"#DejaVuSans-61\"/>\n       <use x=\"261.083984\" xlink:href=\"#DejaVuSans-74\"/>\n       <use x=\"300.292969\" xlink:href=\"#DejaVuSans-69\"/>\n       <use x=\"328.076172\" xlink:href=\"#DejaVuSans-76\"/>\n       <use x=\"387.255859\" xlink:href=\"#DejaVuSans-65\"/>\n      </g>\n     </g>\n    </g>\n    <g id=\"text_3\">\n     <!-- Predicted -->\n     <g transform=\"translate(184.394219 489.912656)scale(0.23 -0.23)\">\n      <defs>\n       <path d=\"M 2631 2963 \nQ 2534 3019 2420 3045 \nQ 2306 3072 2169 3072 \nQ 1681 3072 1420 2755 \nQ 1159 2438 1159 1844 \nL 1159 0 \nL 581 0 \nL 581 3500 \nL 1159 3500 \nL 1159 2956 \nQ 1341 3275 1631 3429 \nQ 1922 3584 2338 3584 \nQ 2397 3584 2469 3576 \nQ 2541 3569 2628 3553 \nL 2631 2963 \nz\n\" id=\"DejaVuSans-72\" transform=\"scale(0.015625)\"/>\n       <path d=\"M 2906 2969 \nL 2906 4863 \nL 3481 4863 \nL 3481 0 \nL 2906 0 \nL 2906 525 \nQ 2725 213 2448 61 \nQ 2172 -91 1784 -91 \nQ 1150 -91 751 415 \nQ 353 922 353 1747 \nQ 353 2572 751 3078 \nQ 1150 3584 1784 3584 \nQ 2172 3584 2448 3432 \nQ 2725 3281 2906 2969 \nz\nM 947 1747 \nQ 947 1113 1208 752 \nQ 1469 391 1925 391 \nQ 2381 391 2643 752 \nQ 2906 1113 2906 1747 \nQ 2906 2381 2643 2742 \nQ 2381 3103 1925 3103 \nQ 1469 3103 1208 2742 \nQ 947 2381 947 1747 \nz\n\" id=\"DejaVuSans-64\" transform=\"scale(0.015625)\"/>\n       <path d=\"M 3122 3366 \nL 3122 2828 \nQ 2878 2963 2633 3030 \nQ 2388 3097 2138 3097 \nQ 1578 3097 1268 2742 \nQ 959 2388 959 1747 \nQ 959 1106 1268 751 \nQ 1578 397 2138 397 \nQ 2388 397 2633 464 \nQ 2878 531 3122 666 \nL 3122 134 \nQ 2881 22 2623 -34 \nQ 2366 -91 2075 -91 \nQ 1284 -91 818 406 \nQ 353 903 353 1747 \nQ 353 2603 823 3093 \nQ 1294 3584 2113 3584 \nQ 2378 3584 2631 3529 \nQ 2884 3475 3122 3366 \nz\n\" id=\"DejaVuSans-63\" transform=\"scale(0.015625)\"/>\n      </defs>\n      <use xlink:href=\"#DejaVuSans-50\"/>\n      <use x=\"58.552734\" xlink:href=\"#DejaVuSans-72\"/>\n      <use x=\"97.416016\" xlink:href=\"#DejaVuSans-65\"/>\n      <use x=\"158.939453\" xlink:href=\"#DejaVuSans-64\"/>\n      <use x=\"222.416016\" xlink:href=\"#DejaVuSans-69\"/>\n      <use x=\"250.199219\" xlink:href=\"#DejaVuSans-63\"/>\n      <use x=\"305.179688\" xlink:href=\"#DejaVuSans-74\"/>\n      <use x=\"344.388672\" xlink:href=\"#DejaVuSans-65\"/>\n      <use x=\"405.912109\" xlink:href=\"#DejaVuSans-64\"/>\n     </g>\n    </g>\n   </g>\n   <g id=\"matplotlib.axis_2\">\n    <g id=\"ytick_1\">\n     <g id=\"line2d_3\">\n      <defs>\n       <path d=\"M 0 0 \nL -3.5 0 \n\" id=\"m233868746d\" style=\"stroke:#000000;stroke-width:0.8;\"/>\n      </defs>\n      <g>\n       <use style=\"stroke:#000000;stroke-width:0.8;\" x=\"59.815938\" xlink:href=\"#m233868746d\" y=\"115.92\"/>\n      </g>\n     </g>\n     <g id=\"text_4\">\n      <!-- Positive -->\n      <g transform=\"translate(48.656563 154.46375)rotate(-90)scale(0.2 -0.2)\">\n       <use xlink:href=\"#DejaVuSans-50\"/>\n       <use x=\"56.677734\" xlink:href=\"#DejaVuSans-6f\"/>\n       <use x=\"117.859375\" xlink:href=\"#DejaVuSans-73\"/>\n       <use x=\"169.958984\" xlink:href=\"#DejaVuSans-69\"/>\n       <use x=\"197.742188\" xlink:href=\"#DejaVuSans-74\"/>\n       <use x=\"236.951172\" xlink:href=\"#DejaVuSans-69\"/>\n       <use x=\"264.734375\" xlink:href=\"#DejaVuSans-76\"/>\n       <use x=\"323.914062\" xlink:href=\"#DejaVuSans-65\"/>\n      </g>\n     </g>\n    </g>\n    <g id=\"ytick_2\">\n     <g id=\"line2d_4\">\n      <g>\n       <use style=\"stroke:#000000;stroke-width:0.8;\" x=\"59.815938\" xlink:href=\"#m233868746d\" y=\"333.36\"/>\n      </g>\n     </g>\n     <g id=\"text_5\">\n      <!-- Negative -->\n      <g transform=\"translate(48.656563 378.24125)rotate(-90)scale(0.2 -0.2)\">\n       <use xlink:href=\"#DejaVuSans-4e\"/>\n       <use x=\"74.804688\" xlink:href=\"#DejaVuSans-65\"/>\n       <use x=\"136.328125\" xlink:href=\"#DejaVuSans-67\"/>\n       <use x=\"199.804688\" xlink:href=\"#DejaVuSans-61\"/>\n       <use x=\"261.083984\" xlink:href=\"#DejaVuSans-74\"/>\n       <use x=\"300.292969\" xlink:href=\"#DejaVuSans-69\"/>\n       <use x=\"328.076172\" xlink:href=\"#DejaVuSans-76\"/>\n       <use x=\"387.255859\" xlink:href=\"#DejaVuSans-65\"/>\n      </g>\n     </g>\n    </g>\n    <g id=\"text_6\">\n     <!-- Real -->\n     <g transform=\"translate(24.676406 249.431484)rotate(-90)scale(0.23 -0.23)\">\n      <defs>\n       <path d=\"M 2841 2188 \nQ 3044 2119 3236 1894 \nQ 3428 1669 3622 1275 \nL 4263 0 \nL 3584 0 \nL 2988 1197 \nQ 2756 1666 2539 1819 \nQ 2322 1972 1947 1972 \nL 1259 1972 \nL 1259 0 \nL 628 0 \nL 628 4666 \nL 2053 4666 \nQ 2853 4666 3247 4331 \nQ 3641 3997 3641 3322 \nQ 3641 2881 3436 2590 \nQ 3231 2300 2841 2188 \nz\nM 1259 4147 \nL 1259 2491 \nL 2053 2491 \nQ 2509 2491 2742 2702 \nQ 2975 2913 2975 3322 \nQ 2975 3731 2742 3939 \nQ 2509 4147 2053 4147 \nL 1259 4147 \nz\n\" id=\"DejaVuSans-52\" transform=\"scale(0.015625)\"/>\n       <path d=\"M 603 4863 \nL 1178 4863 \nL 1178 0 \nL 603 0 \nL 603 4863 \nz\n\" id=\"DejaVuSans-6c\" transform=\"scale(0.015625)\"/>\n      </defs>\n      <use xlink:href=\"#DejaVuSans-52\"/>\n      <use x=\"64.982422\" xlink:href=\"#DejaVuSans-65\"/>\n      <use x=\"126.505859\" xlink:href=\"#DejaVuSans-61\"/>\n      <use x=\"187.785156\" xlink:href=\"#DejaVuSans-6c\"/>\n     </g>\n    </g>\n   </g>\n   <g id=\"text_7\">\n    <!-- True Pos -->\n    <g style=\"fill:#262626;\" transform=\"translate(107.688125 99.043125)scale(0.2 -0.2)\">\n     <defs>\n      <path d=\"M -19 4666 \nL 3928 4666 \nL 3928 4134 \nL 2272 4134 \nL 2272 0 \nL 1638 0 \nL 1638 4134 \nL -19 4134 \nL -19 4666 \nz\n\" id=\"DejaVuSans-54\" transform=\"scale(0.015625)\"/>\n      <path d=\"M 544 1381 \nL 544 3500 \nL 1119 3500 \nL 1119 1403 \nQ 1119 906 1312 657 \nQ 1506 409 1894 409 \nQ 2359 409 2629 706 \nQ 2900 1003 2900 1516 \nL 2900 3500 \nL 3475 3500 \nL 3475 0 \nL 2900 0 \nL 2900 538 \nQ 2691 219 2414 64 \nQ 2138 -91 1772 -91 \nQ 1169 -91 856 284 \nQ 544 659 544 1381 \nz\nM 1991 3584 \nL 1991 3584 \nz\n\" id=\"DejaVuSans-75\" transform=\"scale(0.015625)\"/>\n      <path id=\"DejaVuSans-20\" transform=\"scale(0.015625)\"/>\n     </defs>\n     <use xlink:href=\"#DejaVuSans-54\"/>\n     <use x=\"46.333984\" xlink:href=\"#DejaVuSans-72\"/>\n     <use x=\"87.447266\" xlink:href=\"#DejaVuSans-75\"/>\n     <use x=\"150.826172\" xlink:href=\"#DejaVuSans-65\"/>\n     <use x=\"212.349609\" xlink:href=\"#DejaVuSans-20\"/>\n     <use x=\"244.136719\" xlink:href=\"#DejaVuSans-50\"/>\n     <use x=\"300.814453\" xlink:href=\"#DejaVuSans-6f\"/>\n     <use x=\"361.996094\" xlink:href=\"#DejaVuSans-73\"/>\n    </g>\n    <!-- 7630 -->\n    <g style=\"fill:#262626;\" transform=\"translate(123.645938 121.43875)scale(0.2 -0.2)\">\n     <defs>\n      <path d=\"M 525 4666 \nL 3525 4666 \nL 3525 4397 \nL 1831 0 \nL 1172 0 \nL 2766 4134 \nL 525 4134 \nL 525 4666 \nz\n\" id=\"DejaVuSans-37\" transform=\"scale(0.015625)\"/>\n      <path d=\"M 2113 2584 \nQ 1688 2584 1439 2293 \nQ 1191 2003 1191 1497 \nQ 1191 994 1439 701 \nQ 1688 409 2113 409 \nQ 2538 409 2786 701 \nQ 3034 994 3034 1497 \nQ 3034 2003 2786 2293 \nQ 2538 2584 2113 2584 \nz\nM 3366 4563 \nL 3366 3988 \nQ 3128 4100 2886 4159 \nQ 2644 4219 2406 4219 \nQ 1781 4219 1451 3797 \nQ 1122 3375 1075 2522 \nQ 1259 2794 1537 2939 \nQ 1816 3084 2150 3084 \nQ 2853 3084 3261 2657 \nQ 3669 2231 3669 1497 \nQ 3669 778 3244 343 \nQ 2819 -91 2113 -91 \nQ 1303 -91 875 529 \nQ 447 1150 447 2328 \nQ 447 3434 972 4092 \nQ 1497 4750 2381 4750 \nQ 2619 4750 2861 4703 \nQ 3103 4656 3366 4563 \nz\n\" id=\"DejaVuSans-36\" transform=\"scale(0.015625)\"/>\n      <path d=\"M 2597 2516 \nQ 3050 2419 3304 2112 \nQ 3559 1806 3559 1356 \nQ 3559 666 3084 287 \nQ 2609 -91 1734 -91 \nQ 1441 -91 1130 -33 \nQ 819 25 488 141 \nL 488 750 \nQ 750 597 1062 519 \nQ 1375 441 1716 441 \nQ 2309 441 2620 675 \nQ 2931 909 2931 1356 \nQ 2931 1769 2642 2001 \nQ 2353 2234 1838 2234 \nL 1294 2234 \nL 1294 2753 \nL 1863 2753 \nQ 2328 2753 2575 2939 \nQ 2822 3125 2822 3475 \nQ 2822 3834 2567 4026 \nQ 2313 4219 1838 4219 \nQ 1578 4219 1281 4162 \nQ 984 4106 628 3988 \nL 628 4550 \nQ 988 4650 1302 4700 \nQ 1616 4750 1894 4750 \nQ 2613 4750 3031 4423 \nQ 3450 4097 3450 3541 \nQ 3450 3153 3228 2886 \nQ 3006 2619 2597 2516 \nz\n\" id=\"DejaVuSans-33\" transform=\"scale(0.015625)\"/>\n      <path d=\"M 2034 4250 \nQ 1547 4250 1301 3770 \nQ 1056 3291 1056 2328 \nQ 1056 1369 1301 889 \nQ 1547 409 2034 409 \nQ 2525 409 2770 889 \nQ 3016 1369 3016 2328 \nQ 3016 3291 2770 3770 \nQ 2525 4250 2034 4250 \nz\nM 2034 4750 \nQ 2819 4750 3233 4129 \nQ 3647 3509 3647 2328 \nQ 3647 1150 3233 529 \nQ 2819 -91 2034 -91 \nQ 1250 -91 836 529 \nQ 422 1150 422 2328 \nQ 422 3509 836 4129 \nQ 1250 4750 2034 4750 \nz\n\" id=\"DejaVuSans-30\" transform=\"scale(0.015625)\"/>\n     </defs>\n     <use xlink:href=\"#DejaVuSans-37\"/>\n     <use x=\"63.623047\" xlink:href=\"#DejaVuSans-36\"/>\n     <use x=\"127.246094\" xlink:href=\"#DejaVuSans-33\"/>\n     <use x=\"190.869141\" xlink:href=\"#DejaVuSans-30\"/>\n    </g>\n    <!-- 4.36% -->\n    <g style=\"fill:#262626;\" transform=\"translate(117.32875 143.834375)scale(0.2 -0.2)\">\n     <defs>\n      <path d=\"M 2419 4116 \nL 825 1625 \nL 2419 1625 \nL 2419 4116 \nz\nM 2253 4666 \nL 3047 4666 \nL 3047 1625 \nL 3713 1625 \nL 3713 1100 \nL 3047 1100 \nL 3047 0 \nL 2419 0 \nL 2419 1100 \nL 313 1100 \nL 313 1709 \nL 2253 4666 \nz\n\" id=\"DejaVuSans-34\" transform=\"scale(0.015625)\"/>\n      <path d=\"M 684 794 \nL 1344 794 \nL 1344 0 \nL 684 0 \nL 684 794 \nz\n\" id=\"DejaVuSans-2e\" transform=\"scale(0.015625)\"/>\n      <path d=\"M 4653 2053 \nQ 4381 2053 4226 1822 \nQ 4072 1591 4072 1178 \nQ 4072 772 4226 539 \nQ 4381 306 4653 306 \nQ 4919 306 5073 539 \nQ 5228 772 5228 1178 \nQ 5228 1588 5073 1820 \nQ 4919 2053 4653 2053 \nz\nM 4653 2450 \nQ 5147 2450 5437 2106 \nQ 5728 1763 5728 1178 \nQ 5728 594 5436 251 \nQ 5144 -91 4653 -91 \nQ 4153 -91 3862 251 \nQ 3572 594 3572 1178 \nQ 3572 1766 3864 2108 \nQ 4156 2450 4653 2450 \nz\nM 1428 4353 \nQ 1159 4353 1004 4120 \nQ 850 3888 850 3481 \nQ 850 3069 1003 2837 \nQ 1156 2606 1428 2606 \nQ 1700 2606 1854 2837 \nQ 2009 3069 2009 3481 \nQ 2009 3884 1853 4118 \nQ 1697 4353 1428 4353 \nz\nM 4250 4750 \nL 4750 4750 \nL 1831 -91 \nL 1331 -91 \nL 4250 4750 \nz\nM 1428 4750 \nQ 1922 4750 2215 4408 \nQ 2509 4066 2509 3481 \nQ 2509 2891 2217 2550 \nQ 1925 2209 1428 2209 \nQ 931 2209 642 2551 \nQ 353 2894 353 3481 \nQ 353 4063 643 4406 \nQ 934 4750 1428 4750 \nz\n\" id=\"DejaVuSans-25\" transform=\"scale(0.015625)\"/>\n     </defs>\n     <use xlink:href=\"#DejaVuSans-34\"/>\n     <use x=\"63.623047\" xlink:href=\"#DejaVuSans-2e\"/>\n     <use x=\"95.410156\" xlink:href=\"#DejaVuSans-33\"/>\n     <use x=\"159.033203\" xlink:href=\"#DejaVuSans-36\"/>\n     <use x=\"222.65625\" xlink:href=\"#DejaVuSans-25\"/>\n    </g>\n   </g>\n   <g id=\"text_8\">\n    <!-- False Neg -->\n    <g style=\"fill:#262626;\" transform=\"translate(279.387188 99.043125)scale(0.2 -0.2)\">\n     <defs>\n      <path d=\"M 628 4666 \nL 3309 4666 \nL 3309 4134 \nL 1259 4134 \nL 1259 2759 \nL 3109 2759 \nL 3109 2228 \nL 1259 2228 \nL 1259 0 \nL 628 0 \nL 628 4666 \nz\n\" id=\"DejaVuSans-46\" transform=\"scale(0.015625)\"/>\n     </defs>\n     <use xlink:href=\"#DejaVuSans-46\"/>\n     <use x=\"48.394531\" xlink:href=\"#DejaVuSans-61\"/>\n     <use x=\"109.673828\" xlink:href=\"#DejaVuSans-6c\"/>\n     <use x=\"137.457031\" xlink:href=\"#DejaVuSans-73\"/>\n     <use x=\"189.556641\" xlink:href=\"#DejaVuSans-65\"/>\n     <use x=\"251.080078\" xlink:href=\"#DejaVuSans-20\"/>\n     <use x=\"282.867188\" xlink:href=\"#DejaVuSans-4e\"/>\n     <use x=\"357.671875\" xlink:href=\"#DejaVuSans-65\"/>\n     <use x=\"419.195312\" xlink:href=\"#DejaVuSans-67\"/>\n    </g>\n    <!-- 0 -->\n    <g style=\"fill:#262626;\" transform=\"translate(321.293438 121.43875)scale(0.2 -0.2)\">\n     <use xlink:href=\"#DejaVuSans-30\"/>\n    </g>\n    <!-- 0.00% -->\n    <g style=\"fill:#262626;\" transform=\"translate(295.88875 143.834375)scale(0.2 -0.2)\">\n     <use xlink:href=\"#DejaVuSans-30\"/>\n     <use x=\"63.623047\" xlink:href=\"#DejaVuSans-2e\"/>\n     <use x=\"95.410156\" xlink:href=\"#DejaVuSans-30\"/>\n     <use x=\"159.033203\" xlink:href=\"#DejaVuSans-30\"/>\n     <use x=\"222.65625\" xlink:href=\"#DejaVuSans-25\"/>\n    </g>\n   </g>\n   <g id=\"text_9\">\n    <!-- False Pos -->\n    <g style=\"fill:#262626;\" transform=\"translate(103.814688 316.483125)scale(0.2 -0.2)\">\n     <use xlink:href=\"#DejaVuSans-46\"/>\n     <use x=\"48.394531\" xlink:href=\"#DejaVuSans-61\"/>\n     <use x=\"109.673828\" xlink:href=\"#DejaVuSans-6c\"/>\n     <use x=\"137.457031\" xlink:href=\"#DejaVuSans-73\"/>\n     <use x=\"189.556641\" xlink:href=\"#DejaVuSans-65\"/>\n     <use x=\"251.080078\" xlink:href=\"#DejaVuSans-20\"/>\n     <use x=\"282.867188\" xlink:href=\"#DejaVuSans-50\"/>\n     <use x=\"339.544922\" xlink:href=\"#DejaVuSans-6f\"/>\n     <use x=\"400.726562\" xlink:href=\"#DejaVuSans-73\"/>\n    </g>\n    <!-- 0 -->\n    <g style=\"fill:#262626;\" transform=\"translate(142.733438 338.87875)scale(0.2 -0.2)\">\n     <use xlink:href=\"#DejaVuSans-30\"/>\n    </g>\n    <!-- 0.00% -->\n    <g style=\"fill:#262626;\" transform=\"translate(117.32875 361.274375)scale(0.2 -0.2)\">\n     <use xlink:href=\"#DejaVuSans-30\"/>\n     <use x=\"63.623047\" xlink:href=\"#DejaVuSans-2e\"/>\n     <use x=\"95.410156\" xlink:href=\"#DejaVuSans-30\"/>\n     <use x=\"159.033203\" xlink:href=\"#DejaVuSans-30\"/>\n     <use x=\"222.65625\" xlink:href=\"#DejaVuSans-25\"/>\n    </g>\n   </g>\n   <g id=\"text_10\">\n    <!-- True Neg -->\n    <g style=\"fill:#ffffff;\" transform=\"translate(283.260625 316.483125)scale(0.2 -0.2)\">\n     <use xlink:href=\"#DejaVuSans-54\"/>\n     <use x=\"46.333984\" xlink:href=\"#DejaVuSans-72\"/>\n     <use x=\"87.447266\" xlink:href=\"#DejaVuSans-75\"/>\n     <use x=\"150.826172\" xlink:href=\"#DejaVuSans-65\"/>\n     <use x=\"212.349609\" xlink:href=\"#DejaVuSans-20\"/>\n     <use x=\"244.136719\" xlink:href=\"#DejaVuSans-4e\"/>\n     <use x=\"318.941406\" xlink:href=\"#DejaVuSans-65\"/>\n     <use x=\"380.464844\" xlink:href=\"#DejaVuSans-67\"/>\n    </g>\n    <!-- 167447 -->\n    <g style=\"fill:#ffffff;\" transform=\"translate(289.480938 338.87875)scale(0.2 -0.2)\">\n     <defs>\n      <path d=\"M 794 531 \nL 1825 531 \nL 1825 4091 \nL 703 3866 \nL 703 4441 \nL 1819 4666 \nL 2450 4666 \nL 2450 531 \nL 3481 531 \nL 3481 0 \nL 794 0 \nL 794 531 \nz\n\" id=\"DejaVuSans-31\" transform=\"scale(0.015625)\"/>\n     </defs>\n     <use xlink:href=\"#DejaVuSans-31\"/>\n     <use x=\"63.623047\" xlink:href=\"#DejaVuSans-36\"/>\n     <use x=\"127.246094\" xlink:href=\"#DejaVuSans-37\"/>\n     <use x=\"190.869141\" xlink:href=\"#DejaVuSans-34\"/>\n     <use x=\"254.492188\" xlink:href=\"#DejaVuSans-34\"/>\n     <use x=\"318.115234\" xlink:href=\"#DejaVuSans-37\"/>\n    </g>\n    <!-- 95.64% -->\n    <g style=\"fill:#ffffff;\" transform=\"translate(289.52625 361.274375)scale(0.2 -0.2)\">\n     <defs>\n      <path d=\"M 703 97 \nL 703 672 \nQ 941 559 1184 500 \nQ 1428 441 1663 441 \nQ 2288 441 2617 861 \nQ 2947 1281 2994 2138 \nQ 2813 1869 2534 1725 \nQ 2256 1581 1919 1581 \nQ 1219 1581 811 2004 \nQ 403 2428 403 3163 \nQ 403 3881 828 4315 \nQ 1253 4750 1959 4750 \nQ 2769 4750 3195 4129 \nQ 3622 3509 3622 2328 \nQ 3622 1225 3098 567 \nQ 2575 -91 1691 -91 \nQ 1453 -91 1209 -44 \nQ 966 3 703 97 \nz\nM 1959 2075 \nQ 2384 2075 2632 2365 \nQ 2881 2656 2881 3163 \nQ 2881 3666 2632 3958 \nQ 2384 4250 1959 4250 \nQ 1534 4250 1286 3958 \nQ 1038 3666 1038 3163 \nQ 1038 2656 1286 2365 \nQ 1534 2075 1959 2075 \nz\n\" id=\"DejaVuSans-39\" transform=\"scale(0.015625)\"/>\n      <path d=\"M 691 4666 \nL 3169 4666 \nL 3169 4134 \nL 1269 4134 \nL 1269 2991 \nQ 1406 3038 1543 3061 \nQ 1681 3084 1819 3084 \nQ 2600 3084 3056 2656 \nQ 3513 2228 3513 1497 \nQ 3513 744 3044 326 \nQ 2575 -91 1722 -91 \nQ 1428 -91 1123 -41 \nQ 819 9 494 109 \nL 494 744 \nQ 775 591 1075 516 \nQ 1375 441 1709 441 \nQ 2250 441 2565 725 \nQ 2881 1009 2881 1497 \nQ 2881 1984 2565 2268 \nQ 2250 2553 1709 2553 \nQ 1456 2553 1204 2497 \nQ 953 2441 691 2322 \nL 691 4666 \nz\n\" id=\"DejaVuSans-35\" transform=\"scale(0.015625)\"/>\n     </defs>\n     <use xlink:href=\"#DejaVuSans-39\"/>\n     <use x=\"63.623047\" xlink:href=\"#DejaVuSans-35\"/>\n     <use x=\"127.246094\" xlink:href=\"#DejaVuSans-2e\"/>\n     <use x=\"159.033203\" xlink:href=\"#DejaVuSans-36\"/>\n     <use x=\"222.65625\" xlink:href=\"#DejaVuSans-34\"/>\n     <use x=\"286.279297\" xlink:href=\"#DejaVuSans-25\"/>\n    </g>\n   </g>\n  </g>\n  <g id=\"axes_2\">\n   <g id=\"patch_3\">\n    <path d=\"M 439.255938 442.08 \nL 460.999938 442.08 \nL 460.999938 7.2 \nL 439.255938 7.2 \nz\n\" style=\"fill:#ffffff;\"/>\n   </g>\n   <g id=\"patch_4\">\n    <path clip-path=\"url(#pfc4fc0d6d0)\" d=\"M 439.255938 442.08 \nL 439.255938 440.38125 \nL 439.255938 8.89875 \nL 439.255938 7.2 \nL 460.999938 7.2 \nL 460.999938 8.89875 \nL 460.999938 440.38125 \nL 460.999938 442.08 \nL 460.999938 442.08 \nz\n\" style=\"fill:#ffffff;stroke:#ffffff;stroke-linejoin:miter;stroke-width:0.01;\"/>\n   </g>\n   <image height=\"435\" id=\"imageb45dd04884\" transform=\"scale(1 -1)translate(0 -435)\" width=\"22\" x=\"439\" xlink:href=\"data:image/png;base64,\niVBORw0KGgoAAAANSUhEUgAAABYAAAGzCAYAAAArEufSAAACIElEQVR4nO2cQW7DQAwDN4X//9sil8LuwVraH+BhgJkHEAJFaddxks/37/daBX4aomutdVyrUnCv4qIVF8yKY5Wad3RkiVbw4mbzgmuzL+zaDM24lYSBVuDiZvM2rs3AyzFPmBc3XsUOSPBxLBCPJh/HBmLzeBX34qYVN7y42bxg84LNC8SjyUU/ECu2eQOxYps3ABc90OPavcLmDbyKbV4oXgpd9AOxYgckwjgrznVWhHlxc/ICcPJOoBVO3g0wbjwrTrdbhJ28ATh5xEWPqxjocWekgVa46B9hrRh42+24Ltop7eQ9wloxGLdQG2mbF3gD4o0+ACfP5m2Ku0KPI4yz4sRdY/3oZkOMm5M3ACv2ZWyEgbsCd6+weRvgK6GWx8C1yZs84IDUdgWuebwBqe0Kc7xpXgpLwkArrHgA/tcN0ApcxS76DfBPG7zRb4Bx41Xsot84IC/hiqzNe+GiD8Bd4YBEmNc84oCUhHlWtH4kzIvbUdIFWmHFwbgFm9cX5lnRrLgmzLPCiiNc0QVa4aUwGLcAjJun9Ma49YV5Vhi3YNwCsuKaMM8KXMX+CGIArk3fKtSFjVuwecGK38IVXaAVVhyaX9yo6Nq8By+FAVlxTZhnhRXfuOiDzQu9S2HpAPHt2MOxSl94s3mh2byOMM9j4xZ4cSNawYubi34wbgEZN5t3g2xeRddd8VDzuJYKnhXGLXgpDMbtJeyT6VCr+B/aHFLWx1uuNQAAAABJRU5ErkJggg==\" y=\"-6\"/>\n   <g id=\"matplotlib.axis_3\"/>\n   <g id=\"matplotlib.axis_4\">\n    <g id=\"ytick_3\">\n     <g id=\"line2d_5\">\n      <defs>\n       <path d=\"M 0 0 \nL 3.5 0 \n\" id=\"m0c7bafdd35\" style=\"stroke:#000000;stroke-width:0.8;\"/>\n      </defs>\n      <g>\n       <use style=\"stroke:#000000;stroke-width:0.8;\" x=\"460.999938\" xlink:href=\"#m0c7bafdd35\" y=\"442.08\"/>\n      </g>\n     </g>\n     <g id=\"text_11\">\n      <!-- 0 -->\n      <g transform=\"translate(467.999938 445.879219)scale(0.1 -0.1)\">\n       <use xlink:href=\"#DejaVuSans-30\"/>\n      </g>\n     </g>\n    </g>\n    <g id=\"ytick_4\">\n     <g id=\"line2d_6\">\n      <g>\n       <use style=\"stroke:#000000;stroke-width:0.8;\" x=\"460.999938\" xlink:href=\"#m0c7bafdd35\" y=\"390.137594\"/>\n      </g>\n     </g>\n     <g id=\"text_12\">\n      <!-- 20000 -->\n      <g transform=\"translate(467.999938 393.936813)scale(0.1 -0.1)\">\n       <defs>\n        <path d=\"M 1228 531 \nL 3431 531 \nL 3431 0 \nL 469 0 \nL 469 531 \nQ 828 903 1448 1529 \nQ 2069 2156 2228 2338 \nQ 2531 2678 2651 2914 \nQ 2772 3150 2772 3378 \nQ 2772 3750 2511 3984 \nQ 2250 4219 1831 4219 \nQ 1534 4219 1204 4116 \nQ 875 4013 500 3803 \nL 500 4441 \nQ 881 4594 1212 4672 \nQ 1544 4750 1819 4750 \nQ 2544 4750 2975 4387 \nQ 3406 4025 3406 3419 \nQ 3406 3131 3298 2873 \nQ 3191 2616 2906 2266 \nQ 2828 2175 2409 1742 \nQ 1991 1309 1228 531 \nz\n\" id=\"DejaVuSans-32\" transform=\"scale(0.015625)\"/>\n       </defs>\n       <use xlink:href=\"#DejaVuSans-32\"/>\n       <use x=\"63.623047\" xlink:href=\"#DejaVuSans-30\"/>\n       <use x=\"127.246094\" xlink:href=\"#DejaVuSans-30\"/>\n       <use x=\"190.869141\" xlink:href=\"#DejaVuSans-30\"/>\n       <use x=\"254.492188\" xlink:href=\"#DejaVuSans-30\"/>\n      </g>\n     </g>\n    </g>\n    <g id=\"ytick_5\">\n     <g id=\"line2d_7\">\n      <g>\n       <use style=\"stroke:#000000;stroke-width:0.8;\" x=\"460.999938\" xlink:href=\"#m0c7bafdd35\" y=\"338.195189\"/>\n      </g>\n     </g>\n     <g id=\"text_13\">\n      <!-- 40000 -->\n      <g transform=\"translate(467.999938 341.994407)scale(0.1 -0.1)\">\n       <use xlink:href=\"#DejaVuSans-34\"/>\n       <use x=\"63.623047\" xlink:href=\"#DejaVuSans-30\"/>\n       <use x=\"127.246094\" xlink:href=\"#DejaVuSans-30\"/>\n       <use x=\"190.869141\" xlink:href=\"#DejaVuSans-30\"/>\n       <use x=\"254.492188\" xlink:href=\"#DejaVuSans-30\"/>\n      </g>\n     </g>\n    </g>\n    <g id=\"ytick_6\">\n     <g id=\"line2d_8\">\n      <g>\n       <use style=\"stroke:#000000;stroke-width:0.8;\" x=\"460.999938\" xlink:href=\"#m0c7bafdd35\" y=\"286.252783\"/>\n      </g>\n     </g>\n     <g id=\"text_14\">\n      <!-- 60000 -->\n      <g transform=\"translate(467.999938 290.052002)scale(0.1 -0.1)\">\n       <use xlink:href=\"#DejaVuSans-36\"/>\n       <use x=\"63.623047\" xlink:href=\"#DejaVuSans-30\"/>\n       <use x=\"127.246094\" xlink:href=\"#DejaVuSans-30\"/>\n       <use x=\"190.869141\" xlink:href=\"#DejaVuSans-30\"/>\n       <use x=\"254.492188\" xlink:href=\"#DejaVuSans-30\"/>\n      </g>\n     </g>\n    </g>\n    <g id=\"ytick_7\">\n     <g id=\"line2d_9\">\n      <g>\n       <use style=\"stroke:#000000;stroke-width:0.8;\" x=\"460.999938\" xlink:href=\"#m0c7bafdd35\" y=\"234.310377\"/>\n      </g>\n     </g>\n     <g id=\"text_15\">\n      <!-- 80000 -->\n      <g transform=\"translate(467.999938 238.109596)scale(0.1 -0.1)\">\n       <defs>\n        <path d=\"M 2034 2216 \nQ 1584 2216 1326 1975 \nQ 1069 1734 1069 1313 \nQ 1069 891 1326 650 \nQ 1584 409 2034 409 \nQ 2484 409 2743 651 \nQ 3003 894 3003 1313 \nQ 3003 1734 2745 1975 \nQ 2488 2216 2034 2216 \nz\nM 1403 2484 \nQ 997 2584 770 2862 \nQ 544 3141 544 3541 \nQ 544 4100 942 4425 \nQ 1341 4750 2034 4750 \nQ 2731 4750 3128 4425 \nQ 3525 4100 3525 3541 \nQ 3525 3141 3298 2862 \nQ 3072 2584 2669 2484 \nQ 3125 2378 3379 2068 \nQ 3634 1759 3634 1313 \nQ 3634 634 3220 271 \nQ 2806 -91 2034 -91 \nQ 1263 -91 848 271 \nQ 434 634 434 1313 \nQ 434 1759 690 2068 \nQ 947 2378 1403 2484 \nz\nM 1172 3481 \nQ 1172 3119 1398 2916 \nQ 1625 2713 2034 2713 \nQ 2441 2713 2670 2916 \nQ 2900 3119 2900 3481 \nQ 2900 3844 2670 4047 \nQ 2441 4250 2034 4250 \nQ 1625 4250 1398 4047 \nQ 1172 3844 1172 3481 \nz\n\" id=\"DejaVuSans-38\" transform=\"scale(0.015625)\"/>\n       </defs>\n       <use xlink:href=\"#DejaVuSans-38\"/>\n       <use x=\"63.623047\" xlink:href=\"#DejaVuSans-30\"/>\n       <use x=\"127.246094\" xlink:href=\"#DejaVuSans-30\"/>\n       <use x=\"190.869141\" xlink:href=\"#DejaVuSans-30\"/>\n       <use x=\"254.492188\" xlink:href=\"#DejaVuSans-30\"/>\n      </g>\n     </g>\n    </g>\n    <g id=\"ytick_8\">\n     <g id=\"line2d_10\">\n      <g>\n       <use style=\"stroke:#000000;stroke-width:0.8;\" x=\"460.999938\" xlink:href=\"#m0c7bafdd35\" y=\"182.367972\"/>\n      </g>\n     </g>\n     <g id=\"text_16\">\n      <!-- 100000 -->\n      <g transform=\"translate(467.999938 186.16719)scale(0.1 -0.1)\">\n       <use xlink:href=\"#DejaVuSans-31\"/>\n       <use x=\"63.623047\" xlink:href=\"#DejaVuSans-30\"/>\n       <use x=\"127.246094\" xlink:href=\"#DejaVuSans-30\"/>\n       <use x=\"190.869141\" xlink:href=\"#DejaVuSans-30\"/>\n       <use x=\"254.492188\" xlink:href=\"#DejaVuSans-30\"/>\n       <use x=\"318.115234\" xlink:href=\"#DejaVuSans-30\"/>\n      </g>\n     </g>\n    </g>\n    <g id=\"ytick_9\">\n     <g id=\"line2d_11\">\n      <g>\n       <use style=\"stroke:#000000;stroke-width:0.8;\" x=\"460.999938\" xlink:href=\"#m0c7bafdd35\" y=\"130.425566\"/>\n      </g>\n     </g>\n     <g id=\"text_17\">\n      <!-- 120000 -->\n      <g transform=\"translate(467.999938 134.224785)scale(0.1 -0.1)\">\n       <use xlink:href=\"#DejaVuSans-31\"/>\n       <use x=\"63.623047\" xlink:href=\"#DejaVuSans-32\"/>\n       <use x=\"127.246094\" xlink:href=\"#DejaVuSans-30\"/>\n       <use x=\"190.869141\" xlink:href=\"#DejaVuSans-30\"/>\n       <use x=\"254.492188\" xlink:href=\"#DejaVuSans-30\"/>\n       <use x=\"318.115234\" xlink:href=\"#DejaVuSans-30\"/>\n      </g>\n     </g>\n    </g>\n    <g id=\"ytick_10\">\n     <g id=\"line2d_12\">\n      <g>\n       <use style=\"stroke:#000000;stroke-width:0.8;\" x=\"460.999938\" xlink:href=\"#m0c7bafdd35\" y=\"78.48316\"/>\n      </g>\n     </g>\n     <g id=\"text_18\">\n      <!-- 140000 -->\n      <g transform=\"translate(467.999938 82.282379)scale(0.1 -0.1)\">\n       <use xlink:href=\"#DejaVuSans-31\"/>\n       <use x=\"63.623047\" xlink:href=\"#DejaVuSans-34\"/>\n       <use x=\"127.246094\" xlink:href=\"#DejaVuSans-30\"/>\n       <use x=\"190.869141\" xlink:href=\"#DejaVuSans-30\"/>\n       <use x=\"254.492188\" xlink:href=\"#DejaVuSans-30\"/>\n       <use x=\"318.115234\" xlink:href=\"#DejaVuSans-30\"/>\n      </g>\n     </g>\n    </g>\n    <g id=\"ytick_11\">\n     <g id=\"line2d_13\">\n      <g>\n       <use style=\"stroke:#000000;stroke-width:0.8;\" x=\"460.999938\" xlink:href=\"#m0c7bafdd35\" y=\"26.540755\"/>\n      </g>\n     </g>\n     <g id=\"text_19\">\n      <!-- 160000 -->\n      <g transform=\"translate(467.999938 30.339973)scale(0.1 -0.1)\">\n       <use xlink:href=\"#DejaVuSans-31\"/>\n       <use x=\"63.623047\" xlink:href=\"#DejaVuSans-36\"/>\n       <use x=\"127.246094\" xlink:href=\"#DejaVuSans-30\"/>\n       <use x=\"190.869141\" xlink:href=\"#DejaVuSans-30\"/>\n       <use x=\"254.492188\" xlink:href=\"#DejaVuSans-30\"/>\n       <use x=\"318.115234\" xlink:href=\"#DejaVuSans-30\"/>\n      </g>\n     </g>\n    </g>\n   </g>\n   <g id=\"LineCollection_1\"/>\n   <g id=\"patch_5\">\n    <path d=\"M 439.255938 442.08 \nL 439.255938 440.38125 \nL 439.255938 8.89875 \nL 439.255938 7.2 \nL 460.999938 7.2 \nL 460.999938 8.89875 \nL 460.999938 440.38125 \nL 460.999938 442.08 \nz\n\" style=\"fill:none;\"/>\n   </g>\n  </g>\n </g>\n <defs>\n  <clipPath id=\"p79ad98efdf\">\n   <rect height=\"434.88\" width=\"357.12\" x=\"59.815938\" y=\"7.2\"/>\n  </clipPath>\n  <clipPath id=\"pfc4fc0d6d0\">\n   <rect height=\"434.88\" width=\"21.744\" x=\"439.255938\" y=\"7.2\"/>\n  </clipPath>\n </defs>\n</svg>\n",
      "text/plain": [
       "<Figure size 576x576 with 2 Axes>"
      ]
     },
     "metadata": {
      "needs_background": "light"
     }
    }
   ],
   "metadata": {}
  },
  {
   "cell_type": "code",
   "execution_count": 107,
   "source": [
    "tree_data = export_graphviz(\n",
    "    decision_tree = model,\n",
    "    out_file=None,\n",
    "    #*,\n",
    "    max_depth=3,\n",
    "    feature_names= features,\n",
    "    class_names=['No Compra','Compra'],\n",
    "    #label='all',\n",
    "    filled=True,\n",
    "    #leaves_parallel=False,\n",
    "    impurity=True,\n",
    "    #node_ids=False,\n",
    "    proportion=True,\n",
    "    rotate=True,\n",
    "    rounded=True,\n",
    "    #special_characters=False,\n",
    "    precision=3,\n",
    ")\n",
    "\n",
    "graph = graphviz.Source(tree_data, format='png')\n",
    "graph"
   ],
   "outputs": [
    {
     "output_type": "error",
     "ename": "IndentationError",
     "evalue": "unexpected indent (3021465641.py, line 2)",
     "traceback": [
      "\u001b[0;36m  File \u001b[0;32m\"/var/folders/rl/wnjs7ngd5ws98f9x2dfzsvnr0000gn/T/ipykernel_38820/3021465641.py\"\u001b[0;36m, line \u001b[0;32m2\u001b[0m\n\u001b[0;31m    decision_tree = model,\u001b[0m\n\u001b[0m    ^\u001b[0m\n\u001b[0;31mIndentationError\u001b[0m\u001b[0;31m:\u001b[0m unexpected indent\n"
     ]
    }
   ],
   "metadata": {}
  },
  {
   "cell_type": "markdown",
   "source": [
    "# Conclusión"
   ],
   "metadata": {}
  },
  {
   "cell_type": "markdown",
   "source": [
    "En conclusión nos quedamos con el modelo general, ya que tiene mayor información, esta más balanceado y esto hace que tenga una mayor predicción de compra.\n",
    "A futuro es un modelo que se podría mejorar, ya que solo contamos con variables estacionarias y este ha limitado muchas información de mejora para el modelo."
   ],
   "metadata": {}
  }
 ],
 "metadata": {
  "kernelspec": {
   "name": "python3",
   "display_name": "Python 3.7.11 64-bit ('timeSeriesEnv': conda)"
  },
  "language_info": {
   "codemirror_mode": {
    "name": "ipython",
    "version": 3
   },
   "file_extension": ".py",
   "mimetype": "text/x-python",
   "name": "python",
   "nbconvert_exporter": "python",
   "pygments_lexer": "ipython3",
   "version": "3.7.11"
  },
  "interpreter": {
   "hash": "f86448b1f532782351bd8eb0fc4879974a12cf470d9babd82cdc73e1a09add65"
  }
 },
 "nbformat": 4,
 "nbformat_minor": 4
}