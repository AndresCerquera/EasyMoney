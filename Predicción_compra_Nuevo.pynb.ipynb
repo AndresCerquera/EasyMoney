{
 "cells": [
  {
   "cell_type": "markdown",
   "source": [
    "# Tarea 3: Modelo de recomendación de compra"
   ],
   "metadata": {}
  },
  {
   "cell_type": "markdown",
   "source": [
    "Modelo de Machine Learning supervisado y de clasificación binaria.\n",
    "1 significa que el cliente compra (true)\n",
    "0 Significa que el cliente no compra (false)"
   ],
   "metadata": {}
  },
  {
   "cell_type": "markdown",
   "source": [
    "## import Libraries"
   ],
   "metadata": {}
  },
  {
   "cell_type": "code",
   "execution_count": 3,
   "source": [
    "!pip install graphviz"
   ],
   "outputs": [
    {
     "output_type": "stream",
     "name": "stdout",
     "text": [
      "Requirement already satisfied: graphviz in /Users/andrescerquera/opt/anaconda3/lib/python3.8/site-packages (0.17)\n"
     ]
    }
   ],
   "metadata": {}
  },
  {
   "cell_type": "code",
   "execution_count": 4,
   "source": [
    "import pandas as pd \n",
    "import numpy as np \n",
    "import matplotlib.pyplot as plt \n",
    "import seaborn as sns\n",
    "\n",
    "from datetime import datetime\n",
    "from sklearn.preprocessing import LabelEncoder\n",
    "\n",
    "from sklearn.model_selection import train_test_split\n",
    "import lightgbm as lgbm\n",
    "from sklearn.tree import DecisionTreeClassifier\n",
    "\n",
    "from sklearn.metrics import accuracy_score, f1_score, recall_score, precision_score, roc_auc_score, roc_curve\n",
    "from sklearn.metrics import confusion_matrix\n",
    "from sklearn.metrics import plot_confusion_matrix\n",
    "\n",
    "from sklearn.tree import export_graphviz\n",
    "import graphviz\n",
    "\n",
    "import warnings\n",
    "warnings.filterwarnings(\"ignore\")\n",
    "\n",
    "PREPARE_PREDICTION = False\n"
   ],
   "outputs": [],
   "metadata": {}
  },
  {
   "cell_type": "markdown",
   "source": [
    "## Import Files"
   ],
   "metadata": {}
  },
  {
   "cell_type": "code",
   "execution_count": 5,
   "source": [
    "products = pd.read_csv(\"data/products_df.csv\", encoding='utf-8')\n",
    "products.drop(columns=['Unnamed: 0'], inplace=True)\n",
    "\n",
    "commercial_activity = pd.read_csv(\"data/commercial_activity_df.csv\", encoding='utf-8')\n",
    "commercial_activity.drop(columns=['Unnamed: 0'], inplace=True)\n",
    "\n",
    "sociodemographic = pd.read_csv(\"data/sociodemographic_df.csv\", encoding='utf-8')\n",
    "sociodemographic.drop(columns=['Unnamed: 0'], inplace=True)"
   ],
   "outputs": [],
   "metadata": {}
  },
  {
   "cell_type": "markdown",
   "source": [
    "# Realizamos un merge de los 3 datasets"
   ],
   "metadata": {}
  },
  {
   "cell_type": "code",
   "execution_count": 6,
   "source": [
    "df_join = pd.merge( products, commercial_activity, on = ['pk_cid','pk_partition'] )\n",
    "df_join = pd.merge( df_join, sociodemographic, on=['pk_cid','pk_partition'] )"
   ],
   "outputs": [],
   "metadata": {}
  },
  {
   "cell_type": "markdown",
   "source": [
    "# Nombramos las variables booleanas True/False"
   ],
   "metadata": {}
  },
  {
   "cell_type": "code",
   "execution_count": 7,
   "source": [
    "boolean_cols = [\"short_term_deposit\", \"loans\", \"mortgage\", \"funds\", \"securities\",\n",
    "                \"long_term_deposit\", \"em_account_pp\",\"credit_card\", \n",
    "                \"payroll_account\", \"emc_account\", \"debit_card\", \"em_account_p\", \n",
    "                \"em_acount\", \"payroll\", \"pension_plan\"]\n",
    "for x in boolean_cols:\n",
    "    df_join[x] = df_join[x].astype(bool)"
   ],
   "outputs": [],
   "metadata": {}
  },
  {
   "cell_type": "code",
   "execution_count": 8,
   "source": [
    "df_join.head(2).T"
   ],
   "outputs": [
    {
     "output_type": "execute_result",
     "data": {
      "text/html": [
       "<div>\n",
       "<style scoped>\n",
       "    .dataframe tbody tr th:only-of-type {\n",
       "        vertical-align: middle;\n",
       "    }\n",
       "\n",
       "    .dataframe tbody tr th {\n",
       "        vertical-align: top;\n",
       "    }\n",
       "\n",
       "    .dataframe thead th {\n",
       "        text-align: right;\n",
       "    }\n",
       "</style>\n",
       "<table border=\"1\" class=\"dataframe\">\n",
       "  <thead>\n",
       "    <tr style=\"text-align: right;\">\n",
       "      <th></th>\n",
       "      <th>0</th>\n",
       "      <th>1</th>\n",
       "    </tr>\n",
       "  </thead>\n",
       "  <tbody>\n",
       "    <tr>\n",
       "      <th>pk_cid</th>\n",
       "      <td>1375586</td>\n",
       "      <td>1050611</td>\n",
       "    </tr>\n",
       "    <tr>\n",
       "      <th>pk_partition</th>\n",
       "      <td>2018-01-28</td>\n",
       "      <td>2018-01-28</td>\n",
       "    </tr>\n",
       "    <tr>\n",
       "      <th>short_term_deposit</th>\n",
       "      <td>False</td>\n",
       "      <td>False</td>\n",
       "    </tr>\n",
       "    <tr>\n",
       "      <th>loans</th>\n",
       "      <td>False</td>\n",
       "      <td>False</td>\n",
       "    </tr>\n",
       "    <tr>\n",
       "      <th>mortgage</th>\n",
       "      <td>False</td>\n",
       "      <td>False</td>\n",
       "    </tr>\n",
       "    <tr>\n",
       "      <th>funds</th>\n",
       "      <td>False</td>\n",
       "      <td>False</td>\n",
       "    </tr>\n",
       "    <tr>\n",
       "      <th>securities</th>\n",
       "      <td>False</td>\n",
       "      <td>False</td>\n",
       "    </tr>\n",
       "    <tr>\n",
       "      <th>long_term_deposit</th>\n",
       "      <td>False</td>\n",
       "      <td>False</td>\n",
       "    </tr>\n",
       "    <tr>\n",
       "      <th>em_account_pp</th>\n",
       "      <td>False</td>\n",
       "      <td>False</td>\n",
       "    </tr>\n",
       "    <tr>\n",
       "      <th>credit_card</th>\n",
       "      <td>False</td>\n",
       "      <td>False</td>\n",
       "    </tr>\n",
       "    <tr>\n",
       "      <th>payroll</th>\n",
       "      <td>False</td>\n",
       "      <td>False</td>\n",
       "    </tr>\n",
       "    <tr>\n",
       "      <th>pension_plan</th>\n",
       "      <td>False</td>\n",
       "      <td>False</td>\n",
       "    </tr>\n",
       "    <tr>\n",
       "      <th>payroll_account</th>\n",
       "      <td>False</td>\n",
       "      <td>False</td>\n",
       "    </tr>\n",
       "    <tr>\n",
       "      <th>emc_account</th>\n",
       "      <td>False</td>\n",
       "      <td>False</td>\n",
       "    </tr>\n",
       "    <tr>\n",
       "      <th>debit_card</th>\n",
       "      <td>False</td>\n",
       "      <td>False</td>\n",
       "    </tr>\n",
       "    <tr>\n",
       "      <th>em_account_p</th>\n",
       "      <td>False</td>\n",
       "      <td>False</td>\n",
       "    </tr>\n",
       "    <tr>\n",
       "      <th>em_acount</th>\n",
       "      <td>True</td>\n",
       "      <td>True</td>\n",
       "    </tr>\n",
       "    <tr>\n",
       "      <th>entry_date</th>\n",
       "      <td>2018-01-12</td>\n",
       "      <td>2015-08-10</td>\n",
       "    </tr>\n",
       "    <tr>\n",
       "      <th>entry_channel</th>\n",
       "      <td>KHL</td>\n",
       "      <td>KHE</td>\n",
       "    </tr>\n",
       "    <tr>\n",
       "      <th>active_customer</th>\n",
       "      <td>1.0</td>\n",
       "      <td>0.0</td>\n",
       "    </tr>\n",
       "    <tr>\n",
       "      <th>segment</th>\n",
       "      <td>02 - PARTICULARES</td>\n",
       "      <td>03 - UNIVERSITARIO</td>\n",
       "    </tr>\n",
       "    <tr>\n",
       "      <th>country_id</th>\n",
       "      <td>ES</td>\n",
       "      <td>ES</td>\n",
       "    </tr>\n",
       "    <tr>\n",
       "      <th>region_code</th>\n",
       "      <td>29.0</td>\n",
       "      <td>13.0</td>\n",
       "    </tr>\n",
       "    <tr>\n",
       "      <th>gender</th>\n",
       "      <td>H</td>\n",
       "      <td>V</td>\n",
       "    </tr>\n",
       "    <tr>\n",
       "      <th>age</th>\n",
       "      <td>35</td>\n",
       "      <td>23</td>\n",
       "    </tr>\n",
       "    <tr>\n",
       "      <th>deceased</th>\n",
       "      <td>N</td>\n",
       "      <td>N</td>\n",
       "    </tr>\n",
       "    <tr>\n",
       "      <th>salary</th>\n",
       "      <td>87218.1</td>\n",
       "      <td>35548.74</td>\n",
       "    </tr>\n",
       "  </tbody>\n",
       "</table>\n",
       "</div>"
      ],
      "text/plain": [
       "                                    0                   1\n",
       "pk_cid                        1375586             1050611\n",
       "pk_partition               2018-01-28          2018-01-28\n",
       "short_term_deposit              False               False\n",
       "loans                           False               False\n",
       "mortgage                        False               False\n",
       "funds                           False               False\n",
       "securities                      False               False\n",
       "long_term_deposit               False               False\n",
       "em_account_pp                   False               False\n",
       "credit_card                     False               False\n",
       "payroll                         False               False\n",
       "pension_plan                    False               False\n",
       "payroll_account                 False               False\n",
       "emc_account                     False               False\n",
       "debit_card                      False               False\n",
       "em_account_p                    False               False\n",
       "em_acount                        True                True\n",
       "entry_date                 2018-01-12          2015-08-10\n",
       "entry_channel                     KHL                 KHE\n",
       "active_customer                   1.0                 0.0\n",
       "segment             02 - PARTICULARES  03 - UNIVERSITARIO\n",
       "country_id                         ES                  ES\n",
       "region_code                      29.0                13.0\n",
       "gender                              H                   V\n",
       "age                                35                  23\n",
       "deceased                            N                   N\n",
       "salary                        87218.1            35548.74"
      ]
     },
     "metadata": {},
     "execution_count": 8
    }
   ],
   "metadata": {}
  },
  {
   "cell_type": "markdown",
   "source": [
    "## Eliminamos los datasets anteriores: products, commercial_activity, sociodemographic"
   ],
   "metadata": {}
  },
  {
   "cell_type": "code",
   "execution_count": 9,
   "source": [
    "del commercial_activity, products, sociodemographic"
   ],
   "outputs": [],
   "metadata": {}
  },
  {
   "cell_type": "markdown",
   "source": [
    "## \n",
    "   1. Asignamos la variable a predecir sobre la partition.\n",
    "   2. Nombramos una lista de los productos\n",
    "   3. Damos una variable a nuestros productos \n",
    "   4. Asignamos el precio a cada variable de productos "
   ],
   "metadata": {}
  },
  {
   "cell_type": "code",
   "execution_count": 10,
   "source": [
    "partitions = ['2018-01-28',\n",
    "              '2018-02-28',\n",
    "              '2018-03-28',\n",
    "              '2018-04-28',\n",
    "              '2018-05-28',\n",
    "              '2018-06-28',\n",
    "              '2018-07-28',\n",
    "              '2018-08-28',\n",
    "              '2018-09-28',\n",
    "              '2018-10-28',\n",
    "              '2018-11-28',\n",
    "              '2018-12-28',\n",
    "              '2019-01-28',\n",
    "              '2019-02-28',\n",
    "              '2019-03-28',\n",
    "              '2019-04-28',\n",
    "              '2019-05-28']\n",
    "\n",
    "products_list = ['short_term_deposit','loans','mortgage','funds','securities','long_term_deposit',\n",
    "                 'em_account_pp','credit_card','pension_plan',\n",
    "                 'payroll_account','emc_account','debit_card','em_account_p','em_acount']\n",
    "\n",
    "products_3 = {\"short_term_deposit\":\"inversión\", \"loans\":\"prestamo\", \"mortgage\":\"prestamo\", \n",
    "              \"funds\":\"inversión\", \"securities\":\"inversión\", \"long_term_deposit\":\"inversión\", \n",
    "              \"em_account_pp\":\"cuenta\", \"credit_card\":\"prestamo\", \"payroll_account\":\"cuenta\", \n",
    "              \"pension_plan\":\"inversión\", \"emc_account\":\"cuenta\", \"debit_card\":\"prestamo\", \n",
    "              \"em_account_p\":\"cuenta\", \"em_acount\":\"cuenta\"}\n",
    "\n",
    "product_values = {'cuenta':10, 'inversión':40, 'prestamo':60}"
   ],
   "outputs": [],
   "metadata": {}
  },
  {
   "cell_type": "markdown",
   "source": [
    "# Preparamos la Data \n",
    "\n",
    "Queremos predecir cuando un usuario da el alta de un producto según la partition.\n",
    "- 1 si se da de alta\n",
    "- 0 si no se da de alta"
   ],
   "metadata": {}
  },
  {
   "cell_type": "code",
   "execution_count": 11,
   "source": [
    "def determinar_altas(data):\n",
    "    data.columns=['pk_partition','pk_cid','product']\n",
    "    data['prev'] = data.groupby('pk_cid')['product'].shift(1)\n",
    "    data['diff'] = data['product'] - data['prev']\n",
    "\n",
    "    # Solo queremos 1 \n",
    "    data['diff'] = np.where( (data['product']==1) & (data['diff'].isna()) & (data['pk_partition']!='2018-01-28'), 1, data['diff'] )\n",
    "    data['diff'].fillna(0,inplace=True)\n",
    "    data['diff'] = np.where( data['diff'] == -1, 0, data['diff'] )\n",
    "\n",
    "    return data['diff']"
   ],
   "outputs": [],
   "metadata": {}
  },
  {
   "cell_type": "code",
   "execution_count": 12,
   "source": [
    "def determinar_bajas(data):\n",
    "    data.columns=['pk_partition','pk_cid','product']\n",
    "    data['prev'] = data.groupby('pk_cid')['product'].shift(1)\n",
    "    data['diff'] = data['product'] - data['prev']\n",
    "\n",
    "    # Solo queremos -1 pero los codificamos como 1 (más facil) \n",
    "    data['diff'] = np.where( (data['product']==1) & (data['diff'].isna()) & (data['pk_partition']!='2018-01-28'), 1, data['diff'] )\n",
    "    data['diff'].fillna(0,inplace=True)\n",
    "    data['diff'] = np.where( data['diff'] == 0, 0, data['diff'] )\n",
    "    data['diff'] = np.where( data['diff'] == -1, 1, data['diff'] )\n",
    "\n",
    "    return data['diff']"
   ],
   "outputs": [],
   "metadata": {}
  },
  {
   "cell_type": "code",
   "execution_count": 13,
   "source": [
    "df = df_join.copy(deep=True)"
   ],
   "outputs": [],
   "metadata": {}
  },
  {
   "cell_type": "code",
   "execution_count": 14,
   "source": [
    "for prod in products_list:\n",
    "    df[prod+'_altas'] = determinar_altas( df_join[['pk_partition','pk_cid',prod]] )\n",
    "    df[prod+'_bajas'] = determinar_bajas( df_join[['pk_partition','pk_cid',prod]] )\n",
    "    print(prod)"
   ],
   "outputs": [
    {
     "output_type": "stream",
     "name": "stdout",
     "text": [
      "short_term_deposit\n",
      "loans\n",
      "mortgage\n",
      "funds\n",
      "securities\n",
      "long_term_deposit\n",
      "em_account_pp\n",
      "credit_card\n",
      "pension_plan\n",
      "payroll_account\n",
      "emc_account\n",
      "debit_card\n",
      "em_account_p\n",
      "em_acount\n"
     ]
    }
   ],
   "metadata": {}
  },
  {
   "cell_type": "markdown",
   "source": [
    "## Total altas"
   ],
   "metadata": {}
  },
  {
   "cell_type": "code",
   "execution_count": 15,
   "source": [
    "\n",
    "products_3_2 = {\"short_term_deposit\":\"inversión\", \"loans\":\"prestamo\", \"mortgage\":\"prestamo\", \n",
    "    \"funds\":\"inversión\", \"securities\":\"inversión\", \"long_term_deposit\":\"inversión\", \n",
    "    \"em_account_pp\":\"cuenta\", \"credit_card\":\"prestamo\", \"payroll_account\":\"cuenta\", \"pension_plan\":\"inversión\", \n",
    "    \"emc_account\":\"cuenta\", \"debit_card\":\"prestamo\", \"em_account_p\":\"cuenta\", \"em_acount\":\"cuenta\"}\n",
    "\n",
    "\n",
    "init_cols = ['total_altas_cuenta','total_altas_inversión','total_altas_prestamo',\n",
    "    'altas_cuenta','altas_inversión','altas_prestamo',\n",
    "    'total_bajas_cuenta','total_bajas_inversión','total_bajas_prestamo'] \n",
    "\n",
    "\n",
    "for col in init_cols:\n",
    "    df[col] = 0\n",
    "\n",
    "for key, value in products_3_2.items():\n",
    "    df['total_altas_'+value] += df[key+'_altas']\n",
    "    df['altas_'+value] +=  df['total_altas_'+value]\n",
    "    df['total_bajas_'+value] += df[key+'_bajas']\n",
    "\n",
    "    # memory optimization\n",
    "    df['altas_'+value] = df['total_altas_'+value].astype('int8')\n",
    "    df['total_altas_'+value] = df['total_altas_'+value].astype('int8')\n",
    "    df['total_altas_'+value] = df['total_bajas_'+value].astype('int8')\n",
    "\n",
    "    df.drop([key+'_bajas',key+'_altas'], axis=1, inplace=True)\n",
    "\n",
    "df['total_altas'] = df['total_altas_cuenta'] + df['total_altas_inversión'] + df['total_altas_prestamo']\n",
    "df['total_bajas'] = df['total_bajas_cuenta'] + df['total_bajas_inversión'] + df['total_bajas_prestamo']"
   ],
   "outputs": [],
   "metadata": {}
  },
  {
   "cell_type": "code",
   "execution_count": 16,
   "source": [
    "df['total'] = df['altas_cuenta'] + df['altas_inversión'] + df['altas_prestamo']"
   ],
   "outputs": [],
   "metadata": {}
  },
  {
   "cell_type": "code",
   "execution_count": 17,
   "source": [
    "df = df.sort_values(['pk_cid','pk_partition'])\n",
    "df.head(3).T"
   ],
   "outputs": [
    {
     "output_type": "execute_result",
     "data": {
      "text/html": [
       "<div>\n",
       "<style scoped>\n",
       "    .dataframe tbody tr th:only-of-type {\n",
       "        vertical-align: middle;\n",
       "    }\n",
       "\n",
       "    .dataframe tbody tr th {\n",
       "        vertical-align: top;\n",
       "    }\n",
       "\n",
       "    .dataframe thead th {\n",
       "        text-align: right;\n",
       "    }\n",
       "</style>\n",
       "<table border=\"1\" class=\"dataframe\">\n",
       "  <thead>\n",
       "    <tr style=\"text-align: right;\">\n",
       "      <th></th>\n",
       "      <th>1479563</th>\n",
       "      <th>2168122</th>\n",
       "      <th>2962973</th>\n",
       "    </tr>\n",
       "  </thead>\n",
       "  <tbody>\n",
       "    <tr>\n",
       "      <th>pk_cid</th>\n",
       "      <td>15891</td>\n",
       "      <td>15891</td>\n",
       "      <td>16063</td>\n",
       "    </tr>\n",
       "    <tr>\n",
       "      <th>pk_partition</th>\n",
       "      <td>2018-07-28</td>\n",
       "      <td>2018-08-28</td>\n",
       "      <td>2018-11-28</td>\n",
       "    </tr>\n",
       "    <tr>\n",
       "      <th>short_term_deposit</th>\n",
       "      <td>False</td>\n",
       "      <td>False</td>\n",
       "      <td>False</td>\n",
       "    </tr>\n",
       "    <tr>\n",
       "      <th>loans</th>\n",
       "      <td>False</td>\n",
       "      <td>False</td>\n",
       "      <td>False</td>\n",
       "    </tr>\n",
       "    <tr>\n",
       "      <th>mortgage</th>\n",
       "      <td>False</td>\n",
       "      <td>False</td>\n",
       "      <td>False</td>\n",
       "    </tr>\n",
       "    <tr>\n",
       "      <th>funds</th>\n",
       "      <td>False</td>\n",
       "      <td>False</td>\n",
       "      <td>False</td>\n",
       "    </tr>\n",
       "    <tr>\n",
       "      <th>securities</th>\n",
       "      <td>False</td>\n",
       "      <td>False</td>\n",
       "      <td>False</td>\n",
       "    </tr>\n",
       "    <tr>\n",
       "      <th>long_term_deposit</th>\n",
       "      <td>False</td>\n",
       "      <td>False</td>\n",
       "      <td>False</td>\n",
       "    </tr>\n",
       "    <tr>\n",
       "      <th>em_account_pp</th>\n",
       "      <td>False</td>\n",
       "      <td>False</td>\n",
       "      <td>False</td>\n",
       "    </tr>\n",
       "    <tr>\n",
       "      <th>credit_card</th>\n",
       "      <td>False</td>\n",
       "      <td>False</td>\n",
       "      <td>False</td>\n",
       "    </tr>\n",
       "    <tr>\n",
       "      <th>payroll</th>\n",
       "      <td>False</td>\n",
       "      <td>False</td>\n",
       "      <td>False</td>\n",
       "    </tr>\n",
       "    <tr>\n",
       "      <th>pension_plan</th>\n",
       "      <td>False</td>\n",
       "      <td>False</td>\n",
       "      <td>False</td>\n",
       "    </tr>\n",
       "    <tr>\n",
       "      <th>payroll_account</th>\n",
       "      <td>False</td>\n",
       "      <td>False</td>\n",
       "      <td>False</td>\n",
       "    </tr>\n",
       "    <tr>\n",
       "      <th>emc_account</th>\n",
       "      <td>False</td>\n",
       "      <td>False</td>\n",
       "      <td>False</td>\n",
       "    </tr>\n",
       "    <tr>\n",
       "      <th>debit_card</th>\n",
       "      <td>False</td>\n",
       "      <td>False</td>\n",
       "      <td>False</td>\n",
       "    </tr>\n",
       "    <tr>\n",
       "      <th>em_account_p</th>\n",
       "      <td>False</td>\n",
       "      <td>False</td>\n",
       "      <td>False</td>\n",
       "    </tr>\n",
       "    <tr>\n",
       "      <th>em_acount</th>\n",
       "      <td>True</td>\n",
       "      <td>False</td>\n",
       "      <td>False</td>\n",
       "    </tr>\n",
       "    <tr>\n",
       "      <th>entry_date</th>\n",
       "      <td>2018-07-28</td>\n",
       "      <td>2018-07-28</td>\n",
       "      <td>2018-11-19</td>\n",
       "    </tr>\n",
       "    <tr>\n",
       "      <th>entry_channel</th>\n",
       "      <td>KAT</td>\n",
       "      <td>KAT</td>\n",
       "      <td>KAT</td>\n",
       "    </tr>\n",
       "    <tr>\n",
       "      <th>active_customer</th>\n",
       "      <td>1.0</td>\n",
       "      <td>0.0</td>\n",
       "      <td>1.0</td>\n",
       "    </tr>\n",
       "    <tr>\n",
       "      <th>segment</th>\n",
       "      <td>NaN</td>\n",
       "      <td>02 - PARTICULARES</td>\n",
       "      <td>NaN</td>\n",
       "    </tr>\n",
       "    <tr>\n",
       "      <th>country_id</th>\n",
       "      <td>ES</td>\n",
       "      <td>ES</td>\n",
       "      <td>ES</td>\n",
       "    </tr>\n",
       "    <tr>\n",
       "      <th>region_code</th>\n",
       "      <td>28.0</td>\n",
       "      <td>28.0</td>\n",
       "      <td>28.0</td>\n",
       "    </tr>\n",
       "    <tr>\n",
       "      <th>gender</th>\n",
       "      <td>H</td>\n",
       "      <td>H</td>\n",
       "      <td>H</td>\n",
       "    </tr>\n",
       "    <tr>\n",
       "      <th>age</th>\n",
       "      <td>59</td>\n",
       "      <td>59</td>\n",
       "      <td>62</td>\n",
       "    </tr>\n",
       "    <tr>\n",
       "      <th>deceased</th>\n",
       "      <td>N</td>\n",
       "      <td>N</td>\n",
       "      <td>N</td>\n",
       "    </tr>\n",
       "    <tr>\n",
       "      <th>salary</th>\n",
       "      <td>NaN</td>\n",
       "      <td>NaN</td>\n",
       "      <td>NaN</td>\n",
       "    </tr>\n",
       "    <tr>\n",
       "      <th>total_altas_cuenta</th>\n",
       "      <td>1</td>\n",
       "      <td>1</td>\n",
       "      <td>0</td>\n",
       "    </tr>\n",
       "    <tr>\n",
       "      <th>total_altas_inversión</th>\n",
       "      <td>0</td>\n",
       "      <td>0</td>\n",
       "      <td>0</td>\n",
       "    </tr>\n",
       "    <tr>\n",
       "      <th>total_altas_prestamo</th>\n",
       "      <td>0</td>\n",
       "      <td>0</td>\n",
       "      <td>0</td>\n",
       "    </tr>\n",
       "    <tr>\n",
       "      <th>altas_cuenta</th>\n",
       "      <td>1</td>\n",
       "      <td>0</td>\n",
       "      <td>0</td>\n",
       "    </tr>\n",
       "    <tr>\n",
       "      <th>altas_inversión</th>\n",
       "      <td>0</td>\n",
       "      <td>0</td>\n",
       "      <td>0</td>\n",
       "    </tr>\n",
       "    <tr>\n",
       "      <th>altas_prestamo</th>\n",
       "      <td>0</td>\n",
       "      <td>0</td>\n",
       "      <td>0</td>\n",
       "    </tr>\n",
       "    <tr>\n",
       "      <th>total_bajas_cuenta</th>\n",
       "      <td>1</td>\n",
       "      <td>1</td>\n",
       "      <td>0</td>\n",
       "    </tr>\n",
       "    <tr>\n",
       "      <th>total_bajas_inversión</th>\n",
       "      <td>0</td>\n",
       "      <td>0</td>\n",
       "      <td>0</td>\n",
       "    </tr>\n",
       "    <tr>\n",
       "      <th>total_bajas_prestamo</th>\n",
       "      <td>0</td>\n",
       "      <td>0</td>\n",
       "      <td>0</td>\n",
       "    </tr>\n",
       "    <tr>\n",
       "      <th>total_altas</th>\n",
       "      <td>1</td>\n",
       "      <td>1</td>\n",
       "      <td>0</td>\n",
       "    </tr>\n",
       "    <tr>\n",
       "      <th>total_bajas</th>\n",
       "      <td>1</td>\n",
       "      <td>1</td>\n",
       "      <td>0</td>\n",
       "    </tr>\n",
       "    <tr>\n",
       "      <th>total</th>\n",
       "      <td>1</td>\n",
       "      <td>0</td>\n",
       "      <td>0</td>\n",
       "    </tr>\n",
       "  </tbody>\n",
       "</table>\n",
       "</div>"
      ],
      "text/plain": [
       "                          1479563            2168122     2962973\n",
       "pk_cid                      15891              15891       16063\n",
       "pk_partition           2018-07-28         2018-08-28  2018-11-28\n",
       "short_term_deposit          False              False       False\n",
       "loans                       False              False       False\n",
       "mortgage                    False              False       False\n",
       "funds                       False              False       False\n",
       "securities                  False              False       False\n",
       "long_term_deposit           False              False       False\n",
       "em_account_pp               False              False       False\n",
       "credit_card                 False              False       False\n",
       "payroll                     False              False       False\n",
       "pension_plan                False              False       False\n",
       "payroll_account             False              False       False\n",
       "emc_account                 False              False       False\n",
       "debit_card                  False              False       False\n",
       "em_account_p                False              False       False\n",
       "em_acount                    True              False       False\n",
       "entry_date             2018-07-28         2018-07-28  2018-11-19\n",
       "entry_channel                 KAT                KAT         KAT\n",
       "active_customer               1.0                0.0         1.0\n",
       "segment                       NaN  02 - PARTICULARES         NaN\n",
       "country_id                     ES                 ES          ES\n",
       "region_code                  28.0               28.0        28.0\n",
       "gender                          H                  H           H\n",
       "age                            59                 59          62\n",
       "deceased                        N                  N           N\n",
       "salary                        NaN                NaN         NaN\n",
       "total_altas_cuenta              1                  1           0\n",
       "total_altas_inversión           0                  0           0\n",
       "total_altas_prestamo            0                  0           0\n",
       "altas_cuenta                    1                  0           0\n",
       "altas_inversión                 0                  0           0\n",
       "altas_prestamo                  0                  0           0\n",
       "total_bajas_cuenta              1                  1           0\n",
       "total_bajas_inversión           0                  0           0\n",
       "total_bajas_prestamo            0                  0           0\n",
       "total_altas                     1                  1           0\n",
       "total_bajas                     1                  1           0\n",
       "total                           1                  0           0"
      ]
     },
     "metadata": {},
     "execution_count": 17
    }
   ],
   "metadata": {}
  },
  {
   "cell_type": "markdown",
   "source": [
    "## convertimos la variable de tiempo \"pk_partition"
   ],
   "metadata": {}
  },
  {
   "cell_type": "code",
   "execution_count": 18,
   "source": [
    "df['pk_partition'] = pd.to_datetime(df['pk_partition'])"
   ],
   "outputs": [],
   "metadata": {}
  },
  {
   "cell_type": "code",
   "execution_count": 19,
   "source": [
    "#df.info"
   ],
   "outputs": [],
   "metadata": {}
  },
  {
   "cell_type": "markdown",
   "source": [
    "## Convertimos las variables a valor númerico    "
   ],
   "metadata": {}
  },
  {
   "cell_type": "code",
   "execution_count": 20,
   "source": [
    "le = LabelEncoder()\n",
    "le.fit(df['entry_channel'])\n",
    "df['entry_channel'] = le.transform(df['entry_channel'])"
   ],
   "outputs": [],
   "metadata": {}
  },
  {
   "cell_type": "code",
   "execution_count": 21,
   "source": [
    "le = LabelEncoder()\n",
    "le.fit(df['gender'])\n",
    "df['gender'] = le.transform(df['gender'])\n"
   ],
   "outputs": [],
   "metadata": {}
  },
  {
   "cell_type": "code",
   "execution_count": 22,
   "source": [
    "del le"
   ],
   "outputs": [],
   "metadata": {}
  },
  {
   "cell_type": "markdown",
   "source": [
    "## Altas y bajas de los principales productos en los ultimos meses"
   ],
   "metadata": {}
  },
  {
   "cell_type": "code",
   "execution_count": 23,
   "source": [
    "def rolling_shift(df, col, window, calc):\n",
    "    if calc == 'sum':\n",
    "        rolling = df.groupby('pk_cid')[[col]].rolling(window = window, min_periods=1).sum()\n",
    "    elif calc == 'max':\n",
    "        rolling = df.groupby('pk_cid')[[col]].rolling(window = window, min_periods=1).max()\n",
    "    \n",
    "    rolling.reset_index(inplace=True)\n",
    "    rolling['shift'] = rolling.groupby('pk_cid')[[col]].shift(1)\n",
    "    rolling[col].fillna(0,inplace=True)\n",
    "    rolling[col] = rolling[col].astype('int')\n",
    "        \n",
    "    return rolling[col]"
   ],
   "outputs": [],
   "metadata": {}
  },
  {
   "cell_type": "code",
   "execution_count": 24,
   "source": [
    "bajas_shifts = []\n",
    "\n",
    "transf = {'1m':1,'3m':3}\n",
    "cols = ['total_bajas','total_bajas_cuenta','total_bajas_inversión','total_bajas_prestamo']\n",
    "\n",
    "\n",
    "for total in cols:\n",
    "    for key, window in transf.items():\n",
    "        if window == 1:\n",
    "            if PREPARE_PREDICTION:\n",
    "                df[total+'_'+key+'_shift'] = df[total]\n",
    "            else:\n",
    "                df[total+'_'+key+'_shift'] = df[total].shift(1)\n",
    "        else:\n",
    "            df[total] = rolling_shift(df, total, window, 'sum')\n",
    "            if PREPARE_PREDICTION:\n",
    "                df[total+'_'+key+'_shift'] = df[total]\n",
    "            else:\n",
    "                df[total+'_'+key+'_shift'] = df[total].shift(1)\n",
    "            \n",
    "        df[total+'_'+key+'_shift'].fillna(0, inplace=True)\n",
    "        df[total+'_'+key+'_shift'] = df[total+'_'+key+'_shift'].astype('int8')\n",
    "    \n",
    "        bajas_shifts.append(total+'_'+key+'_shift')\n",
    "\n",
    "    print(total)\n",
    "    df.drop(total, axis=1, inplace=True)\n"
   ],
   "outputs": [
    {
     "output_type": "stream",
     "name": "stdout",
     "text": [
      "total_bajas\n",
      "total_bajas_cuenta\n",
      "total_bajas_inversión\n",
      "total_bajas_prestamo\n"
     ]
    }
   ],
   "metadata": {}
  },
  {
   "cell_type": "code",
   "execution_count": 25,
   "source": [
    "altas_shifts = []\n",
    "\n",
    "transf = {'1m':1,'2m':2,'3m':3,'6m':6}\n",
    "cols = ['total_altas','total_altas_cuenta','total_altas_inversión','total_altas_prestamo']\n",
    "\n",
    "for total in cols:\n",
    "    for key, window in transf.items():\n",
    "        if window == 1:\n",
    "            if PREPARE_PREDICTION:\n",
    "                df[total+'_'+key+'_shift'] = df[total]\n",
    "            else:\n",
    "                df[total+'_'+key+'_shift'] = df[total].shift(1)\n",
    "        else:\n",
    "            df[total] = rolling_shift(df, total, window, 'sum')\n",
    "            if PREPARE_PREDICTION:\n",
    "                df[total+'_'+key+'_shift'] = df[total]\n",
    "            else:\n",
    "                df[total+'_'+key+'_shift'] = df[total].shift(1)\n",
    "            \n",
    "        df[total+'_'+key+'_shift'].fillna(0, inplace=True)\n",
    "        df[total+'_'+key+'_shift'] = df[total+'_'+key+'_shift'].astype('int8')\n",
    "        \n",
    "        altas_shifts.append(total+'_'+key+'_shift')\n",
    "\n",
    "    print(total)\n",
    "    df.drop(total, axis=1, inplace=True)"
   ],
   "outputs": [
    {
     "output_type": "stream",
     "name": "stdout",
     "text": [
      "total_altas\n",
      "total_altas_cuenta\n",
      "total_altas_inversión\n",
      "total_altas_prestamo\n"
     ]
    }
   ],
   "metadata": {}
  },
  {
   "cell_type": "markdown",
   "source": [
    "## predicción alta de cuentas, inversión y prestamo"
   ],
   "metadata": {}
  },
  {
   "cell_type": "code",
   "execution_count": 26,
   "source": [
    "df['cuentas_fans'] = np.where( (df['total_altas_cuenta_3m_shift'] >= 1), 1, 0 )\n",
    "df['cuentas_fans'] = np.where( (df['total_altas_cuenta_3m_shift'] >= 2), 2, df['cuentas_fans'] )\n",
    "df['cuentas_fans'] = np.where( df['total_altas_cuenta_3m_shift'] >= 3, 3, df['cuentas_fans'] )\n",
    "print(df['cuentas_fans'].value_counts())\n",
    "\n",
    "df['inversión_fans'] = np.where( df['total_altas_inversión_3m_shift'] > 1, 1, 0 )\n",
    "print(df['inversión_fans'].value_counts())\n",
    "\n",
    "df['prestamo_fans'] = np.where( df['total_altas_prestamo_3m_shift'] > 1, 1, 0 )\n",
    "print(df['prestamo_fans'].value_counts())\n",
    "\n",
    "df['fans'] = np.where( df['total_altas_3m_shift'] >= 1, 1, 0 )\n",
    "df['fans'] = np.where( df['total_altas_3m_shift'] >= 2, 2, df['fans'] )\n",
    "df['fans'] = np.where( df['total_altas_3m_shift'] >= 3, 3, df['fans'] )\n",
    "print(df['fans'].value_counts())"
   ],
   "outputs": [
    {
     "output_type": "stream",
     "name": "stdout",
     "text": [
      "0    5202708\n",
      "1     531564\n",
      "2     196608\n",
      "3      32044\n",
      "Name: cuentas_fans, dtype: int64\n",
      "0    5882766\n",
      "1      80158\n",
      "Name: inversión_fans, dtype: int64\n",
      "0    5787002\n",
      "1     175922\n",
      "Name: prestamo_fans, dtype: int64\n",
      "0    4521648\n",
      "1     859675\n",
      "2     381605\n",
      "3     199996\n",
      "Name: fans, dtype: int64\n"
     ]
    }
   ],
   "metadata": {}
  },
  {
   "cell_type": "markdown",
   "source": [
    "## Análisis de tiempo transcurrido de los clientes para realizar la siguiente compra"
   ],
   "metadata": {}
  },
  {
   "cell_type": "code",
   "execution_count": 27,
   "source": [
    "data = df[['pk_cid','pk_partition','total']]"
   ],
   "outputs": [],
   "metadata": {}
  },
  {
   "cell_type": "code",
   "execution_count": 28,
   "source": [
    "data['pk_partition'] = data['pk_partition'].astype(object)\n",
    "altas = data[ data['total'] >= 1]\n",
    "\n",
    "\n",
    "altas_pt = pd.pivot_table(altas, values='total', index=['pk_cid'],\n",
    "                    columns=['pk_partition'], aggfunc=np.max)\n",
    "    \n",
    "#altas_pt.fillna( '2001-01-01', inplace=True)\n",
    "#print(altas_pt)\n",
    "#print(altas_pt.isnull().sum())\n",
    "\n",
    "    \n",
    "data = pd.merge( data, altas_pt, how='left', on='pk_cid' )"
   ],
   "outputs": [],
   "metadata": {}
  },
  {
   "cell_type": "markdown",
   "source": [
    "# cambiamos a datetime la columna partition"
   ],
   "metadata": {}
  },
  {
   "cell_type": "code",
   "execution_count": 29,
   "source": [
    "cols = ['pk_cid','pk_partition']\n",
    "data.columns = cols + partitions\n",
    "\n",
    "for part, i in zip(partitions, range(len(partitions))):\n",
    "    data[part] = np.where(data[part] >= 1, 1, data[part])\n",
    "\n",
    "    # No han comprado nada ese mes\n",
    "    data[part] = np.where(data[part] == 0, -1, data[part])\n",
    "    # Han comprado 1 producto o mas\n",
    "    data[part] = np.where(data[part] == 1, i, data[part])\n",
    "    # No aparece info de ellos en esa partition NaN o no compraron nada\n",
    "    data[part] = np.where(data[part].isna(), -1, data[part])\n",
    "        \n",
    "    data[part] = data[part].replace( {i:part, -1:'2001-01-01'})\n",
    "    #print( data[part].value_counts() )\n",
    "    data[part] = pd.to_datetime(data[part])"
   ],
   "outputs": [],
   "metadata": {}
  },
  {
   "cell_type": "code",
   "execution_count": 30,
   "source": [
    "data['pk_partition'] = pd.to_datetime(data['pk_partition'])\n",
    "    \n",
    "\n",
    "## CALCULAMOS TIEMPO DESDE ULTIMA COMPRA\n",
    "data['last_compra'] = datetime(2001,1,1)\n",
    "\n",
    "for part in partitions:\n",
    "    data['last_compra'] = np.where( (data[part] > data['last_compra']) & (part <= data['pk_partition']), data[part], data['last_compra'])\n",
    "\n",
    "data['tiempo_ult_compra'] = round(((data['pk_partition'] - data['last_compra'])/np.timedelta64(1, 'M')))\n",
    "\n",
    "data['prev'] = data.groupby('pk_cid')['tiempo_ult_compra'].shift(1)\n",
    "\n",
    "data['tiempo_ult_compra'] = np.where( data['tiempo_ult_compra']==0, data['prev']+1, data['tiempo_ult_compra'])"
   ],
   "outputs": [],
   "metadata": {}
  },
  {
   "cell_type": "code",
   "execution_count": 31,
   "source": [
    "data['tiempo_ult_compra'] = np.where( data['tiempo_ult_compra'] < 0, 20, data['tiempo_ult_compra'] )\n",
    "data['tiempo_ult_compra'] = np.where( data['tiempo_ult_compra'] > 100, 20, data['tiempo_ult_compra'] )\n",
    "data['tiempo_ult_compra'] = np.where( data['tiempo_ult_compra'].isna(), 20, data['tiempo_ult_compra'] )\n"
   ],
   "outputs": [],
   "metadata": {}
  },
  {
   "cell_type": "code",
   "execution_count": 32,
   "source": [
    "data['tiempo_ult_compra'].value_counts()"
   ],
   "outputs": [
    {
     "output_type": "execute_result",
     "data": {
      "text/plain": [
       "20.0    4576105\n",
       "1.0      284256\n",
       "2.0      227037\n",
       "3.0      185555\n",
       "4.0      150877\n",
       "5.0      130248\n",
       "6.0      112878\n",
       "7.0       94476\n",
       "8.0       69868\n",
       "9.0       48675\n",
       "10.0      32541\n",
       "11.0      18583\n",
       "12.0      13373\n",
       "13.0       9456\n",
       "14.0       6132\n",
       "15.0       2864\n",
       "Name: tiempo_ult_compra, dtype: int64"
      ]
     },
     "metadata": {},
     "execution_count": 32
    }
   ],
   "metadata": {}
  },
  {
   "cell_type": "markdown",
   "source": [
    "## consultamos compras ateriores"
   ],
   "metadata": {}
  },
  {
   "cell_type": "code",
   "execution_count": 33,
   "source": [
    "data_to_join = data[['pk_cid','pk_partition','tiempo_ult_compra']]\n",
    "\n",
    "\n",
    "data_to_join['compra_antes'] = np.where(data_to_join['tiempo_ult_compra'] == 20, 0, 1)\n",
    "#data_to_join['pk_partition'] = data_to_join['pk_partition']"
   ],
   "outputs": [],
   "metadata": {}
  },
  {
   "cell_type": "code",
   "execution_count": 34,
   "source": [
    "df['pk_partition'] = pd.to_datetime(df['pk_partition'])\n",
    "\n",
    "df = pd.merge(df, data_to_join, on=['pk_cid','pk_partition'], how='left')\n",
    "\n",
    "del data, data_to_join, altas_pt, altas\n",
    "\n",
    "df = df[df['tiempo_ult_compra'] != 20]"
   ],
   "outputs": [],
   "metadata": {}
  },
  {
   "cell_type": "markdown",
   "source": [
    "## vamos a categorizar las variables numéricas: edad y salario con el fin de usarlas en nuestro modelo, adicional a este paso descartamos clientes fallecidos, menores de 18 y mayores de 80 "
   ],
   "metadata": {}
  },
  {
   "cell_type": "code",
   "execution_count": 35,
   "source": [
    "df = df[ (df['deceased'] != 'S') | ((df['age'] >= 18) & (df['age'] <= 80))]\n",
    "#df = df[ (df['age'] >= 18) & (df['age'] <= 80)]"
   ],
   "outputs": [],
   "metadata": {}
  },
  {
   "cell_type": "code",
   "execution_count": 36,
   "source": [
    "# Tramificacion de edades\n",
    "age_tram = df[df['pk_partition']=='2018-05-28']['age']\n",
    "age_tram.hist()"
   ],
   "outputs": [
    {
     "output_type": "execute_result",
     "data": {
      "text/plain": [
       "<AxesSubplot:>"
      ]
     },
     "metadata": {},
     "execution_count": 36
    },
    {
     "output_type": "display_data",
     "data": {
      "image/png": "[encoded data removed]",
      "text/plain": [
       "<Figure size 432x288 with 1 Axes>"
      ]
     },
     "metadata": {
      "needs_background": "light"
     }
    }
   ],
   "metadata": {}
  },
  {
   "cell_type": "code",
   "execution_count": 37,
   "source": [
    "age_divisions = {1:[0,20], 2:[20,40], 3:[40,60], 4:[60,120]}\n",
    "df['age_tram'] = 0\n",
    "for div, values in age_divisions.items():\n",
    "    df['age_tram'] = np.where( (df['age'] > values[0]) & (df['age'] <= values[1]), div, df['age_tram'] )"
   ],
   "outputs": [],
   "metadata": {}
  },
  {
   "cell_type": "code",
   "execution_count": 38,
   "source": [
    "# Tramificacion de edades\n",
    "salary_tram = df[df['pk_partition']=='2018-05-28']['salary']\n",
    "quartiles = salary_tram.describe()\n",
    "quartiles"
   ],
   "outputs": [
    {
     "output_type": "execute_result",
     "data": {
      "text/plain": [
       "count    2.623800e+04\n",
       "mean     1.180507e+05\n",
       "std      1.742694e+05\n",
       "min      7.425000e+03\n",
       "25%      6.374168e+04\n",
       "50%      9.170289e+04\n",
       "75%      1.354168e+05\n",
       "max      1.326862e+07\n",
       "Name: salary, dtype: float64"
      ]
     },
     "metadata": {},
     "execution_count": 38
    }
   ],
   "metadata": {}
  },
  {
   "cell_type": "code",
   "execution_count": 39,
   "source": [
    "salary_divisions = {1:[0,4e4], 2:[4e4,8e4], 3:[8e4,12e4], 4:[12e4,2e10]}\n",
    "df['salary'].fillna(-1,inplace=True)\n",
    "\n",
    "df['salary_tram'] = 0\n",
    "\n",
    "for div, values in salary_divisions.items():\n",
    "    print(values)\n",
    "    df['salary_tram'] = np.where( (df['salary'] > values[0]) & (df['salary'] <= values[1]), div, df['salary_tram'] )"
   ],
   "outputs": [
    {
     "output_type": "stream",
     "name": "stdout",
     "text": [
      "[0, 40000.0]\n",
      "[40000.0, 80000.0]\n",
      "[80000.0, 120000.0]\n",
      "[120000.0, 20000000000.0]\n"
     ]
    }
   ],
   "metadata": {}
  },
  {
   "cell_type": "code",
   "execution_count": 40,
   "source": [
    "df.fillna(0, inplace=True)"
   ],
   "outputs": [],
   "metadata": {}
  },
  {
   "cell_type": "code",
   "execution_count": 41,
   "source": [
    "df['pk_partition'] = pd.to_datetime(df['pk_partition'])\n",
    "df['month'] = df['pk_partition'].dt.month\n",
    "df['year'] = df['pk_partition'].dt.year"
   ],
   "outputs": [],
   "metadata": {}
  },
  {
   "cell_type": "markdown",
   "source": [
    "# Preparamos el target \n",
    "Observamos que algunos clientes compran varios productos el mismo mes. \n",
    "El target que queremos predecir es la compra de un producto por lo que sera 1\n",
    "En caso de que sean varias compras el mismo mes, se duplicara el número de registros "
   ],
   "metadata": {}
  },
  {
   "cell_type": "code",
   "execution_count": 42,
   "source": [
    "df['compras_cuenta'] = np.where(df['altas_cuenta']>=1,1,0) \n",
    "df['compras_inversión'] =  np.where(df['altas_inversión']>=1,1,0) \n",
    "df['compras_prestamo'] = np.where(df['altas_prestamo']>=1,1,0)\n",
    "\n",
    "df['compras'] = df['compras_cuenta'] + df['compras_inversión'] + df['compras_prestamo']\n",
    "max_ = int(max(df['compras'].value_counts().index)+1)\n",
    "print(max_)"
   ],
   "outputs": [
    {
     "output_type": "stream",
     "name": "stdout",
     "text": [
      "4\n"
     ]
    }
   ],
   "metadata": {}
  },
  {
   "cell_type": "code",
   "execution_count": 43,
   "source": [
    "print(df['compras_cuenta'].value_counts())\n",
    "print(df['compras_inversión'].value_counts())\n",
    "print(df['compras_prestamo'].value_counts())"
   ],
   "outputs": [
    {
     "output_type": "stream",
     "name": "stdout",
     "text": [
      "0    1339574\n",
      "1      47048\n",
      "Name: compras_cuenta, dtype: int64\n",
      "0    1349121\n",
      "1      37501\n",
      "Name: compras_inversión, dtype: int64\n",
      "0    1319380\n",
      "1      67242\n",
      "Name: compras_prestamo, dtype: int64\n"
     ]
    }
   ],
   "metadata": {}
  },
  {
   "cell_type": "code",
   "execution_count": 44,
   "source": [
    "df['compras'].value_counts()"
   ],
   "outputs": [
    {
     "output_type": "execute_result",
     "data": {
      "text/plain": [
       "0    1251450\n",
       "1     119689\n",
       "2      14347\n",
       "3       1136\n",
       "Name: compras, dtype: int64"
      ]
     },
     "metadata": {},
     "execution_count": 44
    }
   ],
   "metadata": {}
  },
  {
   "cell_type": "code",
   "execution_count": 45,
   "source": [
    "list_ = products_list.copy()\n",
    "df['pk_partition'] = pd.to_datetime(df['pk_partition'])\n",
    "list_.append('pk_partition')\n",
    "list_.append('pk_cid')\n",
    "\n",
    "compras_todas = {}\n",
    "\n",
    "for number in range(1,max_):\n",
    "    part_df = df[df['compras'] == number][list_].set_index(['pk_cid','pk_partition'])\n",
    "\n",
    "    #print(part_df[list_products] != 0)\n",
    "    for key, row in part_df.iterrows():\n",
    "        #print(key, row[row != 0].index.to_list())\n",
    "        compras_todas[key] = row[row != 0].index.to_list()     \n",
    "        \n",
    "    print(number)\n",
    "    #for num in range(1,number+1):\n",
    "    #    df['prod'+str(num)] = np.where( , cost_product[products_dict[prods[num-1]]], df['prod'+str(num)] )"
   ],
   "outputs": [
    {
     "output_type": "stream",
     "name": "stdout",
     "text": [
      "1\n",
      "2\n",
      "3\n"
     ]
    }
   ],
   "metadata": {}
  },
  {
   "cell_type": "code",
   "execution_count": 46,
   "source": [
    "import pickle\n",
    "f = open(\"compras_todas.pkl\",\"wb\")\n",
    "pickle.dump(compras_todas,f)\n",
    "f.close()"
   ],
   "outputs": [],
   "metadata": {}
  },
  {
   "cell_type": "code",
   "execution_count": 47,
   "source": [
    "compras_df = pd.DataFrame.from_dict(compras_todas, orient='index')\n",
    "\n",
    "compras_melted = compras_df.melt(ignore_index = False)\n",
    "compras_melted['tipo_producto'] = compras_melted['value'].replace(products_3)\n",
    "compras_melted['precio'] = compras_melted['tipo_producto'].replace(product_values)\n",
    "compras_melted = compras_melted.reset_index()\n",
    "\n",
    "compras_melted['pk_cid'] = compras_melted['index'].apply( lambda x: x[0] )\n",
    "compras_melted['pk_partition'] = compras_melted['index'].apply( lambda x: x[1] )\n",
    "\n",
    "#compras_melted = compras_melted[~compras_melted['pk_partition'].isna()]\n",
    "compras_melted = compras_melted[~compras_melted['tipo_producto'].isna()]\n",
    "\n",
    "compras_melted\n",
    "\n",
    "#compras_melted[['pk_cid','pk_partition','tipo_producto','precio']]"
   ],
   "outputs": [
    {
     "output_type": "execute_result",
     "data": {
      "text/html": [
       "<div>\n",
       "<style scoped>\n",
       "    .dataframe tbody tr th:only-of-type {\n",
       "        vertical-align: middle;\n",
       "    }\n",
       "\n",
       "    .dataframe tbody tr th {\n",
       "        vertical-align: top;\n",
       "    }\n",
       "\n",
       "    .dataframe thead th {\n",
       "        text-align: right;\n",
       "    }\n",
       "</style>\n",
       "<table border=\"1\" class=\"dataframe\">\n",
       "  <thead>\n",
       "    <tr style=\"text-align: right;\">\n",
       "      <th></th>\n",
       "      <th>index</th>\n",
       "      <th>variable</th>\n",
       "      <th>value</th>\n",
       "      <th>tipo_producto</th>\n",
       "      <th>precio</th>\n",
       "      <th>pk_cid</th>\n",
       "      <th>pk_partition</th>\n",
       "    </tr>\n",
       "  </thead>\n",
       "  <tbody>\n",
       "    <tr>\n",
       "      <th>0</th>\n",
       "      <td>(16502, 2019-01-28 00:00:00)</td>\n",
       "      <td>0</td>\n",
       "      <td>emc_account</td>\n",
       "      <td>cuenta</td>\n",
       "      <td>10.0</td>\n",
       "      <td>16502</td>\n",
       "      <td>2019-01-28</td>\n",
       "    </tr>\n",
       "    <tr>\n",
       "      <th>1</th>\n",
       "      <td>(17457, 2018-10-28 00:00:00)</td>\n",
       "      <td>0</td>\n",
       "      <td>em_acount</td>\n",
       "      <td>cuenta</td>\n",
       "      <td>10.0</td>\n",
       "      <td>17457</td>\n",
       "      <td>2018-10-28</td>\n",
       "    </tr>\n",
       "    <tr>\n",
       "      <th>2</th>\n",
       "      <td>(17457, 2019-01-28 00:00:00)</td>\n",
       "      <td>0</td>\n",
       "      <td>long_term_deposit</td>\n",
       "      <td>inversión</td>\n",
       "      <td>40.0</td>\n",
       "      <td>17457</td>\n",
       "      <td>2019-01-28</td>\n",
       "    </tr>\n",
       "    <tr>\n",
       "      <th>3</th>\n",
       "      <td>(17457, 2019-03-28 00:00:00)</td>\n",
       "      <td>0</td>\n",
       "      <td>long_term_deposit</td>\n",
       "      <td>inversión</td>\n",
       "      <td>40.0</td>\n",
       "      <td>17457</td>\n",
       "      <td>2019-03-28</td>\n",
       "    </tr>\n",
       "    <tr>\n",
       "      <th>4</th>\n",
       "      <td>(17457, 2019-05-28 00:00:00)</td>\n",
       "      <td>0</td>\n",
       "      <td>long_term_deposit</td>\n",
       "      <td>inversión</td>\n",
       "      <td>40.0</td>\n",
       "      <td>17457</td>\n",
       "      <td>2019-05-28</td>\n",
       "    </tr>\n",
       "    <tr>\n",
       "      <th>...</th>\n",
       "      <td>...</td>\n",
       "      <td>...</td>\n",
       "      <td>...</td>\n",
       "      <td>...</td>\n",
       "      <td>...</td>\n",
       "      <td>...</td>\n",
       "      <td>...</td>\n",
       "    </tr>\n",
       "    <tr>\n",
       "      <th>975348</th>\n",
       "      <td>(1128353, 2018-11-28 00:00:00)</td>\n",
       "      <td>7</td>\n",
       "      <td>debit_card</td>\n",
       "      <td>prestamo</td>\n",
       "      <td>60.0</td>\n",
       "      <td>1128353</td>\n",
       "      <td>2018-11-28</td>\n",
       "    </tr>\n",
       "    <tr>\n",
       "      <th>986723</th>\n",
       "      <td>(1190607, 2018-04-28 00:00:00)</td>\n",
       "      <td>7</td>\n",
       "      <td>em_acount</td>\n",
       "      <td>cuenta</td>\n",
       "      <td>10.0</td>\n",
       "      <td>1190607</td>\n",
       "      <td>2018-04-28</td>\n",
       "    </tr>\n",
       "    <tr>\n",
       "      <th>1005016</th>\n",
       "      <td>(1265402, 2018-09-28 00:00:00)</td>\n",
       "      <td>7</td>\n",
       "      <td>debit_card</td>\n",
       "      <td>prestamo</td>\n",
       "      <td>60.0</td>\n",
       "      <td>1265402</td>\n",
       "      <td>2018-09-28</td>\n",
       "    </tr>\n",
       "    <tr>\n",
       "      <th>1066624</th>\n",
       "      <td>(1018436, 2018-05-28 00:00:00)</td>\n",
       "      <td>7</td>\n",
       "      <td>em_acount</td>\n",
       "      <td>cuenta</td>\n",
       "      <td>10.0</td>\n",
       "      <td>1018436</td>\n",
       "      <td>2018-05-28</td>\n",
       "    </tr>\n",
       "    <tr>\n",
       "      <th>1069708</th>\n",
       "      <td>(1226958, 2018-12-28 00:00:00)</td>\n",
       "      <td>7</td>\n",
       "      <td>em_acount</td>\n",
       "      <td>cuenta</td>\n",
       "      <td>10.0</td>\n",
       "      <td>1226958</td>\n",
       "      <td>2018-12-28</td>\n",
       "    </tr>\n",
       "  </tbody>\n",
       "</table>\n",
       "<p>311491 rows × 7 columns</p>\n",
       "</div>"
      ],
      "text/plain": [
       "                                  index  variable              value  \\\n",
       "0          (16502, 2019-01-28 00:00:00)         0        emc_account   \n",
       "1          (17457, 2018-10-28 00:00:00)         0          em_acount   \n",
       "2          (17457, 2019-01-28 00:00:00)         0  long_term_deposit   \n",
       "3          (17457, 2019-03-28 00:00:00)         0  long_term_deposit   \n",
       "4          (17457, 2019-05-28 00:00:00)         0  long_term_deposit   \n",
       "...                                 ...       ...                ...   \n",
       "975348   (1128353, 2018-11-28 00:00:00)         7         debit_card   \n",
       "986723   (1190607, 2018-04-28 00:00:00)         7          em_acount   \n",
       "1005016  (1265402, 2018-09-28 00:00:00)         7         debit_card   \n",
       "1066624  (1018436, 2018-05-28 00:00:00)         7          em_acount   \n",
       "1069708  (1226958, 2018-12-28 00:00:00)         7          em_acount   \n",
       "\n",
       "        tipo_producto  precio   pk_cid pk_partition  \n",
       "0              cuenta    10.0    16502   2019-01-28  \n",
       "1              cuenta    10.0    17457   2018-10-28  \n",
       "2           inversión    40.0    17457   2019-01-28  \n",
       "3           inversión    40.0    17457   2019-03-28  \n",
       "4           inversión    40.0    17457   2019-05-28  \n",
       "...               ...     ...      ...          ...  \n",
       "975348       prestamo    60.0  1128353   2018-11-28  \n",
       "986723         cuenta    10.0  1190607   2018-04-28  \n",
       "1005016      prestamo    60.0  1265402   2018-09-28  \n",
       "1066624        cuenta    10.0  1018436   2018-05-28  \n",
       "1069708        cuenta    10.0  1226958   2018-12-28  \n",
       "\n",
       "[311491 rows x 7 columns]"
      ]
     },
     "metadata": {},
     "execution_count": 47
    }
   ],
   "metadata": {}
  },
  {
   "cell_type": "code",
   "execution_count": 48,
   "source": [
    "compras_melted.info()\n",
    "compras_melted['pk_partition'] = compras_melted['pk_partition'].apply(lambda x: str(x)[:11])\n",
    "df['pk_partition'] = df['pk_partition'].apply(lambda x: str(x)[:11])"
   ],
   "outputs": [
    {
     "output_type": "stream",
     "name": "stdout",
     "text": [
      "<class 'pandas.core.frame.DataFrame'>\n",
      "Int64Index: 311491 entries, 0 to 1069708\n",
      "Data columns (total 7 columns):\n",
      " #   Column         Non-Null Count   Dtype         \n",
      "---  ------         --------------   -----         \n",
      " 0   index          311491 non-null  object        \n",
      " 1   variable       311491 non-null  int64         \n",
      " 2   value          311491 non-null  object        \n",
      " 3   tipo_producto  311491 non-null  object        \n",
      " 4   precio         311491 non-null  float64       \n",
      " 5   pk_cid         311491 non-null  int64         \n",
      " 6   pk_partition   311491 non-null  datetime64[ns]\n",
      "dtypes: datetime64[ns](1), float64(1), int64(2), object(3)\n",
      "memory usage: 19.0+ MB\n"
     ]
    }
   ],
   "metadata": {}
  },
  {
   "cell_type": "code",
   "execution_count": 49,
   "source": [
    "del compras_todas, compras_df, part_df"
   ],
   "outputs": [],
   "metadata": {}
  },
  {
   "cell_type": "code",
   "execution_count": 50,
   "source": [
    "df = pd.merge(df, compras_melted[['pk_cid','pk_partition','value','tipo_producto','precio']], on=['pk_cid','pk_partition'], how='left')\n",
    "del compras_melted"
   ],
   "outputs": [],
   "metadata": {}
  },
  {
   "cell_type": "markdown",
   "source": [
    "## Precio de productos\n",
    "De los 14 productos que tenmos los hemos agrupado en 3 variables, cada una tiene un precio 10, 40 y 60 euros. Queremos trabajar un modelo general con todos los productos, se puede entender que un cliente, compre prductos de menor coste."
   ],
   "metadata": {}
  },
  {
   "cell_type": "code",
   "execution_count": 51,
   "source": [
    "df.info()"
   ],
   "outputs": [
    {
     "output_type": "stream",
     "name": "stdout",
     "text": [
      "<class 'pandas.core.frame.DataFrame'>\n",
      "Int64Index: 1566404 entries, 0 to 1566403\n",
      "Data columns (total 72 columns):\n",
      " #   Column                          Non-Null Count    Dtype  \n",
      "---  ------                          --------------    -----  \n",
      " 0   pk_cid                          1566404 non-null  int64  \n",
      " 1   pk_partition                    1566404 non-null  object \n",
      " 2   short_term_deposit              1566404 non-null  bool   \n",
      " 3   loans                           1566404 non-null  bool   \n",
      " 4   mortgage                        1566404 non-null  bool   \n",
      " 5   funds                           1566404 non-null  bool   \n",
      " 6   securities                      1566404 non-null  bool   \n",
      " 7   long_term_deposit               1566404 non-null  bool   \n",
      " 8   em_account_pp                   1566404 non-null  bool   \n",
      " 9   credit_card                     1566404 non-null  bool   \n",
      " 10  payroll                         1566404 non-null  bool   \n",
      " 11  pension_plan                    1566404 non-null  bool   \n",
      " 12  payroll_account                 1566404 non-null  bool   \n",
      " 13  emc_account                     1566404 non-null  bool   \n",
      " 14  debit_card                      1566404 non-null  bool   \n",
      " 15  em_account_p                    1566404 non-null  bool   \n",
      " 16  em_acount                       1566404 non-null  bool   \n",
      " 17  entry_date                      1566404 non-null  object \n",
      " 18  entry_channel                   1566404 non-null  int64  \n",
      " 19  active_customer                 1566404 non-null  float64\n",
      " 20  segment                         1566404 non-null  object \n",
      " 21  country_id                      1566404 non-null  object \n",
      " 22  region_code                     1566404 non-null  float64\n",
      " 23  gender                          1566404 non-null  int64  \n",
      " 24  age                             1566404 non-null  int64  \n",
      " 25  deceased                        1566404 non-null  object \n",
      " 26  salary                          1566404 non-null  float64\n",
      " 27  altas_cuenta                    1566404 non-null  int8   \n",
      " 28  altas_inversión                 1566404 non-null  int8   \n",
      " 29  altas_prestamo                  1566404 non-null  int8   \n",
      " 30  total                           1566404 non-null  int8   \n",
      " 31  total_bajas_1m_shift            1566404 non-null  int8   \n",
      " 32  total_bajas_3m_shift            1566404 non-null  int8   \n",
      " 33  total_bajas_cuenta_1m_shift     1566404 non-null  int8   \n",
      " 34  total_bajas_cuenta_3m_shift     1566404 non-null  int8   \n",
      " 35  total_bajas_inversión_1m_shift  1566404 non-null  int8   \n",
      " 36  total_bajas_inversión_3m_shift  1566404 non-null  int8   \n",
      " 37  total_bajas_prestamo_1m_shift   1566404 non-null  int8   \n",
      " 38  total_bajas_prestamo_3m_shift   1566404 non-null  int8   \n",
      " 39  total_altas_1m_shift            1566404 non-null  int8   \n",
      " 40  total_altas_2m_shift            1566404 non-null  int8   \n",
      " 41  total_altas_3m_shift            1566404 non-null  int8   \n",
      " 42  total_altas_6m_shift            1566404 non-null  int8   \n",
      " 43  total_altas_cuenta_1m_shift     1566404 non-null  int8   \n",
      " 44  total_altas_cuenta_2m_shift     1566404 non-null  int8   \n",
      " 45  total_altas_cuenta_3m_shift     1566404 non-null  int8   \n",
      " 46  total_altas_cuenta_6m_shift     1566404 non-null  int8   \n",
      " 47  total_altas_inversión_1m_shift  1566404 non-null  int8   \n",
      " 48  total_altas_inversión_2m_shift  1566404 non-null  int8   \n",
      " 49  total_altas_inversión_3m_shift  1566404 non-null  int8   \n",
      " 50  total_altas_inversión_6m_shift  1566404 non-null  int8   \n",
      " 51  total_altas_prestamo_1m_shift   1566404 non-null  int8   \n",
      " 52  total_altas_prestamo_2m_shift   1566404 non-null  int8   \n",
      " 53  total_altas_prestamo_3m_shift   1566404 non-null  int8   \n",
      " 54  total_altas_prestamo_6m_shift   1566404 non-null  int8   \n",
      " 55  cuentas_fans                    1566404 non-null  int64  \n",
      " 56  inversión_fans                  1566404 non-null  int64  \n",
      " 57  prestamo_fans                   1566404 non-null  int64  \n",
      " 58  fans                            1566404 non-null  int64  \n",
      " 59  tiempo_ult_compra               1566404 non-null  float64\n",
      " 60  compra_antes                    1566404 non-null  int64  \n",
      " 61  age_tram                        1566404 non-null  int64  \n",
      " 62  salary_tram                     1566404 non-null  int64  \n",
      " 63  month                           1566404 non-null  int64  \n",
      " 64  year                            1566404 non-null  int64  \n",
      " 65  compras_cuenta                  1566404 non-null  int64  \n",
      " 66  compras_inversión               1566404 non-null  int64  \n",
      " 67  compras_prestamo                1566404 non-null  int64  \n",
      " 68  compras                         1566404 non-null  int64  \n",
      " 69  value                           311491 non-null   object \n",
      " 70  tipo_producto                   311491 non-null   object \n",
      " 71  precio                          311491 non-null   float64\n",
      "dtypes: bool(15), float64(5), int64(17), int8(28), object(7)\n",
      "memory usage: 422.8+ MB\n"
     ]
    }
   ],
   "metadata": {}
  },
  {
   "cell_type": "code",
   "execution_count": 52,
   "source": [
    "df['precio'].value_counts(dropna=False)"
   ],
   "outputs": [
    {
     "output_type": "execute_result",
     "data": {
      "text/plain": [
       "NaN     1254913\n",
       "10.0     151399\n",
       "60.0      99999\n",
       "40.0      60093\n",
       "Name: precio, dtype: int64"
      ]
     },
     "metadata": {},
     "execution_count": 52
    }
   ],
   "metadata": {}
  },
  {
   "cell_type": "code",
   "execution_count": 53,
   "source": [
    "df['precio'] = np.where(df['precio'].isna(),0,df['precio'])\n",
    "#df['value'] = np.where(df['value'].isna(),0,df['value'])"
   ],
   "outputs": [],
   "metadata": {}
  },
  {
   "cell_type": "code",
   "execution_count": 54,
   "source": [
    "df['value'].value_counts(dropna=False)\n"
   ],
   "outputs": [
    {
     "output_type": "execute_result",
     "data": {
      "text/plain": [
       "NaN                   1254913\n",
       "debit_card              85584\n",
       "em_acount               71216\n",
       "payroll_account         51557\n",
       "pension_plan            46029\n",
       "emc_account             28618\n",
       "credit_card             14302\n",
       "long_term_deposit        7058\n",
       "securities               2600\n",
       "short_term_deposit       2493\n",
       "funds                    1913\n",
       "loans                      83\n",
       "mortgage                   30\n",
       "em_account_p                8\n",
       "Name: value, dtype: int64"
      ]
     },
     "metadata": {},
     "execution_count": 54
    }
   ],
   "metadata": {}
  },
  {
   "cell_type": "code",
   "execution_count": 55,
   "source": [
    "df['id'] = range(df.shape[0])"
   ],
   "outputs": [],
   "metadata": {}
  },
  {
   "cell_type": "code",
   "execution_count": 56,
   "source": [
    "cost_10 = set(list(df['id'].sample(int(df.shape[0]*0.35))))\n",
    "cost_60 = set(list(df['id'].sample(int(df.shape[0]*0.35))))\n",
    "\n",
    "print(len(cost_10))\n",
    "print(len(cost_60))"
   ],
   "outputs": [
    {
     "output_type": "stream",
     "name": "stdout",
     "text": [
      "548241\n",
      "548241\n"
     ]
    }
   ],
   "metadata": {}
  },
  {
   "cell_type": "code",
   "execution_count": 57,
   "source": [
    "df['precio'].fillna(0,inplace=True)\n",
    "df['precio'] = np.where( (df['precio'] == 0) & (df['id'].isin(cost_10)), 10, df['precio'])\n",
    "df['precio'] = np.where( (df['precio'] == 0) & (df['id'].isin(cost_60)), 60, df['precio'])\n",
    "df['precio'] = np.where( df['precio'] == 0, 40, df['precio'])"
   ],
   "outputs": [],
   "metadata": {}
  },
  {
   "cell_type": "code",
   "execution_count": 58,
   "source": [
    "print(df['precio'].value_counts(dropna=False))\n",
    "df.drop('id',axis=1,inplace=True)"
   ],
   "outputs": [
    {
     "output_type": "stream",
     "name": "stdout",
     "text": [
      "10.0    590802\n",
      "40.0    590010\n",
      "60.0    385592\n",
      "Name: precio, dtype: int64\n"
     ]
    }
   ],
   "metadata": {}
  },
  {
   "cell_type": "markdown",
   "source": [
    "# Limpiamos la Data\n",
    "En esta variable limpiamos los nulos y las columnas que no son relevantes para nuestro modelo."
   ],
   "metadata": {}
  },
  {
   "cell_type": "code",
   "execution_count": 59,
   "source": [
    "df['compras'] = np.where(df['compras']>=1,1,0)"
   ],
   "outputs": [],
   "metadata": {}
  },
  {
   "cell_type": "code",
   "execution_count": 60,
   "source": [
    "df[['compras','precio']].value_counts()"
   ],
   "outputs": [
    {
     "output_type": "execute_result",
     "data": {
      "text/plain": [
       "compras  precio\n",
       "0        40.0      528457\n",
       "         10.0      438187\n",
       "         60.0      284806\n",
       "1        10.0      152615\n",
       "         60.0      100786\n",
       "         40.0       61553\n",
       "dtype: int64"
      ]
     },
     "metadata": {},
     "execution_count": 60
    }
   ],
   "metadata": {}
  },
  {
   "cell_type": "code",
   "execution_count": 61,
   "source": [
    "df.shape"
   ],
   "outputs": [
    {
     "output_type": "execute_result",
     "data": {
      "text/plain": [
       "(1566404, 72)"
      ]
     },
     "metadata": {},
     "execution_count": 61
    }
   ],
   "metadata": {}
  },
  {
   "cell_type": "code",
   "execution_count": 62,
   "source": [
    "for x in products_list:\n",
    "    df.drop(x, axis=1, inplace=True)"
   ],
   "outputs": [],
   "metadata": {}
  },
  {
   "cell_type": "code",
   "execution_count": 63,
   "source": [
    "df.info()"
   ],
   "outputs": [
    {
     "output_type": "stream",
     "name": "stdout",
     "text": [
      "<class 'pandas.core.frame.DataFrame'>\n",
      "Int64Index: 1566404 entries, 0 to 1566403\n",
      "Data columns (total 58 columns):\n",
      " #   Column                          Non-Null Count    Dtype  \n",
      "---  ------                          --------------    -----  \n",
      " 0   pk_cid                          1566404 non-null  int64  \n",
      " 1   pk_partition                    1566404 non-null  object \n",
      " 2   payroll                         1566404 non-null  bool   \n",
      " 3   entry_date                      1566404 non-null  object \n",
      " 4   entry_channel                   1566404 non-null  int64  \n",
      " 5   active_customer                 1566404 non-null  float64\n",
      " 6   segment                         1566404 non-null  object \n",
      " 7   country_id                      1566404 non-null  object \n",
      " 8   region_code                     1566404 non-null  float64\n",
      " 9   gender                          1566404 non-null  int64  \n",
      " 10  age                             1566404 non-null  int64  \n",
      " 11  deceased                        1566404 non-null  object \n",
      " 12  salary                          1566404 non-null  float64\n",
      " 13  altas_cuenta                    1566404 non-null  int8   \n",
      " 14  altas_inversión                 1566404 non-null  int8   \n",
      " 15  altas_prestamo                  1566404 non-null  int8   \n",
      " 16  total                           1566404 non-null  int8   \n",
      " 17  total_bajas_1m_shift            1566404 non-null  int8   \n",
      " 18  total_bajas_3m_shift            1566404 non-null  int8   \n",
      " 19  total_bajas_cuenta_1m_shift     1566404 non-null  int8   \n",
      " 20  total_bajas_cuenta_3m_shift     1566404 non-null  int8   \n",
      " 21  total_bajas_inversión_1m_shift  1566404 non-null  int8   \n",
      " 22  total_bajas_inversión_3m_shift  1566404 non-null  int8   \n",
      " 23  total_bajas_prestamo_1m_shift   1566404 non-null  int8   \n",
      " 24  total_bajas_prestamo_3m_shift   1566404 non-null  int8   \n",
      " 25  total_altas_1m_shift            1566404 non-null  int8   \n",
      " 26  total_altas_2m_shift            1566404 non-null  int8   \n",
      " 27  total_altas_3m_shift            1566404 non-null  int8   \n",
      " 28  total_altas_6m_shift            1566404 non-null  int8   \n",
      " 29  total_altas_cuenta_1m_shift     1566404 non-null  int8   \n",
      " 30  total_altas_cuenta_2m_shift     1566404 non-null  int8   \n",
      " 31  total_altas_cuenta_3m_shift     1566404 non-null  int8   \n",
      " 32  total_altas_cuenta_6m_shift     1566404 non-null  int8   \n",
      " 33  total_altas_inversión_1m_shift  1566404 non-null  int8   \n",
      " 34  total_altas_inversión_2m_shift  1566404 non-null  int8   \n",
      " 35  total_altas_inversión_3m_shift  1566404 non-null  int8   \n",
      " 36  total_altas_inversión_6m_shift  1566404 non-null  int8   \n",
      " 37  total_altas_prestamo_1m_shift   1566404 non-null  int8   \n",
      " 38  total_altas_prestamo_2m_shift   1566404 non-null  int8   \n",
      " 39  total_altas_prestamo_3m_shift   1566404 non-null  int8   \n",
      " 40  total_altas_prestamo_6m_shift   1566404 non-null  int8   \n",
      " 41  cuentas_fans                    1566404 non-null  int64  \n",
      " 42  inversión_fans                  1566404 non-null  int64  \n",
      " 43  prestamo_fans                   1566404 non-null  int64  \n",
      " 44  fans                            1566404 non-null  int64  \n",
      " 45  tiempo_ult_compra               1566404 non-null  float64\n",
      " 46  compra_antes                    1566404 non-null  int64  \n",
      " 47  age_tram                        1566404 non-null  int64  \n",
      " 48  salary_tram                     1566404 non-null  int64  \n",
      " 49  month                           1566404 non-null  int64  \n",
      " 50  year                            1566404 non-null  int64  \n",
      " 51  compras_cuenta                  1566404 non-null  int64  \n",
      " 52  compras_inversión               1566404 non-null  int64  \n",
      " 53  compras_prestamo                1566404 non-null  int64  \n",
      " 54  compras                         1566404 non-null  int64  \n",
      " 55  value                           311491 non-null   object \n",
      " 56  tipo_producto                   311491 non-null   object \n",
      " 57  precio                          1566404 non-null  float64\n",
      "dtypes: bool(1), float64(5), int64(17), int8(28), object(7)\n",
      "memory usage: 401.8+ MB\n"
     ]
    }
   ],
   "metadata": {}
  },
  {
   "cell_type": "code",
   "execution_count": 64,
   "source": [
    "remove_cols = ['value','tipo_producto','segment','payroll','country_id','region_code','pk_partition',\n",
    "               'entry_date','deceased','compra_antes','total','total_altas','total_altas_cuenta',\n",
    "               'total_altas_prestamo','total_altas_ahorros','altas_ahorros','altas_cuenta','altas_prestamo']\n",
    "\n",
    "for col in remove_cols:\n",
    "    try:\n",
    "        df.drop(col, axis=1, inplace=True)\n",
    "    except:\n",
    "        pass"
   ],
   "outputs": [],
   "metadata": {}
  },
  {
   "cell_type": "code",
   "execution_count": 65,
   "source": [
    "df.columns.to_list()"
   ],
   "outputs": [
    {
     "output_type": "execute_result",
     "data": {
      "text/plain": [
       "['pk_cid',\n",
       " 'entry_channel',\n",
       " 'active_customer',\n",
       " 'gender',\n",
       " 'age',\n",
       " 'salary',\n",
       " 'altas_inversión',\n",
       " 'total_bajas_1m_shift',\n",
       " 'total_bajas_3m_shift',\n",
       " 'total_bajas_cuenta_1m_shift',\n",
       " 'total_bajas_cuenta_3m_shift',\n",
       " 'total_bajas_inversión_1m_shift',\n",
       " 'total_bajas_inversión_3m_shift',\n",
       " 'total_bajas_prestamo_1m_shift',\n",
       " 'total_bajas_prestamo_3m_shift',\n",
       " 'total_altas_1m_shift',\n",
       " 'total_altas_2m_shift',\n",
       " 'total_altas_3m_shift',\n",
       " 'total_altas_6m_shift',\n",
       " 'total_altas_cuenta_1m_shift',\n",
       " 'total_altas_cuenta_2m_shift',\n",
       " 'total_altas_cuenta_3m_shift',\n",
       " 'total_altas_cuenta_6m_shift',\n",
       " 'total_altas_inversión_1m_shift',\n",
       " 'total_altas_inversión_2m_shift',\n",
       " 'total_altas_inversión_3m_shift',\n",
       " 'total_altas_inversión_6m_shift',\n",
       " 'total_altas_prestamo_1m_shift',\n",
       " 'total_altas_prestamo_2m_shift',\n",
       " 'total_altas_prestamo_3m_shift',\n",
       " 'total_altas_prestamo_6m_shift',\n",
       " 'cuentas_fans',\n",
       " 'inversión_fans',\n",
       " 'prestamo_fans',\n",
       " 'fans',\n",
       " 'tiempo_ult_compra',\n",
       " 'age_tram',\n",
       " 'salary_tram',\n",
       " 'month',\n",
       " 'year',\n",
       " 'compras_cuenta',\n",
       " 'compras_inversión',\n",
       " 'compras_prestamo',\n",
       " 'compras',\n",
       " 'precio']"
      ]
     },
     "metadata": {},
     "execution_count": 65
    }
   ],
   "metadata": {}
  },
  {
   "cell_type": "code",
   "execution_count": 66,
   "source": [
    "df.isnull().sum()[ df.isnull().sum() != 0 ]"
   ],
   "outputs": [
    {
     "output_type": "execute_result",
     "data": {
      "text/plain": [
       "Series([], dtype: int64)"
      ]
     },
     "metadata": {},
     "execution_count": 66
    }
   ],
   "metadata": {}
  },
  {
   "cell_type": "code",
   "execution_count": 67,
   "source": [
    "df.fillna(0, inplace=True)"
   ],
   "outputs": [],
   "metadata": {}
  },
  {
   "cell_type": "code",
   "execution_count": 68,
   "source": [
    "targets = ['compras','compras_cuenta','compras_inversión','compras_prestamo']"
   ],
   "outputs": [],
   "metadata": {}
  },
  {
   "cell_type": "markdown",
   "source": [
    "# Preparamos los datos para la predicción\n",
    "Realizamos predicción de los clientes y guardamos nuevo dataset con la pedicción \"prediction_clients.csv\"\n"
   ],
   "metadata": {}
  },
  {
   "cell_type": "code",
   "execution_count": 69,
   "source": [
    "if PREPARE_PREDICTION:\n",
    "    df_prediction = df[(df['year']==2019)&(df['month']==5)]\n",
    "    df_prediction = df_prediction.groupby('pk_cid').last()\n",
    "    \n",
    "    df_prediction['tiempo_ult_compra'] += 1\n",
    "    df_prediction['tiempo_ult_compra'] = np.where(df_prediction['compras']>1, 1, df_prediction['tiempo_ult_compra'])\n",
    "\n",
    "    df_prediction['month'] += 1\n",
    "\n",
    "    pred_features = df_prediction.columns.to_list()\n",
    "\n",
    "    for item in targets+remove_cols:\n",
    "        try:\n",
    "            pred_features.remove(item)\n",
    "        except:\n",
    "            pass\n",
    "\n",
    "    df_prediction[pred_features].to_csv(data+'prediction_clients.csv')\n",
    "\n",
    "    assert 1 != 0 #must finish"
   ],
   "outputs": [],
   "metadata": {}
  },
  {
   "cell_type": "markdown",
   "source": [
    "# Contrucción de modelo \n",
    "Construiremos 4 modelos de predicción, \n",
    "- general\n",
    "- cuentas\n",
    "- inversión\n",
    "- prestamos\n",
    "\n",
    "Tenemos que balancear el dataset, ya que esto resulta más complicado para predecir datos\n",
    "- Undersampling. En este caso se aumenta el número de registros de la clase minoritaria.\n",
    "- Oversampling En este caso se reduce el número de registros de la clase mayoritaria, de manera que la distribución no sea tan desproporcionada."
   ],
   "metadata": {}
  },
  {
   "cell_type": "code",
   "execution_count": 70,
   "source": [
    "def balancear_dataset(df, target, dist, totales, tipo, times=1):\n",
    "    totales_ = totales.copy()\n",
    "    \n",
    "    compras = ['compra_inversión','compra_cuenta','compra_prestamo']\n",
    "    boolean = False\n",
    "    if target in compras:\n",
    "        compras.remove(target)\n",
    "        boolean = True\n",
    "    \n",
    "    subset_positives = df[ (df[target]==True) ]\n",
    "    df_ = subset_positives.copy(deep=True)\n",
    "    \n",
    "    if boolean:\n",
    "        df = df[(df[compras[0]]==False) & (df[compras[1]]==False)]\n",
    "    \n",
    "    if tipo == 'undersampling':\n",
    "        subset_negatives = df[ (df[target] == 0) ].sample( df_.shape[0]*dist )\n",
    "    elif tipo == 'oversampling':\n",
    "        for time in range(times-1):\n",
    "            df_ = df_.append( subset_positives, ignore_index=True )\n",
    "        if dist == 0:\n",
    "            subset_negatives = df[ (df[target] == 0) ]\n",
    "        else:\n",
    "            subset_negatives = df[ (df[target] == 0) ].sample( df_.shape[0]*dist )\n",
    "    df_final = subset_negatives.copy(deep=True)\n",
    "    df_final = df_final.append( df_, ignore_index=True )\n",
    "    \n",
    "    totales_.remove(target)\n",
    "    #print(totales_)\n",
    "        \n",
    "    df_final.drop(totales_, axis='columns', inplace=True)\n",
    "    \n",
    "    del totales_\n",
    "    \n",
    "    return df_final"
   ],
   "outputs": [],
   "metadata": {}
  },
  {
   "cell_type": "code",
   "execution_count": 71,
   "source": [
    "def dataset_split(df_final, target, balanceo, totales, dist, times=1):\n",
    "    features = df_final.columns.to_list()  \n",
    "    X = df_final[ features ]\n",
    "    y = df_final[ target ]\n",
    "\n",
    "    X_validation = X[(X['year']==2019) & (X['month']==5)]\n",
    "    y_validation = y.loc[X_validation.index]\n",
    "    \n",
    "    #X_train_test = X[(X['year']!=2019) & (X['month']!=5)]\n",
    "    #y_train_test = y.loc[X_train_test.index]\n",
    "    \n",
    "    # Balancear dataset \n",
    "    df_balanceo = balancear_dataset(df_final, target, dist, totales, \"oversampling\", times)\n",
    "    \n",
    "    features = df_balanceo.columns.to_list()\n",
    "    remove_cols = ['country_id','compra_antes',target]\n",
    "    for x in remove_cols:\n",
    "        try:\n",
    "            features.remove(x)\n",
    "        except:\n",
    "            pass\n",
    "    \n",
    "    X_train_test = df_balanceo[ features ]\n",
    "    y_train_test = df_balanceo[ target ]\n",
    "    X_validation = X_validation[ features ]\n",
    "    \n",
    "    # Train and Test\n",
    "    X_train, X_test, y_train, y_test =  train_test_split(X_train_test, y_train_test, test_size=0.2, random_state=42)\n",
    "    \n",
    "    return X_train, y_train, X_test, y_test, X_validation, y_validation \n",
    "    "
   ],
   "outputs": [],
   "metadata": {}
  },
  {
   "cell_type": "code",
   "execution_count": 72,
   "source": [
    "def metricas(y_test, y_pred, y_test_score, y_train, y_train_pred, y_train_score):\n",
    "    print(\"----------- TEST -----------\")\n",
    "    print(\"Accuracy:\",accuracy_score(y_test, y_pred))\n",
    "    print(\"Precision:\",precision_score(y_test, y_pred))\n",
    "    print(\"Recall:\",recall_score(y_test, y_pred))\n",
    "    print(\"F1-score:\",f1_score(y_test, y_pred))\n",
    "    print(\"ROC AUC score:\",roc_auc_score(y_test, y_test_score))\n",
    "    print(\"----------- TRAIN -----------\")\n",
    "    print(\"Accuracy:\",accuracy_score(y_train, y_train_pred))\n",
    "    print(\"Precision:\",precision_score(y_train, y_train_pred))\n",
    "    print(\"Recall:\",recall_score(y_train, y_train_pred))\n",
    "    print(\"F1-score:\",f1_score(y_train, y_train_pred))\n",
    "    print(\"ROC AUC score:\",roc_auc_score(y_train, y_train_score))"
   ],
   "outputs": [],
   "metadata": {}
  },
  {
   "cell_type": "code",
   "execution_count": 73,
   "source": [
    "def confusion_matrix_figure(y_test, y_pred):\n",
    "    fig, ax = plt.subplots(figsize=(8,8))\n",
    "\n",
    "    cf_matrix = confusion_matrix(y_test, y_pred)\n",
    "    cf_matrix_ = cf_matrix.copy()\n",
    "    cf_matrix_[1,1] = cf_matrix[0,0]\n",
    "    cf_matrix_[0,1] = cf_matrix[1,0]\n",
    "    cf_matrix_[0,0] = cf_matrix[1,1]\n",
    "    cf_matrix_[1,0] = cf_matrix[0,1]\n",
    "    cf_matrix_\n",
    "\n",
    "    group_names = ['True Pos','False Neg','False Pos','True Neg']\n",
    "    group_counts = [\"{0:0.0f}\".format(value) for value in\n",
    "                    cf_matrix_.flatten()]\n",
    "    group_percentages = [\"{0:.2%}\".format(value) for value in\n",
    "                         cf_matrix_.flatten()/np.sum(cf_matrix)]\n",
    "    labels = [f\"{v1}\\n{v2}\\n{v3}\" for v1, v2, v3 in\n",
    "              zip(group_names,group_counts,group_percentages)]\n",
    "\n",
    "    labels = np.asarray(labels).reshape(2,2)\n",
    "    ax = sns.heatmap(cf_matrix_, annot=labels, fmt='', cmap='Greens', annot_kws={\"size\": 20},\n",
    "                    yticklabels=['Positive','Negative'], xticklabels=['Positive','Negative'])\n",
    "    ax.set_xlabel('Predicted',fontsize=23)\n",
    "    ax.set_ylabel('Real',fontsize=23)\n",
    "    ax.tick_params(labelsize=20)\n",
    "    \n",
    "    return fig"
   ],
   "outputs": [],
   "metadata": {}
  },
  {
   "cell_type": "markdown",
   "source": [
    "## Modelo General \n",
    "Con este modelo vamos a predecir la compra de cualquier varible de producto, las ventajas de este se basan en un dataset con mas variables a tener encuenta para predecir, al tener mas información y estar balanceado tiene un mayor acierto.\n"
   ],
   "metadata": {}
  },
  {
   "cell_type": "code",
   "execution_count": 74,
   "source": [
    "df['compras'].value_counts()"
   ],
   "outputs": [
    {
     "output_type": "execute_result",
     "data": {
      "text/plain": [
       "0    1251450\n",
       "1     314954\n",
       "Name: compras, dtype: int64"
      ]
     },
     "metadata": {},
     "execution_count": 74
    }
   ],
   "metadata": {}
  },
  {
   "cell_type": "code",
   "execution_count": 75,
   "source": [
    "X_train, y_train, X_test, y_test, X_validation, y_validation = \\\n",
    "    dataset_split(df, 'compras', \"oversampling\", targets, dist=0, times=1)\n",
    "\n",
    "features = X_train.columns.to_list()\n",
    "features.remove('pk_cid')\n",
    "#features.remove('cluster')"
   ],
   "outputs": [],
   "metadata": {}
  },
  {
   "cell_type": "code",
   "execution_count": 76,
   "source": [
    "print('TRAIN: ',y_train.shape[0]) \n",
    "print(y_train.value_counts(normalize=True),'\\n')\n",
    "\n",
    "print('TEST: ', y_test.shape[0])\n",
    "print(y_test.value_counts(normalize=True),'\\n')\n",
    "\n",
    "print('VALIDATION: ',y_validation.shape[0])\n",
    "print(y_validation.value_counts(normalize=True))"
   ],
   "outputs": [
    {
     "output_type": "stream",
     "name": "stdout",
     "text": [
      "TRAIN:  1253123\n",
      "0    0.799243\n",
      "1    0.200757\n",
      "Name: compras, dtype: float64 \n",
      "\n",
      "TEST:  313281\n",
      "0    0.797686\n",
      "1    0.202314\n",
      "Name: compras, dtype: float64 \n",
      "\n",
      "VALIDATION:  175077\n",
      "0    0.838248\n",
      "1    0.161752\n",
      "Name: compras, dtype: float64\n"
     ]
    }
   ],
   "metadata": {}
  },
  {
   "cell_type": "markdown",
   "source": [
    "## Visualizamos el modelo con un arbol de clasificación"
   ],
   "metadata": {}
  },
  {
   "cell_type": "code",
   "execution_count": 77,
   "source": [
    "model = DecisionTreeClassifier( max_depth=50, min_samples_leaf=350, random_state=42 )\n",
    "\n",
    "model.fit(X_train[features],y_train)\n",
    "\n",
    "y_train_pred = model.predict(X_train[features])\n",
    "y_train_score = model.predict_proba(X_train[features])[:,1]\n",
    "\n",
    "#Predict the response for test dataset\n",
    "y_pred = model.predict(X_test[features])\n",
    "y_test_score = model.predict_proba(X_test[features])[:,1]"
   ],
   "outputs": [],
   "metadata": {}
  },
  {
   "cell_type": "code",
   "execution_count": 78,
   "source": [
    "metricas(y_test, y_pred, y_test_score, y_train, y_train_pred, y_train_score)"
   ],
   "outputs": [
    {
     "output_type": "stream",
     "name": "stdout",
     "text": [
      "----------- TEST -----------\n",
      "Accuracy: 0.8792713251042993\n",
      "Precision: 0.841780107512503\n",
      "Recall: 0.49659992742304476\n",
      "F1-score: 0.6246774897789068\n",
      "ROC AUC score: 0.9068860860953458\n",
      "----------- TRAIN -----------\n",
      "Accuracy: 0.8806805078192643\n",
      "Precision: 0.8441924625793439\n",
      "Recall: 0.4974659442785991\n",
      "F1-score: 0.6260267120204092\n",
      "ROC AUC score: 0.911424618297578\n"
     ]
    }
   ],
   "metadata": {}
  },
  {
   "cell_type": "code",
   "execution_count": 79,
   "source": [
    "y_pred_valida = model.predict(X_validation[features])\n",
    "y_valida_score = model.predict_proba(X_validation[features])[:,1]\n",
    "\n",
    "print(\"----------- VALIDATION -----------\")\n",
    "print(\"Accuracy:\",accuracy_score(y_validation, y_pred_valida))\n",
    "print(\"Precision:\",precision_score(y_validation, y_pred_valida))\n",
    "print(\"Recall:\",recall_score(y_validation, y_pred_valida))\n",
    "print(\"F1-score:\",f1_score(y_validation, y_pred_valida))\n",
    "print(\"ROC AUC score:\",roc_auc_score(y_validation, y_valida_score))\n",
    "\n",
    "fig = confusion_matrix_figure(y_validation, y_pred_valida)\n",
    "fig.show()"
   ],
   "outputs": [
    {
     "output_type": "stream",
     "name": "stdout",
     "text": [
      "----------- VALIDATION -----------\n",
      "Accuracy: 0.9024886192932252\n",
      "Precision: 0.8600883652430045\n",
      "Recall: 0.4743105335640383\n",
      "F1-score: 0.6114348142753095\n",
      "ROC AUC score: 0.9200143035588764\n"
     ]
    },
    {
     "output_type": "display_data",
     "data": {
      "image/png": "[encoded data removed]",
      "text/plain": [
       "<Figure size 576x576 with 2 Axes>"
      ]
     },
     "metadata": {
      "needs_background": "light"
     }
    }
   ],
   "metadata": {}
  },
  {
   "cell_type": "markdown",
   "source": [
    "Al evaluar el modelo de validación y verlo con la confusion_matrix, vemos eque el ROC AUC score es alto debido al balanceo de los datos, el fallo del modelo esta en el bajo recall y precisión, ya que le cuesta dar positivos."
   ],
   "metadata": {}
  },
  {
   "cell_type": "code",
   "execution_count": 80,
   "source": [
    "fig = confusion_matrix_figure(y_train, y_train_pred)"
   ],
   "outputs": [
    {
     "output_type": "display_data",
     "data": {
      "image/png": "[encoded data removed]",
      "text/plain": [
       "<Figure size 576x576 with 2 Axes>"
      ]
     },
     "metadata": {
      "needs_background": "light"
     }
    }
   ],
   "metadata": {}
  },
  {
   "cell_type": "code",
   "execution_count": 81,
   "source": [
    "tree_data = export_graphviz(\n",
    "    decision_tree = model,\n",
    "    out_file=None,\n",
    "    #*,\n",
    "    max_depth=3,\n",
    "    feature_names= features,\n",
    "    class_names=['No Compra','Compra'],\n",
    "    #label='all',\n",
    "    filled=True,\n",
    "    #leaves_parallel=False,\n",
    "    impurity=True,\n",
    "    #node_ids=False,\n",
    "    proportion=True,\n",
    "    rotate=True,\n",
    "    rounded=True,\n",
    "    #special_characters=False,\n",
    "    precision=3,\n",
    ")\n",
    "\n",
    "graph = graphviz.Source(tree_data, format='png')\n",
    "graph"
   ],
   "outputs": [
    {
     "output_type": "error",
     "ename": "ExecutableNotFound",
     "evalue": "failed to execute 'dot', make sure the Graphviz executables are on your systems' PATH",
     "traceback": [
      "\u001b[0;31m---------------------------------------------------------------------------\u001b[0m",
      "\u001b[0;31mFileNotFoundError\u001b[0m                         Traceback (most recent call last)",
      "\u001b[0;32m~/opt/anaconda3/lib/python3.8/site-packages/graphviz/backend.py\u001b[0m in \u001b[0;36mrun\u001b[0;34m(cmd, input, capture_output, check, encoding, quiet, **kwargs)\u001b[0m\n\u001b[1;32m    169\u001b[0m     \u001b[0;32mtry\u001b[0m\u001b[0;34m:\u001b[0m\u001b[0;34m\u001b[0m\u001b[0;34m\u001b[0m\u001b[0m\n\u001b[0;32m--> 170\u001b[0;31m         \u001b[0mproc\u001b[0m \u001b[0;34m=\u001b[0m \u001b[0msubprocess\u001b[0m\u001b[0;34m.\u001b[0m\u001b[0mPopen\u001b[0m\u001b[0;34m(\u001b[0m\u001b[0mcmd\u001b[0m\u001b[0;34m,\u001b[0m \u001b[0mstartupinfo\u001b[0m\u001b[0;34m=\u001b[0m\u001b[0mget_startupinfo\u001b[0m\u001b[0;34m(\u001b[0m\u001b[0;34m)\u001b[0m\u001b[0;34m,\u001b[0m \u001b[0;34m**\u001b[0m\u001b[0mkwargs\u001b[0m\u001b[0;34m)\u001b[0m\u001b[0;34m\u001b[0m\u001b[0;34m\u001b[0m\u001b[0m\n\u001b[0m\u001b[1;32m    171\u001b[0m     \u001b[0;32mexcept\u001b[0m \u001b[0mOSError\u001b[0m \u001b[0;32mas\u001b[0m \u001b[0me\u001b[0m\u001b[0;34m:\u001b[0m\u001b[0;34m\u001b[0m\u001b[0;34m\u001b[0m\u001b[0m\n",
      "\u001b[0;32m~/opt/anaconda3/lib/python3.8/subprocess.py\u001b[0m in \u001b[0;36m__init__\u001b[0;34m(self, args, bufsize, executable, stdin, stdout, stderr, preexec_fn, close_fds, shell, cwd, env, universal_newlines, startupinfo, creationflags, restore_signals, start_new_session, pass_fds, encoding, errors, text)\u001b[0m\n\u001b[1;32m    857\u001b[0m \u001b[0;34m\u001b[0m\u001b[0m\n\u001b[0;32m--> 858\u001b[0;31m             self._execute_child(args, executable, preexec_fn, close_fds,\n\u001b[0m\u001b[1;32m    859\u001b[0m                                 \u001b[0mpass_fds\u001b[0m\u001b[0;34m,\u001b[0m \u001b[0mcwd\u001b[0m\u001b[0;34m,\u001b[0m \u001b[0menv\u001b[0m\u001b[0;34m,\u001b[0m\u001b[0;34m\u001b[0m\u001b[0;34m\u001b[0m\u001b[0m\n",
      "\u001b[0;32m~/opt/anaconda3/lib/python3.8/subprocess.py\u001b[0m in \u001b[0;36m_execute_child\u001b[0;34m(self, args, executable, preexec_fn, close_fds, pass_fds, cwd, env, startupinfo, creationflags, shell, p2cread, p2cwrite, c2pread, c2pwrite, errread, errwrite, restore_signals, start_new_session)\u001b[0m\n\u001b[1;32m   1705\u001b[0m                         \u001b[0merr_msg\u001b[0m \u001b[0;34m=\u001b[0m \u001b[0mos\u001b[0m\u001b[0;34m.\u001b[0m\u001b[0mstrerror\u001b[0m\u001b[0;34m(\u001b[0m\u001b[0merrno_num\u001b[0m\u001b[0;34m)\u001b[0m\u001b[0;34m\u001b[0m\u001b[0;34m\u001b[0m\u001b[0m\n\u001b[0;32m-> 1706\u001b[0;31m                     \u001b[0;32mraise\u001b[0m \u001b[0mchild_exception_type\u001b[0m\u001b[0;34m(\u001b[0m\u001b[0merrno_num\u001b[0m\u001b[0;34m,\u001b[0m \u001b[0merr_msg\u001b[0m\u001b[0;34m,\u001b[0m \u001b[0merr_filename\u001b[0m\u001b[0;34m)\u001b[0m\u001b[0;34m\u001b[0m\u001b[0;34m\u001b[0m\u001b[0m\n\u001b[0m\u001b[1;32m   1707\u001b[0m                 \u001b[0;32mraise\u001b[0m \u001b[0mchild_exception_type\u001b[0m\u001b[0;34m(\u001b[0m\u001b[0merr_msg\u001b[0m\u001b[0;34m)\u001b[0m\u001b[0;34m\u001b[0m\u001b[0;34m\u001b[0m\u001b[0m\n",
      "\u001b[0;31mFileNotFoundError\u001b[0m: [Errno 2] No such file or directory: 'dot'",
      "\nThe above exception was the direct cause of the following exception:\n",
      "\u001b[0;31mExecutableNotFound\u001b[0m                        Traceback (most recent call last)",
      "\u001b[0;32m~/opt/anaconda3/lib/python3.8/site-packages/IPython/core/formatters.py\u001b[0m in \u001b[0;36m__call__\u001b[0;34m(self, obj)\u001b[0m\n\u001b[1;32m    343\u001b[0m             \u001b[0mmethod\u001b[0m \u001b[0;34m=\u001b[0m \u001b[0mget_real_method\u001b[0m\u001b[0;34m(\u001b[0m\u001b[0mobj\u001b[0m\u001b[0;34m,\u001b[0m \u001b[0mself\u001b[0m\u001b[0;34m.\u001b[0m\u001b[0mprint_method\u001b[0m\u001b[0;34m)\u001b[0m\u001b[0;34m\u001b[0m\u001b[0;34m\u001b[0m\u001b[0m\n\u001b[1;32m    344\u001b[0m             \u001b[0;32mif\u001b[0m \u001b[0mmethod\u001b[0m \u001b[0;32mis\u001b[0m \u001b[0;32mnot\u001b[0m \u001b[0;32mNone\u001b[0m\u001b[0;34m:\u001b[0m\u001b[0;34m\u001b[0m\u001b[0;34m\u001b[0m\u001b[0m\n\u001b[0;32m--> 345\u001b[0;31m                 \u001b[0;32mreturn\u001b[0m \u001b[0mmethod\u001b[0m\u001b[0;34m(\u001b[0m\u001b[0;34m)\u001b[0m\u001b[0;34m\u001b[0m\u001b[0;34m\u001b[0m\u001b[0m\n\u001b[0m\u001b[1;32m    346\u001b[0m             \u001b[0;32mreturn\u001b[0m \u001b[0;32mNone\u001b[0m\u001b[0;34m\u001b[0m\u001b[0;34m\u001b[0m\u001b[0m\n\u001b[1;32m    347\u001b[0m         \u001b[0;32melse\u001b[0m\u001b[0;34m:\u001b[0m\u001b[0;34m\u001b[0m\u001b[0;34m\u001b[0m\u001b[0m\n",
      "\u001b[0;32m~/opt/anaconda3/lib/python3.8/site-packages/graphviz/files.py\u001b[0m in \u001b[0;36m_repr_svg_\u001b[0;34m(self)\u001b[0m\n\u001b[1;32m    139\u001b[0m \u001b[0;34m\u001b[0m\u001b[0m\n\u001b[1;32m    140\u001b[0m     \u001b[0;32mdef\u001b[0m \u001b[0m_repr_svg_\u001b[0m\u001b[0;34m(\u001b[0m\u001b[0mself\u001b[0m\u001b[0;34m)\u001b[0m\u001b[0;34m:\u001b[0m\u001b[0;34m\u001b[0m\u001b[0;34m\u001b[0m\u001b[0m\n\u001b[0;32m--> 141\u001b[0;31m         \u001b[0;32mreturn\u001b[0m \u001b[0mself\u001b[0m\u001b[0;34m.\u001b[0m\u001b[0mpipe\u001b[0m\u001b[0;34m(\u001b[0m\u001b[0mformat\u001b[0m\u001b[0;34m=\u001b[0m\u001b[0;34m'svg'\u001b[0m\u001b[0;34m)\u001b[0m\u001b[0;34m.\u001b[0m\u001b[0mdecode\u001b[0m\u001b[0;34m(\u001b[0m\u001b[0mself\u001b[0m\u001b[0;34m.\u001b[0m\u001b[0m_encoding\u001b[0m\u001b[0;34m)\u001b[0m\u001b[0;34m\u001b[0m\u001b[0;34m\u001b[0m\u001b[0m\n\u001b[0m\u001b[1;32m    142\u001b[0m \u001b[0;34m\u001b[0m\u001b[0m\n\u001b[1;32m    143\u001b[0m     \u001b[0;32mdef\u001b[0m \u001b[0mpipe\u001b[0m\u001b[0;34m(\u001b[0m\u001b[0mself\u001b[0m\u001b[0;34m,\u001b[0m \u001b[0mformat\u001b[0m\u001b[0;34m=\u001b[0m\u001b[0;32mNone\u001b[0m\u001b[0;34m,\u001b[0m \u001b[0mrenderer\u001b[0m\u001b[0;34m=\u001b[0m\u001b[0;32mNone\u001b[0m\u001b[0;34m,\u001b[0m \u001b[0mformatter\u001b[0m\u001b[0;34m=\u001b[0m\u001b[0;32mNone\u001b[0m\u001b[0;34m,\u001b[0m \u001b[0mquiet\u001b[0m\u001b[0;34m=\u001b[0m\u001b[0;32mFalse\u001b[0m\u001b[0;34m)\u001b[0m\u001b[0;34m:\u001b[0m\u001b[0;34m\u001b[0m\u001b[0;34m\u001b[0m\u001b[0m\n",
      "\u001b[0;32m~/opt/anaconda3/lib/python3.8/site-packages/graphviz/files.py\u001b[0m in \u001b[0;36mpipe\u001b[0;34m(self, format, renderer, formatter, quiet)\u001b[0m\n\u001b[1;32m    164\u001b[0m         \u001b[0mdata\u001b[0m \u001b[0;34m=\u001b[0m \u001b[0mself\u001b[0m\u001b[0;34m.\u001b[0m\u001b[0msource\u001b[0m\u001b[0;34m.\u001b[0m\u001b[0mencode\u001b[0m\u001b[0;34m(\u001b[0m\u001b[0mself\u001b[0m\u001b[0;34m.\u001b[0m\u001b[0m_encoding\u001b[0m\u001b[0;34m)\u001b[0m\u001b[0;34m\u001b[0m\u001b[0;34m\u001b[0m\u001b[0m\n\u001b[1;32m    165\u001b[0m \u001b[0;34m\u001b[0m\u001b[0m\n\u001b[0;32m--> 166\u001b[0;31m         out = backend.pipe(self._engine, format, data,\n\u001b[0m\u001b[1;32m    167\u001b[0m                            \u001b[0mrenderer\u001b[0m\u001b[0;34m=\u001b[0m\u001b[0mrenderer\u001b[0m\u001b[0;34m,\u001b[0m \u001b[0mformatter\u001b[0m\u001b[0;34m=\u001b[0m\u001b[0mformatter\u001b[0m\u001b[0;34m,\u001b[0m\u001b[0;34m\u001b[0m\u001b[0;34m\u001b[0m\u001b[0m\n\u001b[1;32m    168\u001b[0m                            quiet=quiet)\n",
      "\u001b[0;32m~/opt/anaconda3/lib/python3.8/site-packages/graphviz/backend.py\u001b[0m in \u001b[0;36mpipe\u001b[0;34m(engine, format, data, renderer, formatter, quiet)\u001b[0m\n\u001b[1;32m    266\u001b[0m     \"\"\"\n\u001b[1;32m    267\u001b[0m     \u001b[0mcmd\u001b[0m\u001b[0;34m,\u001b[0m \u001b[0m_\u001b[0m \u001b[0;34m=\u001b[0m \u001b[0mcommand\u001b[0m\u001b[0;34m(\u001b[0m\u001b[0mengine\u001b[0m\u001b[0;34m,\u001b[0m \u001b[0mformat\u001b[0m\u001b[0;34m,\u001b[0m \u001b[0;32mNone\u001b[0m\u001b[0;34m,\u001b[0m \u001b[0mrenderer\u001b[0m\u001b[0;34m,\u001b[0m \u001b[0mformatter\u001b[0m\u001b[0;34m)\u001b[0m\u001b[0;34m\u001b[0m\u001b[0;34m\u001b[0m\u001b[0m\n\u001b[0;32m--> 268\u001b[0;31m     \u001b[0mout\u001b[0m\u001b[0;34m,\u001b[0m \u001b[0m_\u001b[0m \u001b[0;34m=\u001b[0m \u001b[0mrun\u001b[0m\u001b[0;34m(\u001b[0m\u001b[0mcmd\u001b[0m\u001b[0;34m,\u001b[0m \u001b[0minput\u001b[0m\u001b[0;34m=\u001b[0m\u001b[0mdata\u001b[0m\u001b[0;34m,\u001b[0m \u001b[0mcapture_output\u001b[0m\u001b[0;34m=\u001b[0m\u001b[0;32mTrue\u001b[0m\u001b[0;34m,\u001b[0m \u001b[0mcheck\u001b[0m\u001b[0;34m=\u001b[0m\u001b[0;32mTrue\u001b[0m\u001b[0;34m,\u001b[0m \u001b[0mquiet\u001b[0m\u001b[0;34m=\u001b[0m\u001b[0mquiet\u001b[0m\u001b[0;34m)\u001b[0m\u001b[0;34m\u001b[0m\u001b[0;34m\u001b[0m\u001b[0m\n\u001b[0m\u001b[1;32m    269\u001b[0m     \u001b[0;32mreturn\u001b[0m \u001b[0mout\u001b[0m\u001b[0;34m\u001b[0m\u001b[0;34m\u001b[0m\u001b[0m\n\u001b[1;32m    270\u001b[0m \u001b[0;34m\u001b[0m\u001b[0m\n",
      "\u001b[0;32m~/opt/anaconda3/lib/python3.8/site-packages/graphviz/backend.py\u001b[0m in \u001b[0;36mrun\u001b[0;34m(cmd, input, capture_output, check, encoding, quiet, **kwargs)\u001b[0m\n\u001b[1;32m    171\u001b[0m     \u001b[0;32mexcept\u001b[0m \u001b[0mOSError\u001b[0m \u001b[0;32mas\u001b[0m \u001b[0me\u001b[0m\u001b[0;34m:\u001b[0m\u001b[0;34m\u001b[0m\u001b[0;34m\u001b[0m\u001b[0m\n\u001b[1;32m    172\u001b[0m         \u001b[0;32mif\u001b[0m \u001b[0me\u001b[0m\u001b[0;34m.\u001b[0m\u001b[0merrno\u001b[0m \u001b[0;34m==\u001b[0m \u001b[0merrno\u001b[0m\u001b[0;34m.\u001b[0m\u001b[0mENOENT\u001b[0m\u001b[0;34m:\u001b[0m\u001b[0;34m\u001b[0m\u001b[0;34m\u001b[0m\u001b[0m\n\u001b[0;32m--> 173\u001b[0;31m             \u001b[0;32mraise\u001b[0m \u001b[0mExecutableNotFound\u001b[0m\u001b[0;34m(\u001b[0m\u001b[0mcmd\u001b[0m\u001b[0;34m)\u001b[0m \u001b[0;32mfrom\u001b[0m \u001b[0me\u001b[0m\u001b[0;34m\u001b[0m\u001b[0;34m\u001b[0m\u001b[0m\n\u001b[0m\u001b[1;32m    174\u001b[0m         \u001b[0;32melse\u001b[0m\u001b[0;34m:\u001b[0m\u001b[0;34m\u001b[0m\u001b[0;34m\u001b[0m\u001b[0m\n\u001b[1;32m    175\u001b[0m             \u001b[0;32mraise\u001b[0m\u001b[0;34m\u001b[0m\u001b[0;34m\u001b[0m\u001b[0m\n",
      "\u001b[0;31mExecutableNotFound\u001b[0m: failed to execute 'dot', make sure the Graphviz executables are on your systems' PATH"
     ]
    },
    {
     "output_type": "execute_result",
     "data": {
      "text/plain": [
       "<graphviz.files.Source at 0x7f8d3106e190>"
      ]
     },
     "metadata": {},
     "execution_count": 81
    }
   ],
   "metadata": {}
  },
  {
   "cell_type": "code",
   "execution_count": 82,
   "source": [
    "pd.Series( model.feature_importances_, index=features ).sort_values(ascending=False).head(30)"
   ],
   "outputs": [
    {
     "output_type": "execute_result",
     "data": {
      "text/plain": [
       "altas_inversión                   0.548435\n",
       "total_altas_1m_shift              0.111214\n",
       "precio                            0.089657\n",
       "entry_channel                     0.059078\n",
       "tiempo_ult_compra                 0.058244\n",
       "active_customer                   0.048088\n",
       "total_bajas_inversión_1m_shift    0.024777\n",
       "age                               0.023864\n",
       "total_altas_cuenta_1m_shift       0.006660\n",
       "month                             0.005707\n",
       "salary                            0.004893\n",
       "total_altas_inversión_1m_shift    0.004801\n",
       "total_bajas_1m_shift              0.004349\n",
       "total_altas_prestamo_1m_shift     0.004058\n",
       "total_bajas_cuenta_1m_shift       0.002165\n",
       "gender                            0.000880\n",
       "total_bajas_prestamo_1m_shift     0.000673\n",
       "year                              0.000584\n",
       "total_altas_6m_shift              0.000575\n",
       "total_altas_cuenta_6m_shift       0.000462\n",
       "total_altas_prestamo_6m_shift     0.000213\n",
       "total_altas_inversión_6m_shift    0.000196\n",
       "fans                              0.000113\n",
       "age_tram                          0.000107\n",
       "total_altas_3m_shift              0.000063\n",
       "total_bajas_3m_shift              0.000054\n",
       "salary_tram                       0.000029\n",
       "total_altas_2m_shift              0.000028\n",
       "cuentas_fans                      0.000009\n",
       "total_altas_inversión_2m_shift    0.000007\n",
       "dtype: float64"
      ]
     },
     "metadata": {},
     "execution_count": 82
    }
   ],
   "metadata": {}
  },
  {
   "cell_type": "markdown",
   "source": [
    "# Modelo Cuentas"
   ],
   "metadata": {}
  },
  {
   "cell_type": "markdown",
   "source": [
    "Este modelo al contar con pocos datos se balance, aun así al tener poca información el modelo predice pocas compras."
   ],
   "metadata": {}
  },
  {
   "cell_type": "code",
   "execution_count": 83,
   "source": [
    "df['compras_cuenta'].value_counts()"
   ],
   "outputs": [
    {
     "output_type": "execute_result",
     "data": {
      "text/plain": [
       "0    1468397\n",
       "1      98007\n",
       "Name: compras_cuenta, dtype: int64"
      ]
     },
     "metadata": {},
     "execution_count": 83
    }
   ],
   "metadata": {}
  },
  {
   "cell_type": "code",
   "execution_count": 84,
   "source": [
    "X_train, y_train, X_test, y_test, X_validation, y_validation = \\\n",
    "    dataset_split(df, 'compras_cuenta', \"oversampling\", targets, dist=0, times=2)\n",
    "\n",
    "features = X_train.columns.to_list()\n",
    "features.remove('pk_cid')\n",
    "features.remove('precio')"
   ],
   "outputs": [],
   "metadata": {}
  },
  {
   "cell_type": "code",
   "execution_count": 85,
   "source": [
    "print('TRAIN: ',y_train.shape[0]) \n",
    "print(y_train.value_counts(normalize=True),'\\n')\n",
    "\n",
    "print('TEST: ', y_test.shape[0])\n",
    "print(y_test.value_counts(normalize=True),'\\n')\n",
    "\n",
    "print('VALIDATION: ',y_validation.shape[0])\n",
    "print(y_validation.value_counts(normalize=True))"
   ],
   "outputs": [
    {
     "output_type": "stream",
     "name": "stdout",
     "text": [
      "TRAIN:  1331528\n",
      "0    0.882275\n",
      "1    0.117725\n",
      "Name: compras_cuenta, dtype: float64 \n",
      "\n",
      "TEST:  332883\n",
      "0    0.882061\n",
      "1    0.117939\n",
      "Name: compras_cuenta, dtype: float64 \n",
      "\n",
      "VALIDATION:  175077\n",
      "0    0.946275\n",
      "1    0.053725\n",
      "Name: compras_cuenta, dtype: float64\n"
     ]
    }
   ],
   "metadata": {}
  },
  {
   "cell_type": "code",
   "execution_count": 86,
   "source": [
    "model = DecisionTreeClassifier( max_depth=50, min_samples_leaf=500, random_state=42 )\n",
    "\n",
    "model.fit(X_train[features],y_train)\n",
    "\n",
    "y_train_pred = model.predict(X_train[features])\n",
    "y_train_score = model.predict_proba(X_train[features])[:,1]\n",
    "\n",
    "#Predict the response for test dataset\n",
    "y_pred = model.predict(X_test[features])\n",
    "y_test_score = model.predict_proba(X_test[features])[:,1]"
   ],
   "outputs": [],
   "metadata": {}
  },
  {
   "cell_type": "code",
   "execution_count": 87,
   "source": [
    "y_pred_valida = model.predict(X_validation[features])\n",
    "y_valida_score = model.predict_proba(X_validation[features])[:,1]\n",
    "\n",
    "print(\"----------- VALIDATION -----------\")\n",
    "print(\"Accuracy:\",accuracy_score(y_validation, y_pred_valida))\n",
    "print(\"Precision:\",precision_score(y_validation, y_pred_valida))\n",
    "print(\"Recall:\",recall_score(y_validation, y_pred_valida))\n",
    "print(\"F1-score:\",f1_score(y_validation, y_pred_valida))\n",
    "print(\"ROC AUC score:\",roc_auc_score(y_validation, y_valida_score))\n",
    "\n",
    "#fig = confusion_matrix_figure(y_train, y_train_pred)\n",
    "fig = confusion_matrix_figure(y_validation, y_pred_valida)"
   ],
   "outputs": [
    {
     "output_type": "stream",
     "name": "stdout",
     "text": [
      "----------- VALIDATION -----------\n",
      "Accuracy: 0.9485712001005272\n",
      "Precision: 0.5331902245706737\n",
      "Recall: 0.3432915160535828\n",
      "F1-score: 0.4176691243047472\n",
      "ROC AUC score: 0.8938306150276217\n"
     ]
    },
    {
     "output_type": "display_data",
     "data": {
      "image/png": "[encoded data removed]",
      "text/plain": [
       "<Figure size 576x576 with 2 Axes>"
      ]
     },
     "metadata": {
      "needs_background": "light"
     }
    }
   ],
   "metadata": {}
  },
  {
   "cell_type": "code",
   "execution_count": null,
   "source": [
    "tree_data = export_graphviz(\n",
    "    decision_tree = model,\n",
    "    out_file=None,\n",
    "    #*,\n",
    "    max_depth=3,\n",
    "    feature_names= features,\n",
    "    class_names=['No Compra','Compra'],\n",
    "    #label='all',\n",
    "    filled=True,\n",
    "    #leaves_parallel=False,\n",
    "    impurity=True,\n",
    "    #node_ids=False,\n",
    "    proportion=True,\n",
    "    rotate=True,\n",
    "    rounded=True,\n",
    "    #special_characters=False,\n",
    "    precision=3,\n",
    ")\n",
    "\n",
    "graph = graphviz.Source(tree_data, format='png')\n",
    "graph"
   ],
   "outputs": [
    {
     "output_type": "error",
     "ename": "IndentationError",
     "evalue": "unexpected indent (3021465641.py, line 2)",
     "traceback": [
      "\u001b[0;36m  File \u001b[0;32m\"/var/folders/rl/wnjs7ngd5ws98f9x2dfzsvnr0000gn/T/ipykernel_38820/3021465641.py\"\u001b[0;36m, line \u001b[0;32m2\u001b[0m\n\u001b[0;31m    decision_tree = model,\u001b[0m\n\u001b[0m    ^\u001b[0m\n\u001b[0;31mIndentationError\u001b[0m\u001b[0;31m:\u001b[0m unexpected indent\n"
     ]
    }
   ],
   "metadata": {}
  },
  {
   "cell_type": "markdown",
   "source": [
    "# Modelo inversión \n",
    "Un caso similar a los modelos anteriores, se debe balancear, pocos datos y le cuesta predecir compras"
   ],
   "metadata": {}
  },
  {
   "cell_type": "code",
   "execution_count": 88,
   "source": [
    "df['compras_inversión'].value_counts()"
   ],
   "outputs": [
    {
     "output_type": "execute_result",
     "data": {
      "text/plain": [
       "0    1471539\n",
       "1      94865\n",
       "Name: compras_inversión, dtype: int64"
      ]
     },
     "metadata": {},
     "execution_count": 88
    }
   ],
   "metadata": {}
  },
  {
   "cell_type": "code",
   "execution_count": 89,
   "source": [
    "X_train, y_train, X_test, y_test, X_validation, y_validation = \\\n",
    "    dataset_split(df, 'compras_inversión', \"oversampling\", targets, dist=0, times=2)\n",
    "\n",
    "features = X_train.columns.to_list()\n",
    "features.remove('pk_cid')\n",
    "features.remove('precio')"
   ],
   "outputs": [],
   "metadata": {}
  },
  {
   "cell_type": "code",
   "execution_count": 90,
   "source": [
    "print('TRAIN: ',y_train.shape[0]) \n",
    "print(y_train.value_counts(normalize=True),'\\n')\n",
    "\n",
    "print('TEST: ', y_test.shape[0])\n",
    "print(y_test.value_counts(normalize=True),'\\n')\n",
    "\n",
    "print('VALIDATION: ',y_validation.shape[0])\n",
    "print(y_validation.value_counts(normalize=True))"
   ],
   "outputs": [
    {
     "output_type": "stream",
     "name": "stdout",
     "text": [
      "TRAIN:  1329015\n",
      "0    0.885865\n",
      "1    0.114135\n",
      "Name: compras_inversión, dtype: float64 \n",
      "\n",
      "TEST:  332254\n",
      "0    0.8855\n",
      "1    0.1145\n",
      "Name: compras_inversión, dtype: float64 \n",
      "\n",
      "VALIDATION:  175077\n",
      "0    0.956419\n",
      "1    0.043581\n",
      "Name: compras_inversión, dtype: float64\n"
     ]
    }
   ],
   "metadata": {}
  },
  {
   "cell_type": "code",
   "execution_count": 91,
   "source": [
    "model = DecisionTreeClassifier( max_depth=50, min_samples_leaf=500, random_state=42 )\n",
    "\n",
    "model.fit(X_train[features],y_train)\n",
    "\n",
    "y_train_pred = model.predict(X_train[features])\n",
    "y_train_score = model.predict_proba(X_train[features])[:,1]\n",
    "\n",
    "#Predict the response for test dataset\n",
    "y_pred = model.predict(X_test[features])\n",
    "y_test_score = model.predict_proba(X_test[features])[:,1]"
   ],
   "outputs": [],
   "metadata": {}
  },
  {
   "cell_type": "code",
   "execution_count": 92,
   "source": [
    "y_pred_valida = model.predict(X_validation[features])\n",
    "y_valida_score = model.predict_proba(X_validation[features])[:,1]\n",
    "\n",
    "print(\"----------- VALIDATION -----------\")\n",
    "print(\"Accuracy:\",accuracy_score(y_validation, y_pred_valida))\n",
    "print(\"Precision:\",precision_score(y_validation, y_pred_valida))\n",
    "print(\"Recall:\",recall_score(y_validation, y_pred_valida))\n",
    "print(\"F1-score:\",f1_score(y_validation, y_pred_valida))\n",
    "print(\"ROC AUC score:\",roc_auc_score(y_validation, y_valida_score))\n",
    "\n",
    "#fig = confusion_matrix_figure(y_train, y_train_pred)\n",
    "fig = confusion_matrix_figure(y_validation, y_pred_valida)"
   ],
   "outputs": [
    {
     "output_type": "stream",
     "name": "stdout",
     "text": [
      "----------- VALIDATION -----------\n",
      "Accuracy: 1.0\n",
      "Precision: 1.0\n",
      "Recall: 1.0\n",
      "F1-score: 1.0\n",
      "ROC AUC score: 1.0\n"
     ]
    },
    {
     "output_type": "display_data",
     "data": {
      "image/png": "[encoded data removed]",
      "text/plain": [
       "<Figure size 576x576 with 2 Axes>"
      ]
     },
     "metadata": {
      "needs_background": "light"
     }
    }
   ],
   "metadata": {}
  },
  {
   "cell_type": "code",
   "execution_count": null,
   "source": [
    "tree_data = export_graphviz(\n",
    "    decision_tree = model,\n",
    "    out_file=None,\n",
    "    #*,\n",
    "    max_depth=3,\n",
    "    feature_names= features,\n",
    "    class_names=['No Compra','Compra'],\n",
    "    #label='all',\n",
    "    filled=True,\n",
    "    #leaves_parallel=False,\n",
    "    impurity=True,\n",
    "    #node_ids=False,\n",
    "    proportion=True,\n",
    "    rotate=True,\n",
    "    rounded=True,\n",
    "    #special_characters=False,\n",
    "    precision=3,\n",
    ")\n",
    "\n",
    "graph = graphviz.Source(tree_data, format='png')\n",
    "graph"
   ],
   "outputs": [
    {
     "output_type": "error",
     "ename": "IndentationError",
     "evalue": "unexpected indent (3021465641.py, line 2)",
     "traceback": [
      "\u001b[0;36m  File \u001b[0;32m\"/var/folders/rl/wnjs7ngd5ws98f9x2dfzsvnr0000gn/T/ipykernel_38820/3021465641.py\"\u001b[0;36m, line \u001b[0;32m2\u001b[0m\n\u001b[0;31m    decision_tree = model,\u001b[0m\n\u001b[0m    ^\u001b[0m\n\u001b[0;31mIndentationError\u001b[0m\u001b[0;31m:\u001b[0m unexpected indent\n"
     ]
    }
   ],
   "metadata": {}
  },
  {
   "cell_type": "markdown",
   "source": [
    "# Modelo Prestamos "
   ],
   "metadata": {}
  },
  {
   "cell_type": "code",
   "execution_count": 93,
   "source": [
    "df['compras_prestamo'].value_counts()"
   ],
   "outputs": [
    {
     "output_type": "execute_result",
     "data": {
      "text/plain": [
       "0    1400525\n",
       "1     165879\n",
       "Name: compras_prestamo, dtype: int64"
      ]
     },
     "metadata": {},
     "execution_count": 93
    }
   ],
   "metadata": {}
  },
  {
   "cell_type": "code",
   "execution_count": 94,
   "source": [
    "X_train, y_train, X_test, y_test, X_validation, y_validation = \\\n",
    "    dataset_split(df, 'compras_prestamo', \"oversampling\", targets, dist=0, times=2)\n",
    "\n",
    "features = X_train.columns.to_list()\n",
    "features.remove('pk_cid')\n",
    "features.remove('precio')\n",
    "#features.remove('cluster')"
   ],
   "outputs": [],
   "metadata": {}
  },
  {
   "cell_type": "code",
   "execution_count": 95,
   "source": [
    "print('TRAIN: ',y_train.shape[0]) \n",
    "print(y_train.value_counts(normalize=True),'\\n')\n",
    "\n",
    "print('TEST: ', y_test.shape[0])\n",
    "print(y_test.value_counts(normalize=True),'\\n')\n",
    "\n",
    "print('VALIDATION: ',y_validation.shape[0])\n",
    "print(y_validation.value_counts(normalize=True))"
   ],
   "outputs": [
    {
     "output_type": "stream",
     "name": "stdout",
     "text": [
      "TRAIN:  1385826\n",
      "0    0.808352\n",
      "1    0.191648\n",
      "Name: compras_prestamo, dtype: float64 \n",
      "\n",
      "TEST:  346457\n",
      "0    0.809018\n",
      "1    0.190982\n",
      "Name: compras_prestamo, dtype: float64 \n",
      "\n",
      "VALIDATION:  175077\n",
      "0    0.916197\n",
      "1    0.083803\n",
      "Name: compras_prestamo, dtype: float64\n"
     ]
    }
   ],
   "metadata": {}
  },
  {
   "cell_type": "code",
   "execution_count": 96,
   "source": [
    "model = DecisionTreeClassifier( max_depth=50, min_samples_leaf=500, random_state=42 )\n",
    "\n",
    "model.fit(X_train[features],y_train)\n",
    "\n",
    "y_train_pred = model.predict(X_train[features])\n",
    "y_train_score = model.predict_proba(X_train[features])[:,1]\n",
    "\n",
    "#Predict the response for test dataset\n",
    "y_pred = model.predict(X_test[features])\n",
    "y_test_score = model.predict_proba(X_test[features])[:,1]"
   ],
   "outputs": [],
   "metadata": {}
  },
  {
   "cell_type": "code",
   "execution_count": 97,
   "source": [
    "y_pred_valida = model.predict(X_validation[features])\n",
    "y_valida_score = model.predict_proba(X_validation[features])[:,1]\n",
    "\n",
    "print(\"----------- VALIDATION -----------\")\n",
    "print(\"Accuracy:\",accuracy_score(y_validation, y_pred_valida))\n",
    "print(\"Precision:\",precision_score(y_validation, y_pred_valida))\n",
    "print(\"Recall:\",recall_score(y_validation, y_pred_valida))\n",
    "print(\"F1-score:\",f1_score(y_validation, y_pred_valida))\n",
    "print(\"ROC AUC score:\",roc_auc_score(y_validation, y_valida_score))\n",
    "\n",
    "#fig = confusion_matrix_figure(y_train, y_train_pred)\n",
    "fig = confusion_matrix_figure(y_validation, y_pred_valida)"
   ],
   "outputs": [
    {
     "output_type": "stream",
     "name": "stdout",
     "text": [
      "----------- VALIDATION -----------\n",
      "Accuracy: 0.9245417730484301\n",
      "Precision: 0.5921301551267499\n",
      "Recall: 0.3199972737186478\n",
      "F1-score: 0.4154683421087562\n",
      "ROC AUC score: 0.8616999533572276\n"
     ]
    },
    {
     "output_type": "display_data",
     "data": {
      "image/png": "[encoded data removed]",
      "text/plain": [
       "<Figure size 576x576 with 2 Axes>"
      ]
     },
     "metadata": {
      "needs_background": "light"
     }
    }
   ],
   "metadata": {}
  },
  {
   "cell_type": "code",
   "execution_count": null,
   "source": [
    "tree_data = export_graphviz(\n",
    "    decision_tree = model,\n",
    "    out_file=None,\n",
    "    #*,\n",
    "    max_depth=3,\n",
    "    feature_names= features,\n",
    "    class_names=['No Compra','Compra'],\n",
    "    #label='all',\n",
    "    filled=True,\n",
    "    #leaves_parallel=False,\n",
    "    impurity=True,\n",
    "    #node_ids=False,\n",
    "    proportion=True,\n",
    "    rotate=True,\n",
    "    rounded=True,\n",
    "    #special_characters=False,\n",
    "    precision=3,\n",
    ")\n",
    "\n",
    "graph = graphviz.Source(tree_data, format='png')\n",
    "graph"
   ],
   "outputs": [
    {
     "output_type": "error",
     "ename": "ExecutableNotFound",
     "evalue": "failed to execute 'dot', make sure the Graphviz executables are on your systems' PATH",
     "traceback": [
      "\u001b[0;31m---------------------------------------------------------------------------\u001b[0m",
      "\u001b[0;31mFileNotFoundError\u001b[0m                         Traceback (most recent call last)",
      "\u001b[0;32m~/opt/anaconda3/lib/python3.8/site-packages/graphviz/backend.py\u001b[0m in \u001b[0;36mrun\u001b[0;34m(cmd, input, capture_output, check, encoding, quiet, **kwargs)\u001b[0m\n\u001b[1;32m    169\u001b[0m     \u001b[0;32mtry\u001b[0m\u001b[0;34m:\u001b[0m\u001b[0;34m\u001b[0m\u001b[0;34m\u001b[0m\u001b[0m\n\u001b[0;32m--> 170\u001b[0;31m         \u001b[0mproc\u001b[0m \u001b[0;34m=\u001b[0m \u001b[0msubprocess\u001b[0m\u001b[0;34m.\u001b[0m\u001b[0mPopen\u001b[0m\u001b[0;34m(\u001b[0m\u001b[0mcmd\u001b[0m\u001b[0;34m,\u001b[0m \u001b[0mstartupinfo\u001b[0m\u001b[0;34m=\u001b[0m\u001b[0mget_startupinfo\u001b[0m\u001b[0;34m(\u001b[0m\u001b[0;34m)\u001b[0m\u001b[0;34m,\u001b[0m \u001b[0;34m**\u001b[0m\u001b[0mkwargs\u001b[0m\u001b[0;34m)\u001b[0m\u001b[0;34m\u001b[0m\u001b[0;34m\u001b[0m\u001b[0m\n\u001b[0m\u001b[1;32m    171\u001b[0m     \u001b[0;32mexcept\u001b[0m \u001b[0mOSError\u001b[0m \u001b[0;32mas\u001b[0m \u001b[0me\u001b[0m\u001b[0;34m:\u001b[0m\u001b[0;34m\u001b[0m\u001b[0;34m\u001b[0m\u001b[0m\n",
      "\u001b[0;32m~/opt/anaconda3/lib/python3.8/subprocess.py\u001b[0m in \u001b[0;36m__init__\u001b[0;34m(self, args, bufsize, executable, stdin, stdout, stderr, preexec_fn, close_fds, shell, cwd, env, universal_newlines, startupinfo, creationflags, restore_signals, start_new_session, pass_fds, encoding, errors, text)\u001b[0m\n\u001b[1;32m    857\u001b[0m \u001b[0;34m\u001b[0m\u001b[0m\n\u001b[0;32m--> 858\u001b[0;31m             self._execute_child(args, executable, preexec_fn, close_fds,\n\u001b[0m\u001b[1;32m    859\u001b[0m                                 \u001b[0mpass_fds\u001b[0m\u001b[0;34m,\u001b[0m \u001b[0mcwd\u001b[0m\u001b[0;34m,\u001b[0m \u001b[0menv\u001b[0m\u001b[0;34m,\u001b[0m\u001b[0;34m\u001b[0m\u001b[0;34m\u001b[0m\u001b[0m\n",
      "\u001b[0;32m~/opt/anaconda3/lib/python3.8/subprocess.py\u001b[0m in \u001b[0;36m_execute_child\u001b[0;34m(self, args, executable, preexec_fn, close_fds, pass_fds, cwd, env, startupinfo, creationflags, shell, p2cread, p2cwrite, c2pread, c2pwrite, errread, errwrite, restore_signals, start_new_session)\u001b[0m\n\u001b[1;32m   1705\u001b[0m                         \u001b[0merr_msg\u001b[0m \u001b[0;34m=\u001b[0m \u001b[0mos\u001b[0m\u001b[0;34m.\u001b[0m\u001b[0mstrerror\u001b[0m\u001b[0;34m(\u001b[0m\u001b[0merrno_num\u001b[0m\u001b[0;34m)\u001b[0m\u001b[0;34m\u001b[0m\u001b[0;34m\u001b[0m\u001b[0m\n\u001b[0;32m-> 1706\u001b[0;31m                     \u001b[0;32mraise\u001b[0m \u001b[0mchild_exception_type\u001b[0m\u001b[0;34m(\u001b[0m\u001b[0merrno_num\u001b[0m\u001b[0;34m,\u001b[0m \u001b[0merr_msg\u001b[0m\u001b[0;34m,\u001b[0m \u001b[0merr_filename\u001b[0m\u001b[0;34m)\u001b[0m\u001b[0;34m\u001b[0m\u001b[0;34m\u001b[0m\u001b[0m\n\u001b[0m\u001b[1;32m   1707\u001b[0m                 \u001b[0;32mraise\u001b[0m \u001b[0mchild_exception_type\u001b[0m\u001b[0;34m(\u001b[0m\u001b[0merr_msg\u001b[0m\u001b[0;34m)\u001b[0m\u001b[0;34m\u001b[0m\u001b[0;34m\u001b[0m\u001b[0m\n",
      "\u001b[0;31mFileNotFoundError\u001b[0m: [Errno 2] No such file or directory: 'dot'",
      "\nThe above exception was the direct cause of the following exception:\n",
      "\u001b[0;31mExecutableNotFound\u001b[0m                        Traceback (most recent call last)",
      "\u001b[0;32m~/opt/anaconda3/lib/python3.8/site-packages/IPython/core/formatters.py\u001b[0m in \u001b[0;36m__call__\u001b[0;34m(self, obj)\u001b[0m\n\u001b[1;32m    343\u001b[0m             \u001b[0mmethod\u001b[0m \u001b[0;34m=\u001b[0m \u001b[0mget_real_method\u001b[0m\u001b[0;34m(\u001b[0m\u001b[0mobj\u001b[0m\u001b[0;34m,\u001b[0m \u001b[0mself\u001b[0m\u001b[0;34m.\u001b[0m\u001b[0mprint_method\u001b[0m\u001b[0;34m)\u001b[0m\u001b[0;34m\u001b[0m\u001b[0;34m\u001b[0m\u001b[0m\n\u001b[1;32m    344\u001b[0m             \u001b[0;32mif\u001b[0m \u001b[0mmethod\u001b[0m \u001b[0;32mis\u001b[0m \u001b[0;32mnot\u001b[0m \u001b[0;32mNone\u001b[0m\u001b[0;34m:\u001b[0m\u001b[0;34m\u001b[0m\u001b[0;34m\u001b[0m\u001b[0m\n\u001b[0;32m--> 345\u001b[0;31m                 \u001b[0;32mreturn\u001b[0m \u001b[0mmethod\u001b[0m\u001b[0;34m(\u001b[0m\u001b[0;34m)\u001b[0m\u001b[0;34m\u001b[0m\u001b[0;34m\u001b[0m\u001b[0m\n\u001b[0m\u001b[1;32m    346\u001b[0m             \u001b[0;32mreturn\u001b[0m \u001b[0;32mNone\u001b[0m\u001b[0;34m\u001b[0m\u001b[0;34m\u001b[0m\u001b[0m\n\u001b[1;32m    347\u001b[0m         \u001b[0;32melse\u001b[0m\u001b[0;34m:\u001b[0m\u001b[0;34m\u001b[0m\u001b[0;34m\u001b[0m\u001b[0m\n",
      "\u001b[0;32m~/opt/anaconda3/lib/python3.8/site-packages/graphviz/files.py\u001b[0m in \u001b[0;36m_repr_svg_\u001b[0;34m(self)\u001b[0m\n\u001b[1;32m    139\u001b[0m \u001b[0;34m\u001b[0m\u001b[0m\n\u001b[1;32m    140\u001b[0m     \u001b[0;32mdef\u001b[0m \u001b[0m_repr_svg_\u001b[0m\u001b[0;34m(\u001b[0m\u001b[0mself\u001b[0m\u001b[0;34m)\u001b[0m\u001b[0;34m:\u001b[0m\u001b[0;34m\u001b[0m\u001b[0;34m\u001b[0m\u001b[0m\n\u001b[0;32m--> 141\u001b[0;31m         \u001b[0;32mreturn\u001b[0m \u001b[0mself\u001b[0m\u001b[0;34m.\u001b[0m\u001b[0mpipe\u001b[0m\u001b[0;34m(\u001b[0m\u001b[0mformat\u001b[0m\u001b[0;34m=\u001b[0m\u001b[0;34m'svg'\u001b[0m\u001b[0;34m)\u001b[0m\u001b[0;34m.\u001b[0m\u001b[0mdecode\u001b[0m\u001b[0;34m(\u001b[0m\u001b[0mself\u001b[0m\u001b[0;34m.\u001b[0m\u001b[0m_encoding\u001b[0m\u001b[0;34m)\u001b[0m\u001b[0;34m\u001b[0m\u001b[0;34m\u001b[0m\u001b[0m\n\u001b[0m\u001b[1;32m    142\u001b[0m \u001b[0;34m\u001b[0m\u001b[0m\n\u001b[1;32m    143\u001b[0m     \u001b[0;32mdef\u001b[0m \u001b[0mpipe\u001b[0m\u001b[0;34m(\u001b[0m\u001b[0mself\u001b[0m\u001b[0;34m,\u001b[0m \u001b[0mformat\u001b[0m\u001b[0;34m=\u001b[0m\u001b[0;32mNone\u001b[0m\u001b[0;34m,\u001b[0m \u001b[0mrenderer\u001b[0m\u001b[0;34m=\u001b[0m\u001b[0;32mNone\u001b[0m\u001b[0;34m,\u001b[0m \u001b[0mformatter\u001b[0m\u001b[0;34m=\u001b[0m\u001b[0;32mNone\u001b[0m\u001b[0;34m,\u001b[0m \u001b[0mquiet\u001b[0m\u001b[0;34m=\u001b[0m\u001b[0;32mFalse\u001b[0m\u001b[0;34m)\u001b[0m\u001b[0;34m:\u001b[0m\u001b[0;34m\u001b[0m\u001b[0;34m\u001b[0m\u001b[0m\n",
      "\u001b[0;32m~/opt/anaconda3/lib/python3.8/site-packages/graphviz/files.py\u001b[0m in \u001b[0;36mpipe\u001b[0;34m(self, format, renderer, formatter, quiet)\u001b[0m\n\u001b[1;32m    164\u001b[0m         \u001b[0mdata\u001b[0m \u001b[0;34m=\u001b[0m \u001b[0mself\u001b[0m\u001b[0;34m.\u001b[0m\u001b[0msource\u001b[0m\u001b[0;34m.\u001b[0m\u001b[0mencode\u001b[0m\u001b[0;34m(\u001b[0m\u001b[0mself\u001b[0m\u001b[0;34m.\u001b[0m\u001b[0m_encoding\u001b[0m\u001b[0;34m)\u001b[0m\u001b[0;34m\u001b[0m\u001b[0;34m\u001b[0m\u001b[0m\n\u001b[1;32m    165\u001b[0m \u001b[0;34m\u001b[0m\u001b[0m\n\u001b[0;32m--> 166\u001b[0;31m         out = backend.pipe(self._engine, format, data,\n\u001b[0m\u001b[1;32m    167\u001b[0m                            \u001b[0mrenderer\u001b[0m\u001b[0;34m=\u001b[0m\u001b[0mrenderer\u001b[0m\u001b[0;34m,\u001b[0m \u001b[0mformatter\u001b[0m\u001b[0;34m=\u001b[0m\u001b[0mformatter\u001b[0m\u001b[0;34m,\u001b[0m\u001b[0;34m\u001b[0m\u001b[0;34m\u001b[0m\u001b[0m\n\u001b[1;32m    168\u001b[0m                            quiet=quiet)\n",
      "\u001b[0;32m~/opt/anaconda3/lib/python3.8/site-packages/graphviz/backend.py\u001b[0m in \u001b[0;36mpipe\u001b[0;34m(engine, format, data, renderer, formatter, quiet)\u001b[0m\n\u001b[1;32m    266\u001b[0m     \"\"\"\n\u001b[1;32m    267\u001b[0m     \u001b[0mcmd\u001b[0m\u001b[0;34m,\u001b[0m \u001b[0m_\u001b[0m \u001b[0;34m=\u001b[0m \u001b[0mcommand\u001b[0m\u001b[0;34m(\u001b[0m\u001b[0mengine\u001b[0m\u001b[0;34m,\u001b[0m \u001b[0mformat\u001b[0m\u001b[0;34m,\u001b[0m \u001b[0;32mNone\u001b[0m\u001b[0;34m,\u001b[0m \u001b[0mrenderer\u001b[0m\u001b[0;34m,\u001b[0m \u001b[0mformatter\u001b[0m\u001b[0;34m)\u001b[0m\u001b[0;34m\u001b[0m\u001b[0;34m\u001b[0m\u001b[0m\n\u001b[0;32m--> 268\u001b[0;31m     \u001b[0mout\u001b[0m\u001b[0;34m,\u001b[0m \u001b[0m_\u001b[0m \u001b[0;34m=\u001b[0m \u001b[0mrun\u001b[0m\u001b[0;34m(\u001b[0m\u001b[0mcmd\u001b[0m\u001b[0;34m,\u001b[0m \u001b[0minput\u001b[0m\u001b[0;34m=\u001b[0m\u001b[0mdata\u001b[0m\u001b[0;34m,\u001b[0m \u001b[0mcapture_output\u001b[0m\u001b[0;34m=\u001b[0m\u001b[0;32mTrue\u001b[0m\u001b[0;34m,\u001b[0m \u001b[0mcheck\u001b[0m\u001b[0;34m=\u001b[0m\u001b[0;32mTrue\u001b[0m\u001b[0;34m,\u001b[0m \u001b[0mquiet\u001b[0m\u001b[0;34m=\u001b[0m\u001b[0mquiet\u001b[0m\u001b[0;34m)\u001b[0m\u001b[0;34m\u001b[0m\u001b[0;34m\u001b[0m\u001b[0m\n\u001b[0m\u001b[1;32m    269\u001b[0m     \u001b[0;32mreturn\u001b[0m \u001b[0mout\u001b[0m\u001b[0;34m\u001b[0m\u001b[0;34m\u001b[0m\u001b[0m\n\u001b[1;32m    270\u001b[0m \u001b[0;34m\u001b[0m\u001b[0m\n",
      "\u001b[0;32m~/opt/anaconda3/lib/python3.8/site-packages/graphviz/backend.py\u001b[0m in \u001b[0;36mrun\u001b[0;34m(cmd, input, capture_output, check, encoding, quiet, **kwargs)\u001b[0m\n\u001b[1;32m    171\u001b[0m     \u001b[0;32mexcept\u001b[0m \u001b[0mOSError\u001b[0m \u001b[0;32mas\u001b[0m \u001b[0me\u001b[0m\u001b[0;34m:\u001b[0m\u001b[0;34m\u001b[0m\u001b[0;34m\u001b[0m\u001b[0m\n\u001b[1;32m    172\u001b[0m         \u001b[0;32mif\u001b[0m \u001b[0me\u001b[0m\u001b[0;34m.\u001b[0m\u001b[0merrno\u001b[0m \u001b[0;34m==\u001b[0m \u001b[0merrno\u001b[0m\u001b[0;34m.\u001b[0m\u001b[0mENOENT\u001b[0m\u001b[0;34m:\u001b[0m\u001b[0;34m\u001b[0m\u001b[0;34m\u001b[0m\u001b[0m\n\u001b[0;32m--> 173\u001b[0;31m             \u001b[0;32mraise\u001b[0m \u001b[0mExecutableNotFound\u001b[0m\u001b[0;34m(\u001b[0m\u001b[0mcmd\u001b[0m\u001b[0;34m)\u001b[0m \u001b[0;32mfrom\u001b[0m \u001b[0me\u001b[0m\u001b[0;34m\u001b[0m\u001b[0;34m\u001b[0m\u001b[0m\n\u001b[0m\u001b[1;32m    174\u001b[0m         \u001b[0;32melse\u001b[0m\u001b[0;34m:\u001b[0m\u001b[0;34m\u001b[0m\u001b[0;34m\u001b[0m\u001b[0m\n\u001b[1;32m    175\u001b[0m             \u001b[0;32mraise\u001b[0m\u001b[0;34m\u001b[0m\u001b[0;34m\u001b[0m\u001b[0m\n",
      "\u001b[0;31mExecutableNotFound\u001b[0m: failed to execute 'dot', make sure the Graphviz executables are on your systems' PATH"
     ]
    },
    {
     "output_type": "execute_result",
     "data": {
      "text/plain": [
       "<graphviz.files.Source at 0x7fcc98845370>"
      ]
     },
     "metadata": {},
     "execution_count": 196
    }
   ],
   "metadata": {}
  },
  {
   "cell_type": "markdown",
   "source": [
    "# Conclusión"
   ],
   "metadata": {}
  },
  {
   "cell_type": "markdown",
   "source": [
    "En conclusión nos quedamos con el modelo general, ya que tiene mayor información, esta más balanceado y esto hace que tenga una mayor predicción de compra.\n",
    "A futuro es un modelo que se podría mejorar, ya que solo contamos con variables estacionarias y este ha limitado muchas información de mejora para el modelo."
   ],
   "metadata": {}
  }
 ],
 "metadata": {
  "kernelspec": {
   "name": "python3",
   "display_name": "Python 3.8.8 64-bit ('base': conda)"
  },
  "language_info": {
   "codemirror_mode": {
    "name": "ipython",
    "version": 3
   },
   "file_extension": ".py",
   "mimetype": "text/x-python",
   "name": "python",
   "nbconvert_exporter": "python",
   "pygments_lexer": "ipython3",
   "version": "3.8.8"
  },
  "interpreter": {
   "hash": "f1b82effb4095acb83f1760eeb7b3a8ff2be4de93cd1eb76b457914dfad9f088"
  }
 },
 "nbformat": 4,
 "nbformat_minor": 4
}