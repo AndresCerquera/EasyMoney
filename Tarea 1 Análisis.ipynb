{
 "cells": [
  {
   "cell_type": "markdown",
   "source": [
    "Análisis de Data easyMoney \r\n",
    "1. products_df\r\n",
    "2. sociodemographic_df\r\n",
    "3. commercial_activity\r\n",
    "\r\n",
    "Se adjunta información con la descripción de los indices de cada dataset\r\n",
    "C:\\Users\\andcer\\Documents\\GitHub\\EasyMoney\\Data Description.png"
   ],
   "metadata": {}
  },
  {
   "cell_type": "code",
   "execution_count": null,
   "source": [
    "import numpy as np \r\n",
    "import pandas as pd\r\n",
    "pd.options.display.float_format = '{:,.2f}'.format"
   ],
   "outputs": [],
   "metadata": {}
  }
 ],
 "metadata": {
  "orig_nbformat": 4,
  "language_info": {
   "name": "python"
  }
 },
 "nbformat": 4,
 "nbformat_minor": 2
}